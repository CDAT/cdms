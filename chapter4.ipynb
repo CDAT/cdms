{
 "cells": [
  {
   "cell_type": "markdown",
   "metadata": {},
   "source": [
    "# Regridding Data\n",
    "\n"
   ]
  },
  {
   "cell_type": "raw",
   "metadata": {},
   "source": [
    "Overview\n",
    "\n",
    "CDMS provides several methods for interpolating gridded data:\n",
    "\n",
    "-  from one rectangular, lat-lon grid to another (CDMS regridder)\n",
    "-  between any two lat-lon grids (SCRIP regridder)\n",
    "-  from one set of pressure levels to another\n",
    "-  from one vertical (lat/level) cross-section to another vertical\n",
    "   cross-section.\n"
   ]
  },
  {
   "cell_type": "markdown",
   "metadata": {},
   "source": [
    "CDMS Horizontal Regridder\n",
    "\n",
    "The simplest method to regrid a variable from one rectangular, lat/lon\n",
    "grid to another is to use the regrid function defined for variables.\n",
    "This function takes the target grid as an argument, and returns the\n",
    "variable regridded to the target grid:\n"
   ]
  },
  {
   "cell_type": "code",
   "execution_count": 1,
   "metadata": {},
   "outputs": [
    {
     "name": "stderr",
     "output_type": "stream",
     "text": [
      "/export/reshel3/anaconda52/envs/cdms2/lib/python2.7/site-packages/cdms2/avariable.py:1341: Warning: \n",
      "avariable.regrid: We chose regridTool = esmf for you among the following choices:\n",
      "   Tools ->    'regrid2' (old behavior)\n",
      "               'esmf' (conserve, patch, linear) or\n",
      "               'libcf' (linear)\n",
      "  warnings.warn(message, Warning)\n",
      "/export/reshel3/anaconda52/envs/cdms2/lib/python2.7/site-packages/cdms2/avariable.py:1348: Warning: \n",
      "avariable.regrid: We chose regridMethod = linear for you among the following choices:\n",
      "    'conserve' or 'linear' or 'patch'\n",
      "  warnings.warn(message, Warning)\n"
     ]
    },
    {
     "data": {
      "text/plain": [
       "(181, 360)"
      ]
     },
     "execution_count": 1,
     "metadata": {},
     "output_type": "execute_result"
    }
   ],
   "source": [
    "# wget \"http://cdat.llnl.gov/cdat/sample_data/clt.nc\"\n",
    "# wget \"http://cdat.llnl.gov/cdat/sample_data/geos5-sample.nc\"\n",
    "import cdms2\n",
    "import cdat_info\n",
    "f1=cdms2.open(\"clt.nc\")\n",
    "f2=cdms2.open(\"geos5-sample.nc\")\n",
    "clt=f1('clt')  # Read the data\n",
    "clt.shape\n",
    "\n",
    "ozone=f2['ozone']  # Get the file variable (no data read)\n",
    "outgrid = ozone.getGrid() # Get the target grid\n",
    "cltnew = clt.regrid(outgrid)\n",
    "cltnew.shape\n",
    "\n",
    "outgrid.shape"
   ]
  },
  {
   "cell_type": "markdown",
   "metadata": {},
   "source": [
    "A somewhat more efficient method is to create a regridder function. This\n",
    "has the advantage that the mapping is created only once and can be used\n",
    "for multiple arrays. Also, this method can be used with data in the form\n",
    "of an MV2.MaskedArray. The steps in this process are:\n",
    "\n",
    "#. Given an input grid and output grid, generate a regridder function.\n",
    "#. Call the regridder function on a Numpy array, resulting in an array\n",
    "   defined on the output grid. The regridder function can be called with\n",
    "   any array or variable defined on the input grid.\n",
    "\n",
    "The following example illustrates this process. The regridder function\n",
    "is generated at line 9, and the regridding is performed at line 10:"
   ]
  },
  {
   "cell_type": "code",
   "execution_count": 2,
   "metadata": {},
   "outputs": [
    {
     "name": "stderr",
     "output_type": "stream",
     "text": [
      "/export/reshel3/anaconda52/envs/cdms2/lib/python2.7/site-packages/regrid2/horizontal.py:374: Warning: While this will work for now, please note that the Regridder class has been renamed Horizontal, the name 'Regridder' will be deprecated in future version. Please edit your code accordingly\n",
      "  Warning)\n"
     ]
    }
   ],
   "source": [
    "# wget \"http://cdat.llnl.gov/cdat/sample_data/clt.nc\"\n",
    "# wget \"http://cdat.llnl.gov/cdat/sample_data/geos5-sample.nc\"\n",
    "import cdms2\n",
    "from regrid2 import Regridder\n",
    "f = cdms2.open(\"clt.nc\")\n",
    "cltf = f['clt']\n",
    "ingrid = cltf.getGrid()\n",
    "g = cdms2.open('geos5-sample.nc')\n",
    "outgrid = g['ozone'].getGrid()\n",
    "regridfunc = Regridder(ingrid, outgrid)\n",
    "cltnew = regridfunc(cltf)\n",
    "f.close()\n",
    "g.close()"
   ]
  },
  {
   "cell_type": "markdown",
   "metadata": {},
   "source": [
    "Notes\n",
    "\n",
    "**Line #3** Makes the CDMS module available.\n",
    "\n",
    "**Line #4** Makes the Regridder class available from the regrid module.\n",
    "\n",
    "**Line #5** Opens the input dataset.\n",
    "\n",
    "**Line #6** Gets the variable object named ‘clt’. No data is read.\n",
    "\n",
    "**Line #7** Gets the input grid.\n",
    "\n",
    "**Line #8** Opens a dataset to retrieve the output grid.\n",
    "\n",
    "**Line #9** The output grid is the grid associated with the variable named ‘ozone’ in dataset g. Just the grid is retrieved, not the data.\n",
    "\n",
    "**Line #10** Generates a regridder function regridfunc.\n",
    "\n",
    "**Line #11** Reads all data for variable cltf, and calls the regridder\n",
    "function on that data, resulting in a transient variable cltnew.\n"
   ]
  },
  {
   "cell_type": "markdown",
   "metadata": {},
   "source": [
    "SCRIP Horizontal Regridder\n",
    "\n",
    "To interpolate between grids where one or both grids is non-rectangular,\n",
    "CDMS provides an interface to the SCRIP regridder package developed at\n",
    "Los Alamos National Laboratory (https://oceans11.lanl.gov/trac/SCRIP). \n",
    "\n",
    "Figure 3 illustrates the process:\n",
    "\n",
    "#. Obtain or generate the source and target grids in SCRIP netCDF\n",
    "   format. A CDMS grid can be written to a netCDF file, in SCRIP format,\n",
    "   using the write-ScripGrid method.\n",
    "#. Edit the input namelist file scrip\\_in to reference the grids and\n",
    "   select the method of interpolation, either conservative, bilinear,\n",
    "   bicubic, or distance-weighted. See the SCRIP documentation for\n",
    "   detailed instructions.\n",
    "#. Run the scrip executable to generate a remapping file containing the\n",
    "   transformation coefficients.\n",
    "#. CDMS, open the remapping file and create a regridder function with\n",
    "   the readRegridder method.\n",
    "#. Call the regridder function on the input variable, defined on the\n",
    "   source grid. The return value is the variable interpolated to the new\n",
    "   grid. Note that the variable may have more than two dimensions. Also\n",
    "   note that the input arguments to the regridder function depend on the\n",
    "   type of regridder. For example, the bicubic interpolation has\n",
    "   additional arguments for the gradients of the variable."
   ]
  },
  {
   "cell_type": "markdown",
   "metadata": {},
   "source": [
    "Regridding Data with SCRIP\n",
    "\n",
    "Example:\n",
    "\n",
    "Regrid data from a T42 to POP4/3 grid, using the first-order, conservative interpolator.\n",
    "\n",
    "In this example:\n",
    "\n",
    "    The input grid is defined in remap_grid_T42.nc.\n",
    "    The output grid is defined in remap_grid_POP43.nc.\n",
    "    The input data is variable src_array in file sampleT42Grid.nc.\n",
    "    The file scrip_in has contents:\n"
   ]
  },
  {
   "cell_type": "code",
   "execution_count": 3,
   "metadata": {},
   "outputs": [
    {
     "ename": "SyntaxError",
     "evalue": "invalid syntax (<ipython-input-3-eaa17d8f4d7c>, line 1)",
     "output_type": "error",
     "traceback": [
      "\u001b[0;36m  File \u001b[0;32m\"<ipython-input-3-eaa17d8f4d7c>\"\u001b[0;36m, line \u001b[0;32m1\u001b[0m\n\u001b[0;31m    &remap_inputs\u001b[0m\n\u001b[0m    ^\u001b[0m\n\u001b[0;31mSyntaxError\u001b[0m\u001b[0;31m:\u001b[0m invalid syntax\n"
     ]
    }
   ],
   "source": [
    "&remap_inputs\n",
    "num_maps = 1\n",
    "\n",
    "grid1_file = 'remap_grid_T42.nc'\n",
    "grid2_file = 'remap_grid_POP43.nc'\n",
    "interp_file1 = 'rmp_T42_to_POP43_conserv.nc'\n",
    "interp_file2 = 'rmp_POP43_to_T42_conserv.nc'\n",
    "map1_name = 'T42 to POP43 Conservative Mapping'\n",
    "map2_name = 'POP43 to T42 Conservative Mapping'\n",
    "map_method = 'conservative'\n",
    "normalize_opt = 'frac'\n",
    "output_opt = 'scrip'\n",
    "restrict_type = 'latitude'\n",
    "num_srch_bins = 90\n",
    "luse_grid1_area = .false.\n",
    "luse_grid2_area = .false."
   ]
  },
  {
   "cell_type": "markdown",
   "metadata": {},
   "source": [
    "num_maps specifies the number of mappings generated, either 1 or 2. For a single mapping, grid1_file and grid2_file are the source and target grid definitions, respectively. The map_method specifies the type of interpolation, either ‘conservative’, ‘bilinear’, ‘bicubic’, or ‘distwgt’ (distanceweighted). The remaining parameters are described in the SCRIP documentation.\n",
    "\n",
    "Once the grids and input file are defined, run the scrip executable to generate the remapping file ‘rmp_T42_to_POP43_conserv.nc’"
   ]
  },
  {
   "cell_type": "code",
   "execution_count": 4,
   "metadata": {},
   "outputs": [
    {
     "ename": "SyntaxError",
     "evalue": "invalid syntax (<ipython-input-4-ddde19830ffb>, line 2)",
     "output_type": "error",
     "traceback": [
      "\u001b[0;36m  File \u001b[0;32m\"<ipython-input-4-ddde19830ffb>\"\u001b[0;36m, line \u001b[0;32m2\u001b[0m\n\u001b[0;31m    Using latitude bins to restrict search.\u001b[0m\n\u001b[0m                 ^\u001b[0m\n\u001b[0;31mSyntaxError\u001b[0m\u001b[0;31m:\u001b[0m invalid syntax\n"
     ]
    }
   ],
   "source": [
    "% scrip\n",
    "Using latitude bins to restrict search.\n",
    " Computing remappings between:\n",
    "T42 Gaussian Grid\n",
    "                                     and\n",
    "POP 4/3 Displaced-Pole T grid\n",
    "grid1 sweep\n",
    "grid2 sweep\n",
    "Total number of links = 63112"
   ]
  },
  {
   "cell_type": "markdown",
   "metadata": {},
   "source": [
    "Next, run CDAT and create the regridder:"
   ]
  },
  {
   "cell_type": "code",
   "execution_count": 5,
   "metadata": {},
   "outputs": [
    {
     "ename": "CDMSError",
     "evalue": "Cannot open file /export/reshel3/cdms/rmp_T42_to_POP43_conserv.nc (No error)",
     "output_type": "error",
     "traceback": [
      "\u001b[0;31m---------------------------------------------------------------------------\u001b[0m",
      "\u001b[0;31mCDMSError\u001b[0m                                 Traceback (most recent call last)",
      "\u001b[0;32m<ipython-input-5-846e27226842>\u001b[0m in \u001b[0;36m<module>\u001b[0;34m()\u001b[0m\n\u001b[1;32m      7\u001b[0m \u001b[0;32mimport\u001b[0m \u001b[0mregrid2\u001b[0m\u001b[0;34m,\u001b[0m \u001b[0mcdms2\u001b[0m\u001b[0;34m\u001b[0m\u001b[0m\n\u001b[1;32m      8\u001b[0m \u001b[0;31m# Read the regridder from the remapper file\u001b[0m\u001b[0;34m\u001b[0m\u001b[0;34m\u001b[0m\u001b[0m\n\u001b[0;32m----> 9\u001b[0;31m \u001b[0mremapf\u001b[0m \u001b[0;34m=\u001b[0m \u001b[0mcdms2\u001b[0m\u001b[0;34m.\u001b[0m\u001b[0mopen\u001b[0m\u001b[0;34m(\u001b[0m\u001b[0;34m'rmp_T42_to_POP43_conserv.nc'\u001b[0m\u001b[0;34m)\u001b[0m\u001b[0;34m\u001b[0m\u001b[0m\n\u001b[0m\u001b[1;32m     10\u001b[0m \u001b[0mregridf\u001b[0m \u001b[0;34m=\u001b[0m \u001b[0mregrid2\u001b[0m\u001b[0;34m.\u001b[0m\u001b[0mreadRegridder\u001b[0m\u001b[0;34m(\u001b[0m\u001b[0mremapf\u001b[0m\u001b[0;34m)\u001b[0m\u001b[0;34m\u001b[0m\u001b[0m\n\u001b[1;32m     11\u001b[0m \u001b[0mremapf\u001b[0m\u001b[0;34m.\u001b[0m\u001b[0mclose\u001b[0m\u001b[0;34m(\u001b[0m\u001b[0;34m)\u001b[0m\u001b[0;34m\u001b[0m\u001b[0m\n",
      "\u001b[0;32m/export/reshel3/anaconda52/envs/cdms2/lib/python2.7/site-packages/cdms2/dataset.pyc\u001b[0m in \u001b[0;36mopenDataset\u001b[0;34m(uri, mode, template, dods, dpath, hostObj)\u001b[0m\n\u001b[1;32m    494\u001b[0m             \u001b[0;31m# rank\u001b[0m\u001b[0;34m\u001b[0m\u001b[0;34m\u001b[0m\u001b[0m\n\u001b[1;32m    495\u001b[0m             \u001b[0;32mif\u001b[0m \u001b[0;32mnot\u001b[0m \u001b[0mos\u001b[0m\u001b[0;34m.\u001b[0m\u001b[0mpath\u001b[0m\u001b[0;34m.\u001b[0m\u001b[0mexists\u001b[0m\u001b[0;34m(\u001b[0m\u001b[0mpath\u001b[0m\u001b[0;34m)\u001b[0m\u001b[0;34m:\u001b[0m\u001b[0;34m\u001b[0m\u001b[0m\n\u001b[0;32m--> 496\u001b[0;31m                 \u001b[0;32mreturn\u001b[0m \u001b[0mCdmsFile\u001b[0m\u001b[0;34m(\u001b[0m\u001b[0mpath\u001b[0m\u001b[0;34m,\u001b[0m \u001b[0mmode\u001b[0m\u001b[0;34m,\u001b[0m \u001b[0mmpiBarrier\u001b[0m\u001b[0;34m=\u001b[0m\u001b[0mCdMpi\u001b[0m\u001b[0;34m)\u001b[0m\u001b[0;34m\u001b[0m\u001b[0m\n\u001b[0m\u001b[1;32m    497\u001b[0m             \u001b[0;32melif\u001b[0m \u001b[0mmode\u001b[0m \u001b[0;34m==\u001b[0m \u001b[0;34m\"w\"\u001b[0m\u001b[0;34m:\u001b[0m\u001b[0;34m\u001b[0m\u001b[0m\n\u001b[1;32m    498\u001b[0m                 \u001b[0;32mtry\u001b[0m\u001b[0;34m:\u001b[0m\u001b[0;34m\u001b[0m\u001b[0m\n",
      "\u001b[0;32m/export/reshel3/anaconda52/envs/cdms2/lib/python2.7/site-packages/cdms2/dataset.pyc\u001b[0m in \u001b[0;36m__init__\u001b[0;34m(self, path, mode, hostObj, mpiBarrier)\u001b[0m\n\u001b[1;32m   1276\u001b[0m             \u001b[0m_fileobj_\u001b[0m \u001b[0;34m=\u001b[0m \u001b[0mCdunif\u001b[0m\u001b[0;34m.\u001b[0m\u001b[0mCdunifFile\u001b[0m\u001b[0;34m(\u001b[0m\u001b[0mpath\u001b[0m\u001b[0;34m,\u001b[0m \u001b[0mmode\u001b[0m\u001b[0;34m)\u001b[0m\u001b[0;34m\u001b[0m\u001b[0m\n\u001b[1;32m   1277\u001b[0m         \u001b[0;32mexcept\u001b[0m \u001b[0mException\u001b[0m \u001b[0;32mas\u001b[0m \u001b[0merr\u001b[0m\u001b[0;34m:\u001b[0m\u001b[0;34m\u001b[0m\u001b[0m\n\u001b[0;32m-> 1278\u001b[0;31m             \u001b[0;32mraise\u001b[0m \u001b[0mCDMSError\u001b[0m\u001b[0;34m(\u001b[0m\u001b[0;34m'Cannot open file %s (%s)'\u001b[0m \u001b[0;34m%\u001b[0m \u001b[0;34m(\u001b[0m\u001b[0mpath\u001b[0m\u001b[0;34m,\u001b[0m \u001b[0merr\u001b[0m\u001b[0;34m)\u001b[0m\u001b[0;34m)\u001b[0m\u001b[0;34m\u001b[0m\u001b[0m\n\u001b[0m\u001b[1;32m   1279\u001b[0m         \u001b[0mself\u001b[0m\u001b[0;34m.\u001b[0m\u001b[0m_file_\u001b[0m \u001b[0;34m=\u001b[0m \u001b[0m_fileobj_\u001b[0m   \u001b[0;31m# Cdunif file object\u001b[0m\u001b[0;34m\u001b[0m\u001b[0m\n\u001b[1;32m   1280\u001b[0m         \u001b[0mself\u001b[0m\u001b[0;34m.\u001b[0m\u001b[0mvariables\u001b[0m \u001b[0;34m=\u001b[0m \u001b[0;34m{\u001b[0m\u001b[0;34m}\u001b[0m\u001b[0;34m\u001b[0m\u001b[0m\n",
      "\u001b[0;31mCDMSError\u001b[0m: Cannot open file /export/reshel3/cdms/rmp_T42_to_POP43_conserv.nc (No error)"
     ]
    }
   ],
   "source": [
    "# wget \"http://cdat.llnl.gov/cdat/sample_data/remap_grid_POP43.nc\"\n",
    "# wget \"http://cdat.llnl.gov/cdat/sample_data/remap_grid_T42.nc\"\n",
    "# wget \"http://cdat.llnl.gov/cdat/sample_data/rmp_POP43_to_T42_conserv.nc\"\n",
    "# wget \"http://cdat.llnl.gov/cdat/sample_data/rmp_T42_to_POP43_conserv.nc\"\n",
    "# wget \"http://cdat.llnl.gov/cdat/sample_data/xieArkin-T42.nc\"\n",
    "# Import regrid package for regridder functions\n",
    "import regrid2, cdms2\n",
    "# Read the regridder from the remapper file\n",
    "remapf = cdms2.open('rmp_T42_to_POP43_conserv.nc')\n",
    "regridf = regrid2.readRegridder(remapf)\n",
    "remapf.close()"
   ]
  },
  {
   "cell_type": "markdown",
   "metadata": {},
   "source": [
    "Then read the input data and regrid:"
   ]
  },
  {
   "cell_type": "code",
   "execution_count": 7,
   "metadata": {},
   "outputs": [
    {
     "ename": "CDMSError",
     "evalue": "Cannot open file /export/reshel3/cdms/xieArkin-T42.nc (No error)",
     "output_type": "error",
     "traceback": [
      "\u001b[0;31m---------------------------------------------------------------------------\u001b[0m",
      "\u001b[0;31mCDMSError\u001b[0m                                 Traceback (most recent call last)",
      "\u001b[0;32m<ipython-input-7-24d502389ce4>\u001b[0m in \u001b[0;36m<module>\u001b[0;34m()\u001b[0m\n\u001b[1;32m      1\u001b[0m \u001b[0;31m# Get the source variable\u001b[0m\u001b[0;34m\u001b[0m\u001b[0;34m\u001b[0m\u001b[0m\n\u001b[0;32m----> 2\u001b[0;31m \u001b[0mf\u001b[0m \u001b[0;34m=\u001b[0m \u001b[0mcdms2\u001b[0m\u001b[0;34m.\u001b[0m\u001b[0mopen\u001b[0m\u001b[0;34m(\u001b[0m\u001b[0;34m'xieArkin-T42.nc'\u001b[0m\u001b[0;34m)\u001b[0m\u001b[0;34m\u001b[0m\u001b[0m\n\u001b[0m\u001b[1;32m      3\u001b[0m \u001b[0mt42prc\u001b[0m \u001b[0;34m=\u001b[0m \u001b[0mf\u001b[0m\u001b[0;34m(\u001b[0m\u001b[0;34m'prc'\u001b[0m\u001b[0;34m)\u001b[0m\u001b[0;34m\u001b[0m\u001b[0m\n\u001b[1;32m      4\u001b[0m \u001b[0mf\u001b[0m\u001b[0;34m.\u001b[0m\u001b[0mclose\u001b[0m\u001b[0;34m(\u001b[0m\u001b[0;34m)\u001b[0m\u001b[0;34m\u001b[0m\u001b[0m\n\u001b[1;32m      5\u001b[0m \u001b[0;31m# Regrid the source variable\u001b[0m\u001b[0;34m\u001b[0m\u001b[0;34m\u001b[0m\u001b[0m\n",
      "\u001b[0;32m/export/reshel3/anaconda52/envs/cdms2/lib/python2.7/site-packages/cdms2/dataset.pyc\u001b[0m in \u001b[0;36mopenDataset\u001b[0;34m(uri, mode, template, dods, dpath, hostObj)\u001b[0m\n\u001b[1;32m    494\u001b[0m             \u001b[0;31m# rank\u001b[0m\u001b[0;34m\u001b[0m\u001b[0;34m\u001b[0m\u001b[0m\n\u001b[1;32m    495\u001b[0m             \u001b[0;32mif\u001b[0m \u001b[0;32mnot\u001b[0m \u001b[0mos\u001b[0m\u001b[0;34m.\u001b[0m\u001b[0mpath\u001b[0m\u001b[0;34m.\u001b[0m\u001b[0mexists\u001b[0m\u001b[0;34m(\u001b[0m\u001b[0mpath\u001b[0m\u001b[0;34m)\u001b[0m\u001b[0;34m:\u001b[0m\u001b[0;34m\u001b[0m\u001b[0m\n\u001b[0;32m--> 496\u001b[0;31m                 \u001b[0;32mreturn\u001b[0m \u001b[0mCdmsFile\u001b[0m\u001b[0;34m(\u001b[0m\u001b[0mpath\u001b[0m\u001b[0;34m,\u001b[0m \u001b[0mmode\u001b[0m\u001b[0;34m,\u001b[0m \u001b[0mmpiBarrier\u001b[0m\u001b[0;34m=\u001b[0m\u001b[0mCdMpi\u001b[0m\u001b[0;34m)\u001b[0m\u001b[0;34m\u001b[0m\u001b[0m\n\u001b[0m\u001b[1;32m    497\u001b[0m             \u001b[0;32melif\u001b[0m \u001b[0mmode\u001b[0m \u001b[0;34m==\u001b[0m \u001b[0;34m\"w\"\u001b[0m\u001b[0;34m:\u001b[0m\u001b[0;34m\u001b[0m\u001b[0m\n\u001b[1;32m    498\u001b[0m                 \u001b[0;32mtry\u001b[0m\u001b[0;34m:\u001b[0m\u001b[0;34m\u001b[0m\u001b[0m\n",
      "\u001b[0;32m/export/reshel3/anaconda52/envs/cdms2/lib/python2.7/site-packages/cdms2/dataset.pyc\u001b[0m in \u001b[0;36m__init__\u001b[0;34m(self, path, mode, hostObj, mpiBarrier)\u001b[0m\n\u001b[1;32m   1276\u001b[0m             \u001b[0m_fileobj_\u001b[0m \u001b[0;34m=\u001b[0m \u001b[0mCdunif\u001b[0m\u001b[0;34m.\u001b[0m\u001b[0mCdunifFile\u001b[0m\u001b[0;34m(\u001b[0m\u001b[0mpath\u001b[0m\u001b[0;34m,\u001b[0m \u001b[0mmode\u001b[0m\u001b[0;34m)\u001b[0m\u001b[0;34m\u001b[0m\u001b[0m\n\u001b[1;32m   1277\u001b[0m         \u001b[0;32mexcept\u001b[0m \u001b[0mException\u001b[0m \u001b[0;32mas\u001b[0m \u001b[0merr\u001b[0m\u001b[0;34m:\u001b[0m\u001b[0;34m\u001b[0m\u001b[0m\n\u001b[0;32m-> 1278\u001b[0;31m             \u001b[0;32mraise\u001b[0m \u001b[0mCDMSError\u001b[0m\u001b[0;34m(\u001b[0m\u001b[0;34m'Cannot open file %s (%s)'\u001b[0m \u001b[0;34m%\u001b[0m \u001b[0;34m(\u001b[0m\u001b[0mpath\u001b[0m\u001b[0;34m,\u001b[0m \u001b[0merr\u001b[0m\u001b[0;34m)\u001b[0m\u001b[0;34m)\u001b[0m\u001b[0;34m\u001b[0m\u001b[0m\n\u001b[0m\u001b[1;32m   1279\u001b[0m         \u001b[0mself\u001b[0m\u001b[0;34m.\u001b[0m\u001b[0m_file_\u001b[0m \u001b[0;34m=\u001b[0m \u001b[0m_fileobj_\u001b[0m   \u001b[0;31m# Cdunif file object\u001b[0m\u001b[0;34m\u001b[0m\u001b[0m\n\u001b[1;32m   1280\u001b[0m         \u001b[0mself\u001b[0m\u001b[0;34m.\u001b[0m\u001b[0mvariables\u001b[0m \u001b[0;34m=\u001b[0m \u001b[0;34m{\u001b[0m\u001b[0;34m}\u001b[0m\u001b[0;34m\u001b[0m\u001b[0m\n",
      "\u001b[0;31mCDMSError\u001b[0m: Cannot open file /export/reshel3/cdms/xieArkin-T42.nc (No error)"
     ]
    }
   ],
   "source": [
    "# Get the source variable\n",
    "f = cdms2.open('xieArkin-T42.nc')\n",
    "t42prc = f('prc')\n",
    "f.close()\n",
    "# Regrid the source variable\n",
    "popdat = regridf(t42prc)"
   ]
  },
  {
   "cell_type": "markdown",
   "metadata": {},
   "source": [
    "Note that ``t42dat`` can have rank greater than 2. The trailing\n",
    "dimensions must match the input grid shape. For example, if ``t42dat``\n",
    "has shape (12, 64, 128), then the input grid must have shape (64,128).\n",
    "Similarly if the variable had a generic grid with shape (8092,), the\n",
    "last dimension of the variable would have length 8092."
   ]
  },
  {
   "cell_type": "markdown",
   "metadata": {},
   "source": [
    "Pressure-Level Regridder\n",
    "\n",
    "To regrid a variable which is a function of latitude, longitude,\n",
    "pressure level, and (optionally) time to a new set of pressure levels,\n",
    "use the ``pressureRegrid`` function defined for variables. This function\n",
    "takes an axis representing the target set of pressure levels, and\n",
    "returns a new variable ``d`` regridded to that dimension."
   ]
  },
  {
   "cell_type": "code",
   "execution_count": 8,
   "metadata": {},
   "outputs": [
    {
     "name": "stdout",
     "output_type": "stream",
     "text": [
      "--2018-08-15 09:11:24--  https://cdat.llnl.gov/cdat/sample_data/ta_ncep_87-6-88-4.nc\n",
      "Resolving cdat.llnl.gov... 198.128.245.146\n",
      "Connecting to cdat.llnl.gov|198.128.245.146|:443... connected.\n",
      "HTTP request sent, awaiting response... 200 OK\n",
      "Length: 7868676 (7.5M) [application/x-netcdf]\n",
      "Saving to: “ta_ncep_87-6-88-4.nc”\n",
      "\n",
      "100%[======================================>] 7,868,676   --.-K/s   in 0.07s   \n",
      "\n",
      "2018-08-15 09:11:24 (106 MB/s) - “ta_ncep_87-6-88-4.nc” saved [7868676/7868676]\n",
      "\n"
     ]
    },
    {
     "data": {
      "text/plain": [
       "(11, 1, 73, 144)"
      ]
     },
     "execution_count": 8,
     "metadata": {},
     "output_type": "execute_result"
    }
   ],
   "source": [
    "!wget \"https://cdat.llnl.gov/cdat/sample_data/ta_ncep_87-6-88-4.nc\"\n",
    "f=cdms2.open(\"ta_ncep_87-6-88-4.nc\")\n",
    "ta=f('ta')\n",
    "ta.shape\n",
    "(11, 17, 73, 144)\n",
    "ta.getAxisIds()\n",
    "['time', 'level', 'latitude', 'longitude']\n",
    "result = ta.pressureRegrid(cdms2.createAxis([1000.0]))\n",
    "result.shape\n",
    "(11, 1, 73, 144)"
   ]
  },
  {
   "cell_type": "markdown",
   "metadata": {},
   "source": [
    "Cross-Section Regridder\n",
    "\n",
    "To regrid a variable which is a function of latitude, height, and\n",
    "(optionally) time to a new latitude/height cross-section, use the\n",
    "``crossSectionRegridder`` defined for variables. This function takes as\n",
    "arguments the new latitudes and heights, and returns the variable\n",
    "regridded to those axes."
   ]
  },
  {
   "cell_type": "code",
   "execution_count": 8,
   "metadata": {},
   "outputs": [
    {
     "ename": "CDMSError",
     "evalue": "Cannot open file /export/reshel3/cdms/ta_ncep_87-6-88-4.nc (No error)",
     "output_type": "error",
     "traceback": [
      "\u001b[0;31m---------------------------------------------------------------------------\u001b[0m",
      "\u001b[0;31mCDMSError\u001b[0m                                 Traceback (most recent call last)",
      "\u001b[0;32m<ipython-input-8-55c58fee226d>\u001b[0m in \u001b[0;36m<module>\u001b[0;34m()\u001b[0m\n\u001b[1;32m      1\u001b[0m \u001b[0;31m# wget \"http://cdat.llnl.gov/cdat/sample_data/ta_ncep_87-6-88-4.nc\"\u001b[0m\u001b[0;34m\u001b[0m\u001b[0;34m\u001b[0m\u001b[0m\n\u001b[0;32m----> 2\u001b[0;31m \u001b[0mf\u001b[0m\u001b[0;34m=\u001b[0m\u001b[0mcdms2\u001b[0m\u001b[0;34m.\u001b[0m\u001b[0mopen\u001b[0m\u001b[0;34m(\u001b[0m\u001b[0;34m\"ta_ncep_87-6-88-4.nc\"\u001b[0m\u001b[0;34m)\u001b[0m\u001b[0;34m\u001b[0m\u001b[0m\n\u001b[0m\u001b[1;32m      3\u001b[0m \u001b[0mta\u001b[0m\u001b[0;34m=\u001b[0m\u001b[0mf\u001b[0m\u001b[0;34m(\u001b[0m\u001b[0;34m'ta'\u001b[0m\u001b[0;34m)\u001b[0m\u001b[0;34m\u001b[0m\u001b[0m\n\u001b[1;32m      4\u001b[0m \u001b[0mta\u001b[0m\u001b[0;34m.\u001b[0m\u001b[0mshape\u001b[0m\u001b[0;34m\u001b[0m\u001b[0m\n\u001b[1;32m      5\u001b[0m \u001b[0;34m\u001b[0m\u001b[0m\n",
      "\u001b[0;32m/export/reshel3/anaconda52/envs/cdms2/lib/python2.7/site-packages/cdms2/dataset.pyc\u001b[0m in \u001b[0;36mopenDataset\u001b[0;34m(uri, mode, template, dods, dpath, hostObj)\u001b[0m\n\u001b[1;32m    494\u001b[0m             \u001b[0;31m# rank\u001b[0m\u001b[0;34m\u001b[0m\u001b[0;34m\u001b[0m\u001b[0m\n\u001b[1;32m    495\u001b[0m             \u001b[0;32mif\u001b[0m \u001b[0;32mnot\u001b[0m \u001b[0mos\u001b[0m\u001b[0;34m.\u001b[0m\u001b[0mpath\u001b[0m\u001b[0;34m.\u001b[0m\u001b[0mexists\u001b[0m\u001b[0;34m(\u001b[0m\u001b[0mpath\u001b[0m\u001b[0;34m)\u001b[0m\u001b[0;34m:\u001b[0m\u001b[0;34m\u001b[0m\u001b[0m\n\u001b[0;32m--> 496\u001b[0;31m                 \u001b[0;32mreturn\u001b[0m \u001b[0mCdmsFile\u001b[0m\u001b[0;34m(\u001b[0m\u001b[0mpath\u001b[0m\u001b[0;34m,\u001b[0m \u001b[0mmode\u001b[0m\u001b[0;34m,\u001b[0m \u001b[0mmpiBarrier\u001b[0m\u001b[0;34m=\u001b[0m\u001b[0mCdMpi\u001b[0m\u001b[0;34m)\u001b[0m\u001b[0;34m\u001b[0m\u001b[0m\n\u001b[0m\u001b[1;32m    497\u001b[0m             \u001b[0;32melif\u001b[0m \u001b[0mmode\u001b[0m \u001b[0;34m==\u001b[0m \u001b[0;34m\"w\"\u001b[0m\u001b[0;34m:\u001b[0m\u001b[0;34m\u001b[0m\u001b[0m\n\u001b[1;32m    498\u001b[0m                 \u001b[0;32mtry\u001b[0m\u001b[0;34m:\u001b[0m\u001b[0;34m\u001b[0m\u001b[0m\n",
      "\u001b[0;32m/export/reshel3/anaconda52/envs/cdms2/lib/python2.7/site-packages/cdms2/dataset.pyc\u001b[0m in \u001b[0;36m__init__\u001b[0;34m(self, path, mode, hostObj, mpiBarrier)\u001b[0m\n\u001b[1;32m   1276\u001b[0m             \u001b[0m_fileobj_\u001b[0m \u001b[0;34m=\u001b[0m \u001b[0mCdunif\u001b[0m\u001b[0;34m.\u001b[0m\u001b[0mCdunifFile\u001b[0m\u001b[0;34m(\u001b[0m\u001b[0mpath\u001b[0m\u001b[0;34m,\u001b[0m \u001b[0mmode\u001b[0m\u001b[0;34m)\u001b[0m\u001b[0;34m\u001b[0m\u001b[0m\n\u001b[1;32m   1277\u001b[0m         \u001b[0;32mexcept\u001b[0m \u001b[0mException\u001b[0m \u001b[0;32mas\u001b[0m \u001b[0merr\u001b[0m\u001b[0;34m:\u001b[0m\u001b[0;34m\u001b[0m\u001b[0m\n\u001b[0;32m-> 1278\u001b[0;31m             \u001b[0;32mraise\u001b[0m \u001b[0mCDMSError\u001b[0m\u001b[0;34m(\u001b[0m\u001b[0;34m'Cannot open file %s (%s)'\u001b[0m \u001b[0;34m%\u001b[0m \u001b[0;34m(\u001b[0m\u001b[0mpath\u001b[0m\u001b[0;34m,\u001b[0m \u001b[0merr\u001b[0m\u001b[0;34m)\u001b[0m\u001b[0;34m)\u001b[0m\u001b[0;34m\u001b[0m\u001b[0m\n\u001b[0m\u001b[1;32m   1279\u001b[0m         \u001b[0mself\u001b[0m\u001b[0;34m.\u001b[0m\u001b[0m_file_\u001b[0m \u001b[0;34m=\u001b[0m \u001b[0m_fileobj_\u001b[0m   \u001b[0;31m# Cdunif file object\u001b[0m\u001b[0;34m\u001b[0m\u001b[0m\n\u001b[1;32m   1280\u001b[0m         \u001b[0mself\u001b[0m\u001b[0;34m.\u001b[0m\u001b[0mvariables\u001b[0m \u001b[0;34m=\u001b[0m \u001b[0;34m{\u001b[0m\u001b[0;34m}\u001b[0m\u001b[0;34m\u001b[0m\u001b[0m\n",
      "\u001b[0;31mCDMSError\u001b[0m: Cannot open file /export/reshel3/cdms/ta_ncep_87-6-88-4.nc (No error)"
     ]
    }
   ],
   "source": [
    "# wget \"http://cdat.llnl.gov/cdat/sample_data/ta_ncep_87-6-88-4.nc\"\n",
    "f=cdms2.open(\"ta_ncep_87-6-88-4.nc\")\n",
    "ta=f('ta')\n",
    "ta.shape\n",
    "\n",
    "levOut=cdms2.createAxis([1000.0,950.])\n",
    "levOut.designateLevel()\n",
    "latOut=cdms2.createAxis(ta.getLatitude()[10:20])\n",
    "latOut.designateLatitude()\n",
    "ta0 = ta[0,:]\n",
    "ta0.getAxisIds()\n",
    "\n",
    "taout = ta0.crossSectionRegrid(levOut, latOut)\n",
    "taout.shape"
   ]
  },
  {
   "cell_type": "markdown",
   "metadata": {},
   "source": [
    "Regrid Module\n",
    "\n",
    "The ``regrid`` module implements the CDMS regridding functionality as\n",
    "well as the SCRIP interface. Although this module is not strictly a part\n",
    "of CDMS, it is designed to work with CDMS objects."
   ]
  },
  {
   "cell_type": "markdown",
   "metadata": {},
   "source": [
    "CDMS Regridder Constructor\n",
    "\n",
    " \"``regridFunction = Regridder(inputGrid, outputGrid)``\", \"Create a regridder function which interpolates a data array from input to output grid.\n",
    "    *  `CDMS regridder functions`_ describes the calling sequence of this function.\n",
    "    *  ``inputGrid`` and ``outputGrid`` are CDMS grid objects.\n",
    "    **Note:** To set the mask associated with inputGrid or outputGrid, use the grid setMask function.\""
   ]
  },
  {
   "cell_type": "markdown",
   "metadata": {},
   "source": [
    "SCRIP Regridder\n",
    "\n",
    "SCRIP regridder functions are created with the ``regrid.readRegridder``\n",
    "function:"
   ]
  },
  {
   "cell_type": "markdown",
   "metadata": {},
   "source": [
    "SCRIP Regridder Constructor\n",
    "\n",
    " \"``regridFunction = regrid.readRegridder(fileobj, mapMethod=None, checkGrid=1)``\", \"Read a regridder from an open CDMS file object.\n",
    "       * ``fileobj`` is a CDMS file object, as returned from ``cdms.open``.\n",
    "       * ``mapMethod`` is one of:\n",
    "       * ``'conservative'``: conservative remapper, suitable where area-integrated fields such as water or heat fluxes must be conserved.\n",
    "       * ``'bilinear'``: bilinear interpolation\n",
    "       * ``'bicubic'``: bicubic interpolation\n",
    "       * ``'distwgt'``: distance-weighted interpolation.\n",
    "       * It is only necessary to specify the map method if it is not defined in the file.\n",
    "       * If ``checkGrid`` is 1 (default), the grid cells are checked for convexity, and 'repaired' if necessary. Grid cells may appear to be nonconvex if they cross a ``0 / 2pi`` boundary. The repair consists of shifting the cell vertices to the same side modulo 360 degrees.\"\n"
   ]
  },
  {
   "cell_type": "markdown",
   "metadata": {},
   "source": [
    "Regridder Functions\n",
    "\n",
    "It is only necessary to specify the map method if it is not defined in\n",
    "the file.\n",
    "\n",
    "If ``checkGrid`` is 1 (default), the grid cells are checked for\n",
    "convexity, and ‘repaired’ if necessary. Grid cells may appear to be\n",
    "nonconvex if they cross a ``0 / 2pi`` boundary. The repair consists of\n",
    "shifting the cell vertices to the same side modulo 360 degrees."
   ]
  },
  {
   "cell_type": "markdown",
   "metadata": {},
   "source": [
    "_`CDMS Regridder Functions`\n",
    "\n",
    "A CDMS regridder function is an instance of the CDMS ``Regridder``\n",
    "class. The function is associated with rectangular input and output\n",
    "grids. Typically its use is straightforward: the function is passed an\n",
    "input array and returns the regridded array. However, when the array has\n",
    "missing data, or the input and/or output grids are masked, the logic\n",
    "becomes more complicated.\n",
    "\n",
    "Step 1\n",
    "~~~~~~\n",
    "\n",
    "The regridder function first forms an input mask. This mask is either\n",
    "two-dimensional or n-dimensional, depending on the rank of the\n",
    "user-supplied mask. If no mask or missing value is specified, the mask\n",
    "is obtained from the data array mask if present.\n",
    "\n",
    "**Two-dimensional case:**\n",
    "\n",
    "-  Let mask\\_1 be the two-dimensional user mask supplied via the mask\n",
    "   argument, or the mask of the input grid if no user mask is specified.\n",
    "-  If a missing-data value is specified via the missing argument, let\n",
    "   the implicit\\_mask be the two-dimensional mask defined as 0 where the\n",
    "   first horizontal slice of the input array is missing, 1 elsewhere.\n",
    "-  The input mask is the logical AND(mask\\_1, implicit\\_mask)\n",
    "\n",
    "**N-dimensional case:**\n",
    "\n",
    "-  If the user mask is 3 or 4-dimensional with the same shape as the\n",
    "   input array, it is used as the input mask.\n",
    "\n",
    "Step 2\n",
    "~~~~~~\n",
    "\n",
    "The data is then regridded. In the two-dimensional case, the input mask\n",
    "is ‘broadcast’ across the other dimensions of the array. In other words,\n",
    "it assumes that all horizontal slices of the array have the same mask.\n",
    "The result is a new array, defined on the output grid. Optionally, the\n",
    "regridder function can also return an array having the same shape as the\n",
    "output array, defining the fractional area of the output array which\n",
    "overlaps a non-missing input grid cell. This is useful for calculating\n",
    "area-weighted means of masked data.\n",
    "\n",
    "Step 3\n",
    "~~~~~~\n",
    "\n",
    "Finally, if the output grid has a mask, it is applied to the result\n",
    "array. Where the output mask is 0, data values are set to the missing\n",
    "data value, or 1.0e20 if undefined. The result array or transient\n",
    "variable will have a mask value of 1 (invalid value) for those output\n",
    "grid cells which completely overlap input grid cells with missing values"
   ]
  },
  {
   "cell_type": "markdown",
   "metadata": {},
   "source": [
    "CDMS Regridder Function Types\n",
    "\n",
    "\"Array or Transient-Variable\", \"``regridFunction(array, missing=None, order=None, mask=None)``\", \"Interpolate a gridded data array to a new grid. The interpolation preserves the area-weighted mean on each horizontal slice.\n",
    "       * If array is a Variable, a TransientVariable of  the same rank as the input array is returned, otherwise a masked array is returned.\n",
    "       * ``array`` is a Variable, masked array, or Numpy array of rank 2, 3, or 4.                     *  For example, the string 'tzyx' indicates that the dimension order of ``array`` is (time, level, latitude, longitude). If unspecified, the function assumes that the last two dimensions of ``array`` match the input grid.\n",
    "       * ``missing`` is a Float specifying the missing data value. The default is 1.0e20.\n",
    "       * ``order`` is a string indicating the order of dimensions of the array.  It has the form returned from ``variable.getOrder().``\n",
    "       * ``mask`` is a Numpy array, of datatype Integer or Float, consisting of a fractional number between 0 and 1.\n",
    "       * A value of 1 or 1.0 indicates that the corresponding data value is to be ignored for purposes of regridding.\n",
    "       * A value of 0 or 0.0 indicates that the corresponding data value is valid. This is consistent with the convention for masks used by the MV2 module.\n",
    "       * A fractional value between 0.0 and 1.0 indicates the fraction of the data value (e.g., the corresponding cell) to be ignored when regridding. This is useful if a variable is regridded first to grid A and then to another grid B; the mask when regridding from A to B would be (1.0 - f) where f is the maskArray returned from the initial grid operation using the ``returnTuple`` argument.\n",
    "       * If ``mask`` is two-dimensional of the same shape as the input grid, it overrides the mask of the input grid.\n",
    "       *  If the mask has more than two dimensions, it must have the same shape as ``array``. In this case, the ``missing`` data value is also ignored. Such an ndimensional mask is useful if the pattern of missing data varies with level (e.g., ocean data) or time.\n",
    "      **Note:** If neither ``missing`` or ``mask`` is set, the default mask is obtained from the mask of the array if any.\"\n",
    "   \"Array, Array\",  \"``regridFunction(ar, missing=None, order=None, mask=None, returnTuple=1)``\", \"If called with the optional ``returnTuple`` argument equal to 1, the function returns a tuple ``dataArray``, ``maskArray``).\n",
    "       * ``dataArray`` is the result data array.\n",
    "       * ``maskArray`` is a Float32 array of the same shape as ``dataArray``, such that ``maskArray[i,j]`` is fraction of the output grid cell [i,j] overlapping a non-missing cell of the grid.\"\n"
   ]
  },
  {
   "cell_type": "markdown",
   "metadata": {},
   "source": [
    "SCRIP Regridder Functions\n",
    "\n",
    "A SCRIP regridder function is an instance of the ScripRegridder class.\n",
    "Such a function is created by calling the regrid.readRegridder method.\n",
    "Typical usage is straightforward:"
   ]
  },
  {
   "cell_type": "code",
   "execution_count": 9,
   "metadata": {},
   "outputs": [
    {
     "ename": "CDMSError",
     "evalue": "Cannot open file /export/reshel3/cdms/rmp_T42_to_POP43_conserv.nc (No error)",
     "output_type": "error",
     "traceback": [
      "\u001b[0;31m---------------------------------------------------------------------------\u001b[0m",
      "\u001b[0;31mCDMSError\u001b[0m                                 Traceback (most recent call last)",
      "\u001b[0;32m<ipython-input-9-990bc8c2d36b>\u001b[0m in \u001b[0;36m<module>\u001b[0;34m()\u001b[0m\n\u001b[1;32m      1\u001b[0m \u001b[0;32mimport\u001b[0m \u001b[0mcdms2\u001b[0m\u001b[0;34m\u001b[0m\u001b[0m\n\u001b[1;32m      2\u001b[0m \u001b[0;32mimport\u001b[0m \u001b[0mregrid2\u001b[0m\u001b[0;34m\u001b[0m\u001b[0m\n\u001b[0;32m----> 3\u001b[0;31m \u001b[0mremapf\u001b[0m \u001b[0;34m=\u001b[0m \u001b[0mcdms2\u001b[0m\u001b[0;34m.\u001b[0m\u001b[0mopen\u001b[0m\u001b[0;34m(\u001b[0m\u001b[0;34m'rmp_T42_to_POP43_conserv.nc'\u001b[0m\u001b[0;34m)\u001b[0m\u001b[0;34m\u001b[0m\u001b[0m\n\u001b[0m\u001b[1;32m      4\u001b[0m \u001b[0mregridf\u001b[0m \u001b[0;34m=\u001b[0m \u001b[0mregrid2\u001b[0m\u001b[0;34m.\u001b[0m\u001b[0mreadRegridder\u001b[0m\u001b[0;34m(\u001b[0m\u001b[0mremapf\u001b[0m\u001b[0;34m)\u001b[0m\u001b[0;34m\u001b[0m\u001b[0m\n\u001b[1;32m      5\u001b[0m \u001b[0mf\u001b[0m \u001b[0;34m=\u001b[0m \u001b[0mcdms2\u001b[0m\u001b[0;34m.\u001b[0m\u001b[0mopen\u001b[0m\u001b[0;34m(\u001b[0m\u001b[0;34m'xieArkin-T42.nc'\u001b[0m\u001b[0;34m)\u001b[0m\u001b[0;34m\u001b[0m\u001b[0m\n",
      "\u001b[0;32m/export/reshel3/anaconda52/envs/cdms2/lib/python2.7/site-packages/cdms2/dataset.pyc\u001b[0m in \u001b[0;36mopenDataset\u001b[0;34m(uri, mode, template, dods, dpath, hostObj)\u001b[0m\n\u001b[1;32m    494\u001b[0m             \u001b[0;31m# rank\u001b[0m\u001b[0;34m\u001b[0m\u001b[0;34m\u001b[0m\u001b[0m\n\u001b[1;32m    495\u001b[0m             \u001b[0;32mif\u001b[0m \u001b[0;32mnot\u001b[0m \u001b[0mos\u001b[0m\u001b[0;34m.\u001b[0m\u001b[0mpath\u001b[0m\u001b[0;34m.\u001b[0m\u001b[0mexists\u001b[0m\u001b[0;34m(\u001b[0m\u001b[0mpath\u001b[0m\u001b[0;34m)\u001b[0m\u001b[0;34m:\u001b[0m\u001b[0;34m\u001b[0m\u001b[0m\n\u001b[0;32m--> 496\u001b[0;31m                 \u001b[0;32mreturn\u001b[0m \u001b[0mCdmsFile\u001b[0m\u001b[0;34m(\u001b[0m\u001b[0mpath\u001b[0m\u001b[0;34m,\u001b[0m \u001b[0mmode\u001b[0m\u001b[0;34m,\u001b[0m \u001b[0mmpiBarrier\u001b[0m\u001b[0;34m=\u001b[0m\u001b[0mCdMpi\u001b[0m\u001b[0;34m)\u001b[0m\u001b[0;34m\u001b[0m\u001b[0m\n\u001b[0m\u001b[1;32m    497\u001b[0m             \u001b[0;32melif\u001b[0m \u001b[0mmode\u001b[0m \u001b[0;34m==\u001b[0m \u001b[0;34m\"w\"\u001b[0m\u001b[0;34m:\u001b[0m\u001b[0;34m\u001b[0m\u001b[0m\n\u001b[1;32m    498\u001b[0m                 \u001b[0;32mtry\u001b[0m\u001b[0;34m:\u001b[0m\u001b[0;34m\u001b[0m\u001b[0m\n",
      "\u001b[0;32m/export/reshel3/anaconda52/envs/cdms2/lib/python2.7/site-packages/cdms2/dataset.pyc\u001b[0m in \u001b[0;36m__init__\u001b[0;34m(self, path, mode, hostObj, mpiBarrier)\u001b[0m\n\u001b[1;32m   1276\u001b[0m             \u001b[0m_fileobj_\u001b[0m \u001b[0;34m=\u001b[0m \u001b[0mCdunif\u001b[0m\u001b[0;34m.\u001b[0m\u001b[0mCdunifFile\u001b[0m\u001b[0;34m(\u001b[0m\u001b[0mpath\u001b[0m\u001b[0;34m,\u001b[0m \u001b[0mmode\u001b[0m\u001b[0;34m)\u001b[0m\u001b[0;34m\u001b[0m\u001b[0m\n\u001b[1;32m   1277\u001b[0m         \u001b[0;32mexcept\u001b[0m \u001b[0mException\u001b[0m \u001b[0;32mas\u001b[0m \u001b[0merr\u001b[0m\u001b[0;34m:\u001b[0m\u001b[0;34m\u001b[0m\u001b[0m\n\u001b[0;32m-> 1278\u001b[0;31m             \u001b[0;32mraise\u001b[0m \u001b[0mCDMSError\u001b[0m\u001b[0;34m(\u001b[0m\u001b[0;34m'Cannot open file %s (%s)'\u001b[0m \u001b[0;34m%\u001b[0m \u001b[0;34m(\u001b[0m\u001b[0mpath\u001b[0m\u001b[0;34m,\u001b[0m \u001b[0merr\u001b[0m\u001b[0;34m)\u001b[0m\u001b[0;34m)\u001b[0m\u001b[0;34m\u001b[0m\u001b[0m\n\u001b[0m\u001b[1;32m   1279\u001b[0m         \u001b[0mself\u001b[0m\u001b[0;34m.\u001b[0m\u001b[0m_file_\u001b[0m \u001b[0;34m=\u001b[0m \u001b[0m_fileobj_\u001b[0m   \u001b[0;31m# Cdunif file object\u001b[0m\u001b[0;34m\u001b[0m\u001b[0m\n\u001b[1;32m   1280\u001b[0m         \u001b[0mself\u001b[0m\u001b[0;34m.\u001b[0m\u001b[0mvariables\u001b[0m \u001b[0;34m=\u001b[0m \u001b[0;34m{\u001b[0m\u001b[0;34m}\u001b[0m\u001b[0;34m\u001b[0m\u001b[0m\n",
      "\u001b[0;31mCDMSError\u001b[0m: Cannot open file /export/reshel3/cdms/rmp_T42_to_POP43_conserv.nc (No error)"
     ]
    }
   ],
   "source": [
    "import cdms2\n",
    "import regrid2\n",
    "remapf = cdms2.open('rmp_T42_to_POP43_conserv.nc')\n",
    "regridf = regrid2.readRegridder(remapf)\n",
    "f = cdms2.open('xieArkin-T42.nc')\n",
    "t42prc = f('prc')\n",
    "f.close()\n",
    "# Regrid the source variable\n",
    "popdat = regridf(t42prc)"
   ]
  },
  {
   "cell_type": "markdown",
   "metadata": {},
   "source": [
    "The bicubic regridder takes four arguments:"
   ]
  },
  {
   "cell_type": "code",
   "execution_count": 10,
   "metadata": {},
   "outputs": [],
   "source": [
    "# outdat = regridf(t42prc, gradlat, gradlon, gradlatlon)"
   ]
  },
  {
   "cell_type": "markdown",
   "metadata": {},
   "source": [
    "A regridder function also has associated methods to retrieve the\n",
    "following fields:\n",
    "\n",
    "-  Input grid\n",
    "-  Output grid\n",
    "-  Source fraction: the fraction of each source (input) grid cell\n",
    "   participating in the interpolation.\n",
    "-  Destination fraction: the fraction of each destination (output) grid\n",
    "   cell participating in the interpolation.\n",
    "\n",
    "In addition, a conservative regridder has the associated grid cell areas\n",
    "for source and target grids."
   ]
  },
  {
   "cell_type": "markdown",
   "metadata": {},
   "source": [
    "SCRIP Regridder Function Types\n",
    "\n",
    "\"Array or Transient-Variable\", \"[conservative, bilinear, and distance-weighted regridders] ``regridFunction(array)``\", \"Interpolate a gridded data array to a new grid. The return value is the regridded data variable.\n",
    "        *  ``array`` is a Variable, MaskedArray, or Numpy array. The rank of the array may be greater than the rank of the input grid, in which case the input grid shape must match a trailing portion of the array shape. \n",
    "        * For example, if the input grid is curvilinear with shape (64,128), the last two dimensions of the array must match. Similarly, if the input grid is generic with shape (2560,), the last dimension of the array must have that length.\"\n",
    "    \"Array or Transient-Variable\", \"[bicubic regridders] ``regridFunction(array, gradientLat, gradientLon, gradientLatLon)``\", \"Interpolate a gridded data array to a new grid, using a bicubic regridder. The return value is the regridded data variable.\n",
    "        * ``array`` is a Variable, MaskedArray, or Numpy array. The rank of the array may be greater than the rank of the input grid, in which case the input grid shape must match a trailing portion of the array shape.\n",
    "        * For example, if the input grid is curvilinear with shape (64,128), the last two dimensions of the array must match. Simiarly, if the input grid is generic with shape (2560,), the last dimension of the array must have that length.\n",
    "        * ``gradientLat``: df/di (see the SCRIP documentation). Same shape as ``array``.\n",
    "        * ``gradientLon``: df/dj. Same shape as ``array``.\n",
    "        * ``gradientLatLon``: d(df)/(di)(dj). Same shape as array.\"\n",
    "    \"Numpy array\", \"``getDestinationArea()`` [conservative regridders only]\", \"Return the area of the destination (output) grid cell. \n",
    "        * The array is 1-D, with length equal to the number of cells in the output grid.\"\n",
    "    \"Numpy array\", \"``getDestinationFraction()``\", \"Return the area fraction of the destination (output) grid cell that participates in the regridding.\n",
    "        * The array is 1-D, with length equal to the number of cells in the output grid.\"\n",
    "    \"CurveGrid or Generic-Grid\", \"``getInputGrid()``\", \"Return the input grid, or None if no input grid is associated with the regridder.\"\n",
    "    \"CurveGrid or Generic-Grid\", \"``getOutputGrid()``\", \"Return the output grid.\"\n",
    "    \"Numpy array\", \"``getSourceFraction()``\", \"Return the area fraction of the source (input) grid cell that participates in the regridding.\n",
    "        * The array is 1-D, with length equal to the number of cells in the input grid\"\n"
   ]
  },
  {
   "cell_type": "markdown",
   "metadata": {},
   "source": [
    "Examples\n",
    "\n",
    "\n",
    "CDMS Regridder\n",
    "\n",
    "\n",
    "**Example:**\n",
    "\n",
    "Regrid data to a uniform output grid."
   ]
  },
  {
   "cell_type": "code",
   "execution_count": 11,
   "metadata": {},
   "outputs": [],
   "source": [
    "import cdms2\n",
    "from regrid2 import Regridder\n",
    "f = cdms2.open('clt.nc')\n",
    "cltf = f.variables['clt']\n",
    "ingrid = cltf.getGrid()\n",
    "outgrid = cdms2.createUniformGrid(90.0, 46, -4.0, 0.0, 72, 5.0)\n",
    "regridFunc = Regridder(ingrid, outgrid)\n",
    "newrls = regridFunc(cltf)\n",
    "f.close()"
   ]
  },
  {
   "cell_type": "markdown",
   "metadata": {},
   "source": [
    "Regridder Constructures\n",
    "\n",
    "   \"3\", \"Open a netCDF file for input.\"\n",
    "   \"6\", \"Create a 4 x 5 degree output grid. Note that this grid is not associated with a file or dataset.\"\n",
    "   \"7\", \"Create the regridder function.\"\n",
    "   \"8\", \"Read all data and regrid. The missing data value is obtained from variable rlsf\"\n",
    "\n",
    "Return the area fraction of the source (input) grid cell that\n",
    "participates in the regridding. The array is 1-D, with length equal to\n",
    "the number of cells in the input grid.\n",
    "\n",
    "**Example:**\n",
    "\n",
    "Get a mask from a separate file, and set as the input grid mask."
   ]
  },
  {
   "cell_type": "code",
   "execution_count": 12,
   "metadata": {},
   "outputs": [],
   "source": [
    "# wget http://cdat.llnl.gov/cdat/sample_data/clt.nc\n",
    "# wget http://cdat.llnl.gov/cdat/sample_data/geos5-sample.nc\n",
    "import cdms2\n",
    "from regrid2 import Regridder\n",
    "#\n",
    "f = cdms2.open('clt.nc')\n",
    "cltf = f.variables['clt']\n",
    "outgrid = cltf.getGrid()\n",
    "g = cdms2.open('geos5-sample.nc')\n",
    "ozoneg = g.variables['ozone']\n",
    "ingrid = ozoneg.getGrid()\n",
    "regridFunc = Regridder(ingrid,outgrid)\n",
    "uwmaskvar = g.variables['uwnd']\n",
    "uwmask = uwmaskvar[:]<0\n",
    "outArray = regridFunc(ozoneg.subSlice(time=0),mask=uwmask)\n",
    "f.close()\n",
    "g.close()"
   ]
  },
  {
   "cell_type": "markdown",
   "metadata": {},
   "source": [
    "   \"7\", \"Get the input grid.\"\n",
    "   \"10\", \"Get the output grid.\"\n",
    "   \"11\", \"Create the regridder function.\"\n",
    "   \"14\", \"Get the mask.\"\n",
    "   \"15\", \"Regrid with a user mask. The subslice call returns a transient variable corresponding to variable sof at time 0.\"\n",
    "\n",
    "\n",
    "**Note:** Although it cannot be determined from the code, both mask and\n",
    "the input array sof are four-dimensional. This is the n-dimensional\n",
    "case.\n",
    "\n",
    "\n",
    "**Example:**\n",
    "\n",
    "Generate an array of zonal mean values."
   ]
  },
  {
   "cell_type": "code",
   "execution_count": 14,
   "metadata": {},
   "outputs": [
    {
     "ename": "SyntaxError",
     "evalue": "invalid syntax (<ipython-input-14-c1becd0082b8>, line 1)",
     "output_type": "error",
     "traceback": [
      "\u001b[0;36m  File \u001b[0;32m\"<ipython-input-14-c1becd0082b8>\"\u001b[0;36m, line \u001b[0;32m1\u001b[0m\n\u001b[0;31m    f = cdms.open(‘rls_ccc_per.nc’)\u001b[0m\n\u001b[0m                  ^\u001b[0m\n\u001b[0;31mSyntaxError\u001b[0m\u001b[0;31m:\u001b[0m invalid syntax\n"
     ]
    }
   ],
   "source": [
    "f = cdms.open(‘rls_ccc_per.nc’)\n",
    "rlsf = f.variables[‘rls’]\n",
    "ingrid = rlsf.getGrid()\n",
    "outgrid = cdms.createZonalGrid(ingrid)\n",
    "regridFunc = Regridder(ingrid,outgrid)\n",
    "mean = regridFunc(rlsf)\n",
    "f.close()"
   ]
  },
  {
   "cell_type": "markdown",
   "metadata": {},
   "source": [
    "   \"3\", \"Get the input grid. Return the area fraction of the source (input) grid cell that participates in the regridding. The array is 1-D, with length equal to the number of cells in the input grid.\"\n",
    "   \"4\", \"Create a zonal grid. outgrid has the same latitudes as ingrid, and a singleton longitude dimension. createGlobalMeanGrid could be used here to generate a global mean array.\"\n",
    "   \"5\", \"Generate the regridder function.\"\n",
    "   \"6\", \"Generate the zonal mean array.\"\n",
    "\n",
    "\n",
    "**Example:**\n",
    "\n",
    "Regrid an array with missing data, and calculate the area-weighted mean\n",
    "of the result."
   ]
  },
  {
   "cell_type": "code",
   "execution_count": 13,
   "metadata": {},
   "outputs": [
    {
     "ename": "CDMSError",
     "evalue": "Cannot open file /export/reshel3/cdms/ta_ncep_87-6-88-4.nc (No error)",
     "output_type": "error",
     "traceback": [
      "\u001b[0;31m---------------------------------------------------------------------------\u001b[0m",
      "\u001b[0;31mCDMSError\u001b[0m                                 Traceback (most recent call last)",
      "\u001b[0;32m<ipython-input-13-b71ac7ae2630>\u001b[0m in \u001b[0;36m<module>\u001b[0;34m()\u001b[0m\n\u001b[1;32m      2\u001b[0m \u001b[0;32mfrom\u001b[0m \u001b[0mcdms2\u001b[0m\u001b[0;34m.\u001b[0m\u001b[0mMV2\u001b[0m \u001b[0;32mimport\u001b[0m \u001b[0;34m*\u001b[0m\u001b[0;34m\u001b[0m\u001b[0m\n\u001b[1;32m      3\u001b[0m \u001b[0;32mfrom\u001b[0m \u001b[0mregrid2\u001b[0m \u001b[0;32mimport\u001b[0m \u001b[0mRegridder\u001b[0m\u001b[0;34m\u001b[0m\u001b[0m\n\u001b[0;32m----> 4\u001b[0;31m \u001b[0mf\u001b[0m \u001b[0;34m=\u001b[0m \u001b[0mcdms2\u001b[0m\u001b[0;34m.\u001b[0m\u001b[0mopen\u001b[0m\u001b[0;34m(\u001b[0m\u001b[0;34m\"ta_ncep_87-6-88-4.nc\"\u001b[0m\u001b[0;34m)\u001b[0m\u001b[0;34m\u001b[0m\u001b[0m\n\u001b[0m\u001b[1;32m      5\u001b[0m \u001b[0mvar\u001b[0m \u001b[0;34m=\u001b[0m \u001b[0mf\u001b[0m\u001b[0;34m(\u001b[0m\u001b[0;34m'ta'\u001b[0m\u001b[0;34m)\u001b[0m\u001b[0;34m\u001b[0m\u001b[0m\n\u001b[1;32m      6\u001b[0m \u001b[0moutgrid\u001b[0m \u001b[0;34m=\u001b[0m \u001b[0mcdms2\u001b[0m\u001b[0;34m.\u001b[0m\u001b[0mcreateUniformGrid\u001b[0m\u001b[0;34m(\u001b[0m\u001b[0;36m90.0\u001b[0m\u001b[0;34m,\u001b[0m \u001b[0;36m46\u001b[0m\u001b[0;34m,\u001b[0m \u001b[0;34m-\u001b[0m\u001b[0;36m4.0\u001b[0m\u001b[0;34m,\u001b[0m \u001b[0;36m0.0\u001b[0m\u001b[0;34m,\u001b[0m \u001b[0;36m72\u001b[0m\u001b[0;34m,\u001b[0m \u001b[0;36m5.0\u001b[0m\u001b[0;34m)\u001b[0m\u001b[0;34m\u001b[0m\u001b[0m\n",
      "\u001b[0;32m/export/reshel3/anaconda52/envs/cdms2/lib/python2.7/site-packages/cdms2/dataset.pyc\u001b[0m in \u001b[0;36mopenDataset\u001b[0;34m(uri, mode, template, dods, dpath, hostObj)\u001b[0m\n\u001b[1;32m    494\u001b[0m             \u001b[0;31m# rank\u001b[0m\u001b[0;34m\u001b[0m\u001b[0;34m\u001b[0m\u001b[0m\n\u001b[1;32m    495\u001b[0m             \u001b[0;32mif\u001b[0m \u001b[0;32mnot\u001b[0m \u001b[0mos\u001b[0m\u001b[0;34m.\u001b[0m\u001b[0mpath\u001b[0m\u001b[0;34m.\u001b[0m\u001b[0mexists\u001b[0m\u001b[0;34m(\u001b[0m\u001b[0mpath\u001b[0m\u001b[0;34m)\u001b[0m\u001b[0;34m:\u001b[0m\u001b[0;34m\u001b[0m\u001b[0m\n\u001b[0;32m--> 496\u001b[0;31m                 \u001b[0;32mreturn\u001b[0m \u001b[0mCdmsFile\u001b[0m\u001b[0;34m(\u001b[0m\u001b[0mpath\u001b[0m\u001b[0;34m,\u001b[0m \u001b[0mmode\u001b[0m\u001b[0;34m,\u001b[0m \u001b[0mmpiBarrier\u001b[0m\u001b[0;34m=\u001b[0m\u001b[0mCdMpi\u001b[0m\u001b[0;34m)\u001b[0m\u001b[0;34m\u001b[0m\u001b[0m\n\u001b[0m\u001b[1;32m    497\u001b[0m             \u001b[0;32melif\u001b[0m \u001b[0mmode\u001b[0m \u001b[0;34m==\u001b[0m \u001b[0;34m\"w\"\u001b[0m\u001b[0;34m:\u001b[0m\u001b[0;34m\u001b[0m\u001b[0m\n\u001b[1;32m    498\u001b[0m                 \u001b[0;32mtry\u001b[0m\u001b[0;34m:\u001b[0m\u001b[0;34m\u001b[0m\u001b[0m\n",
      "\u001b[0;32m/export/reshel3/anaconda52/envs/cdms2/lib/python2.7/site-packages/cdms2/dataset.pyc\u001b[0m in \u001b[0;36m__init__\u001b[0;34m(self, path, mode, hostObj, mpiBarrier)\u001b[0m\n\u001b[1;32m   1276\u001b[0m             \u001b[0m_fileobj_\u001b[0m \u001b[0;34m=\u001b[0m \u001b[0mCdunif\u001b[0m\u001b[0;34m.\u001b[0m\u001b[0mCdunifFile\u001b[0m\u001b[0;34m(\u001b[0m\u001b[0mpath\u001b[0m\u001b[0;34m,\u001b[0m \u001b[0mmode\u001b[0m\u001b[0;34m)\u001b[0m\u001b[0;34m\u001b[0m\u001b[0m\n\u001b[1;32m   1277\u001b[0m         \u001b[0;32mexcept\u001b[0m \u001b[0mException\u001b[0m \u001b[0;32mas\u001b[0m \u001b[0merr\u001b[0m\u001b[0;34m:\u001b[0m\u001b[0;34m\u001b[0m\u001b[0m\n\u001b[0;32m-> 1278\u001b[0;31m             \u001b[0;32mraise\u001b[0m \u001b[0mCDMSError\u001b[0m\u001b[0;34m(\u001b[0m\u001b[0;34m'Cannot open file %s (%s)'\u001b[0m \u001b[0;34m%\u001b[0m \u001b[0;34m(\u001b[0m\u001b[0mpath\u001b[0m\u001b[0;34m,\u001b[0m \u001b[0merr\u001b[0m\u001b[0;34m)\u001b[0m\u001b[0;34m)\u001b[0m\u001b[0;34m\u001b[0m\u001b[0m\n\u001b[0m\u001b[1;32m   1279\u001b[0m         \u001b[0mself\u001b[0m\u001b[0;34m.\u001b[0m\u001b[0m_file_\u001b[0m \u001b[0;34m=\u001b[0m \u001b[0m_fileobj_\u001b[0m   \u001b[0;31m# Cdunif file object\u001b[0m\u001b[0;34m\u001b[0m\u001b[0m\n\u001b[1;32m   1280\u001b[0m         \u001b[0mself\u001b[0m\u001b[0;34m.\u001b[0m\u001b[0mvariables\u001b[0m \u001b[0;34m=\u001b[0m \u001b[0;34m{\u001b[0m\u001b[0;34m}\u001b[0m\u001b[0;34m\u001b[0m\u001b[0m\n",
      "\u001b[0;31mCDMSError\u001b[0m: Cannot open file /export/reshel3/cdms/ta_ncep_87-6-88-4.nc (No error)"
     ]
    }
   ],
   "source": [
    "import cdms2\n",
    "from cdms2.MV2 import *\n",
    "from regrid2 import Regridder\n",
    "f = cdms2.open(\"ta_ncep_87-6-88-4.nc\")\n",
    "var = f('ta')\n",
    "outgrid = cdms2.createUniformGrid(90.0, 46, -4.0, 0.0, 72, 5.0)\n",
    "outlatw, outlonw = outgrid.getWeights()\n",
    "outweights = outerproduct(outlatw, outlonw)\n",
    "grid = var.getGrid()\n",
    "sample = var[0,0]\n",
    "latw, lonw = grid.getWeights()\n",
    "weights = outerproduct(latw, lonw)\n",
    "inmask = where(greater(absolute(sample),1.e15),0,1)\n",
    "mean = add.reduce(ravel(inmask*weights*sample))/add.reduce(ravel(inmask*weights))\n",
    "regridFunc = Regridder(grid, outgrid)\n",
    "outsample, outmask = regridFunc(sample, mask=inmask, returnTuple=1)\n",
    "outmean = add.reduce(ravel(outmask*outweights*outsample)) / add.reduce(ravel(outmask*outweights))"
   ]
  },
  {
   "cell_type": "markdown",
   "metadata": {},
   "source": [
    "   \"2\", \"Create a uniform target grid.\"\n",
    "   \"3\", \"Get the latitude and longitude weights.\"\n",
    "   \"4\", \"Generate a 2-D weights array.\"\n",
    "   \"5\", \"Get the input grid. ``var`` is a 4-D variable.\"\n",
    "   \"6\", \"Get the first horizontal slice from ``var``.\"\n",
    "   \"7-8\", \"Get the input weights, and generate a 2-D weights array.\"\n",
    "   \"9\", \"Set the 2-D input mask.\"\n",
    "   \"10\", \"Calculate the input array area-weighted mean.\"\n",
    "   \"11\", \"Create the regridder function.\"\n",
    "   \"12\", \"Regrid. Because returnTuple is set to 1, the result is a tuple (dataArray, maskArray).\"\n",
    "   \"13\", \"Calculate the area-weighted mean of the regridded data. mean and outmean should be approximately equal.\""
   ]
  },
  {
   "cell_type": "markdown",
   "metadata": {},
   "source": [
    "SCRIP Regridder\n",
    "\n",
    "**Example:**\n",
    "\n",
    "Regrid from a curvilinear to a generic grid, using a conservative\n",
    "remapping. Compute the area-weighted means on input and output for\n",
    "comparison."
   ]
  },
  {
   "cell_type": "code",
   "execution_count": 14,
   "metadata": {},
   "outputs": [
    {
     "ename": "CDMSError",
     "evalue": "Cannot open file /export/reshel3/cdms/rmp_T42_to_C02562_conserv.nc (No error)",
     "output_type": "error",
     "traceback": [
      "\u001b[0;31m---------------------------------------------------------------------------\u001b[0m",
      "\u001b[0;31mCDMSError\u001b[0m                                 Traceback (most recent call last)",
      "\u001b[0;32m<ipython-input-14-c6aada2cbd70>\u001b[0m in \u001b[0;36m<module>\u001b[0;34m()\u001b[0m\n\u001b[1;32m      4\u001b[0m \u001b[0;32mimport\u001b[0m \u001b[0mcdms2\u001b[0m\u001b[0;34m,\u001b[0m \u001b[0mregrid2\u001b[0m\u001b[0;34m,\u001b[0m \u001b[0mMV2\u001b[0m\u001b[0;34m\u001b[0m\u001b[0m\n\u001b[1;32m      5\u001b[0m \u001b[0;31m# Open the SCRIP remapping file and data file\u001b[0m\u001b[0;34m\u001b[0m\u001b[0;34m\u001b[0m\u001b[0m\n\u001b[0;32m----> 6\u001b[0;31m \u001b[0mfremap\u001b[0m \u001b[0;34m=\u001b[0m \u001b[0mcdms2\u001b[0m\u001b[0;34m.\u001b[0m\u001b[0mopen\u001b[0m\u001b[0;34m(\u001b[0m\u001b[0;34m'rmp_T42_to_C02562_conserv.nc'\u001b[0m\u001b[0;34m)\u001b[0m\u001b[0;34m\u001b[0m\u001b[0m\n\u001b[0m\u001b[1;32m      7\u001b[0m \u001b[0mfdat\u001b[0m \u001b[0;34m=\u001b[0m \u001b[0mcdms2\u001b[0m\u001b[0;34m.\u001b[0m\u001b[0mopen\u001b[0m\u001b[0;34m(\u001b[0m\u001b[0;34m'xieArkin-T42.nc'\u001b[0m\u001b[0;34m)\u001b[0m\u001b[0;34m\u001b[0m\u001b[0m\n\u001b[1;32m      8\u001b[0m \u001b[0;31m# Input data array\u001b[0m\u001b[0;34m\u001b[0m\u001b[0;34m\u001b[0m\u001b[0m\n",
      "\u001b[0;32m/export/reshel3/anaconda52/envs/cdms2/lib/python2.7/site-packages/cdms2/dataset.pyc\u001b[0m in \u001b[0;36mopenDataset\u001b[0;34m(uri, mode, template, dods, dpath, hostObj)\u001b[0m\n\u001b[1;32m    494\u001b[0m             \u001b[0;31m# rank\u001b[0m\u001b[0;34m\u001b[0m\u001b[0;34m\u001b[0m\u001b[0m\n\u001b[1;32m    495\u001b[0m             \u001b[0;32mif\u001b[0m \u001b[0;32mnot\u001b[0m \u001b[0mos\u001b[0m\u001b[0;34m.\u001b[0m\u001b[0mpath\u001b[0m\u001b[0;34m.\u001b[0m\u001b[0mexists\u001b[0m\u001b[0;34m(\u001b[0m\u001b[0mpath\u001b[0m\u001b[0;34m)\u001b[0m\u001b[0;34m:\u001b[0m\u001b[0;34m\u001b[0m\u001b[0m\n\u001b[0;32m--> 496\u001b[0;31m                 \u001b[0;32mreturn\u001b[0m \u001b[0mCdmsFile\u001b[0m\u001b[0;34m(\u001b[0m\u001b[0mpath\u001b[0m\u001b[0;34m,\u001b[0m \u001b[0mmode\u001b[0m\u001b[0;34m,\u001b[0m \u001b[0mmpiBarrier\u001b[0m\u001b[0;34m=\u001b[0m\u001b[0mCdMpi\u001b[0m\u001b[0;34m)\u001b[0m\u001b[0;34m\u001b[0m\u001b[0m\n\u001b[0m\u001b[1;32m    497\u001b[0m             \u001b[0;32melif\u001b[0m \u001b[0mmode\u001b[0m \u001b[0;34m==\u001b[0m \u001b[0;34m\"w\"\u001b[0m\u001b[0;34m:\u001b[0m\u001b[0;34m\u001b[0m\u001b[0m\n\u001b[1;32m    498\u001b[0m                 \u001b[0;32mtry\u001b[0m\u001b[0;34m:\u001b[0m\u001b[0;34m\u001b[0m\u001b[0m\n",
      "\u001b[0;32m/export/reshel3/anaconda52/envs/cdms2/lib/python2.7/site-packages/cdms2/dataset.pyc\u001b[0m in \u001b[0;36m__init__\u001b[0;34m(self, path, mode, hostObj, mpiBarrier)\u001b[0m\n\u001b[1;32m   1276\u001b[0m             \u001b[0m_fileobj_\u001b[0m \u001b[0;34m=\u001b[0m \u001b[0mCdunif\u001b[0m\u001b[0;34m.\u001b[0m\u001b[0mCdunifFile\u001b[0m\u001b[0;34m(\u001b[0m\u001b[0mpath\u001b[0m\u001b[0;34m,\u001b[0m \u001b[0mmode\u001b[0m\u001b[0;34m)\u001b[0m\u001b[0;34m\u001b[0m\u001b[0m\n\u001b[1;32m   1277\u001b[0m         \u001b[0;32mexcept\u001b[0m \u001b[0mException\u001b[0m \u001b[0;32mas\u001b[0m \u001b[0merr\u001b[0m\u001b[0;34m:\u001b[0m\u001b[0;34m\u001b[0m\u001b[0m\n\u001b[0;32m-> 1278\u001b[0;31m             \u001b[0;32mraise\u001b[0m \u001b[0mCDMSError\u001b[0m\u001b[0;34m(\u001b[0m\u001b[0;34m'Cannot open file %s (%s)'\u001b[0m \u001b[0;34m%\u001b[0m \u001b[0;34m(\u001b[0m\u001b[0mpath\u001b[0m\u001b[0;34m,\u001b[0m \u001b[0merr\u001b[0m\u001b[0;34m)\u001b[0m\u001b[0;34m)\u001b[0m\u001b[0;34m\u001b[0m\u001b[0m\n\u001b[0m\u001b[1;32m   1279\u001b[0m         \u001b[0mself\u001b[0m\u001b[0;34m.\u001b[0m\u001b[0m_file_\u001b[0m \u001b[0;34m=\u001b[0m \u001b[0m_fileobj_\u001b[0m   \u001b[0;31m# Cdunif file object\u001b[0m\u001b[0;34m\u001b[0m\u001b[0m\n\u001b[1;32m   1280\u001b[0m         \u001b[0mself\u001b[0m\u001b[0;34m.\u001b[0m\u001b[0mvariables\u001b[0m \u001b[0;34m=\u001b[0m \u001b[0;34m{\u001b[0m\u001b[0;34m}\u001b[0m\u001b[0;34m\u001b[0m\u001b[0m\n",
      "\u001b[0;31mCDMSError\u001b[0m: Cannot open file /export/reshel3/cdms/rmp_T42_to_C02562_conserv.nc (No error)"
     ]
    }
   ],
   "source": [
    "# wget \"http://cdat.llnl.gov/cdat/sample_data/remap_grid_T42.nc\"\n",
    "# wget http://cdat.llnl.gov/cdat/sample_data/rmp_T42_to_C02562_conserv.nc\n",
    "# wget \"http://cdat.llnl.gov/cdat/sample_data/xieArkin-T42.nc\"\n",
    "import cdms2, regrid2, MV2\n",
    "# Open the SCRIP remapping file and data file\n",
    "fremap = cdms2.open('rmp_T42_to_C02562_conserv.nc')\n",
    "fdat = cdms2.open('xieArkin-T42.nc')\n",
    "# Input data array\n",
    "dat = fdat('prc')[0,:]\n",
    "# Read the SCRIP regridder\n",
    "regridf = regrid2.readRegridder(fremap)\n",
    "# Regrid the variable\n",
    "outdat = regridf(dat)\n",
    "# Get the cell area and fraction arrays. Areas are computed only\n",
    "# for conservative regridding.\n",
    "srcfrac = regridf.getSourceFraction()\n",
    "srcarea = regridf.getSourceArea()\n",
    "dstfrac = regridf.getDestinationFraction()\n",
    "dstarea = regridf.getDestinationArea()\n",
    "# calculate area-weighted means\n",
    "inmean = MV2.sum(srcfrac*srcarea*MV2.ravel(dat)) / MV2.sum(srcfrac*srcarea)\n",
    "outmean = MV2.sum(dstfrac*dstarea*MV2.ravel(outdat)) / MV2.sum(dstfrac*dstarea)\n",
    "print 'Input mean:', inmean\n",
    "\n",
    "print 'Output mean:', outmean\n",
    "\n",
    "fremap.close()\n",
    "fdat.close()"
   ]
  }
 ],
 "metadata": {
  "kernelspec": {
   "display_name": "Python 2",
   "language": "python",
   "name": "python2"
  },
  "language_info": {
   "codemirror_mode": {
    "name": "ipython",
    "version": 2
   },
   "file_extension": ".py",
   "mimetype": "text/x-python",
   "name": "python",
   "nbconvert_exporter": "python",
   "pygments_lexer": "ipython2",
   "version": "2.7.15"
  }
 },
 "nbformat": 4,
 "nbformat_minor": 2
}
