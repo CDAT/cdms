{
 "cells": [
  {
   "cell_type": "markdown",
   "metadata": {},
   "source": [
    "#  CDMS Python Application Programming Interface"
   ]
  },
  {
   "cell_type": "markdown",
   "metadata": {},
   "source": [
    "## A First Example\n",
    "\n",
    "\n",
    "The following Python script reads January and July monthly temperature\n",
    "data from an input dataset, averages over time, and writes the results\n",
    "to an output file. The input temperature data is ordered (time,\n",
    "latitude, longitude)."
   ]
  },
  {
   "cell_type": "code",
   "execution_count": null,
   "metadata": {},
   "outputs": [],
   "source": [
    "# Download files needed for examples below\n",
    "import os.path\n",
    "if(not os.path.exists(\"tas_mo.nc\")):\n",
    "    !wget  http://cdat.llnl.gov/cdat/sample_data/tas_mo.nc\n",
    "    !wget  http://cdat.llnl.gov/cdat/sample_data/sample.nc\n",
    "    !wget  http://cdat.llnl.gov/cdat/sample_data/ta_ncep_87-6-88-4.nc\n"
   ]
  },
  {
   "cell_type": "markdown",
   "metadata": {},
   "source": [
    "### Makes the CDM2S and MV2 modules available.\n",
    "\n",
    "* MV2 defines arithmetic functions."
   ]
  },
  {
   "cell_type": "code",
   "execution_count": null,
   "metadata": {},
   "outputs": [],
   "source": [
    "import cdms2, cdat_info\n",
    "from cdms2 import MV2"
   ]
  },
  {
   "cell_type": "markdown",
   "metadata": {},
   "source": [
    "### Opens a netCDF file read-only. \n",
    "* The result jones is a dataset object."
   ]
  },
  {
   "cell_type": "code",
   "execution_count": null,
   "metadata": {},
   "outputs": [],
   "source": [
    "jones = cdms2.open('tas_mo.nc')"
   ]
  },
  {
   "cell_type": "markdown",
   "metadata": {},
   "source": [
    "### Gets the surface air temperature variable. ‘tas’ is the name of the variable in the input dataset. \n",
    "* This does not actually read the data.\""
   ]
  },
  {
   "cell_type": "code",
   "execution_count": null,
   "metadata": {},
   "outputs": [],
   "source": [
    "tasvar = jones['tas']"
   ]
  },
  {
   "cell_type": "markdown",
   "metadata": {},
   "source": [
    "### Read all January monthly mean data into a variable jans.\n",
    "* Variables can be sliced like arrays.\n",
    "* The slice operator [0::12] means take every 12th slice from dimension 0, starting at index 0 and ending at the last index. \n",
    "* If the stride 12 were omitted, it would default to 1. \n",
    "\n",
    "**Note:** that the variable is actually 3-dimensional. Since no slice is specified for the second or third dimensions, all values of those 2,3 dimensions are retrieved. The slice operation could also have been written [0::12, : , :]. \n",
    "\n",
    "\n",
    "**Also note:** that the same script works for multi-file datasets. CDMS opens the needed data files, extracts the appropriate slices, and concatenates them into the result array.\"\n",
    "       "
   ]
  },
  {
   "cell_type": "code",
   "execution_count": null,
   "metadata": {},
   "outputs": [],
   "source": [
    "jans = tasvar[0::12]"
   ]
  },
  {
   "cell_type": "markdown",
   "metadata": {},
   "source": [
    "### Reads all July data into a masked array julys."
   ]
  },
  {
   "cell_type": "code",
   "execution_count": null,
   "metadata": {},
   "outputs": [],
   "source": [
    "julys = tasvar[6::12]"
   ]
  },
  {
   "cell_type": "markdown",
   "metadata": {},
   "source": [
    "### Calculate the average January value for each grid zone.\n",
    "* Any missing data is handled automatically."
   ]
  },
  {
   "cell_type": "code",
   "execution_count": null,
   "metadata": {},
   "outputs": [],
   "source": [
    "janavg = MV2.average(jans)"
   ]
  },
  {
   "cell_type": "markdown",
   "metadata": {},
   "source": [
    "### Set the variable id and long\\_name attributes. \n",
    "* The id is used as the name of the variable when plotted or written to a file.\""
   ]
  },
  {
   "cell_type": "code",
   "execution_count": null,
   "metadata": {},
   "outputs": [],
   "source": [
    "janavg.id = \"tas_jan\"\n",
    "janavg.long_name = \"mean January surface temperature\"\n"
   ]
  },
  {
   "cell_type": "markdown",
   "metadata": {},
   "source": [
    "### Calculate the average July value for each grid zone."
   ]
  },
  {
   "cell_type": "code",
   "execution_count": null,
   "metadata": {},
   "outputs": [],
   "source": [
    "julyavg = MV2.average(julys)\n",
    "julyavg.id = \"tas_jul\"\n",
    "julyavg.long_name = \"mean July surface temperature\""
   ]
  },
  {
   "cell_type": "markdown",
   "metadata": {},
   "source": [
    "### Create a new netCDF output file named \"***janjuly.nc***\" to hold the results.\n",
    "\n",
    "Write the January average values to the output file. \n",
    "* The variable will have id “tas\\_jan” in the file.\n",
    "* \"**write**\" is a utility function which creates the variable in the file, then writes data to the variable.\n",
    "* A more general method of data output is first to create a variable, then set a slice of the variable.\n",
    "\n",
    "**Note:** that janavg and julavg have the same latitude and longitude information as tasvar. It is carried along with the computations.\""
   ]
  },
  {
   "cell_type": "code",
   "execution_count": null,
   "metadata": {},
   "outputs": [],
   "source": [
    "out = cdms2.open('janjuly.nc','w')\n",
    "out.write(janavg)\n",
    "out.write(julyavg)\n"
   ]
  },
  {
   "cell_type": "markdown",
   "metadata": {},
   "source": [
    "### Set the global attribute \"**comment**\".\n",
    "* Close the output file."
   ]
  },
  {
   "cell_type": "code",
   "execution_count": null,
   "metadata": {},
   "outputs": [],
   "source": [
    "out.comment = \"Average January/July from Jones dataset\"\n"
   ]
  },
  {
   "cell_type": "code",
   "execution_count": null,
   "metadata": {},
   "outputs": [],
   "source": [
    "jones.close()\n",
    "out.close()"
   ]
  },
  {
   "cell_type": "markdown",
   "metadata": {},
   "source": [
    "Look at the resulting file using ncdump.  The written file follows the CF-1 connvention."
   ]
  },
  {
   "cell_type": "code",
   "execution_count": null,
   "metadata": {},
   "outputs": [],
   "source": [
    "!ncdump -h janjuly.nc"
   ]
  },
  {
   "cell_type": "markdown",
   "metadata": {},
   "source": [
    "---\n",
    "\n",
    "## Cdms2 Module\n",
    "\n",
    "\n",
    "The cdms2 module is the Python interface to CDMS. The objects and methods in this chapter are made accessible with the command:"
   ]
  },
  {
   "cell_type": "code",
   "execution_count": null,
   "metadata": {},
   "outputs": [],
   "source": [
    "import cdms2"
   ]
  },
  {
   "cell_type": "markdown",
   "metadata": {},
   "source": [
    "The functions described in this section are not associated with a class.\n",
    "Rather, they are called as module functions, e.g.,"
   ]
  },
  {
   "cell_type": "code",
   "execution_count": null,
   "metadata": {},
   "outputs": [],
   "source": [
    "file = cdms2.open('clt.nc')"
   ]
  },
  {
   "cell_type": "markdown",
   "metadata": {},
   "source": [
    "**See Also**: [Cdms Module Functions](https://cdms.readthedocs.io/en/latest/manual/cdms_2.html#cdms-module-functions)"
   ]
  },
  {
   "cell_type": "markdown",
   "metadata": {},
   "source": [
    "### CdmsObj\n",
    "\n",
    "Get a list of all external attributes of obj."
   ]
  },
  {
   "cell_type": "code",
   "execution_count": null,
   "metadata": {},
   "outputs": [],
   "source": [
    "extatts = file.attributes.keys()\n",
    "print(extatts)"
   ]
  },
  {
   "cell_type": "markdown",
   "metadata": {},
   "source": [
    "### CoordinateAxis\n",
    "\n",
    "A CoordinateAxis is a variable that represents coordinate information.\n",
    "It may be contained in a file or dataset, or may be transient\n",
    "(memoryresident). Setting a slice of a file CoordinateAxis writes to the file, and referencing a file CoordinateAxis slice reads data from the file. Axis objects are also used to define the domain of a Variable.\n",
    "\n",
    "CDMS defines several different types of CoordinateAxis objects. See [MV module](https://cdms.readthedocs.io/en/latest/manual/cdms_2.html#id4) documents methods that are common to all CoordinateAxis types. See [HorizontalGrid]( https://cdms.readthedocs.io/en/latest/manual/cdms_2.html#id6) specifies methods that are unique to 1D Axis objects."
   ]
  },
  {
   "cell_type": "code",
   "execution_count": null,
   "metadata": {},
   "outputs": [],
   "source": [
    "clt=file['clt']\n",
    "axis=clt.getAxis(2)\n",
    "print(axis)"
   ]
  },
  {
   "cell_type": "markdown",
   "metadata": {},
   "source": [
    "### isCircular()\n",
    "\n",
    "Returns True if the axis has circular topology.\n",
    "\n",
    "An axis is defined as circular if:\n",
    "* axis.topology == 'circular', or\n",
    "* axis.topology is undefined, and the axis is a longitude.\n",
    "\n",
    "The default cycle for circular axes is 360.0"
   ]
  },
  {
   "cell_type": "code",
   "execution_count": null,
   "metadata": {},
   "outputs": [],
   "source": [
    "print(axis.isCircular())"
   ]
  },
  {
   "cell_type": "markdown",
   "metadata": {},
   "source": [
    "### mapIntervalExt(interval)\n",
    "\n",
    "Map a coordinate interval to an index\n",
    "interval. interval is a tuple having one of the forms:\n",
    "* (x,y)\n",
    "* (x,y,indicator)\n",
    "* (x,y,indicator,cycle)\n",
    "\n",
    "None or ':'\n",
    "\n",
    "* where x and y are coordinates indicating the interval [x,y], and:\n",
    "  * indicator is a two or three-character string, where the first character is 'c' if the interval is closed on the left, 'o' if open, and the second character has the same meaning for the right-hand point. If present, the third character specifies how the interval should be intersected with the axis\n",
    "  * 'n' - select node values which are contained in the interval\n",
    "  * 'b' -select axis elements for which the corresponding cell boundary intersects the interval\n",
    "  * 'e' - same as n, but include an extra node on either side\n",
    "  * 's' - select axis elements for which the cell boundary is a subset of the interval\n",
    "  \n",
    "The default indicator is ‘ccn’, that is, the interval is closed, and nodes in the interval are selected.\n",
    "\n",
    "If cycle is specified, the axis is treated as circular with the given cycle value.\n",
    "\n",
    "By default, if axis.isCircular() is true, the axis is treated as circular with a default modulus of 360.0.\n",
    "\n",
    "An interval of None or ':' returns the full index interval of the axis.\n",
    "\n",
    "The method returns the corresponding index interval as a 3tuple (i,j,k), where k is the integer stride, and  (i.j) is the half-open index interval (i <= k < j),  (i >= k > j if k < 0), or none if the intersection is empty.\n",
    "\n",
    "For an axis which is circular (axis.topology == 'circular'), (i,j) is interpreted as follows, where n = len(axis)\n",
    "\n",
    "if **0 <= i < n and 0 <= j <= n**, the interval does not wrap around the axis endpoint.\n",
    "\n",
    "otherwise the interval wraps around the axis endpoint.\n",
    "\n",
    "**see also**: mapinterval, variable.subregion()"
   ]
  },
  {
   "cell_type": "code",
   "execution_count": null,
   "metadata": {},
   "outputs": [],
   "source": [
    "print(axis.mapIntervalExt((-5.0,5.0,'co')))"
   ]
  },
  {
   "cell_type": "markdown",
   "metadata": {},
   "source": [
    "### CdmsFile\n",
    "\n",
    "A ``CdmsFile`` is a physical file, accessible via the ``cdunif``\n",
    "interface. netCDF files are accessible in read-write mode. All other\n",
    "formats (DRS, HDF, GrADS/GRIB, POP, QL) are accessible read-only.\n",
    "\n",
    "As of CDMS V3, the legacy cuDataset interface is also supported by\n",
    "Cdms-Files. See “cu Module”."
   ]
  },
  {
   "cell_type": "markdown",
   "metadata": {},
   "source": [
    "### The following reads data for variable ‘clt’, year 1980."
   ]
  },
  {
   "cell_type": "code",
   "execution_count": null,
   "metadata": {},
   "outputs": [],
   "source": [
    "f = cdms2.open('clt.nc')\n",
    "x = f('clt', time=('1980-1','1981-1'))"
   ]
  },
  {
   "cell_type": "markdown",
   "metadata": {},
   "source": [
    "### The following gets the axis named time"
   ]
  },
  {
   "cell_type": "code",
   "execution_count": null,
   "metadata": {},
   "outputs": [],
   "source": [
    "t = f.axes['time']\n",
    "print(\"axis name:\", t.id)\n",
    "t = f['time']\n",
    "print(\"axis name:\", t.id)"
   ]
  },
  {
   "cell_type": "markdown",
   "metadata": {},
   "source": [
    "## 2.9. MV2 Module\n",
    "\n",
    "The fundamental CDMS data object is the variable. A variable is comprised of:\n",
    "\n",
    "    a masked data array, as defined in the NumPy \"ma\" module.\n",
    "    a domain is an ordered list of axes and/or grids.\n",
    "    an attribute dictionary.\n",
    "\n",
    "MV2 can be imported with the command:"
   ]
  },
  {
   "cell_type": "code",
   "execution_count": null,
   "metadata": {},
   "outputs": [],
   "source": [
    "import MV2"
   ]
  },
  {
   "cell_type": "markdown",
   "metadata": {},
   "source": [
    "For completeness MV2 provides access to all the \"numpy.ma\" functions. The functions not listed in the following tables are identical to the corresponding numpy.ma function: **allclose, allequal, common_fill_value, compress, create_mask, dot, e, fill_value, filled, get_print_limit, getmask, getmaskarray, identity, indices, innerproduct, isMV2, isMaskedArray, is_mask, isarray, make_mask, make_mask_none, mask_or, masked, pi, put, putmask, rank, ravel, set_fill_value, set_print_limit, shape, size**. See the documentation at https://github.com/numpy/numpy for a description of these functions."
   ]
  },
  {
   "cell_type": "code",
   "execution_count": null,
   "metadata": {},
   "outputs": [],
   "source": [
    "import cdms2\n",
    "fh = cdms2.open(\"ta_ncep_87-6-88-4.nc\")\n",
    "ta=fh['ta']\n",
    "print(ta.shape)\n",
    "data = ta.subRegion(':', (-45.0,45.0,'co'), (0.0, 180.0))\n",
    "print(data.shape)"
   ]
  },
  {
   "cell_type": "markdown",
   "metadata": {},
   "source": [
    "or equivalently:"
   ]
  },
  {
   "cell_type": "code",
   "execution_count": null,
   "metadata": {},
   "outputs": [],
   "source": [
    "data = ta.subRegion(latitude=(-45.0,45.0,'co'), longitude=(0.0,180.0))\n",
    "print(data.shape)"
   ]
  },
  {
   "cell_type": "markdown",
   "metadata": {},
   "source": [
    "Read all data for ``March, 1980``:"
   ]
  },
  {
   "cell_type": "code",
   "execution_count": null,
   "metadata": {},
   "outputs": [],
   "source": [
    "data = ta.subRegion(time=('1988-3','1988-4','co'))\n",
    "print(data.shape)"
   ]
  },
  {
   "cell_type": "markdown",
   "metadata": {},
   "source": [
    "### Selectors\n",
    "\n",
    "A selector is a specification of a region of data to be selected from a variable. For example, the statement:"
   ]
  },
  {
   "cell_type": "code",
   "execution_count": null,
   "metadata": {},
   "outputs": [],
   "source": [
    "x = ta(time='1988-1-1', level=(1000.0,100.0))\n",
    "print(x.shape)"
   ]
  },
  {
   "cell_type": "markdown",
   "metadata": {},
   "source": [
    "means `select the values of variable v for time ‘1979-1-1’ and levels 1000.0 to 100.0 inclusive, setting x to the result.` Selectors are generally used to represent regions of space and time.\n",
    "\n",
    "The form for using a selector is:"
   ]
  },
  {
   "cell_type": "code",
   "execution_count": null,
   "metadata": {},
   "outputs": [],
   "source": [
    "from cdms2.selectors import Selector\n",
    "s =  Selector(time='1988-1-1', level=(1000.0,100.0))\n",
    "result = ta(s)\n",
    "print(result.shape)"
   ]
  },
  {
   "cell_type": "markdown",
   "metadata": {},
   "source": [
    "where v is a variable and s is the selector. An equivalent form is:"
   ]
  },
  {
   "cell_type": "code",
   "execution_count": null,
   "metadata": {},
   "outputs": [],
   "source": [
    "result = fh('ta', s)\n",
    "print(result.shape)"
   ]
  },
  {
   "cell_type": "markdown",
   "metadata": {},
   "source": [
    "where f is a file or dataset, and ‘varid’ is the string ID of a variable.\n",
    "\n",
    "A selector consists of a list of selector components. \n",
    "\n",
    "For example, the selector:\n",
    "\n",
    "* **time='1979-1-1', level=(1000.0,100.0)**\n",
    " \n",
    "has two components: time=’1979-1-1’, and level=(1000.0,100.0). This illustrates that selector components can be defined with keywords, using the form:"
   ]
  },
  {
   "cell_type": "markdown",
   "metadata": {},
   "source": [
    "<div class=note>\n",
    "    <b>NOTE</b>\n",
    "    \n",
    "For the keywords time, level, latitude, and longitude, the selector can be used with any variable. If the corresponding axis is not found, the selector component is ignored. This is very useful for writing general purpose scripts. The required keyword overrides this behavior. These keywords take values that are coordinate ranges or index ranges as defined in See Index and Coordinate Intervals.</div>\n",
    "\n",
    "Another form of selector components is the positional form, where the component order corresponds to the axis order of a variable. For example:\n"
   ]
  },
  {
   "cell_type": "code",
   "execution_count": null,
   "metadata": {},
   "outputs": [],
   "source": [
    "x9 = ta(('1988-1-1','1988-2-1'),1000.0)"
   ]
  },
  {
   "cell_type": "markdown",
   "metadata": {},
   "source": [
    "reads data for the range (‘1988-1-1’,’1988-2-1’) of the first axis, and coordinate value ``1000.0`` of the second axis. Non-keyword arguments of the form(s) listed in Index and Coordinate Intervals are treated as positional. Such selectors are more concise, but not as general or flexible as the other types described in this section.\n",
    "\n",
    "Selectors are objects in their own right. This means that a selector can be defined and reused, independent of a particular variable. Selectors are constructed using the cdms.selectors.Selector class. The constructor takes an argument list of selector components. For example:"
   ]
  },
  {
   "cell_type": "code",
   "execution_count": null,
   "metadata": {},
   "outputs": [],
   "source": [
    "from cdms2.selectors import Selector\n",
    "sel = Selector(time=('1988-1-1','1988-2-1'), level=1000.)\n",
    "x1 = ta(sel)\n",
    "x2 = ta(sel)\n"
   ]
  },
  {
   "cell_type": "markdown",
   "metadata": {},
   "source": [
    "For convenience CDMS provides several predefined selectors, which can be used directly or can be combined into more complex selectors. \n",
    "\n",
    "The selectors **time**, **level**, **latitude**, **longitude**, and **required** are equivalent to their keyword counterparts. For example:"
   ]
  },
  {
   "cell_type": "code",
   "execution_count": null,
   "metadata": {},
   "outputs": [],
   "source": [
    "from cdms2 import time, level\n",
    "x = ta(time('1988-1-1','1988-2-1'), level(1000.))\n",
    "print(x.shape)"
   ]
  },
  {
   "cell_type": "markdown",
   "metadata": {},
   "source": [
    "and\n",
    "\n",
    "are equivalent. Additionally, the predefined selectors **latitudeslice**, **longitudeslice**, **levelslice**, and **timeslice** take arguments ``(startindex, stopindex[, stride])``:"
   ]
  },
  {
   "cell_type": "code",
   "execution_count": null,
   "metadata": {},
   "outputs": [],
   "source": [
    "from cdms2 import timeslice, levelslice\n",
    "x = ta(timeslice(0,2), levelslice(16,17))\n",
    "print(x.shape)"
   ]
  },
  {
   "cell_type": "markdown",
   "metadata": {},
   "source": [
    "Finally, a collection of selectors is defined in module cdutil.region:"
   ]
  },
  {
   "cell_type": "code",
   "execution_count": null,
   "metadata": {},
   "outputs": [],
   "source": [
    "from cdutil.region import *\n",
    "\n",
    "NH=NorthernHemisphere=domain(latitude=(0., 90.))\n",
    "SH=SouthernHemisphere=domain(latitude=(-90., 0.))\n",
    "Tropics=domain(latitude=(-23.4,23.4))\n",
    "SPZ=AAZ=AntarcticZone=domain(latitude=(-90., -66.6))\n",
    "                             "
   ]
  },
  {
   "cell_type": "markdown",
   "metadata": {},
   "source": [
    "Selectors can be combined using the `&` operator, \n",
    "\n",
    "or by refining them in the call:"
   ]
  },
  {
   "cell_type": "code",
   "execution_count": null,
   "metadata": {},
   "outputs": [],
   "source": [
    "from cdms2.selectors import Selector\n",
    "from cdms2 import level\n",
    "sel2 = Selector(time=('1988-1-1','1988-2-1'))\n",
    "sel3 = sel2 & level(1000.0)\n",
    "x1 = ta(sel3)\n",
    "print(x1.shape)\n",
    "x2 = ta(sel2, level=1000.0)\n",
    "print(x2.shape)"
   ]
  },
  {
   "cell_type": "markdown",
   "metadata": {},
   "source": [
    "### Selector Examples\n",
    "\n",
    "CDMS provides a variety of ways to select or slice data. In the following examples, variable hus is contained in file ``sample.nc``, and is a function of **(time, level, latitude, longitude)**. Time values are monthly starting at 1987-6-1. There are 17 levels, the last level being 1000.0. The name of the vertical level axis is ‘level’. All the examples select the first two times and the last level. The last two examples remove the singleton level dimension from the result array."
   ]
  },
  {
   "cell_type": "code",
   "execution_count": null,
   "metadata": {},
   "outputs": [],
   "source": [
    "import cdms2\n",
    "f = cdms2.open('ta_ncep_87-6-88-4.nc')\n",
    "ta = f.variables['ta']"
   ]
  },
  {
   "cell_type": "markdown",
   "metadata": {},
   "source": [
    "#### Keyword selection"
   ]
  },
  {
   "cell_type": "code",
   "execution_count": null,
   "metadata": {},
   "outputs": [],
   "source": [
    "x = ta(time=('19988-1-1','1988-2-1'), level=1000.)\n",
    "print(x.shape)"
   ]
  },
  {
   "cell_type": "markdown",
   "metadata": {},
   "source": [
    "#### Interval indicator (see mapIntervalExt)"
   ]
  },
  {
   "cell_type": "code",
   "execution_count": null,
   "metadata": {},
   "outputs": [],
   "source": [
    "x = ta(time=('1988-1-1','1988-3-1','co'), level=1000.)\n",
    "print(x.shape)"
   ]
  },
  {
   "cell_type": "markdown",
   "metadata": {},
   "source": [
    "##### Axis ID (plev) as a keyword"
   ]
  },
  {
   "cell_type": "code",
   "execution_count": null,
   "metadata": {},
   "outputs": [],
   "source": [
    "\n",
    "x = ta(time=('1988-1-1','1988-2-1'), plev=1000.)\n",
    "print(x.shape)"
   ]
  },
  {
   "cell_type": "markdown",
   "metadata": {},
   "source": [
    "##### Positional"
   ]
  },
  {
   "cell_type": "code",
   "execution_count": null,
   "metadata": {},
   "outputs": [],
   "source": [
    "\n",
    "x = ta(('1988-1-1','1988-2-1'),1000.0)\n",
    "print(x.shape)"
   ]
  },
  {
   "cell_type": "markdown",
   "metadata": {},
   "source": [
    "##### Predefined selectors"
   ]
  },
  {
   "cell_type": "code",
   "execution_count": null,
   "metadata": {},
   "outputs": [],
   "source": [
    "\n",
    "from cdms2 import time, level\n",
    "x = ta(time('1988-1-1','1988-2-1'), level(1000.))\n",
    "print(x.shape)\n",
    "\n",
    "from cdms2 import timeslice, levelslice\n",
    "x = ta(timeslice(0,2), levelslice(16,17))\n",
    "print(x.shape)"
   ]
  },
  {
   "cell_type": "markdown",
   "metadata": {},
   "source": [
    "##### Call file as a function"
   ]
  },
  {
   "cell_type": "code",
   "execution_count": null,
   "metadata": {},
   "outputs": [],
   "source": [
    "\n",
    "x = f('ta', time=('1988-1-1','1988-2-1'), level=1000.)\n",
    "print(x.shape)"
   ]
  },
  {
   "cell_type": "markdown",
   "metadata": {},
   "source": [
    "##### Python slices"
   ]
  },
  {
   "cell_type": "code",
   "execution_count": null,
   "metadata": {},
   "outputs": [],
   "source": [
    "x = ta(time=slice(0,2), level=slice(16,17))\n",
    "print(x.shape)"
   ]
  },
  {
   "cell_type": "markdown",
   "metadata": {},
   "source": [
    "##### Selector objects"
   ]
  },
  {
   "cell_type": "code",
   "execution_count": null,
   "metadata": {},
   "outputs": [],
   "source": [
    "\n",
    "from cdms2.selectors import Selector\n",
    "sel = Selector(time=('1988-1-1','1988-2-1'), level=1000.)\n",
    "x = ta(sel)\n",
    "print(x.shape)\n",
    "sel2 = Selector(time=('1988-1-1','1988-2-1'))\n",
    "sel3 = sel2 & level(1000.0)\n",
    "x = ta(sel3)\n",
    "print(x.shape)\n",
    "x = ta(sel2, level=1000.0)\n",
    "print(x.shape)"
   ]
  },
  {
   "cell_type": "markdown",
   "metadata": {},
   "source": [
    "##### Squeeze singleton dimension (level)"
   ]
  },
  {
   "cell_type": "code",
   "execution_count": null,
   "metadata": {},
   "outputs": [],
   "source": [
    "x = ta[0:2,16]\n",
    "print(x.shape)\n",
    "\n",
    "x = ta(time=('1988-1-1','1988-2-1'), level=1000., squeeze=1)\n",
    "print(x.shape)\n",
    "\n",
    "f.close()"
   ]
  },
  {
   "cell_type": "markdown",
   "metadata": {},
   "source": [
    "## Examples\n",
    "\n",
    "\n",
    "In this example, two datasets are opened, containing surface air temperature ``(‘tas’)`` and upper-air temperature ``(‘ta’)`` respectively. Surface air temperature is a function of (time, latitude, longitude). Upper-air temperature is a function of (time, level, latitude, longitude). Time is assumed to have a relative representation in the datasets (e.g., with units **‘months since basetime’**).\n",
    "\n",
    "Data is extracted from both datasets for January of the first input year through December of the second input year. For each time and level, three quantities are calculated: slope, variance, and correlation. The results are written to a netCDF file. For brevity, the functions corrCoefSlope and removeSeasonalCycle are omitted."
   ]
  },
  {
   "cell_type": "code",
   "execution_count": null,
   "metadata": {},
   "outputs": [],
   "source": [
    "import cdms2\n",
    "import MV2\n",
    "\n",
    "# Calculate variance, slope, and correlation of\n",
    "# surface air temperature with upper air temperature\n",
    "# by level, and save to a netCDF file. 'pathTa' is the location of\n",
    "# the file containing 'ta', 'pathTas' is the file with contains 'tas'.\n",
    "# Data is extracted from January of year1 through December of year2.\n",
    "def ccSlopeVarianceBySeasonFiltNet(pathTa, pathTas, month1, month2):\n",
    "\n",
    "       # Open the files for ta and tas\n",
    "       fta = cdms2.open(pathTa)\n",
    "       ftas = cdms2.open(pathTas)\n",
    "\n",
    "       #Get upper air temperature\n",
    "       taObj = fta['ta']\n",
    "       levs = taObj.getLevel()\n",
    "\n",
    "       #Get the surface temperature for the closed interval [time1,time2]\n",
    "       tas = ftas('tas', time=(month1, month2, 'cc'))\n",
    "\n",
    "       # Allocate result arrays\n",
    "       newaxes = taObj.getAxisList(omit='time')\n",
    "       newshape = tuple([len(a) for a in newaxes])\n",
    "       cc = MV2.zeros(newshape, typecode=MV2.float, axes=newaxes, id='correlation')\n",
    "       b = MV2.zeros(newshape, typecode=MV2.float, axes=newaxes, id='slope')\n",
    "       v = MV2.zeros(newshape, typecode=MV2.float, axes=newaxes, id='variance')\n",
    "\n",
    "       # Remove seasonal cycle from surface air temperature\n",
    "       tas = removeSeasonalCycle(tas)\n",
    "\n",
    "       # For each level of air temperature, remove seasonal cycle\n",
    "       # from upper air temperature, and calculate statistics\n",
    "       for ilev in range(len(levs)):\n",
    "           ta = taObj(time=(month1,month2,'cc'), \\\n",
    "                      level=slice(ilev, ilev+1), squeeze=1)\n",
    "           ta = removeSeasonalCycle(ta)\n",
    "           cc[ilev], b[ilev] = corrCoefSlope(tas ,ta)\n",
    "           v[ilev] = MV.sum( ta**2 )/(1.0*ta.shape[0])\n",
    "\n",
    "       # Write slope, correlation, and variance variables\n",
    "       f = cdms2.open('CC_B_V_ALL.nc','w')\n",
    "       f.title = filtered\n",
    "       f.write(b)\n",
    "       f.write(cc)\n",
    "       f.write(v)\n",
    "       f.close()\n",
    "\n",
    "if __name__=='__main__':\n",
    "       pathTa = 'ta_ncep_87-6-88-4.nc'\n",
    "       pathTas = 'tas_mo.nc'\n",
    "       # Process Jan80 through Dec81\n",
    "       ccSlopeVarianceBySeasonFiltNet(pathTa,pathTas,'1991-01','1991-12')"
   ]
  },
  {
   "cell_type": "markdown",
   "metadata": {},
   "source": [
    "Notes:"
   ]
  },
  {
   "cell_type": "markdown",
   "metadata": {},
   "source": [
    "1.   Two modules are imported, \"cdms\", and \"MV\". \"MV\" implements\n",
    "     arithmetic functions.\n",
    "15.  \"taObj\" is a file (persistent) variable. At this point, no data has\n",
    "     actually been read. This happens when the file variable is sliced, or\n",
    "     when the subRegion function is called. levs is an axis.\n",
    "20.  Calling the file like a function reads data for the given variable\n",
    "     and time range. Note that month1 and month2 are time strings.\n",
    "25.  In contrast to \"taObj\", the variables \"cc:\" b\" and \"v\" are\n",
    "     transient variables, not associated with a file. The assigned names\n",
    "     are used when the variables are written.\n",
    "34.  Another way to read data is to call the variable as a function. The\n",
    "     squeeze option removes singleton axes, in this case the level axis.\n",
    "43.  Write the data. Axis information is written automatically.\n",
    "50.  This is the main routine of the script. \"pathTa\" and \"pathTas\"\n",
    "     pathnames. Data is processed from January 1980 through December 1981.\n"
   ]
  },
  {
   "cell_type": "markdown",
   "metadata": {},
   "source": [
    "2.13.2. Example 2\n",
    "\n",
    "In the next example, the pointwise variance of a variable over time is calculated, for all times in a dataset. The name of the dataset and variable are entered, then the variance is calculated and plotted via the vcs module."
   ]
  },
  {
   "cell_type": "code",
   "execution_count": null,
   "metadata": {},
   "outputs": [],
   "source": [
    "#!/usr/bin/env python\n",
    "#\n",
    "# Calculates gridpoint total variance\n",
    "# from an array of interest\n",
    "#\n",
    "\n",
    "import cdms\n",
    "from MV import *\n",
    "\n",
    "# Wait for return in an interactive window\n",
    "\n",
    "def pause():\n",
    "    print Hit return to continue: ,\n",
    "    line = sys.stdin.readline()\n",
    "\n",
    "1.      # Calculate pointwise variance of variable over time\n",
    "# Returns the variance and the number of points\n",
    "# for which the data is defined, for each grid point\n",
    "def calcVar(x):\n",
    "    # Check that the first axis is a time axis\n",
    "    firstaxis = x.getAxis(0)\n",
    "    if not firstaxis.isTime():\n",
    "        raise 'First axis is not time, variable:', x.id\n",
    "\n",
    "    n = count(x,0)\n",
    "    sumxx = sum(x*x)\n",
    "    sumx = sum(x)\n",
    "    variance = (n*sumxx -(sumx * sumx))/(n * (n-1.))\n",
    "\n",
    "    return variance, n\n",
    "\n",
    "  if __name__=='__main__':\n",
    "    import vcs, sys\n",
    "\n",
    "    print 'Enter dataset path [/pcmdi/cdms/obs/erbs_mo.xml]: ',\n",
    "    path = string.strip(sys.stdin.readline())\n",
    "    if path=='': path='/pcmdi/cdms/obs/erbs_mo.xml'\n",
    "\n",
    "2.  # Open the dataset\n",
    "    dataset = cdms.open(path)\n",
    "\n",
    "    # Select a variable from the dataset\n",
    "    print 'Variables in file:',path\n",
    "    varnames = dataset.variables.keys()\n",
    "    varnames.sort()\n",
    "    for varname in varnames:\n",
    "\n",
    "        var = dataset.variables[varname]\n",
    "        if hasattr(var,'long_name'):\n",
    "            long_name = var.long_name\n",
    "        elif hasattr(var,'title'):\n",
    "            long_name = var.title\n",
    "        else:\n",
    "            long_name = '?'\n",
    "\n",
    "    print '%-10s: %s'%(varname,long_name)\n",
    "    print 'Select a variable: ',\n",
    "3.  varname = string.strip(sys.stdin.readline())\n",
    "    var = dataset(varname)\n",
    "    dataset.close()\n",
    "\n",
    "    # Calculate variance, count, and set attributes\n",
    "    variance,n = calcVar(var)\n",
    "    variance.id = 'variance_%s'%var.id\n",
    "    n.id = 'count_%s'%var.id\n",
    "    if hasattr(var,'units'):\n",
    "        variance.units = '(%s)^2'%var.units\n",
    "\n",
    "    # Plot variance\n",
    "    w=vcs.init()\n",
    "4.  w.plot(variance)\n",
    "    pause()\n",
    "    w.clear()\n",
    "    w.plot(n)\n",
    "    pause()\n",
    "    w.clear()"
   ]
  },
  {
   "cell_type": "markdown",
   "metadata": {},
   "source": [
    "The result of running this script is as follows:"
   ]
  },
  {
   "cell_type": "code",
   "execution_count": null,
   "metadata": {},
   "outputs": [],
   "source": [
    "% calcVar.py\n",
    "Enter dataset path [/pcmdi/cdms/sample/obs/erbs_mo.xml]:\n",
    "\n",
    "Variables in file: /pcmdi/cdms/sample/obs/erbs_mo.xml\n",
    "albt    : Albedo TOA [%]\n",
    "albtcs : Albedo TOA clear sky [%]\n",
    "rlcrft  : LW Cloud Radiation Forcing TOA [W/m^2]\n",
    "rlut    : LW radiation TOA (OLR) [W/m^2]\n",
    "rlutcs : LW radiation upward TOA clear sky [W/m^2]\n",
    "rscrft : SW Cloud Radiation Forcing TOA [W/m^2]\n",
    "rsdt    : SW radiation downward TOA [W/m^2]\n",
    "rsut    : SW radiation upward TOA [W/m^2]\n",
    "rsutcs : SW radiation upward TOA clear sky [W/m^2]\n",
    "Select a variable: albt\n",
    "\n",
    "<The variance is plotted>\n",
    "\n",
    "Hit return to continue:\n",
    "\n",
    "<The number of points is plotted>"
   ]
  },
  {
   "cell_type": "markdown",
   "metadata": {},
   "source": [
    "Notes:\n",
    "\n",
    "    n = count(x, 0) returns the pointwise number of valid values, summing across axis 0, the first axis. count is an MV function.\n",
    "    dataset is a Dataset or CdmsFile object, depending on whether a .xml or .nc pathname is entered. dataset.variables is a dictionary mapping variable name to file variable.\n",
    "    var is a transient variable.\n",
    "    Plot the variance and count variables. Spatial longitude and latitude information are carried with the computations, so the continents are plotted correctly.\n"
   ]
  },
  {
   "cell_type": "code",
   "execution_count": null,
   "metadata": {},
   "outputs": [],
   "source": [
    "from IPython.core.display import HTML\n",
    "def css_styling():\n",
    "    styles = open(\"./styles/custom.css\", \"r\").read()\n",
    "    return HTML(styles)\n",
    "css_styling()"
   ]
  },
  {
   "cell_type": "code",
   "execution_count": null,
   "metadata": {},
   "outputs": [],
   "source": []
  }
 ],
 "metadata": {
  "kernelspec": {
   "display_name": "Python 3",
   "language": "python",
   "name": "python3"
  },
  "language_info": {
   "codemirror_mode": {
    "name": "ipython",
    "version": 3
   },
   "file_extension": ".py",
   "mimetype": "text/x-python",
   "name": "python",
   "nbconvert_exporter": "python",
   "pygments_lexer": "ipython3",
   "version": "3.6.7"
  }
 },
 "nbformat": 4,
 "nbformat_minor": 2
}
