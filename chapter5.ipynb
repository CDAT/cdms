{
 "cells": [
  {
   "cell_type": "markdown",
   "metadata": {},
   "source": [
    "# Plotting CDMS data in Python"
   ]
  },
  {
   "cell_type": "markdown",
   "metadata": {},
   "source": [
    "Overview\n",
    "~~~~~~~~\n",
    "\n",
    "Data read via the CDMS Python interface can be plotted using the ``vcs``\n",
    "module. This module, part of the Climate Data\n",
    "Analysis Tool (CDAT) is documented in the CDAT reference manual.\n",
    "The ``vcs`` module provides access to the functionality of the VCS\n",
    "visualization program.\n",
    "\n",
    "Examples of plotting data accessed from CDMS are given below, as well as\n",
    "documentation for the plot routine keywords.\n",
    "\n",
    "Examples\n",
    "~~~~~~~~\n",
    "\n",
    "In the following examples, it is assumed that variable ``psl`` is\n",
    "dimensioned (time, latitude, longitude). ``psl`` is contained in the\n",
    "dataset named ``'sample.xml'``."
   ]
  },
  {
   "cell_type": "markdown",
   "metadata": {},
   "source": [
    "Plotting a Gridded Variable\n",
    "\n",
    "Example: plotting a gridded variable"
   ]
  },
  {
   "cell_type": "code",
   "execution_count": 1,
   "metadata": {},
   "outputs": [
    {
     "name": "stderr",
     "output_type": "stream",
     "text": [
      "/export/reshel3/anaconda52/envs/cdms2/lib/python2.7/site-packages/numpy/ma/core.py:3169: FutureWarning: Using a non-tuple sequence for multidimensional indexing is deprecated; use `arr[tuple(seq)]` instead of `arr[seq]`. In the future this will be interpreted as an array index, `arr[np.array(seq)]`, which will result either in an error or a different result.\n",
      "  dout = self.data[indx]\n",
      "/export/reshel3/anaconda52/envs/cdms2/lib/python2.7/site-packages/vtk/util/numpy_support.py:135: FutureWarning: Conversion of the second argument of issubdtype from `complex` to `np.complexfloating` is deprecated. In future, it will be treated as `np.complex128 == np.dtype(complex).type`.\n",
      "  assert not numpy.issubdtype(z.dtype, complex), \\\n",
      "/export/reshel3/anaconda52/envs/cdms2/lib/python2.7/site-packages/numpy/ma/core.py:3201: FutureWarning: Using a non-tuple sequence for multidimensional indexing is deprecated; use `arr[tuple(seq)]` instead of `arr[seq]`. In the future this will be interpreted as an array index, `arr[np.array(seq)]`, which will result either in an error or a different result.\n",
      "  mout = _mask[indx]\n"
     ]
    }
   ],
   "source": [
    "import cdms2, vcs \n",
    "f = cdms2.open(\"clt.nc\") \n",
    "clt = f.variables['clt'] \n",
    "sample = clt[0,:] \n",
    "w=vcs.init() \n",
    "w.plot(sample) \n",
    "f.close() "
   ]
  },
  {
   "cell_type": "markdown",
   "metadata": {},
   "source": [
    "**Notes:**\n",
    "\n",
    "   \"3\",\"Get a horizontal slice, for the first time point.\"\n",
    "   \"4\",\"Create a VCS Canvas ``w``.\"   \n",
    "   \"5\", \"Plot the data.  Because sample is a transient variable, it encapsulates all the time, latitude, longitude, and attribute information.\"\n",
    "   \"7\", \"Close the file.  This must be done after the reference to the persistent variable ``ps l``.\"\n",
    "\n",
    "Thats it! The axis coordinates, variable name, description, units, etc.\n",
    "are obtained from variable sample.\n",
    "\n",
    "What if the units are not explicitly defined for ``clt``, or a different\n",
    "description is desired? ``plot`` has a number of other keywords which\n",
    "fill in the extra plot information.\n"
   ]
  },
  {
   "cell_type": "markdown",
   "metadata": {},
   "source": [
    "Using A Plot Keywords"
   ]
  },
  {
   "cell_type": "code",
   "execution_count": 2,
   "metadata": {
    "scrolled": true
   },
   "outputs": [
    {
     "name": "stderr",
     "output_type": "stream",
     "text": [
      "/export/reshel3/anaconda52/envs/cdms2/lib/python2.7/site-packages/vcs/Canvas.py:3792: VCSDeprecationWarning: Deprecation Warning: Keyword 'file_comment' will be removed in the next versionof UV-CDAT.\n",
      "  \"of UV-CDAT.\" % keyarg, vcs.VCSDeprecationWarning)\n",
      "/export/reshel3/anaconda52/envs/cdms2/lib/python2.7/site-packages/vcs/Canvas.py:3796: UserWarning: Unrecognized vcs plot keyword: hms, assuming backend (vtk) keyword\n",
      "  (keyarg, self.backend.type))\n",
      "/export/reshel3/anaconda52/envs/cdms2/lib/python2.7/site-packages/vcs/Canvas.py:3792: VCSDeprecationWarning: Deprecation Warning: Keyword 'long_name' will be removed in the next versionof UV-CDAT.\n",
      "  \"of UV-CDAT.\" % keyarg, vcs.VCSDeprecationWarning)\n",
      "/export/reshel3/anaconda52/envs/cdms2/lib/python2.7/site-packages/vcs/Canvas.py:3796: UserWarning: Unrecognized vcs plot keyword: ymd, assuming backend (vtk) keyword\n",
      "  (keyarg, self.backend.type))\n"
     ]
    }
   ],
   "source": [
    "import cdms2, vcs \n",
    "f = cdms2.open(\"clt.nc\") \n",
    "clt = f.variables['clt'] \n",
    "sample = clt[0,:] \n",
    "w=vcs.init() \n",
    "w.plot(sample, units='percent', file_comment='', long_name=\"Total Cloud\", comment1=\"Example plot\", hms=\"00:00:00\", ymd=\"1979/01/01\") \n",
    "f.close() "
   ]
  },
  {
   "cell_type": "markdown",
   "metadata": {},
   "source": [
    "**Note:** Keyword arguments can be listed in any order."
   ]
  },
  {
   "cell_type": "markdown",
   "metadata": {},
   "source": [
    "Plotting a Time-Latitude Slice\n",
    "\n",
    "Assuming that variable ``clt`` has domain ``(time,latitude,longitude)``,\n",
    "this example selects and plots a time-latitude slice:"
   ]
  },
  {
   "cell_type": "code",
   "execution_count": 6,
   "metadata": {
    "scrolled": true
   },
   "outputs": [],
   "source": [
    "import cdms2, vcs \n",
    "f = cdms2.open(\"clt.nc\") \n",
    "clt = f.variables['clt'] \n",
    "samp = clt[:,:,0] \n",
    "w = vcs.init() \n",
    "w.plot(samp, name='Total Cloudiness') \n",
    "f.close()"
   ]
  },
  {
   "cell_type": "markdown",
   "metadata": {},
   "source": [
    "  \"4\", \"``samp`` is a slice of ``clt``, at index ``0`` of the last dimension.  Since ``samp`` was obtained from the slice operator, it is a transient variable, which includes the latitude and time information.\"\n",
    "  \"6\", \"The ``name`` keyword defines the identifier, default is the name found in the file.\"\n"
   ]
  },
  {
   "cell_type": "markdown",
   "metadata": {},
   "source": [
    "Plotting Subsetted Data\n",
    "\n",
    "Calling the variable ``clt`` as a function reads a subset of the\n",
    "variable. The result variable ``samp`` can be plotted directly:"
   ]
  },
  {
   "cell_type": "code",
   "execution_count": null,
   "metadata": {},
   "outputs": [],
   "source": [
    "import cdms2, vcs \n",
    "f = cdms2.open(\"clt.nc\")\n",
    "clt = f.variables['clt']\n",
    "samp = clt(time = (0.0,100.0), longitude = 180.0, squeeze=1)\n",
    "w = vcs.init()\n",
    "w.plot(samp)\n",
    "f.close()"
   ]
  },
  {
   "cell_type": "markdown",
   "metadata": {},
   "source": [
    "Plot Method\n",
    "\n",
    "The ``plot`` method is documented in the CDAT Reference Manual. This\n",
    "section augments the documentation with a description of the optional\n",
    "keyword arguments. The general form of the plot command is:\n",
    "\n",
    "``canvas.plot(array [, args] [,key=value [, key=value [, ...] ] ])``\n",
    "\n",
    "where:\n",
    "\n",
    "-  canvas is a VCS Canvas object, created with the vcs.init method.\n",
    "\n",
    "-  array is a variable, masked array, or Numpy array having between\n",
    "   two and five dimensions. The last dimensions of the array is termed\n",
    "   the 'x' dimension, the next-to-last the 'y' dimension, then 'z', 't',\n",
    "   and 'w'.\n",
    "  \n",
    "    - For example, if array is three-dimensional, the axes are\n",
    "      (z,y,x), and if array is four-dimensional, the axes are (t,z,y,x).\n",
    "   \n",
    "        **Note:** that the t dimension need have no connection with time; any \n",
    "        spatial axis can be mapped to any plot dimension.)\n",
    "\n",
    "    - For a graphics method which is two-dimensional, such as boxfill,\n",
    "      the y-axis is plotted on the horizontal, and the x-axis on the vertical.\n",
    "\n",
    "    - If array is a gridded variable on a rectangular grid, the plot\n",
    "      function uses a box-fill graphics method.\n",
    "\n",
    "    - If it is non-rectangular, the meshfill graphics method is used.\n",
    "\n",
    "        **Note:** that some plot keywords apply only to rectangular grids only.\n",
    "\n",
    "-  args are optional positional arguments:\n",
    "\n",
    "   ``args`` := template\\_name, graphics\\_method, graphics\\_name\n",
    "\n",
    "   ``template_name``: the name of the VCS template (e.g., 'AMIP')\n",
    "\n",
    "   ``graphics_method``: the VCS graphics method (boxfill)\n",
    "\n",
    "   ``graphics_name``: the name of the specific graphics method\n",
    "   ('default')\n",
    "\n",
    "   See the CDAT Reference Manual and VCS Reference Manual for a\n",
    "   detailed description of these arguments.\n",
    "\n",
    "-  ``key=value``, ... are optional keyword/value pairs, listed in any\n",
    "   order. These are defined in the table below.\n"
   ]
  },
  {
   "cell_type": "markdown",
   "metadata": {},
   "source": [
    "Plot Keywords\n",
    "\n",
    "    \"``comment1``\", \"string\", \"Comment plotted above ``file_comment``\"\n",
    "    \"``comment2``\", \"string\", \"Comment plotted above ``comment1``\"\n",
    "    \"``comment3``\", \"string\", \"Comment plotted above ``comment2``\"\n",
    "    \"``continents``\", \"0 or 1\", \"if ``1``, plot continental outlines (default:plot if\n",
    "        * ``xaxis`` is longitude, \n",
    "        * ``yaxis`` is latitude -or- ``xname`` is 'longitude' and ``yname`` is 'latitude'\"\n",
    "    \"``file_comment``\", \"string\", \"Comment, defaults to ``variable.parent.comment``\"\n",
    "    \"``grid``\", \"CDMS grid object\", \"Grid associated with the data. Defaults to ``variable.getGrid()``\"\n",
    "    \"``hms``\", \"string\", \"Hour, minute, second\"\n",
    "    \"``long_name``\", \"string\", \"Descriptive variable name, defaults to ``variable.long_name``.\"\n",
    "    \"``missing_value``\", \"same type as array\", \"Missing data value, defaults to ``variable.getMissing()``\"\n",
    "    \"``name``\", \"string\", \"Variable name, defaults to ``variable.id``\"\n",
    "    \"``time``\", \"cdtime relative or absolute\", \"Time associated with the data.\n",
    "        **Example:**\n",
    "         ``cdtime.reltime(30.0, 'days since 1978-1-1').``\"\n",
    "    \"``units``\", \"string\",  \"Data units. Defaults to ``variable.units``\"\n",
    "    \"``variable``\", \"CDMS variable object\", \"Variable associated with the data. The variable grid must have the same shape as the data array.\"\n",
    "    \"``xarray`` (``[y|z|t|w]array``)\", \"1-D Numpy array\", \"*Rectangular grids only*.\n",
    "       * Array of coordinate values, having the same length as the corresponding dimension.\n",
    "       * Defaults to ``xaxis[:\\] (y|z|t|waxis[:])``\"\n",
    "    \"``xaxis`` (``[y|z|t|w]axis``)\", \"CDMS axis object\", \"*Rectangular grids only*.\n",
    "       * Axis object.  \n",
    "       * ``xaxis`` defaults to ``grid.getAxis(0)`` \n",
    "       * ``yaxis`` defaults to ``grid.getAxis(1)``\"\n",
    "    \"``xbounds`` (``ybounds``)\", \"2-D Numpy array\",  \"*Rectangular grids only*.\n",
    "       * Boundary array of shape ``(n,2)`` where ``n`` is the axis length.\n",
    "       * Defaults to ``xaxis.getBounds()``, or ``xaxis.genGenericBounds()``\n",
    "       * if ``None``, similarly for ``ybounds``.\"\n",
    "    \"``xname`` (``[y|z|t|w]name``)\", \"string\", \"*Rectangular grids only*. \n",
    "       * Axis name.\n",
    "       * Defaults to ``xaxis.id`` (``[y|z|t|w]axis.id``)\"\n",
    "    \"``xrev`` (``yrev``)\", \"0 or 1\", \"If ``xrev`` (``yrev``) is 1, reverse the direction of the ``x-axis (y-axis)``. \n",
    "        * Defaults to 0, with the following exceptions:\n",
    "        * If the ``y-axis`` is latitude, and has decreasing values, ``yrev`` defaults to 1\n",
    "        * If the ``y-axis`` is a vertical level, and has increasing pressure levels, ``yrev`` defaults to 1.\"\n",
    "    \"``xunits`` (``[y|z|t|w]units``)\", \"string\", \"*Rectangular grids only*.\n",
    "        * Axis units.\n",
    "        * Defaults to ``xaxis.units`` (``[y|z|t|w]axis.units``).\"\n",
    "\n"
   ]
  }
 ],
 "metadata": {
  "kernelspec": {
   "display_name": "Python 2",
   "language": "python",
   "name": "python2"
  },
  "language_info": {
   "codemirror_mode": {
    "name": "ipython",
    "version": 2
   },
   "file_extension": ".py",
   "mimetype": "text/x-python",
   "name": "python",
   "nbconvert_exporter": "python",
   "pygments_lexer": "ipython2",
   "version": "2.7.15"
  }
 },
 "nbformat": 4,
 "nbformat_minor": 2
}
