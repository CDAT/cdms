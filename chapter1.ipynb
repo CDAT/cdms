{
 "cells": [
  {
   "cell_type": "markdown",
   "metadata": {},
   "source": [
    "# Introduction \n",
    "\n",
    "## Overview\n",
    "\n",
    "The Community Data Management System is an object-oriented data management\n",
    "system, specialized for organizing multidimensional, gridded data used\n",
    "in climate analysis and simulation. \n",
    "\n",
    "CDMS is implemented as part of the Climate Data\n",
    "Analysis Tool (CDAT), which uses the Python language. The examples in\n",
    "this chapter assume some familiarity with the language and the Python\n",
    "Numpy module (https://www.numpy.org). A number of excellent tutorials\n",
    "on Python are available in books or on the Internet. For example, see\n",
    "the [Python Foundation's homepage](https://python.org).\n",
    "\n",
    "\n",
    "## Variables\n",
    "\n",
    "The basic unit of computation in CDMS is the variable. A variable is essentially a multidimensional data array, augmented with a domain, a set of attributes, and optionally a spatial and/or temporal coordinate system [(see Coordinate Axes)](https://cdms.readthedocs.io/en/readthedocstest/manual/cdms_1.html#coordinate-axes).  As a data array, a variable can\n",
    "be sliced to obtain a portion of the data, and can be used in arithmetic\n",
    "computations. For example, if ``u`` and ``v`` are variables representing\n",
    "the eastward and northward components of wind speed, respectively, and\n",
    "both variables are functions of time, latitude, and longitude, then the\n",
    "velocity for time 0 (first index) can be calculated as:"
   ]
  },
  {
   "cell_type": "code",
   "execution_count": 1,
   "metadata": {},
   "outputs": [
    {
     "name": "stdout",
     "output_type": "stream",
     "text": [
      "URL transformed to HTTPS due to an HSTS policy\n",
      "--2019-01-18 17:32:22--  https://cdat.llnl.gov/cdat/sample_data/clt.nc\n",
      "Resolving cdat.llnl.gov (cdat.llnl.gov)... 198.128.245.146\n",
      "Connecting to cdat.llnl.gov (cdat.llnl.gov)|198.128.245.146|:443... connected.\n",
      "HTTP request sent, awaiting response... 200 OK\n",
      "Length: 1718908 (1.6M) [application/x-netcdf]\n",
      "Saving to: ‘clt.nc’\n",
      "\n",
      "clt.nc              100%[===================>]   1.64M   812KB/s    in 2.1s    \n",
      "\n",
      "2019-01-18 17:32:24 (812 KB/s) - ‘clt.nc’ saved [1718908/1718908]\n",
      "\n",
      "URL transformed to HTTPS due to an HSTS policy\n",
      "--2019-01-18 17:32:25--  https://cdat.llnl.gov/cdat/sample_data/u_2000.nc\n",
      "Resolving cdat.llnl.gov (cdat.llnl.gov)... 198.128.245.146\n",
      "Connecting to cdat.llnl.gov (cdat.llnl.gov)|198.128.245.146|:443... connected.\n",
      "HTTP request sent, awaiting response... 200 OK\n",
      "Length: 4936 (4.8K) [application/x-netcdf]\n",
      "Saving to: ‘u_2000.nc’\n",
      "\n",
      "u_2000.nc           100%[===================>]   4.82K  --.-KB/s    in 0s      \n",
      "\n",
      "2019-01-18 17:32:25 (470 MB/s) - ‘u_2000.nc’ saved [4936/4936]\n",
      "\n",
      "URL transformed to HTTPS due to an HSTS policy\n",
      "--2019-01-18 17:32:25--  https://cdat.llnl.gov/cdat/sample_data/u_2001.nc\n",
      "Resolving cdat.llnl.gov (cdat.llnl.gov)... 198.128.245.146\n",
      "Connecting to cdat.llnl.gov (cdat.llnl.gov)|198.128.245.146|:443... connected.\n",
      "HTTP request sent, awaiting response... 200 OK\n",
      "Length: 4936 (4.8K) [application/x-netcdf]\n",
      "Saving to: ‘u_2001.nc’\n",
      "\n",
      "u_2001.nc           100%[===================>]   4.82K  --.-KB/s    in 0s      \n",
      "\n",
      "2019-01-18 17:32:25 (500 MB/s) - ‘u_2001.nc’ saved [4936/4936]\n",
      "\n",
      "URL transformed to HTTPS due to an HSTS policy\n",
      "--2019-01-18 17:32:25--  https://cdat.llnl.gov/cdat/sample_data/u_2002.nc\n",
      "Resolving cdat.llnl.gov (cdat.llnl.gov)... 198.128.245.146\n",
      "Connecting to cdat.llnl.gov (cdat.llnl.gov)|198.128.245.146|:443... connected.\n",
      "HTTP request sent, awaiting response... 200 OK\n",
      "Length: 4936 (4.8K) [application/x-netcdf]\n",
      "Saving to: ‘u_2002.nc’\n",
      "\n",
      "u_2002.nc           100%[===================>]   4.82K  --.-KB/s    in 0s      \n",
      "\n",
      "2019-01-18 17:32:25 (506 MB/s) - ‘u_2002.nc’ saved [4936/4936]\n",
      "\n",
      "URL transformed to HTTPS due to an HSTS policy\n",
      "--2019-01-18 17:32:25--  https://cdat.llnl.gov/cdat/sample_data/v_2000.nc\n",
      "Resolving cdat.llnl.gov (cdat.llnl.gov)... 198.128.245.146\n",
      "Connecting to cdat.llnl.gov (cdat.llnl.gov)|198.128.245.146|:443... connected.\n",
      "HTTP request sent, awaiting response... 200 OK\n",
      "Length: 4936 (4.8K) [application/x-netcdf]\n",
      "Saving to: ‘v_2000.nc’\n",
      "\n",
      "v_2000.nc           100%[===================>]   4.82K  --.-KB/s    in 0s      \n",
      "\n",
      "2019-01-18 17:32:25 (528 MB/s) - ‘v_2000.nc’ saved [4936/4936]\n",
      "\n",
      "URL transformed to HTTPS due to an HSTS policy\n",
      "--2019-01-18 17:32:25--  https://cdat.llnl.gov/cdat/sample_data/v_2001.nc\n",
      "Resolving cdat.llnl.gov (cdat.llnl.gov)... 198.128.245.146\n",
      "Connecting to cdat.llnl.gov (cdat.llnl.gov)|198.128.245.146|:443... connected.\n",
      "HTTP request sent, awaiting response... 200 OK\n",
      "Length: 4936 (4.8K) [application/x-netcdf]\n",
      "Saving to: ‘v_2001.nc’\n",
      "\n",
      "v_2001.nc           100%[===================>]   4.82K  --.-KB/s    in 0s      \n",
      "\n",
      "2019-01-18 17:32:25 (510 MB/s) - ‘v_2001.nc’ saved [4936/4936]\n",
      "\n",
      "URL transformed to HTTPS due to an HSTS policy\n",
      "--2019-01-18 17:32:25--  https://cdat.llnl.gov/cdat/sample_data/v_2002.nc\n",
      "Resolving cdat.llnl.gov (cdat.llnl.gov)... 198.128.245.146\n",
      "Connecting to cdat.llnl.gov (cdat.llnl.gov)|198.128.245.146|:443... connected.\n",
      "HTTP request sent, awaiting response... 200 OK\n",
      "Length: 4936 (4.8K) [application/x-netcdf]\n",
      "Saving to: ‘v_2002.nc’\n",
      "\n",
      "v_2002.nc           100%[===================>]   4.82K  --.-KB/s    in 0s      \n",
      "\n",
      "2019-01-18 17:32:25 (552 MB/s) - ‘v_2002.nc’ saved [4936/4936]\n",
      "\n",
      "URL transformed to HTTPS due to an HSTS policy\n",
      "--2019-01-18 17:32:25--  https://cdat.llnl.gov/cdat/sample_data/sampleCurveGrid4.nc\n",
      "Resolving cdat.llnl.gov (cdat.llnl.gov)... 198.128.245.146\n",
      "Connecting to cdat.llnl.gov (cdat.llnl.gov)|198.128.245.146|:443... connected.\n",
      "HTTP request sent, awaiting response... 200 OK\n",
      "Length: 136044 (133K) [application/x-netcdf]\n",
      "Saving to: ‘sampleCurveGrid4.nc’\n",
      "\n",
      "sampleCurveGrid4.nc 100%[===================>] 132.86K  --.-KB/s    in 0.007s  \n",
      "\n",
      "2019-01-18 17:32:25 (19.7 MB/s) - ‘sampleCurveGrid4.nc’ saved [136044/136044]\n",
      "\n",
      "URL transformed to HTTPS due to an HSTS policy\n",
      "--2019-01-18 17:32:25--  https://cdat.llnl.gov/cdat/sample_data/geos5-sample.nc\n",
      "Resolving cdat.llnl.gov (cdat.llnl.gov)... 198.128.245.146\n",
      "Connecting to cdat.llnl.gov (cdat.llnl.gov)|198.128.245.146|:443... connected.\n",
      "HTTP request sent, awaiting response... 200 OK\n",
      "Length: 34487602 (33M) [application/x-netcdf]\n",
      "Saving to: ‘geos5-sample.nc’\n",
      "\n",
      "geos5-sample.nc     100%[===================>]  32.89M  26.3MB/s    in 1.3s    \n",
      "\n",
      "2019-01-18 17:32:27 (26.3 MB/s) - ‘geos5-sample.nc’ saved [34487602/34487602]\n",
      "\n",
      "URL transformed to HTTPS due to an HSTS policy\n",
      "--2019-01-18 17:32:27--  https://cdat.llnl.gov/cdat/sample_data/xieArkin-T42.nc\n",
      "Resolving cdat.llnl.gov (cdat.llnl.gov)... 198.128.245.146\n",
      "Connecting to cdat.llnl.gov (cdat.llnl.gov)|198.128.245.146|:443... connected.\n",
      "HTTP request sent, awaiting response... 200 OK\n",
      "Length: 7081508 (6.8M) [application/x-netcdf]\n",
      "Saving to: ‘xieArkin-T42.nc’\n",
      "\n",
      "xieArkin-T42.nc     100%[===================>]   6.75M  26.5MB/s    in 0.3s    \n",
      "\n",
      "2019-01-18 17:32:27 (26.5 MB/s) - ‘xieArkin-T42.nc’ saved [7081508/7081508]\n",
      "\n",
      "URL transformed to HTTPS due to an HSTS policy\n",
      "--2019-01-18 17:32:27--  https://cdat.llnl.gov/cdat/sample_data/tas_6h.nc\n",
      "Resolving cdat.llnl.gov (cdat.llnl.gov)... 198.128.245.146\n",
      "Connecting to cdat.llnl.gov (cdat.llnl.gov)|198.128.245.146|:443... connected.\n",
      "HTTP request sent, awaiting response... 200 OK\n",
      "Length: 6280312 (6.0M) [application/x-netcdf]\n",
      "Saving to: ‘tas_6h.nc’\n",
      "\n",
      "tas_6h.nc           100%[===================>]   5.99M  27.3MB/s    in 0.2s    \n",
      "\n",
      "2019-01-18 17:32:27 (27.3 MB/s) - ‘tas_6h.nc’ saved [6280312/6280312]\n",
      "\n"
     ]
    }
   ],
   "source": [
    "import os.path\n",
    "if(not os.path.exists(\"clt.nc\")):\n",
    "    !wget  http://cdat.llnl.gov/cdat/sample_data/clt.nc\n",
    "    !wget  http://cdat.llnl.gov/cdat/sample_data/u_2000.nc\n",
    "    !wget  http://cdat.llnl.gov/cdat/sample_data/u_2001.nc\n",
    "    !wget  http://cdat.llnl.gov/cdat/sample_data/u_2002.nc\n",
    "    !wget  http://cdat.llnl.gov/cdat/sample_data/v_2000.nc\n",
    "    !wget  http://cdat.llnl.gov/cdat/sample_data/v_2001.nc\n",
    "    !wget  http://cdat.llnl.gov/cdat/sample_data/v_2002.nc\n",
    "    !wget  http://cdat.llnl.gov/cdat/sample_data/sampleCurveGrid4.nc\n",
    "    !wget  http://cdat.llnl.gov/cdat/sample_data/geos5-sample.nc\n",
    "    !wget http://cdat.llnl.gov/cdat/sample_data/xieArkin-T42.nc\n",
    "    !wget http://cdat.llnl.gov/cdat/sample_data/tas_6h.nc\n",
    "    !wget http://cdat.llnl.gov/cdat/sample_data/rmp_T42_to_POP43_conserv.nc"
   ]
  },
  {
   "cell_type": "code",
   "execution_count": 2,
   "metadata": {
    "scrolled": true
   },
   "outputs": [],
   "source": [
    "import cdms2\n",
    "from cdms2 import MV2"
   ]
  },
  {
   "cell_type": "code",
   "execution_count": 3,
   "metadata": {},
   "outputs": [
    {
     "name": "stdout",
     "output_type": "stream",
     "text": [
      "(1, 2, 80, 97)\n"
     ]
    }
   ],
   "source": [
    "# uncomment the line below to donwload \"clt.nc\"\n",
    "# !wget \"https://cdat.llnl.gov/cdat/sample_data/clt.nc\"\n",
    "f1=cdms2.open(\"clt.nc\")\n",
    "u = f1('u')\n",
    "v = f1('v')\n",
    "from cdms2 import MV\n",
    "print(u.shape)"
   ]
  },
  {
   "cell_type": "markdown",
   "metadata": {},
   "source": [
    "MV is a module that wraps numpy masked arrays.  It keeps the axes, grid and other attributes."
   ]
  },
  {
   "cell_type": "code",
   "execution_count": 4,
   "metadata": {},
   "outputs": [
    {
     "name": "stdout",
     "output_type": "stream",
     "text": [
      "['name', 'tileIndex', 'source', 'title', 'units', 'type', 'date', 'time']\n",
      "units:  m/s\n",
      "   id: plev\n",
      "   Designated a level axis.\n",
      "   units:  hPa\n",
      "   Length: 2\n",
      "   First:  200.0\n",
      "   Last:   850.0\n",
      "   Other axis attributes:\n",
      "      axis: Z\n",
      "      realtopology: linear\n",
      "   Python id:  0x7f49d541acc0\n",
      "\n"
     ]
    },
    {
     "name": "stderr",
     "output_type": "stream",
     "text": [
      "/software/anaconda53/envs/cdms2/lib/python3.6/site-packages/numpy/ma/core.py:3174: FutureWarning: Using a non-tuple sequence for multidimensional indexing is deprecated; use `arr[tuple(seq)]` instead of `arr[seq]`. In the future this will be interpreted as an array index, `arr[np.array(seq)]`, which will result either in an error or a different result.\n",
      "  dout = self.data[indx]\n",
      "/software/anaconda53/envs/cdms2/lib/python3.6/site-packages/numpy/ma/core.py:3206: FutureWarning: Using a non-tuple sequence for multidimensional indexing is deprecated; use `arr[tuple(seq)]` instead of `arr[seq]`. In the future this will be interpreted as an array index, `arr[np.array(seq)]`, which will result either in an error or a different result.\n",
      "  mout = _mask[indx]\n",
      "/software/anaconda53/envs/cdms2/lib/python3.6/site-packages/numpy/ma/core.py:6667: RuntimeWarning: overflow encountered in power\n",
      "  result = np.where(m, fa, umath.power(fa, fb)).view(basetype)\n"
     ]
    }
   ],
   "source": [
    "vel = MV.sqrt(u[0]**2 + v[0]**2)\n",
    "print(vel.listattributes())\n",
    "print(\"units: \", vel.units)\n",
    "print(vel.getLevel())"
   ]
  },
  {
   "cell_type": "markdown",
   "metadata": {},
   "source": [
    "## Several points:\n",
    "\n",
    "-  Square brackets represent the slice operator. Indexing starts at 0,\n",
    "   so ``u[0]`` selects from variable ``u`` for the first timepoint. The\n",
    "   result of this slice operation is another variable. The slice\n",
    "   operator can be multidimensional, and follows the syntax of Numpy\n",
    "   Python arrays. In this example, ``u[0,0,0:10,1]`` would retrieve data\n",
    "   for the first ten timepoints, at all latitudes, for the second\n",
    "   longitude.\n",
    "-  Variables can be used in computation. ``**`` is the Python\n",
    "   exponentiation operator.\n",
    "-  Arithmetic functions are defined in the ``cdms2.MV2`` module.\n",
    "-  Operations on variables carry along the corresponding metadata where\n",
    "   applicable. In the above example, ``vel`` has the same latitude and\n",
    "   longitude coordinates as ``u`` and ``v``, and the time coordinate is\n",
    "   the first time of ``u`` and ``v``."
   ]
  },
  {
   "cell_type": "code",
   "execution_count": 5,
   "metadata": {},
   "outputs": [
    {
     "name": "stdout",
     "output_type": "stream",
     "text": [
      "[-3.0127158164978027 -4.229100227355957 -4.467456340789795\n",
      " -3.366543769836426 -0.9665766358375549 2.2838134765625 4.745534420013428\n",
      " 4.761820316314697 2.8783907890319824 1.4265387058258057]\n"
     ]
    }
   ],
   "source": [
    "print(u[0,0,0:10,1])"
   ]
  },
  {
   "cell_type": "markdown",
   "metadata": {},
   "source": [
    "# File I/O\n",
    "\n",
    "\n",
    "A variable can be obtained from a file or collection of files, or can be\n",
    "generated as the result of a computation. Files can be in any of the\n",
    "self- describing formats `netCDF`, `HDF`, `GrADS/GRIB` *(GRIB with a GrADS\n",
    "control file)*, or `PCMDI DRS`. (HDF and DRS support is optional, and is\n",
    "configured at the time CDMS is installed.) For instance, here is an example to read data\n",
    "from file clt.nc into variable u."
   ]
  },
  {
   "cell_type": "code",
   "execution_count": 6,
   "metadata": {},
   "outputs": [
    {
     "data": {
      "text/plain": [
       "(1, 2, 80, 97)"
      ]
     },
     "execution_count": 6,
     "metadata": {},
     "output_type": "execute_result"
    }
   ],
   "source": [
    "f = cdms2.open('clt.nc')\n",
    "u = f('u')\n",
    "u.shape"
   ]
  },
  {
   "cell_type": "markdown",
   "metadata": {},
   "source": [
    "Data can be read by index or by world coordinate values. The following reads the `n-th` timepoint of `u` *(the syntax slice(i,j)* refers to indices `k` such that `i <= k < j`):"
   ]
  },
  {
   "cell_type": "code",
   "execution_count": 7,
   "metadata": {},
   "outputs": [
    {
     "data": {
      "text/plain": [
       "(1, 2, 80, 97)"
      ]
     },
     "execution_count": 7,
     "metadata": {},
     "output_type": "execute_result"
    }
   ],
   "source": [
    "n=0\n",
    "u0 = f('u',time=slice(n,n+1))\n",
    "u0.shape"
   ]
  },
  {
   "cell_type": "markdown",
   "metadata": {},
   "source": [
    "To read u at time 1:"
   ]
  },
  {
   "cell_type": "code",
   "execution_count": 8,
   "metadata": {},
   "outputs": [
    {
     "data": {
      "text/plain": [
       "(1, 2, 80, 97)"
      ]
     },
     "execution_count": 8,
     "metadata": {},
     "output_type": "execute_result"
    }
   ],
   "source": [
    "l = f('u',time=1.)\n",
    "l.shape"
   ]
  },
  {
   "cell_type": "markdown",
   "metadata": {},
   "source": [
    "A variable can be written to a file follwoing the CF-1 convention with the write function:"
   ]
  },
  {
   "cell_type": "code",
   "execution_count": 9,
   "metadata": {},
   "outputs": [
    {
     "name": "stdout",
     "output_type": "stream",
     "text": [
      "netcdf sample2 {\n",
      "dimensions:\n",
      "\ttime1 = UNLIMITED ; // (1 currently)\n",
      "\tplev = 2 ;\n",
      "\tlatitude1 = 80 ;\n",
      "\tbound = 2 ;\n",
      "\tlongitude1 = 97 ;\n",
      "variables:\n",
      "\tfloat time1(time1) ;\n",
      "\t\ttime1:axis = \"T\" ;\n",
      "\t\ttime1:calendar = \"gregorian\" ;\n",
      "\t\ttime1:units = \"months since 1978-12\" ;\n",
      "\tfloat plev(plev) ;\n",
      "\t\tplev:axis = \"Z\" ;\n",
      "\t\tplev:units = \"hPa\" ;\n",
      "\t\tplev:realtopology = \"linear\" ;\n",
      "\tfloat latitude1(latitude1) ;\n",
      "\t\tlatitude1:bounds = \"bounds_latitude1\" ;\n",
      "\t\tlatitude1:axis = \"Y\" ;\n",
      "\t\tlatitude1:units = \"degrees_north\" ;\n",
      "\t\tlatitude1:realtopology = \"linear\" ;\n",
      "\tdouble bounds_latitude1(latitude1, bound) ;\n",
      "\tfloat longitude1(longitude1) ;\n",
      "\t\tlongitude1:bounds = \"bounds_longitude1\" ;\n",
      "\t\tlongitude1:axis = \"X\" ;\n",
      "\t\tlongitude1:modulo = 360. ;\n",
      "\t\tlongitude1:topology = \"circular\" ;\n",
      "\t\tlongitude1:units = \"degrees_east\" ;\n",
      "\t\tlongitude1:realtopology = \"linear\" ;\n",
      "\tdouble bounds_longitude1(longitude1, bound) ;\n",
      "\tfloat u(time1, plev, latitude1, longitude1) ;\n",
      "\t\tu:name = \"u\" ;\n",
      "\t\tu:source = \"BMRC BMRC2.3 R31L19 VIlp AMIP 10 Year Simulation ( 1979-1988 )\" ;\n",
      "\t\tu:title = \"Monthly Mean Eastward Wind Speed\" ;\n",
      "\t\tu:units = \"m/s\" ;\n",
      "\t\tu:type = \"R*4\" ;\n",
      "\t\tu:date = \"2/26/93\" ;\n",
      "\t\tu:time = \"14:10:00\" ;\n",
      "\t\tu:missing_value = 1.e+20f ;\n",
      "\t\tu:_FillValue = 1.e+20f ;\n",
      "\n",
      "// global attributes:\n",
      "\t\t:Conventions = \"CF-1.0\" ;\n",
      "}\n"
     ]
    },
    {
     "name": "stderr",
     "output_type": "stream",
     "text": [
      "/software/anaconda53/envs/cdms2/lib/python3.6/site-packages/cdms2/dataset.py:2187: Warning: Files are written with compression and no shuffling\n",
      "You can query different values of compression using the functions:\n",
      "cdms2.getNetcdfShuffleFlag() returning 1 if shuffling is enabled, 0 otherwise\n",
      "cdms2.getNetcdfDeflateFlag() returning 1 if deflate is used, 0 otherwise\n",
      "cdms2.getNetcdfDeflateLevelFlag() returning the level of compression for the deflate method\n",
      "\n",
      "If you want to turn that off or set different values of compression use the functions:\n",
      "value = 0\n",
      "cdms2.setNetcdfShuffleFlag(value) ## where value is either 0 or 1\n",
      "cdms2.setNetcdfDeflateFlag(value) ## where value is either 0 or 1\n",
      "cdms2.setNetcdfDeflateLevelFlag(value) ## where value is a integer between 0 and 9 included\n",
      "\n",
      "To produce NetCDF3 Classic files use:\n",
      "cdms2.useNetCDF3()\n",
      "To Force NetCDF4 output with classic format and no compressing use:\n",
      "cdms2.setNetcdf4Flag(1)\n",
      "NetCDF4 file with no shuffling or deflate and noclassic will be open for parallel i/o\n",
      "  \"for parallel i/o\", Warning)\n"
     ]
    }
   ],
   "source": [
    "g = cdms2.open('sample2.nc','w')\n",
    "g.write(u) \n",
    "g.close()\n",
    "!ncdump -h sample2.nc"
   ]
  },
  {
   "cell_type": "markdown",
   "metadata": {},
   "source": [
    "# Coordinate Axes\n",
    "\n",
    "\n",
    "A coordinate axis is a variable that represents coordinate information.\n",
    "Typically an axis is associated with one or more variables in a file or\n",
    "dataset, to represent the indexing and/or spatiotemporal coordinate\n",
    "system(s) of the variable(s).\n",
    "\n",
    "Often in climate applications an axis is a one-dimensional variable\n",
    "whose values are floating-point and strictly monotonic. In some cases an\n",
    "axis can be multidimensional (see `Grids`). If an axis is\n",
    "associated with one of the canonical types latitude, longitude, level,\n",
    "or time, then the axis is called temporal .\n",
    "\n",
    "The shape and physical ordering of a variable is represented by the\n",
    "variables domain , an ordered tuple of one-dimensional axes. In the\n",
    "previous example, the domain of the variable u is the tuple (time,\n",
    "latitude, longitude). This indicates the order of the dimensions, with\n",
    "the slowest-varying dimension listed first (time). The domain may be\n",
    "accessed with the ``getAxisList()`` method:\n"
   ]
  },
  {
   "cell_type": "code",
   "execution_count": 10,
   "metadata": {},
   "outputs": [
    {
     "data": {
      "text/plain": [
       "[   id: time1\n",
       "    Designated a time axis.\n",
       "    units:  months since 1978-12\n",
       "    Length: 1\n",
       "    First:  1.0\n",
       "    Last:   1.0\n",
       "    Other axis attributes:\n",
       "       axis: T\n",
       "       calendar: gregorian\n",
       "    Python id:  0x7f49d541aac8,    id: plev\n",
       "    Designated a level axis.\n",
       "    units:  hPa\n",
       "    Length: 2\n",
       "    First:  200.0\n",
       "    Last:   850.0\n",
       "    Other axis attributes:\n",
       "       axis: Z\n",
       "       realtopology: linear\n",
       "    Python id:  0x7f49d541af60,    id: latitude1\n",
       "    Designated a latitude axis.\n",
       "    units:  degrees_north\n",
       "    Length: 80\n",
       "    First:  -88.2884\n",
       "    Last:   88.2884\n",
       "    Other axis attributes:\n",
       "       axis: Y\n",
       "       realtopology: linear\n",
       "    Python id:  0x7f49d541ada0,    id: longitude1\n",
       "    Designated a longitude axis.\n",
       "    units:  degrees_east\n",
       "    Length: 97\n",
       "    First:  -180.0\n",
       "    Last:   180.0\n",
       "    Other axis attributes:\n",
       "       axis: X\n",
       "       modulo: 360.0\n",
       "       topology: circular\n",
       "       realtopology: linear\n",
       "    Python id:  0x7f49d541ad30]"
      ]
     },
     "execution_count": 10,
     "metadata": {},
     "output_type": "execute_result"
    }
   ],
   "source": [
    "u.getAxisList() "
   ]
  },
  {
   "cell_type": "markdown",
   "metadata": {},
   "source": [
    "In the above example, the domain elements are axes that are also\n",
    "spatiotemporal. In general it is not always the case that an element of\n",
    "a domain is spatio-temporal: \n",
    "\n",
    "-  An axis in the domain of a variable need not be spatiotemporal. For\n",
    "   example, it may represent a range of indices, an index coordinate\n",
    "   system.\n",
    "-  The latitude and/or longitude coordinate axes associated with a\n",
    "   variable need not be elements of the domain. In particular this will\n",
    "   be true if the variable is defined on a non-rectangular grid (see `Grids <#grids>`__).\n",
    "\n",
    "As previously noted, a spatial and/or temporal coordinate system may be\n",
    "associated with a variable. The methods getLatitude, getLongitude,\n",
    "getLevel, and getTime return the associated coordinate axes. For\n",
    "example:"
   ]
  },
  {
   "cell_type": "code",
   "execution_count": 11,
   "metadata": {},
   "outputs": [
    {
     "name": "stdout",
     "output_type": "stream",
     "text": [
      "[1.]\n",
      "months since 1978-12\n"
     ]
    }
   ],
   "source": [
    "t = u.getTime()\n",
    "print(t[:])\n",
    "print(t.units)"
   ]
  },
  {
   "cell_type": "markdown",
   "metadata": {},
   "source": [
    "## Attributes\n",
    "\n",
    "As mentioned above, variables can have associated attributes ,\n",
    "name-value pairs. In fact, nearly all CDMS objects can have associated\n",
    "attributes, which are accessed using the Python dot notation:"
   ]
  },
  {
   "cell_type": "code",
   "execution_count": 12,
   "metadata": {},
   "outputs": [
    {
     "name": "stdout",
     "output_type": "stream",
     "text": [
      "m/s\n"
     ]
    }
   ],
   "source": [
    "u.units='m/s'\n",
    "print(u.units)"
   ]
  },
  {
   "cell_type": "markdown",
   "metadata": {},
   "source": [
    "Attribute values can be strings, scalars, or 1-D Numpy arrays.\n",
    "\n",
    "When a variable is written to a file, not all the attributes are\n",
    "written. Some attributes, called internal attributes, are used for\n",
    "bookkeeping, and are not intended to be part of the external file\n",
    "representation of the variable. In contrast, external attributes are\n",
    "written to an output file along with the variable. By default, when an\n",
    "attribute is set, it is treated as external. Every variable has a field\n",
    "attributes, a Python dictionary that defines the external attributes:"
   ]
  },
  {
   "cell_type": "code",
   "execution_count": 13,
   "metadata": {},
   "outputs": [
    {
     "name": "stdout",
     "output_type": "stream",
     "text": [
      "dict_keys(['name', 'tileIndex', 'source', 'title', 'units', 'type', 'date', 'time'])\n"
     ]
    }
   ],
   "source": [
    "print(u.attributes.keys())"
   ]
  },
  {
   "cell_type": "markdown",
   "metadata": {},
   "source": [
    "The Python dir command lists the internal attribute names:"
   ]
  },
  {
   "cell_type": "code",
   "execution_count": 14,
   "metadata": {},
   "outputs": [
    {
     "data": {
      "text/plain": [
       "['T',\n",
       " '_FillValue',\n",
       " '_TransientVariable__domain',\n",
       " '_TransientVariable__getMPIType',\n",
       " '_TransientVariable__getSlab',\n",
       " '_TransientVariable__mpiComm',\n",
       " '_TransientVariable__mpiType',\n",
       " '_TransientVariable__mpiWindows',\n",
       " '___cdms_internals__',\n",
       " '__abs__',\n",
       " '__add__',\n",
       " '__and__',\n",
       " '__array__',\n",
       " '__array_finalize__',\n",
       " '__array_interface__',\n",
       " '__array_prepare__',\n",
       " '__array_priority__',\n",
       " '__array_struct__',\n",
       " '__array_ufunc__',\n",
       " '__array_wrap__',\n",
       " '__bool__',\n",
       " '__call__',\n",
       " '__cdms_internals__',\n",
       " '__class__',\n",
       " '__complex__',\n",
       " '__contains__',\n",
       " '__copy__',\n",
       " '__deepcopy__',\n",
       " '__delattr__',\n",
       " '__delitem__',\n",
       " '__dict__',\n",
       " '__dir__',\n",
       " '__div__',\n",
       " '__divmod__',\n",
       " '__doc__',\n",
       " '__eq__',\n",
       " '__float__',\n",
       " '__floordiv__',\n",
       " '__format__',\n",
       " '__ge__',\n",
       " '__getattribute__',\n",
       " '__getitem__',\n",
       " '__getslice__',\n",
       " '__getstate__',\n",
       " '__gt__',\n",
       " '__hash__',\n",
       " '__iadd__',\n",
       " '__iand__',\n",
       " '__idiv__',\n",
       " '__ifloordiv__',\n",
       " '__ilshift__',\n",
       " '__imatmul__',\n",
       " '__imod__',\n",
       " '__imul__',\n",
       " '__index__',\n",
       " '__init__',\n",
       " '__init_subclass__',\n",
       " '__int__',\n",
       " '__invert__',\n",
       " '__ior__',\n",
       " '__ipow__',\n",
       " '__irshift__',\n",
       " '__isub__',\n",
       " '__iter__',\n",
       " '__itruediv__',\n",
       " '__ixor__',\n",
       " '__le__',\n",
       " '__len__',\n",
       " '__long__',\n",
       " '__lshift__',\n",
       " '__lt__',\n",
       " '__matmul__',\n",
       " '__mod__',\n",
       " '__module__',\n",
       " '__mul__',\n",
       " '__ne__',\n",
       " '__neg__',\n",
       " '__new__',\n",
       " '__or__',\n",
       " '__pos__',\n",
       " '__pow__',\n",
       " '__radd__',\n",
       " '__rand__',\n",
       " '__rdiv__',\n",
       " '__rdivmod__',\n",
       " '__reduce__',\n",
       " '__reduce_ex__',\n",
       " '__repr__',\n",
       " '__rfloordiv__',\n",
       " '__rlshift__',\n",
       " '__rmatmul__',\n",
       " '__rmod__',\n",
       " '__rmul__',\n",
       " '__ror__',\n",
       " '__rpow__',\n",
       " '__rrshift__',\n",
       " '__rshift__',\n",
       " '__rsub__',\n",
       " '__rtruediv__',\n",
       " '__rxor__',\n",
       " '__setattr__',\n",
       " '__setitem__',\n",
       " '__setmask__',\n",
       " '__setstate__',\n",
       " '__sizeof__',\n",
       " '__sqrt__',\n",
       " '__str__',\n",
       " '__sub__',\n",
       " '__subclasshook__',\n",
       " '__truediv__',\n",
       " '__weakref__',\n",
       " '__xor__',\n",
       " '_baseclass',\n",
       " '_basedict',\n",
       " '_comparison',\n",
       " '_data',\n",
       " '_decodedType',\n",
       " '_defaulthardmask',\n",
       " '_defaultmask',\n",
       " '_delegate_binop',\n",
       " '_fill_value',\n",
       " '_getShape',\n",
       " '_get_data',\n",
       " '_get_flat',\n",
       " '_get_mask',\n",
       " '_get_recordmask',\n",
       " '_getinternals',\n",
       " '_getmissing',\n",
       " '_grid_',\n",
       " '_hardmask',\n",
       " '_insert_masked_print',\n",
       " '_isfield',\n",
       " '_listatts',\n",
       " '_mask',\n",
       " '_missing',\n",
       " '_node_',\n",
       " '_optinfo',\n",
       " '_print_width',\n",
       " '_print_width_1d',\n",
       " '_process_specs',\n",
       " '_returnArray',\n",
       " '_set_flat',\n",
       " '_set_mask',\n",
       " '_set_recordmask',\n",
       " '_setatts',\n",
       " '_setinternals',\n",
       " '_setmissing',\n",
       " '_sharedmask',\n",
       " '_single_specs',\n",
       " '_update_from',\n",
       " 'all',\n",
       " 'anom',\n",
       " 'any',\n",
       " 'argmax',\n",
       " 'argmin',\n",
       " 'argpartition',\n",
       " 'argsort',\n",
       " 'ascontiguous',\n",
       " 'ascontiguousarray',\n",
       " 'asma',\n",
       " 'assignValue',\n",
       " 'astype',\n",
       " 'attributes',\n",
       " 'base',\n",
       " 'baseclass',\n",
       " 'byteswap',\n",
       " 'choose',\n",
       " 'clip',\n",
       " 'clone',\n",
       " 'compress',\n",
       " 'compressed',\n",
       " 'conj',\n",
       " 'conjugate',\n",
       " 'copy',\n",
       " 'copyAxis',\n",
       " 'copyDomain',\n",
       " 'copydimension',\n",
       " 'count',\n",
       " 'createattribute',\n",
       " 'crossSectionRegrid',\n",
       " 'ctypes',\n",
       " 'cumprod',\n",
       " 'cumsum',\n",
       " 'data',\n",
       " 'date',\n",
       " 'decode',\n",
       " 'deleteattribute',\n",
       " 'diagonal',\n",
       " 'dot',\n",
       " 'dtype',\n",
       " 'dump',\n",
       " 'dumps',\n",
       " 'expertSlice',\n",
       " 'exposeHalo',\n",
       " 'fetchHaloData',\n",
       " 'fill',\n",
       " 'fill_value',\n",
       " 'filled',\n",
       " 'flags',\n",
       " 'flat',\n",
       " 'flatten',\n",
       " 'freeHalo',\n",
       " 'generateGridkey',\n",
       " 'generateRectGridkey',\n",
       " 'getAxis',\n",
       " 'getAxisIds',\n",
       " 'getAxisIndex',\n",
       " 'getAxisList',\n",
       " 'getAxisListIndex',\n",
       " 'getConvention',\n",
       " 'getDomain',\n",
       " 'getForecast',\n",
       " 'getForecastTime',\n",
       " 'getGrid',\n",
       " 'getGridIndices',\n",
       " 'getHaloEllipsis',\n",
       " 'getLatitude',\n",
       " 'getLevel',\n",
       " 'getLongitude',\n",
       " 'getMPIRank',\n",
       " 'getMPISize',\n",
       " 'getMissing',\n",
       " 'getOrder',\n",
       " 'getRegion',\n",
       " 'getSlice',\n",
       " 'getTileIndex',\n",
       " 'getTime',\n",
       " 'getValue',\n",
       " 'get_fill_value',\n",
       " 'get_imag',\n",
       " 'get_real',\n",
       " 'getattribute',\n",
       " 'getdimattribute',\n",
       " 'getfield',\n",
       " 'harden_mask',\n",
       " 'hardmask',\n",
       " 'hasCellData',\n",
       " 'id',\n",
       " 'ids',\n",
       " 'imag',\n",
       " 'info',\n",
       " 'initDomain',\n",
       " 'isAbstractCoordinate',\n",
       " 'isEncoded',\n",
       " 'iscontiguous',\n",
       " 'item',\n",
       " 'itemset',\n",
       " 'itemsize',\n",
       " 'listall',\n",
       " 'listattributes',\n",
       " 'listdimattributes',\n",
       " 'listdimnames',\n",
       " 'mask',\n",
       " 'matchPattern',\n",
       " 'matchone',\n",
       " 'max',\n",
       " 'mean',\n",
       " 'min',\n",
       " 'mini',\n",
       " 'missing',\n",
       " 'missing_value',\n",
       " 'name',\n",
       " 'nbytes',\n",
       " 'ndim',\n",
       " 'newbyteorder',\n",
       " 'nonzero',\n",
       " 'parent',\n",
       " 'partition',\n",
       " 'pressureRegrid',\n",
       " 'prod',\n",
       " 'product',\n",
       " 'ptp',\n",
       " 'put',\n",
       " 'rank',\n",
       " 'ravel',\n",
       " 'real',\n",
       " 'recordmask',\n",
       " 'reg_specs2slices',\n",
       " 'regrid',\n",
       " 'reorder',\n",
       " 'repeat',\n",
       " 'reshape',\n",
       " 'resize',\n",
       " 'round',\n",
       " 'searchPattern',\n",
       " 'searchPredicate',\n",
       " 'searchone',\n",
       " 'searchsorted',\n",
       " 'select',\n",
       " 'setAxis',\n",
       " 'setAxisList',\n",
       " 'setGrid',\n",
       " 'setMPIComm',\n",
       " 'setMaskFromGridMask',\n",
       " 'setMissing',\n",
       " 'setTileIndex',\n",
       " 'set_fill_value',\n",
       " 'setattribute',\n",
       " 'setdimattribute',\n",
       " 'setfield',\n",
       " 'setflags',\n",
       " 'shape',\n",
       " 'sharedmask',\n",
       " 'showdim',\n",
       " 'shrink_mask',\n",
       " 'size',\n",
       " 'soften_mask',\n",
       " 'sort',\n",
       " 'source',\n",
       " 'specs2slices',\n",
       " 'squeeze',\n",
       " 'std',\n",
       " 'std_slab_atts',\n",
       " 'strides',\n",
       " 'subRegion',\n",
       " 'subSlice',\n",
       " 'sum',\n",
       " 'swapaxes',\n",
       " 'take',\n",
       " 'tileIndex',\n",
       " 'time',\n",
       " 'title',\n",
       " 'toVisit',\n",
       " 'tobytes',\n",
       " 'tofile',\n",
       " 'toflex',\n",
       " 'tolist',\n",
       " 'torecords',\n",
       " 'tostring',\n",
       " 'trace',\n",
       " 'transpose',\n",
       " 'type',\n",
       " 'typecode',\n",
       " 'units',\n",
       " 'unshare_mask',\n",
       " 'var',\n",
       " 'variable_count',\n",
       " 'view']"
      ]
     },
     "execution_count": 14,
     "metadata": {},
     "output_type": "execute_result"
    }
   ],
   "source": [
    "dir(u)"
   ]
  },
  {
   "cell_type": "markdown",
   "metadata": {},
   "source": [
    "In general internal attributes should not be modified directly. One\n",
    "exception is the id attribute, the name of the variable. It is used in\n",
    "plotting and I/O, and can be set directly."
   ]
  },
  {
   "cell_type": "markdown",
   "metadata": {},
   "source": []
  },
  {
   "cell_type": "markdown",
   "metadata": {},
   "source": [
    "## Masked values\n",
    "\n",
    "Optionally, variables have a mask that represents where data are\n",
    "missing. If present, the mask is an array of ones and zeros having the\n",
    "shape of the data array. A mask value of one indicates that the\n",
    "corresponding data array element is missing or invalid.\n",
    "\n",
    "Arithmetic operations in CDMS take missing data into account. The same\n",
    "is true of the functions defined in the MV2 module. For example:\n",
    "\n"
   ]
  },
  {
   "cell_type": "code",
   "execution_count": 15,
   "metadata": {},
   "outputs": [
    {
     "data": {
      "text/plain": [
       "variable_29\n",
       "masked_array(data=[5, --, 9],\n",
       "             mask=[False,  True, False],\n",
       "       fill_value=999999)"
      ]
     },
     "execution_count": 15,
     "metadata": {},
     "output_type": "execute_result"
    }
   ],
   "source": [
    "import MV2\n",
    "a = MV2.array([1,2,3]) # Create array a, with no mask\n",
    "b = MV2.array([4,5,6]) # Same for b\n",
    "a+b # variable_... array([5,7,9,]) \n",
    "\n",
    "a[1]=MV2.masked # Mask the second value of a a.mask()\n",
    "a.mask\n",
    "\n",
    "a+b # The sum is masked also "
   ]
  },
  {
   "cell_type": "markdown",
   "metadata": {},
   "source": [
    "When data is read from a file, the result variable is masked if the file\n",
    "variable has a ``fill_value`` attribute. The mask is set to one for\n",
    "those elements equal to the missing value, zero elsewhere. If no such\n",
    "attribute is present in the file, the result variable is not masked.\n",
    "\n",
    "When a variable with masked values is written to a file, data values\n",
    "with a corresponding mask value of one are set to the value of the\n",
    "variables ``missing_value`` attribute. The data and ``missing_value``\n",
    "attribute are then written to the file.\n",
    "\n",
    "[https://www.numpy.org/](https://www.numpy.org/)."
   ]
  },
  {
   "cell_type": "markdown",
   "metadata": {},
   "source": [
    "---"
   ]
  },
  {
   "cell_type": "markdown",
   "metadata": {},
   "source": [
    "## File Variables\n",
    "\n",
    "A variable can be obtained either from a file, a collection of files, or\n",
    "as the result of computation. Correspondingly there are three types of\n",
    "variables in CDMS:\n",
    "\n",
    "-  *file variable* is a variable associated with a single data file.\n",
    "   Setting or referencing a file variable generates I/O operations.\n",
    "-  A *dataset variable* is a variable associated with a collection of\n",
    "   files. Reference to a dataset variable reads data, possibly from\n",
    "   multiple files. Dataset variables are read-only.\n",
    "-  *transient variable* is an in-memory object not associated with a\n",
    "   file or dataset. Transient variables result from a computation or I/O\n",
    "   operation.\n",
    "\n",
    "Typical use of a file variables is to inquire information about the\n",
    "variable in a file without actually reading the data for the variables.\n",
    "A file variable is obtained by applying the slice operator [] to a file,\n",
    "passing the name of the variable, or by calling the getVariable\n",
    "function. Note that obtaining a file variable does not actually read the\n",
    "data array:"
   ]
  },
  {
   "cell_type": "code",
   "execution_count": 16,
   "metadata": {},
   "outputs": [
    {
     "data": {
      "text/plain": [
       "(1, 2, 80, 97)"
      ]
     },
     "execution_count": 16,
     "metadata": {},
     "output_type": "execute_result"
    }
   ],
   "source": [
    "u = f.getVariable('u') # or u=f['u']\n",
    "u.shape \n"
   ]
  },
  {
   "cell_type": "markdown",
   "metadata": {},
   "source": [
    "File variables are also useful for fine-grained I/O. They behave like\n",
    "transient variables, but operations on them also affect the associated\n",
    "file. Specifically:\n",
    "\n",
    "-  slicing a file variable reads data,\n",
    "-  setting a slice writes data,\n",
    "-  referencing an attribute reads the attribute,\n",
    "-  setting an attribute writes the attribute,\n",
    "-  and calling a file variable like a function reads data associated\n",
    "   with the variable:"
   ]
  },
  {
   "cell_type": "code",
   "execution_count": 17,
   "metadata": {},
   "outputs": [
    {
     "data": {
      "text/plain": [
       "(2, 80, 97)"
      ]
     },
     "execution_count": 17,
     "metadata": {},
     "output_type": "execute_result"
    }
   ],
   "source": [
    "import os\n",
    "os.system(\"cp clt.nc /tmp\")\n",
    "\n",
    "f = cdms2.open('/tmp/clt.nc','a') # Open read/write\n",
    "uvar = f['u'] # Note square brackets\n",
    "uvar.shape\n",
    "\n",
    "u0 = uvar[0] # Reads data from sample.nc\n",
    "u0.shape\n",
    "\n"
   ]
  },
  {
   "cell_type": "markdown",
   "metadata": {},
   "source": [
    "### Writes data to file sample.nc"
   ]
  },
  {
   "cell_type": "code",
   "execution_count": 18,
   "metadata": {},
   "outputs": [
    {
     "data": {
      "text/plain": [
       "'m/s'"
      ]
     },
     "execution_count": 18,
     "metadata": {},
     "output_type": "execute_result"
    }
   ],
   "source": [
    "uvar[1]=u0 # Writes data to sample.nc\n",
    "uvar.units # Reads the attribute 'm/s'"
   ]
  },
  {
   "cell_type": "markdown",
   "metadata": {},
   "source": [
    "### Calling  a variable like a function reads data"
   ]
  },
  {
   "cell_type": "code",
   "execution_count": 19,
   "metadata": {},
   "outputs": [],
   "source": [
    "u24 = uvar(time=1.0) # Calling  a variable like a function reads data\n",
    "f.close() # Save changes to clt.nc (I/O may be buffered)"
   ]
  },
  {
   "cell_type": "markdown",
   "metadata": {},
   "source": [
    "For transient variables, the data is printed only if the size of the array is less\n",
    "than the print limit . This value can be set with the function\n",
    "MV2.set_print_limit to force the data to be printed:"
   ]
  },
  {
   "cell_type": "code",
   "execution_count": 20,
   "metadata": {},
   "outputs": [
    {
     "name": "stdout",
     "output_type": "stream",
     "text": [
      "1000\n",
      "100\n"
     ]
    }
   ],
   "source": [
    "print(MV2.get_print_limit()) # Current limit 1000\n",
    "MV2.set_print_limit(100)\n",
    "print(MV2.get_print_limit())"
   ]
  },
  {
   "cell_type": "markdown",
   "metadata": {},
   "source": [
    "The datatype of the variable is determined with the typecode function:"
   ]
  },
  {
   "cell_type": "code",
   "execution_count": 21,
   "metadata": {},
   "outputs": [
    {
     "data": {
      "text/plain": [
       "'f'"
      ]
     },
     "execution_count": 21,
     "metadata": {},
     "output_type": "execute_result"
    }
   ],
   "source": [
    "u.typecode()"
   ]
  },
  {
   "cell_type": "markdown",
   "metadata": {},
   "source": [
    "## Dataset Variables\n",
    "\n",
    "The third type of variable, a *dataset variable*, is associated with a\n",
    "*dataset*, a collection of files that is treated as a single file. A\n",
    "dataset is created with the ``cdscan`` utility. This generates an XML\n",
    "metafile that describes how the files are organized and what metadata\n",
    "are contained in the files. In a climate simulation application, a\n",
    "dataset typically represents the data generated by one run of a general\n",
    "circulation or coupled ocean-atmosphere model.\n",
    "\n",
    "For example, suppose data for variables u and v are stored in six files:\n",
    "\n",
    "1. u_2000.nc,\n",
    "2. u_2001.nc,\n",
    "3. u_2002.nc,\n",
    "4. v_2000.nc,\n",
    "5. v_2001.nc,\n",
    "6. v_2002.nc.\n",
    "\n",
    "A metafile can be generated with the command:\n",
    "\n",
    "``$ cdscan -x cdsample.xml [uv]*.nc``\n",
    "\n",
    "The metafile **cdsample.xml** is then used like an ordinary data file:"
   ]
  },
  {
   "cell_type": "code",
   "execution_count": 22,
   "metadata": {},
   "outputs": [
    {
     "name": "stdout",
     "output_type": "stream",
     "text": [
      "Finding common directory ...\n",
      "Common directory: \n",
      "Scanning files ...\n",
      "u_2000.nc\n",
      "Setting reference time units to days since 2000-1-1\n",
      "u_2001.nc\n",
      "Setting reference time units to days since 2000-1-1\n",
      "u_2002.nc\n",
      "Setting reference time units to days since 2000-1-1\n",
      "v_2000.nc\n",
      "Setting reference time units to days since 2000-1-1\n",
      "v_2001.nc\n",
      "Setting reference time units to days since 2000-1-1\n",
      "v_2002.nc\n",
      "Setting reference time units to days since 2000-1-1\n",
      "cdsample.xml written\n"
     ]
    }
   ],
   "source": [
    "!cdscan -x cdsample.xml [uv]*.nc"
   ]
  },
  {
   "cell_type": "code",
   "execution_count": 23,
   "metadata": {},
   "outputs": [
    {
     "name": "stdout",
     "output_type": "stream",
     "text": [
      "-rw-rw-r-- 1 nadeau1 nadeau1 1784 Jan 18 17:32 cdsample.xml\n"
     ]
    }
   ],
   "source": [
    "!ls -l cdsample.xml"
   ]
  },
  {
   "cell_type": "code",
   "execution_count": 24,
   "metadata": {},
   "outputs": [
    {
     "name": "stdout",
     "output_type": "stream",
     "text": [
      "aggregated u: (3, 16, 32)\n",
      "aggregated v: (3, 16, 32)\n"
     ]
    }
   ],
   "source": [
    "fsample=cdms2.open(\"cdsample.xml\")\n",
    "udata=fsample['u']\n",
    "print(\"aggregated u:\",udata.shape)\n",
    "vdata=fsample['u']\n",
    "print(\"aggregated v:\", vdata.shape)"
   ]
  },
  {
   "cell_type": "markdown",
   "metadata": {},
   "source": [
    "## Grids\n",
    "\n",
    "A latitude-longitude grid represents the coordinate information\n",
    "associated with a variable. A grid encapsulates:\n",
    "\n",
    "-  latitude, longitude coordinates\n",
    "-  grid cell boundaries\n",
    "-  area weights\n",
    "\n",
    "CDMS defines a rich set of grid types to represent the variety of\n",
    "coordinate systems used in climate model applications. Grids can be\n",
    "categorized as rectangular or nonrectangular.\n",
    "\n",
    "A rectangular grid has latitude and longitude axes that are\n",
    "one-dimensional, with strictly monotonic values. The grid is essentially\n",
    "the Cartesian product of the axes. If either criterion is not met, the\n",
    "grid is nonrectangular .\n",
    "\n",
    "- CDMS supports two types of nonrectangular grid:\n",
    "\n",
    "  -  A curvilinear grid consists of a latitude and longitude axis, each of\n",
    "     which is a two-dimensional coordinate axis. Curvilinear grids are\n",
    "     often used in ocean model applications.\n",
    "  -  A generic grid consists of a latitude and longitude axis, each of\n",
    "     which is an auxiliary one-dimensional coordinate axis. An auxiliary\n",
    "     axis has values that are not necessarily monotonic. As the name\n",
    "     suggests, generic grids can represent virtually any type of grid.\n",
    "     However, it is more difficult to determine adjacency relationships\n",
    "     between grid points."
   ]
  },
  {
   "cell_type": "markdown",
   "metadata": {},
   "source": [
    "### Example: A Curvilinear Grid\n",
    "\n",
    "In this example, variable sample is defined on a 128x192 curvilinear\n",
    "grid. Note that:\n",
    "\n",
    "-  The domain of variable sample is ( y , x ) where y and x are index\n",
    "   coordinate axes.\n",
    "-  The curvilinear grid associated with sample consists of axes ( lat ,\n",
    "   lon ), each a two-dimensional coordinate axis.\n",
    "-  lat and lon each have domain ( y , x )"
   ]
  },
  {
   "cell_type": "code",
   "execution_count": 25,
   "metadata": {},
   "outputs": [],
   "source": [
    "# uncomment the line below to donwload \"clt.nc\"\n",
    "# wget \"https://cdat.llnl.gov/cdat/sample_data/sampleCurveGrid4.nc\"\n",
    "f = cdms2.open('sampleCurveGrid4.nc')"
   ]
  },
  {
   "cell_type": "markdown",
   "metadata": {},
   "source": [
    "``lat`` and ``lon`` are coordinate axes, but are grouped with data variables"
   ]
  },
  {
   "cell_type": "code",
   "execution_count": 26,
   "metadata": {},
   "outputs": [
    {
     "name": "stdout",
     "output_type": "stream",
     "text": [
      "dict_keys(['lat', 'lon', 'sample', 'bounds_lat', 'bounds_lon'])\n",
      "odict_keys(['nvert', 'x', 'y'])\n",
      "(32, 48)\n",
      "[[-76.08465554 -76.08465554 -76.08465554 ... -76.08465554 -76.08465554\n",
      "  -76.08465554]\n",
      " [-73.92641847 -73.92641847 -73.92641847 ... -73.92641847 -73.92641847\n",
      "  -73.92641847]\n",
      " [-71.44420823 -71.44420823 -71.44420823 ... -71.44420823 -71.44420823\n",
      "  -71.44420823]\n",
      " ...\n",
      " [ 42.32854943  42.6582209   43.31990211 ...  43.3199019   42.65822088\n",
      "   42.32854943]\n",
      " [ 42.70106429  43.05731498  43.76927818 ...  43.76927796  43.05731495\n",
      "   42.70106429]\n",
      " [ 43.0307341   43.41264383  44.17234165 ...  44.17234141  43.41264379\n",
      "   43.0307341 ]]\n",
      "[[-1.3279277494480501 -1.3279277494480501 -1.3279277494480501 ...\n",
      "  -1.3279277494480501 -1.3279277494480501 -1.3279277494480501]\n",
      " [-1.290259406553338 -1.290259406553338 -1.290259406553338 ...\n",
      "  -1.290259406553338 -1.290259406553338 -1.290259406553338]\n",
      " [-1.2469366651143254 -1.2469366651143254 -1.2469366651143254 ...\n",
      "  -1.2469366651143254 -1.2469366651143254 -1.2469366651143254]\n",
      " ...\n",
      " [0.7387725551255372 0.744526407830922 0.756074923457711 ...\n",
      "  0.7560749198226742 0.7445264073325248 0.7387725551207336]\n",
      " [0.7452741659322457 0.751491913555217 0.7639180155219315 ...\n",
      "  0.7639180116218496 0.7514919130174151 0.7452741659270478]\n",
      " [0.7510279895669614 0.7576935717849446 0.7709528000943938 ...\n",
      "  0.7709527959455953 0.7576935712093067 0.7510279895613773]]\n"
     ]
    }
   ],
   "source": [
    "print(f.variables.keys())\n",
    "# y and x are index coordinate axes\n",
    "print(f.axes.keys())\n",
    "# Read data for variable sample\n",
    "sample = f('sample')\n",
    "# The associated grid g is curvilinear\n",
    "g = sample.getGrid()\n",
    "# The domain of the variable consfigists of index axes\n",
    "sample.getAxisIds()\n",
    "# Get the coordinate axes associated with the grid\n",
    "lat = g.getLatitude() # or sample.getLatitude()\n",
    "lon = g.getLongitude() # or sample.getLongitude()\n",
    "# lat and lon have the same domain, a subset of the domain of 'sample'\n",
    "lat.getAxisIds()\n",
    "# lat and lon are variables ...\n",
    "print(lat.shape)\n",
    "print(lat)\n",
    "lat_in_radians = lat*MV2.pi/180.0\n",
    "print(lat_in_radians)"
   ]
  },
  {
   "cell_type": "markdown",
   "metadata": {},
   "source": [
    "# Example: A Generic Grid\n",
    "\n",
    "In this example variable zs is defined on a generic grid. "
   ]
  },
  {
   "cell_type": "code",
   "execution_count": 27,
   "metadata": {},
   "outputs": [
    {
     "name": "stdout",
     "output_type": "stream",
     "text": [
      "dict_keys(['lat', 'lon', 'sample', 'bounds_lat', 'bounds_lon'])\n"
     ]
    }
   ],
   "source": [
    "print(f.variables.keys())"
   ]
  },
  {
   "cell_type": "code",
   "execution_count": 28,
   "metadata": {},
   "outputs": [
    {
     "name": "stdout",
     "output_type": "stream",
     "text": [
      "odict_keys(['nvert', 'x', 'y'])\n"
     ]
    }
   ],
   "source": [
    "print(f.axes.keys())"
   ]
  },
  {
   "cell_type": "code",
   "execution_count": 29,
   "metadata": {},
   "outputs": [
    {
     "data": {
      "text/plain": [
       "<TransientCurveGrid, id: grid_2, shape: (32, 48)>"
      ]
     },
     "execution_count": 29,
     "metadata": {},
     "output_type": "execute_result"
    }
   ],
   "source": [
    "zs = f('sample')\n",
    "g = zs.getGrid()\n",
    "g"
   ]
  },
  {
   "cell_type": "markdown",
   "metadata": {},
   "source": [
    "variable zs is defined in terms of a single index coordinate"
   ]
  },
  {
   "cell_type": "code",
   "execution_count": 30,
   "metadata": {},
   "outputs": [
    {
     "name": "stdout",
     "output_type": "stream",
     "text": [
      "(32, 48)\n",
      "(32, 48)\n"
     ]
    }
   ],
   "source": [
    "lat = g.getLatitude()\n",
    "lon = g.getLongitude()\n",
    "print(lat.shape)\n",
    "print(lon.shape) "
   ]
  },
  {
   "cell_type": "markdown",
   "metadata": {},
   "source": [
    "cell axis"
   ]
  },
  {
   "cell_type": "code",
   "execution_count": 31,
   "metadata": {},
   "outputs": [
    {
     "data": {
      "text/plain": [
       "(32, 48)"
      ]
     },
     "execution_count": 31,
     "metadata": {},
     "output_type": "execute_result"
    }
   ],
   "source": [
    "zs.shape"
   ]
  },
  {
   "cell_type": "code",
   "execution_count": 32,
   "metadata": {},
   "outputs": [
    {
     "data": {
      "text/plain": [
       "['y', 'x']"
      ]
     },
     "execution_count": 32,
     "metadata": {},
     "output_type": "execute_result"
    }
   ],
   "source": [
    "zs.getAxisIds()"
   ]
  },
  {
   "cell_type": "markdown",
   "metadata": {},
   "source": [
    "lat and lon are also defined in terms of the cell axis"
   ]
  },
  {
   "cell_type": "code",
   "execution_count": 33,
   "metadata": {},
   "outputs": [
    {
     "data": {
      "text/plain": [
       "['y', 'x']"
      ]
     },
     "execution_count": 33,
     "metadata": {},
     "output_type": "execute_result"
    }
   ],
   "source": [
    "lat.getAxisIds()"
   ]
  },
  {
   "cell_type": "markdown",
   "metadata": {},
   "source": [
    "lat and lon are one-dimensional, 'auxiliary' coordinate\n",
    "axes: values are not monotonic"
   ]
  },
  {
   "cell_type": "code",
   "execution_count": 34,
   "metadata": {},
   "outputs": [
    {
     "data": {
      "text/plain": [
       "cdms2.coord.TransientAxis2D"
      ]
     },
     "execution_count": 34,
     "metadata": {},
     "output_type": "execute_result"
    }
   ],
   "source": [
    "lat.__class__"
   ]
  },
  {
   "cell_type": "markdown",
   "metadata": {},
   "source": [
    "\n",
    "Generic grids can be used to represent any of the grid types. The method\n",
    "toGenericGrid can be applied to any grid to convert it to a generic\n",
    "representation. Similarly, a rectangular grid can be represented as\n",
    "curvilinear. The method toCurveGrid is used to convert a non-generic\n",
    "grid to curvilinear representation:\n"
   ]
  },
  {
   "cell_type": "code",
   "execution_count": 35,
   "metadata": {},
   "outputs": [
    {
     "name": "stdout",
     "output_type": "stream",
     "text": [
      "rectgrid: (46, 72)\n",
      "curvegrid: <CurveGrid, id: grid_3, shape: (46, 72)>\n",
      "genericgrid:  Grid has Python id 0x7f49d50dbbe0.\n"
     ]
    }
   ],
   "source": [
    "f = cdms2.open('clt.nc')\n",
    "clt = f('clt')\n",
    "rectgrid = clt.getGrid()\n",
    "print(\"rectgrid:\", rectgrid.shape)\n",
    "\n",
    "curvegrid = rectgrid.toCurveGrid()\n",
    "print(\"curvegrid:\", curvegrid)\n",
    "\n",
    "genericgrid = curvegrid.toGenericGrid()\n",
    "print(\"genericgrid: \", genericgrid)"
   ]
  },
  {
   "cell_type": "markdown",
   "metadata": {},
   "source": [
    "# Regridding\n",
    "\n",
    "Regridding is the process of mapping variables from one grid to another.\n",
    "CDMS supports two forms of regridding. Which one you use depends on the\n",
    "class of grids being transformed:\n",
    "\n",
    "-  To interpolate from one rectangular grid to another, use the built-in\n",
    "   CDMS regridder. CDMS also has built-in regridders to interpolate from\n",
    "   one set of pressure levels to another, or from one vertical\n",
    "   cross-section to another.\n",
    "-  To interpolate from any lat-lon grid, rectangular or non-rectangular,\n",
    "   use the ``SCRIP`` regridder."
   ]
  },
  {
   "cell_type": "markdown",
   "metadata": {},
   "source": [
    "## CDMS Regridder\n",
    "\n",
    "The built-in CDMS regridder is used to transform data from one\n",
    "rectangular grid to another. For example, to regrid variable ``u`` (from\n",
    "a rectangular grid) to a 96x192 rectangular Gaussian grid:\n"
   ]
  },
  {
   "cell_type": "code",
   "execution_count": 36,
   "metadata": {},
   "outputs": [
    {
     "name": "stdout",
     "output_type": "stream",
     "text": [
      "u.shape: (1, 2, 80, 97)\n"
     ]
    },
    {
     "name": "stderr",
     "output_type": "stream",
     "text": [
      "/software/anaconda53/envs/cdms2/lib/python3.6/site-packages/cdms2/avariable.py:1347: Warning: \n",
      "avariable.regrid: We chose regridTool = esmf for you among the following choices:\n",
      "   Tools ->    'regrid2' (old behavior)\n",
      "               'esmf' (conserve, patch, linear) or\n",
      "               'libcf' (linear)\n",
      "  warnings.warn(message, Warning)\n",
      "/software/anaconda53/envs/cdms2/lib/python3.6/site-packages/cdms2/avariable.py:1354: Warning: \n",
      "avariable.regrid: We chose regridMethod = linear for you among the following choices:\n",
      "    'conserve' or 'linear' or 'patch'\n",
      "  warnings.warn(message, Warning)\n"
     ]
    },
    {
     "name": "stdout",
     "output_type": "stream",
     "text": [
      "U63.shape (1, 2, 96, 192)\n"
     ]
    }
   ],
   "source": [
    "f = cdms2.open('clt.nc')\n",
    "u = f('u')\n",
    "print(\"u.shape:\", u.shape)\n",
    "\n",
    "t63_grid = cdms2.createGaussianGrid(96)\n",
    "u63 = u.regrid(t63_grid)\n",
    "print(\"U63.shape\",u63.shape)"
   ]
  },
  {
   "cell_type": "markdown",
   "metadata": {},
   "source": [
    "To regrid a variable ``uold`` to the same grid as variable ``vnew``:\n"
   ]
  },
  {
   "cell_type": "code",
   "execution_count": 37,
   "metadata": {},
   "outputs": [
    {
     "name": "stdout",
     "output_type": "stream",
     "text": [
      "uold.shape (1, 2, 80, 97)\n",
      "unew.shape (1, 14, 181, 360)\n"
     ]
    },
    {
     "data": {
      "text/plain": [
       "(1, 2, 181, 360)"
      ]
     },
     "execution_count": 37,
     "metadata": {},
     "output_type": "execute_result"
    }
   ],
   "source": [
    "f = cdms2.open('clt.nc')\n",
    "f2 = cdms2.open('geos5-sample.nc')\n",
    "uold = f('u')\n",
    "unew = f2('uwnd')\n",
    "print(\"uold.shape\", uold.shape)\n",
    "unew.shape\n",
    "print(\"unew.shape\", unew.shape)\n",
    "t63_grid = unew.getGrid() # Obtain the grid for vnew\n",
    "u63 = uold.regrid(t63_grid)\n",
    "u63.shape"
   ]
  },
  {
   "cell_type": "markdown",
   "metadata": {},
   "source": [
    "## SCRIP Regridder\n",
    "\n",
    "To interpolate between any lat-lon grid types, the SCRIP regridder may\n",
    "be used. The SCRIP package was developed at [Los Alamos National\n",
    "Laboratory] (https://github.com/SCRIP-Project/SCRIP).\n",
    "SCRIP is written in Fortran 90, and must be built and installed\n",
    "separately from the CDAT/CDMS installation.\n",
    "\n",
    "The steps to regrid a variable are:\n",
    "\n",
    "```(external to CDMS)```\n",
    "\n",
    "1. Obtain or generate the grids, in SCRIP netCDF format.\n",
    "2. Run SCRIP to generate a *remapping* file.\n",
    "\n",
    "```(in CDMS)```\n",
    "\n",
    "1. Read the regridder from the SCRIP remapping file.\n",
    "2. Call the regridder with the source data, returning data on the target\n",
    "   grid.\n",
    "\n",
    "Steps 1 and 2 need only be done once. The regridder can be used as often\n",
    "as necessary.\n",
    "\n"
   ]
  },
  {
   "cell_type": "code",
   "execution_count": 38,
   "metadata": {},
   "outputs": [
    {
     "ename": "CDMSError",
     "evalue": "Cannot open file /software/cdms22/rmp_T42_to_POP43_conserv.nc (Variable not found)",
     "output_type": "error",
     "traceback": [
      "\u001b[0;31m---------------------------------------------------------------------------\u001b[0m",
      "\u001b[0;31mOSError\u001b[0m                                   Traceback (most recent call last)",
      "\u001b[0;32m/software/anaconda53/envs/cdms2/lib/python3.6/site-packages/cdms2/dataset.py\u001b[0m in \u001b[0;36m__init__\u001b[0;34m(self, path, mode, hostObj, mpiBarrier)\u001b[0m\n\u001b[1;32m   1280\u001b[0m                     \u001b[0;32mpass\u001b[0m\u001b[0;34m\u001b[0m\u001b[0;34m\u001b[0m\u001b[0m\n\u001b[0;32m-> 1281\u001b[0;31m             \u001b[0m_fileobj_\u001b[0m \u001b[0;34m=\u001b[0m \u001b[0mCdunif\u001b[0m\u001b[0;34m.\u001b[0m\u001b[0mCdunifFile\u001b[0m\u001b[0;34m(\u001b[0m\u001b[0mpath\u001b[0m\u001b[0;34m,\u001b[0m \u001b[0mmode\u001b[0m\u001b[0;34m)\u001b[0m\u001b[0;34m\u001b[0m\u001b[0;34m\u001b[0m\u001b[0m\n\u001b[0m\u001b[1;32m   1282\u001b[0m         \u001b[0;32mexcept\u001b[0m \u001b[0mException\u001b[0m \u001b[0;32mas\u001b[0m \u001b[0merr\u001b[0m\u001b[0;34m:\u001b[0m\u001b[0;34m\u001b[0m\u001b[0;34m\u001b[0m\u001b[0m\n",
      "\u001b[0;31mOSError\u001b[0m: Variable not found",
      "\nDuring handling of the above exception, another exception occurred:\n",
      "\u001b[0;31mCDMSError\u001b[0m                                 Traceback (most recent call last)",
      "\u001b[0;32m<ipython-input-38-db377bc83331>\u001b[0m in \u001b[0;36m<module>\u001b[0;34m\u001b[0m\n\u001b[1;32m      8\u001b[0m \u001b[0;34m\u001b[0m\u001b[0m\n\u001b[1;32m      9\u001b[0m \u001b[0;31m# Read the regridder from the remapper file\u001b[0m\u001b[0;34m\u001b[0m\u001b[0;34m\u001b[0m\u001b[0;34m\u001b[0m\u001b[0m\n\u001b[0;32m---> 10\u001b[0;31m \u001b[0mremapf\u001b[0m \u001b[0;34m=\u001b[0m \u001b[0mcdms2\u001b[0m\u001b[0;34m.\u001b[0m\u001b[0mopen\u001b[0m\u001b[0;34m(\u001b[0m\u001b[0;34m'rmp_T42_to_POP43_conserv.nc'\u001b[0m\u001b[0;34m)\u001b[0m\u001b[0;34m\u001b[0m\u001b[0;34m\u001b[0m\u001b[0m\n\u001b[0m\u001b[1;32m     11\u001b[0m \u001b[0mregridf\u001b[0m \u001b[0;34m=\u001b[0m \u001b[0mregrid2\u001b[0m\u001b[0;34m.\u001b[0m\u001b[0mreadRegridder\u001b[0m\u001b[0;34m(\u001b[0m\u001b[0mremapf\u001b[0m\u001b[0;34m)\u001b[0m\u001b[0;34m\u001b[0m\u001b[0;34m\u001b[0m\u001b[0m\n\u001b[1;32m     12\u001b[0m \u001b[0mremapf\u001b[0m\u001b[0;34m.\u001b[0m\u001b[0mclose\u001b[0m\u001b[0;34m(\u001b[0m\u001b[0;34m)\u001b[0m\u001b[0;34m\u001b[0m\u001b[0;34m\u001b[0m\u001b[0m\n",
      "\u001b[0;32m/software/anaconda53/envs/cdms2/lib/python3.6/site-packages/cdms2/dataset.py\u001b[0m in \u001b[0;36mopenDataset\u001b[0;34m(uri, mode, template, dods, dpath, hostObj)\u001b[0m\n\u001b[1;32m    497\u001b[0m             \u001b[0;31m# rank\u001b[0m\u001b[0;34m\u001b[0m\u001b[0;34m\u001b[0m\u001b[0;34m\u001b[0m\u001b[0m\n\u001b[1;32m    498\u001b[0m             \u001b[0;32mif\u001b[0m \u001b[0;32mnot\u001b[0m \u001b[0mos\u001b[0m\u001b[0;34m.\u001b[0m\u001b[0mpath\u001b[0m\u001b[0;34m.\u001b[0m\u001b[0mexists\u001b[0m\u001b[0;34m(\u001b[0m\u001b[0mpath\u001b[0m\u001b[0;34m)\u001b[0m\u001b[0;34m:\u001b[0m\u001b[0;34m\u001b[0m\u001b[0;34m\u001b[0m\u001b[0m\n\u001b[0;32m--> 499\u001b[0;31m                 \u001b[0;32mreturn\u001b[0m \u001b[0mCdmsFile\u001b[0m\u001b[0;34m(\u001b[0m\u001b[0mpath\u001b[0m\u001b[0;34m,\u001b[0m \u001b[0mmode\u001b[0m\u001b[0;34m,\u001b[0m \u001b[0mmpiBarrier\u001b[0m\u001b[0;34m=\u001b[0m\u001b[0mCdMpi\u001b[0m\u001b[0;34m)\u001b[0m\u001b[0;34m\u001b[0m\u001b[0;34m\u001b[0m\u001b[0m\n\u001b[0m\u001b[1;32m    500\u001b[0m             \u001b[0;32melif\u001b[0m \u001b[0mmode\u001b[0m \u001b[0;34m==\u001b[0m \u001b[0;34m\"w\"\u001b[0m\u001b[0;34m:\u001b[0m\u001b[0;34m\u001b[0m\u001b[0;34m\u001b[0m\u001b[0m\n\u001b[1;32m    501\u001b[0m                 \u001b[0;32mtry\u001b[0m\u001b[0;34m:\u001b[0m\u001b[0;34m\u001b[0m\u001b[0;34m\u001b[0m\u001b[0m\n",
      "\u001b[0;32m/software/anaconda53/envs/cdms2/lib/python3.6/site-packages/cdms2/dataset.py\u001b[0m in \u001b[0;36m__init__\u001b[0;34m(self, path, mode, hostObj, mpiBarrier)\u001b[0m\n\u001b[1;32m   1281\u001b[0m             \u001b[0m_fileobj_\u001b[0m \u001b[0;34m=\u001b[0m \u001b[0mCdunif\u001b[0m\u001b[0;34m.\u001b[0m\u001b[0mCdunifFile\u001b[0m\u001b[0;34m(\u001b[0m\u001b[0mpath\u001b[0m\u001b[0;34m,\u001b[0m \u001b[0mmode\u001b[0m\u001b[0;34m)\u001b[0m\u001b[0;34m\u001b[0m\u001b[0;34m\u001b[0m\u001b[0m\n\u001b[1;32m   1282\u001b[0m         \u001b[0;32mexcept\u001b[0m \u001b[0mException\u001b[0m \u001b[0;32mas\u001b[0m \u001b[0merr\u001b[0m\u001b[0;34m:\u001b[0m\u001b[0;34m\u001b[0m\u001b[0;34m\u001b[0m\u001b[0m\n\u001b[0;32m-> 1283\u001b[0;31m             \u001b[0;32mraise\u001b[0m \u001b[0mCDMSError\u001b[0m\u001b[0;34m(\u001b[0m\u001b[0;34m'Cannot open file %s (%s)'\u001b[0m \u001b[0;34m%\u001b[0m \u001b[0;34m(\u001b[0m\u001b[0mpath\u001b[0m\u001b[0;34m,\u001b[0m \u001b[0merr\u001b[0m\u001b[0;34m)\u001b[0m\u001b[0;34m)\u001b[0m\u001b[0;34m\u001b[0m\u001b[0;34m\u001b[0m\u001b[0m\n\u001b[0m\u001b[1;32m   1284\u001b[0m         \u001b[0mself\u001b[0m\u001b[0;34m.\u001b[0m\u001b[0m_file_\u001b[0m \u001b[0;34m=\u001b[0m \u001b[0m_fileobj_\u001b[0m   \u001b[0;31m# Cdunif file object\u001b[0m\u001b[0;34m\u001b[0m\u001b[0;34m\u001b[0m\u001b[0m\n\u001b[1;32m   1285\u001b[0m         \u001b[0mself\u001b[0m\u001b[0;34m.\u001b[0m\u001b[0mvariables\u001b[0m \u001b[0;34m=\u001b[0m \u001b[0;34m{\u001b[0m\u001b[0;34m}\u001b[0m\u001b[0;34m\u001b[0m\u001b[0;34m\u001b[0m\u001b[0m\n",
      "\u001b[0;31mCDMSError\u001b[0m: Cannot open file /software/cdms22/rmp_T42_to_POP43_conserv.nc (Variable not found)"
     ]
    }
   ],
   "source": [
    "# Import regrid package for regridder functions\n",
    "import regrid2, cdms2\n",
    "\n",
    "# Get the source variable\n",
    "f = cdms2.open('xieArkin-T42.nc')\n",
    "dat = f('prc')\n",
    "f.close()\n",
    "\n",
    "# Read the regridder from the remapper file\n",
    "remapf = cdms2.open('rmp_T42_to_POP43_conserv.nc')\n",
    "regridf = regrid2.readRegridder(remapf)\n",
    "remapf.close()\n",
    "\n",
    "# Regrid the source variable\n",
    "popdat = regridf(dat)"
   ]
  },
  {
   "cell_type": "markdown",
   "metadata": {},
   "source": [
    "Regridding is discussed in [Chapter 4](https://cdms.readthedocs.io/en/latest/manual/cdms_4.html#regridding-data)."
   ]
  },
  {
   "cell_type": "markdown",
   "metadata": {},
   "source": [
    "### Time types\n",
    "\n",
    "CDMS provides extensive support for time values in the cdtime module.\n",
    "cdtime also defines a set of calendars , specifying the number of days\n",
    "in a given month.\n",
    "\n",
    "Two time types are available: relative time and component time .\n",
    "Relative time is time relative to a fixed base time. It consists of:\n",
    "\n",
    "-  a ``units`` string, of the form ``\"units since basetime\"`` , and\n",
    "-  a floating-point ``value``\n",
    "\n",
    "For example, the time \"28.0 days since 1996-1-1\" has value= 28.0 , and\n",
    "units=\" days since 1996-1-1\". To create a relative time type:\n"
   ]
  },
  {
   "cell_type": "code",
   "execution_count": null,
   "metadata": {},
   "outputs": [],
   "source": [
    "import cdtime\n",
    "rt = cdtime.reltime(28.0, \"days since 1996-1-1\")\n",
    "print(rt)\n",
    "print(rt.value)\n",
    "print(rt.units)"
   ]
  },
  {
   "cell_type": "markdown",
   "metadata": {},
   "source": [
    "A component time consists of the integer fields year, month, day, hour,\n",
    "minute , and the floating-point field second . For example:\n"
   ]
  },
  {
   "cell_type": "code",
   "execution_count": 39,
   "metadata": {},
   "outputs": [
    {
     "ename": "NameError",
     "evalue": "name 'cdtime' is not defined",
     "output_type": "error",
     "traceback": [
      "\u001b[0;31m---------------------------------------------------------------------------\u001b[0m",
      "\u001b[0;31mNameError\u001b[0m                                 Traceback (most recent call last)",
      "\u001b[0;32m<ipython-input-39-dc16d422f1db>\u001b[0m in \u001b[0;36m<module>\u001b[0;34m\u001b[0m\n\u001b[0;32m----> 1\u001b[0;31m \u001b[0mct\u001b[0m \u001b[0;34m=\u001b[0m \u001b[0mcdtime\u001b[0m\u001b[0;34m.\u001b[0m\u001b[0mcomptime\u001b[0m\u001b[0;34m(\u001b[0m\u001b[0;36m1996\u001b[0m\u001b[0;34m,\u001b[0m\u001b[0;36m2\u001b[0m\u001b[0;34m,\u001b[0m\u001b[0;36m28\u001b[0m\u001b[0;34m,\u001b[0m\u001b[0;36m12\u001b[0m\u001b[0;34m,\u001b[0m\u001b[0;36m10\u001b[0m\u001b[0;34m,\u001b[0m\u001b[0;36m30\u001b[0m\u001b[0;34m)\u001b[0m\u001b[0;34m\u001b[0m\u001b[0;34m\u001b[0m\u001b[0m\n\u001b[0m\u001b[1;32m      2\u001b[0m \u001b[0mprint\u001b[0m\u001b[0;34m(\u001b[0m\u001b[0mct\u001b[0m\u001b[0;34m)\u001b[0m\u001b[0;34m\u001b[0m\u001b[0;34m\u001b[0m\u001b[0m\n\u001b[1;32m      3\u001b[0m \u001b[0mprint\u001b[0m\u001b[0;34m(\u001b[0m\u001b[0mct\u001b[0m\u001b[0;34m.\u001b[0m\u001b[0myear\u001b[0m\u001b[0;34m)\u001b[0m\u001b[0;34m\u001b[0m\u001b[0;34m\u001b[0m\u001b[0m\n\u001b[1;32m      4\u001b[0m \u001b[0mprint\u001b[0m\u001b[0;34m(\u001b[0m\u001b[0mct\u001b[0m\u001b[0;34m.\u001b[0m\u001b[0mmonth\u001b[0m\u001b[0;34m)\u001b[0m\u001b[0;34m\u001b[0m\u001b[0;34m\u001b[0m\u001b[0m\n",
      "\u001b[0;31mNameError\u001b[0m: name 'cdtime' is not defined"
     ]
    }
   ],
   "source": [
    "ct = cdtime.comptime(1996,2,28,12,10,30)\n",
    "print(ct)\n",
    "print(ct.year)\n",
    "print(ct.month)"
   ]
  },
  {
   "cell_type": "markdown",
   "metadata": {},
   "source": [
    "The conversion functions tocomp and torel convert between the two\n",
    "representations. For instance, suppose that the time axis of a variable\n",
    "is represented in units \" days since 1979\" . To find the coordinate\n",
    "value corresponding to January 1, 1990:"
   ]
  },
  {
   "cell_type": "code",
   "execution_count": 40,
   "metadata": {},
   "outputs": [
    {
     "ename": "NameError",
     "evalue": "name 'cdtime' is not defined",
     "output_type": "error",
     "traceback": [
      "\u001b[0;31m---------------------------------------------------------------------------\u001b[0m",
      "\u001b[0;31mNameError\u001b[0m                                 Traceback (most recent call last)",
      "\u001b[0;32m<ipython-input-40-ede12c41f53b>\u001b[0m in \u001b[0;36m<module>\u001b[0;34m\u001b[0m\n\u001b[0;32m----> 1\u001b[0;31m \u001b[0mct\u001b[0m \u001b[0;34m=\u001b[0m \u001b[0mcdtime\u001b[0m\u001b[0;34m.\u001b[0m\u001b[0mcomptime\u001b[0m\u001b[0;34m(\u001b[0m\u001b[0;36m1990\u001b[0m\u001b[0;34m,\u001b[0m\u001b[0;36m1\u001b[0m\u001b[0;34m)\u001b[0m\u001b[0;34m\u001b[0m\u001b[0;34m\u001b[0m\u001b[0m\n\u001b[0m\u001b[1;32m      2\u001b[0m \u001b[0mrt\u001b[0m \u001b[0;34m=\u001b[0m \u001b[0mct\u001b[0m\u001b[0;34m.\u001b[0m\u001b[0mtorel\u001b[0m\u001b[0;34m(\u001b[0m\u001b[0;34m\"days since 1979\"\u001b[0m\u001b[0;34m)\u001b[0m\u001b[0;34m\u001b[0m\u001b[0;34m\u001b[0m\u001b[0m\n\u001b[1;32m      3\u001b[0m \u001b[0mprint\u001b[0m\u001b[0;34m(\u001b[0m\u001b[0mrt\u001b[0m\u001b[0;34m.\u001b[0m\u001b[0mvalue\u001b[0m\u001b[0;34m)\u001b[0m\u001b[0;34m\u001b[0m\u001b[0;34m\u001b[0m\u001b[0m\n",
      "\u001b[0;31mNameError\u001b[0m: name 'cdtime' is not defined"
     ]
    }
   ],
   "source": [
    "ct = cdtime.comptime(1990,1)\n",
    "rt = ct.torel(\"days since 1979\")\n",
    "print(rt.value)"
   ]
  },
  {
   "cell_type": "markdown",
   "metadata": {},
   "source": [
    "Time values can be used to specify intervals of time to read. The syntax\n",
    "time=(c1,c2) specifies that data should be read for times t such that\n",
    "c1<=t<=c2:"
   ]
  },
  {
   "cell_type": "code",
   "execution_count": 41,
   "metadata": {},
   "outputs": [
    {
     "ename": "NameError",
     "evalue": "name 'cdtime' is not defined",
     "output_type": "error",
     "traceback": [
      "\u001b[0;31m---------------------------------------------------------------------------\u001b[0m",
      "\u001b[0;31mNameError\u001b[0m                                 Traceback (most recent call last)",
      "\u001b[0;32m<ipython-input-41-ba2cd7575774>\u001b[0m in \u001b[0;36m<module>\u001b[0;34m\u001b[0m\n\u001b[1;32m      1\u001b[0m \u001b[0;32mimport\u001b[0m \u001b[0mcdat_info\u001b[0m\u001b[0;34m\u001b[0m\u001b[0;34m\u001b[0m\u001b[0m\n\u001b[1;32m      2\u001b[0m \u001b[0mfh\u001b[0m \u001b[0;34m=\u001b[0m \u001b[0mcdms2\u001b[0m\u001b[0;34m.\u001b[0m\u001b[0mopen\u001b[0m\u001b[0;34m(\u001b[0m\u001b[0;34m\"tas_6h.nc\"\u001b[0m\u001b[0;34m)\u001b[0m\u001b[0;34m\u001b[0m\u001b[0;34m\u001b[0m\u001b[0m\n\u001b[0;32m----> 3\u001b[0;31m \u001b[0mc1\u001b[0m \u001b[0;34m=\u001b[0m \u001b[0mcdtime\u001b[0m\u001b[0;34m.\u001b[0m\u001b[0mcomptime\u001b[0m\u001b[0;34m(\u001b[0m\u001b[0;36m1980\u001b[0m\u001b[0;34m,\u001b[0m\u001b[0;36m1\u001b[0m\u001b[0;34m)\u001b[0m\u001b[0;34m\u001b[0m\u001b[0;34m\u001b[0m\u001b[0m\n\u001b[0m\u001b[1;32m      4\u001b[0m \u001b[0mc2\u001b[0m \u001b[0;34m=\u001b[0m \u001b[0mcdtime\u001b[0m\u001b[0;34m.\u001b[0m\u001b[0mcomptime\u001b[0m\u001b[0;34m(\u001b[0m\u001b[0;36m1980\u001b[0m\u001b[0;34m,\u001b[0m\u001b[0;36m2\u001b[0m\u001b[0;34m)\u001b[0m\u001b[0;34m\u001b[0m\u001b[0;34m\u001b[0m\u001b[0m\n\u001b[1;32m      5\u001b[0m \u001b[0mtas\u001b[0m \u001b[0;34m=\u001b[0m \u001b[0mfh\u001b[0m\u001b[0;34m[\u001b[0m\u001b[0;34m'tas'\u001b[0m\u001b[0;34m]\u001b[0m\u001b[0;34m\u001b[0m\u001b[0;34m\u001b[0m\u001b[0m\n",
      "\u001b[0;31mNameError\u001b[0m: name 'cdtime' is not defined"
     ]
    }
   ],
   "source": [
    "import cdat_info\n",
    "fh = cdms2.open(\"tas_6h.nc\")\n",
    "c1 = cdtime.comptime(1980,1)\n",
    "c2 = cdtime.comptime(1980,2)\n",
    "tas = fh['tas']\n",
    "print(tas.shape)\n",
    "x = tas.subRegion(time=(c1,c2))\n",
    "print(x.shape)"
   ]
  },
  {
   "cell_type": "markdown",
   "metadata": {},
   "source": [
    "or string representations can be used:"
   ]
  },
  {
   "cell_type": "code",
   "execution_count": 42,
   "metadata": {},
   "outputs": [
    {
     "name": "stdout",
     "output_type": "stream",
     "text": [
      "(125, 45, 72)\n"
     ]
    }
   ],
   "source": [
    "tas = fh['tas']\n",
    "x = tas.subRegion(time=('1980-1','1980-2'))\n",
    "print(x.shape)"
   ]
  },
  {
   "cell_type": "markdown",
   "metadata": {},
   "source": [
    "Time types are described in [Chapter 3](https://cdms.readthedocs.io/en/latest/manual/cdms_3.html#module-cdtime)."
   ]
  },
  {
   "cell_type": "code",
   "execution_count": null,
   "metadata": {},
   "outputs": [],
   "source": []
  }
 ],
 "metadata": {
  "kernelspec": {
   "display_name": "Python 3",
   "language": "python",
   "name": "python3"
  },
  "language_info": {
   "codemirror_mode": {
    "name": "ipython",
    "version": 3
   },
   "file_extension": ".py",
   "mimetype": "text/x-python",
   "name": "python",
   "nbconvert_exporter": "python",
   "pygments_lexer": "ipython3",
   "version": "3.6.7"
  }
 },
 "nbformat": 4,
 "nbformat_minor": 2
}
