{
 "cells": [
  {
   "cell_type": "markdown",
   "metadata": {},
   "source": [
    "# Introduction \n",
    "\n",
    "## Overview\n",
    "\n",
    "The Community Data Management System is an object-oriented data management\n",
    "system, specialized for organizing multidimensional, gridded data used\n",
    "in climate analysis and simulation. \n",
    "\n",
    "CDMS is implemented as part of the Climate Data\n",
    "Analysis Tool (CDAT), which uses the Python language. The examples in\n",
    "this chapter assume some familiarity with the language and the Python\n",
    "Numpy module (https://www.numpy.org). A number of excellent tutorials\n",
    "on Python are available in books or on the Internet. For example, see\n",
    "the [Python Foundation's homepage](https://python.org).\n",
    "\n",
    "\n",
    "## Variables\n",
    "\n",
    "The basic unit of computation in CDMS is the variable. A variable is essentially a multidimensional data array, augmented with a domain, a set of attributes, and optionally a spatial and/or temporal coordinate system [(see Coordinate Axes)](https://cdms.readthedocs.io/en/readthedocstest/manual/cdms_1.html#coordinate-axes).  As a data array, a variable can\n",
    "be sliced to obtain a portion of the data, and can be used in arithmetic\n",
    "computations. For example, if ``u`` and ``v`` are variables representing\n",
    "the eastward and northward components of wind speed, respectively, and\n",
    "both variables are functions of time, latitude, and longitude, then the\n",
    "velocity for time 0 (first index) can be calculated as:"
   ]
  },
  {
   "cell_type": "code",
   "execution_count": 42,
   "metadata": {
    "scrolled": true
   },
   "outputs": [],
   "source": [
    "import cdms2\n",
    "from cdms2 import MV2"
   ]
  },
  {
   "cell_type": "code",
   "execution_count": 41,
   "metadata": {},
   "outputs": [
    {
     "name": "stdout",
     "output_type": "stream",
     "text": [
      "(1, 2, 80, 97)\n"
     ]
    }
   ],
   "source": [
    "# Uncomment the line below to donwload \"clt.nc\"\n",
    "# !wget \"https://cdat.llnl.gov/cdat/sample_data/clt.nc\"\n",
    "f1=cdms2.open(\"https://aims3.llnl.gov/thredds/dodsC/user_pub_work/CDAT-sample/v1/clt.nc\")\n",
    "u = f1('u')\n",
    "v = f1('v')\n",
    "from cdms2 import MV2\n",
    "print(u.shape)"
   ]
  },
  {
   "cell_type": "markdown",
   "metadata": {},
   "source": [
    "MV is a module that wraps numpy masked arrays.  It keeps the axes, grid and other attributes."
   ]
  },
  {
   "cell_type": "code",
   "execution_count": 43,
   "metadata": {},
   "outputs": [
    {
     "name": "stdout",
     "output_type": "stream",
     "text": [
      "['units', 'name', 'title', 'tileIndex', 'source', 'time', 'date', 'type']\n",
      "('units: ', 'm/s')\n",
      "   id: plev\n",
      "   Designated a level axis.\n",
      "   units:  hPa\n",
      "   Length: 2\n",
      "   First:  200.0\n",
      "   Last:   850.0\n",
      "   Other axis attributes:\n",
      "      axis: Z\n",
      "      realtopology: linear\n",
      "   Python id:  0x7f96465a10d0\n",
      "\n"
     ]
    },
    {
     "name": "stderr",
     "output_type": "stream",
     "text": [
      "/export/reshel3/anaconda52/envs/cdms2/lib/python2.7/site-packages/numpy/ma/core.py:6652: RuntimeWarning: overflow encountered in power\n",
      "  result = np.where(m, fa, umath.power(fa, fb)).view(basetype)\n"
     ]
    }
   ],
   "source": [
    "vel = MV2.sqrt(u[0]**2 + v[0]**2)\n",
    "print(vel.listattributes())\n",
    "print(\"units: \", vel.units)\n",
    "print(vel.getLevel())"
   ]
  },
  {
   "cell_type": "markdown",
   "metadata": {},
   "source": [
    "## Several Points:\n",
    "\n",
    "-  Square brackets represent the slice operator. Indexing starts at 0,\n",
    "   so ``u[0]`` selects from variable ``u`` for the first timepoint. The\n",
    "   result of this slice operation is another variable. The slice\n",
    "   operator can be multidimensional, and follows the syntax of Numpy\n",
    "   Python arrays. In this example, ``u[0:10,:,1]`` would retrieve data\n",
    "   for the first ten timepoints, at all latitudes, for the second\n",
    "   longitude.\n",
    "-  Variables can be used in computation. ``**`` is the Python\n",
    "   exponentiation operator.\n",
    "-  Arithmetic functions are defined in the ``cdms2.MV2`` module.\n",
    "-  Operations on variables carry along the corresponding metadata where\n",
    "   applicable. In the above example, ``vel`` has the same latitude and\n",
    "   longitude coordinates as ``u`` and ``v``, and the time coordinate is\n",
    "   the first time of ``u`` and ``v``."
   ]
  },
  {
   "cell_type": "code",
   "execution_count": 44,
   "metadata": {},
   "outputs": [
    {
     "ename": "SyntaxError",
     "evalue": "invalid syntax (<ipython-input-44-56f365520c5d>, line 1)",
     "output_type": "error",
     "traceback": [
      "\u001b[0;36m  File \u001b[0;32m\"<ipython-input-44-56f365520c5d>\"\u001b[0;36m, line \u001b[0;32m1\u001b[0m\n\u001b[0;31m    print u([0:10,:,1])\u001b[0m\n\u001b[0m              ^\u001b[0m\n\u001b[0;31mSyntaxError\u001b[0m\u001b[0;31m:\u001b[0m invalid syntax\n"
     ]
    }
   ],
   "source": [
    "print u([0:10,:,1])"
   ]
  },
  {
   "cell_type": "markdown",
   "metadata": {},
   "source": [
    "# File I/O\n",
    "\n",
    "\n",
    "A variable can be obtained from a file or collection of files, or can be\n",
    "generated as the result of a computation. Files can be in any of the\n",
    "self- describing formats `netCDF`, `HDF`, `GrADS/GRIB` *(GRIB with a GrADS\n",
    "control file)*, or `PCMDI DRS`. (HDF and DRS support is optional, and is\n",
    "configured at the time CDMS is installed.) For instance, here is an example to read data\n",
    "from file clt.nc into variable u."
   ]
  },
  {
   "cell_type": "code",
   "execution_count": 45,
   "metadata": {},
   "outputs": [
    {
     "data": {
      "text/plain": [
       "(1, 2, 80, 97)"
      ]
     },
     "execution_count": 45,
     "metadata": {},
     "output_type": "execute_result"
    }
   ],
   "source": [
    "f = cdms2.open('https://aims3.llnl.gov/thredds/dodsC/user_pub_work/CDAT-sample/v1/clt.nc')\n",
    "u = f('u')\n",
    "u.shape"
   ]
  },
  {
   "cell_type": "markdown",
   "metadata": {},
   "source": [
    "Data can be read by index or by world coordinate values. The following reads the `n-th` timepoint of `u` *(the syntax slice(i,j)* refers to indices `k` such that `i <= k < j`):"
   ]
  },
  {
   "cell_type": "code",
   "execution_count": 46,
   "metadata": {},
   "outputs": [
    {
     "data": {
      "text/plain": [
       "(1, 2, 80, 97)"
      ]
     },
     "execution_count": 46,
     "metadata": {},
     "output_type": "execute_result"
    }
   ],
   "source": [
    "n=0\n",
    "u0 = f('u',time=slice(n,n+1))\n",
    "u0.shape"
   ]
  },
  {
   "cell_type": "markdown",
   "metadata": {},
   "source": [
    "To read u at time 1:"
   ]
  },
  {
   "cell_type": "code",
   "execution_count": 47,
   "metadata": {},
   "outputs": [
    {
     "data": {
      "text/plain": [
       "(1, 2, 80, 97)"
      ]
     },
     "execution_count": 47,
     "metadata": {},
     "output_type": "execute_result"
    }
   ],
   "source": [
    "l = f('u',time=1.)\n",
    "l.shape"
   ]
  },
  {
   "cell_type": "markdown",
   "metadata": {},
   "source": [
    "A variable can be written to a file follwoing the CF-1 convention with the write function:"
   ]
  },
  {
   "cell_type": "code",
   "execution_count": 48,
   "metadata": {},
   "outputs": [
    {
     "name": "stdout",
     "output_type": "stream",
     "text": [
      "netcdf sample2 {\r\n",
      "dimensions:\r\n",
      "\ttime1 = UNLIMITED ; // (1 currently)\r\n",
      "\tplev = 2 ;\r\n",
      "\tlatitude1 = 80 ;\r\n",
      "\tbound = 2 ;\r\n",
      "\tlongitude1 = 97 ;\r\n",
      "variables:\r\n",
      "\tfloat time1(time1) ;\r\n",
      "\t\ttime1:units = \"months since 1978-12\" ;\r\n",
      "\t\ttime1:calendar = \"gregorian\" ;\r\n",
      "\t\ttime1:axis = \"T\" ;\r\n",
      "\tfloat plev(plev) ;\r\n",
      "\t\tplev:units = \"hPa\" ;\r\n",
      "\t\tplev:axis = \"Z\" ;\r\n",
      "\t\tplev:realtopology = \"linear\" ;\r\n",
      "\tfloat latitude1(latitude1) ;\r\n",
      "\t\tlatitude1:bounds = \"bounds_latitude1\" ;\r\n",
      "\t\tlatitude1:units = \"degrees_north\" ;\r\n",
      "\t\tlatitude1:axis = \"Y\" ;\r\n",
      "\t\tlatitude1:realtopology = \"linear\" ;\r\n",
      "\tdouble bounds_latitude1(latitude1, bound) ;\r\n",
      "\tfloat longitude1(longitude1) ;\r\n",
      "\t\tlongitude1:bounds = \"bounds_longitude1\" ;\r\n",
      "\t\tlongitude1:units = \"degrees_east\" ;\r\n",
      "\t\tlongitude1:axis = \"X\" ;\r\n",
      "\t\tlongitude1:topology = \"circular\" ;\r\n",
      "\t\tlongitude1:modulo = 360. ;\r\n",
      "\t\tlongitude1:realtopology = \"linear\" ;\r\n",
      "\tdouble bounds_longitude1(longitude1, bound) ;\r\n",
      "\tfloat u(time1, plev, latitude1, longitude1) ;\r\n",
      "\t\tu:_FillValue = 1.e+20f ;\r\n",
      "\t\tu:missing_value = 1.e+20f ;\r\n",
      "\t\tu:units = \"m/s\" ;\r\n",
      "\t\tu:name = \"u\" ;\r\n",
      "\t\tu:title = \"Monthly Mean Eastward Wind Speed\" ;\r\n",
      "\t\tu:source = \"BMRC BMRC2.3 R31L19 VIlp AMIP 10 Year Simulation ( 1979-1988 )\" ;\r\n",
      "\t\tu:time = \"14:10:00\" ;\r\n",
      "\t\tu:date = \"2/26/93\" ;\r\n",
      "\t\tu:type = \"R*4\" ;\r\n",
      "\r\n",
      "// global attributes:\r\n",
      "\t\t:Conventions = \"CF-1.0\" ;\r\n",
      "}\r\n"
     ]
    },
    {
     "name": "stderr",
     "output_type": "stream",
     "text": [
      "/export/reshel3/anaconda52/envs/cdms2/lib/python2.7/site-packages/cdms2/dataset.py:2187: Warning: Files are written with compression and no shuffling\n",
      "You can query different values of compression using the functions:\n",
      "cdms2.getNetcdfShuffleFlag() returning 1 if shuffling is enabled, 0 otherwise\n",
      "cdms2.getNetcdfDeflateFlag() returning 1 if deflate is used, 0 otherwise\n",
      "cdms2.getNetcdfDeflateLevelFlag() returning the level of compression for the deflate method\n",
      "\n",
      "If you want to turn that off or set different values of compression use the functions:\n",
      "value = 0\n",
      "cdms2.setNetcdfShuffleFlag(value) ## where value is either 0 or 1\n",
      "cdms2.setNetcdfDeflateFlag(value) ## where value is either 0 or 1\n",
      "cdms2.setNetcdfDeflateLevelFlag(value) ## where value is a integer between 0 and 9 included\n",
      "\n",
      "To produce NetCDF3 Classic files use:\n",
      "cdms2.useNetCDF3()\n",
      "To Force NetCDF4 output with classic format and no compressing use:\n",
      "cdms2.setNetcdf4Flag(1)\n",
      "NetCDF4 file with no shuffling or deflate and noclassic will be open for parallel i/o\n",
      "  \"for parallel i/o\", Warning)\n"
     ]
    }
   ],
   "source": [
    "g = cdms2.open('sample2.nc','w')\n",
    "g.write(u) \n",
    "g.close()\n",
    "!ncdump -h sample2.nc"
   ]
  },
  {
   "cell_type": "markdown",
   "metadata": {},
   "source": [
    "# Coordinate Axes\n",
    "\n",
    "\n",
    "A coordinate axis is a variable that represents coordinate information.\n",
    "Typically an axis is associated with one or more variables in a file or\n",
    "dataset, to represent the indexing and/or spatiotemporal coordinate\n",
    "system(s) of the variable(s).\n",
    "\n",
    "Often in climate applications an axis is a one-dimensional variable\n",
    "whose values are floating-point and strictly monotonic. In some cases an\n",
    "axis can be multidimensional (see `Grids`). If an axis is\n",
    "associated with one of the canonical types latitude, longitude, level,\n",
    "or time, then the axis is called temporal .\n",
    "\n",
    "The shape and physical ordering of a variable is represented by the\n",
    "variables domain , an ordered tuple of one-dimensional axes. In the\n",
    "previous example, the domain of the variable u is the tuple (time,\n",
    "latitude, longitude). This indicates the order of the dimensions, with\n",
    "the slowest-varying dimension listed first (time). The domain may be\n",
    "accessed with the ``getAxisList()`` method:\n"
   ]
  },
  {
   "cell_type": "code",
   "execution_count": 49,
   "metadata": {},
   "outputs": [
    {
     "data": {
      "text/plain": [
       "[   id: time1\n",
       "    Designated a time axis.\n",
       "    units:  months since 1978-12\n",
       "    Length: 1\n",
       "    First:  1.0\n",
       "    Last:   1.0\n",
       "    Other axis attributes:\n",
       "       calendar: gregorian\n",
       "       axis: T\n",
       "    Python id:  0x7f96465a1b50,    id: plev\n",
       "    Designated a level axis.\n",
       "    units:  hPa\n",
       "    Length: 2\n",
       "    First:  200.0\n",
       "    Last:   850.0\n",
       "    Other axis attributes:\n",
       "       axis: Z\n",
       "       realtopology: linear\n",
       "    Python id:  0x7f96465a1090,    id: latitude1\n",
       "    Designated a latitude axis.\n",
       "    units:  degrees_north\n",
       "    Length: 80\n",
       "    First:  -88.2884\n",
       "    Last:   88.2884\n",
       "    Other axis attributes:\n",
       "       axis: Y\n",
       "       realtopology: linear\n",
       "    Python id:  0x7f96465a1050,    id: longitude1\n",
       "    Designated a longitude axis.\n",
       "    units:  degrees_east\n",
       "    Length: 97\n",
       "    First:  -180.0\n",
       "    Last:   180.0\n",
       "    Other axis attributes:\n",
       "       axis: X\n",
       "       topology: circular\n",
       "       modulo: 360.0\n",
       "       realtopology: linear\n",
       "    Python id:  0x7f96465a1c50]"
      ]
     },
     "execution_count": 49,
     "metadata": {},
     "output_type": "execute_result"
    }
   ],
   "source": [
    "u.getAxisList() "
   ]
  },
  {
   "cell_type": "markdown",
   "metadata": {},
   "source": [
    "In the above example, the domain elements are axes that are also\n",
    "spatiotemporal. In general it is not always the case that an element of\n",
    "a domain is spatio-temporal: \n",
    "\n",
    "-  An axis in the domain of a variable need not be spatiotemporal. For\n",
    "   example, it may represent a range of indices, an index coordinate\n",
    "   system.\n",
    "-  The latitude and/or longitude coordinate axes associated with a\n",
    "   variable need not be elements of the domain. In particular this will\n",
    "   be true if the variable is defined on a non-rectangular grid (see Grids <#grids>`__).\n",
    "\n",
    "As previously noted, a spatial and/or temporal coordinate system may be\n",
    "associated with a variable. The methods getLatitude, getLongitude,\n",
    "getLevel, and getTime return the associated coordinate axes. For\n",
    "example:"
   ]
  },
  {
   "cell_type": "code",
   "execution_count": 50,
   "metadata": {},
   "outputs": [
    {
     "name": "stdout",
     "output_type": "stream",
     "text": [
      "[1.]\n",
      "months since 1978-12\n"
     ]
    }
   ],
   "source": [
    "t = u.getTime()\n",
    "print(t[:])\n",
    "print(t.units)"
   ]
  },
  {
   "cell_type": "markdown",
   "metadata": {},
   "source": [
    "## Attributes\n",
    "\n",
    "As mentioned above, variables can have associated attributes ,\n",
    "name-value pairs. In fact, nearly all CDMS objects can have associated\n",
    "attributes, which are accessed using the Python dot notation:"
   ]
  },
  {
   "cell_type": "code",
   "execution_count": 52,
   "metadata": {},
   "outputs": [
    {
     "name": "stdout",
     "output_type": "stream",
     "text": [
      "m/s\n"
     ]
    }
   ],
   "source": [
    "u.units='m/s'\n",
    "print(u.units)"
   ]
  },
  {
   "cell_type": "markdown",
   "metadata": {},
   "source": [
    "Attribute values can be strings, scalars, or 1-D Numpy arrays.\n",
    "\n",
    "When a variable is written to a file, not all the attributes are\n",
    "written. Some attributes, called internal attributes, are used for\n",
    "bookkeeping, and are not intended to be part of the external file\n",
    "representation of the variable. In contrast, external attributes are\n",
    "written to an output file along with the variable. By default, when an\n",
    "attribute is set, it is treated as external. Every variable has a field\n",
    "attributes, a Python dictionary that defines the external attributes:"
   ]
  },
  {
   "cell_type": "code",
   "execution_count": 53,
   "metadata": {},
   "outputs": [
    {
     "name": "stdout",
     "output_type": "stream",
     "text": [
      "['name', 'title', 'tileIndex', 'date', 'source', 'time', 'units', 'type']\n"
     ]
    }
   ],
   "source": [
    "print(u.attributes.keys())"
   ]
  },
  {
   "cell_type": "markdown",
   "metadata": {},
   "source": [
    "The Python dir command lists the internal attribute names:"
   ]
  },
  {
   "cell_type": "code",
   "execution_count": 54,
   "metadata": {},
   "outputs": [
    {
     "data": {
      "text/plain": [
       "['T',\n",
       " '_FillValue',\n",
       " '_TransientVariable__domain',\n",
       " '_TransientVariable__getMPIType',\n",
       " '_TransientVariable__getSlab',\n",
       " '_TransientVariable__mpiComm',\n",
       " '_TransientVariable__mpiType',\n",
       " '_TransientVariable__mpiWindows',\n",
       " '___cdms_internals__',\n",
       " '__abs__',\n",
       " '__add__',\n",
       " '__and__',\n",
       " '__array__',\n",
       " '__array_finalize__',\n",
       " '__array_interface__',\n",
       " '__array_prepare__',\n",
       " '__array_priority__',\n",
       " '__array_struct__',\n",
       " '__array_ufunc__',\n",
       " '__array_wrap__',\n",
       " '__call__',\n",
       " '__cdms_internals__',\n",
       " '__class__',\n",
       " '__complex__',\n",
       " '__contains__',\n",
       " '__copy__',\n",
       " '__deepcopy__',\n",
       " '__delattr__',\n",
       " '__delitem__',\n",
       " '__dict__',\n",
       " '__div__',\n",
       " '__divmod__',\n",
       " '__doc__',\n",
       " '__eq__',\n",
       " '__float__',\n",
       " '__floordiv__',\n",
       " '__format__',\n",
       " '__ge__',\n",
       " '__getattribute__',\n",
       " '__getitem__',\n",
       " '__getslice__',\n",
       " '__getstate__',\n",
       " '__gt__',\n",
       " '__hash__',\n",
       " '__hex__',\n",
       " '__iadd__',\n",
       " '__iand__',\n",
       " '__idiv__',\n",
       " '__ifloordiv__',\n",
       " '__ilshift__',\n",
       " '__imod__',\n",
       " '__imul__',\n",
       " '__index__',\n",
       " '__init__',\n",
       " '__int__',\n",
       " '__invert__',\n",
       " '__ior__',\n",
       " '__ipow__',\n",
       " '__irshift__',\n",
       " '__isub__',\n",
       " '__iter__',\n",
       " '__itruediv__',\n",
       " '__ixor__',\n",
       " '__le__',\n",
       " '__len__',\n",
       " '__long__',\n",
       " '__lshift__',\n",
       " '__lt__',\n",
       " '__mod__',\n",
       " '__module__',\n",
       " '__mul__',\n",
       " '__ne__',\n",
       " '__neg__',\n",
       " '__new__',\n",
       " '__nonzero__',\n",
       " '__oct__',\n",
       " '__or__',\n",
       " '__pos__',\n",
       " '__pow__',\n",
       " '__radd__',\n",
       " '__rand__',\n",
       " '__rdiv__',\n",
       " '__rdivmod__',\n",
       " '__reduce__',\n",
       " '__reduce_ex__',\n",
       " '__repr__',\n",
       " '__rfloordiv__',\n",
       " '__rlshift__',\n",
       " '__rmod__',\n",
       " '__rmul__',\n",
       " '__ror__',\n",
       " '__rpow__',\n",
       " '__rrshift__',\n",
       " '__rshift__',\n",
       " '__rsub__',\n",
       " '__rtruediv__',\n",
       " '__rxor__',\n",
       " '__setattr__',\n",
       " '__setitem__',\n",
       " '__setmask__',\n",
       " '__setslice__',\n",
       " '__setstate__',\n",
       " '__sizeof__',\n",
       " '__sqrt__',\n",
       " '__str__',\n",
       " '__sub__',\n",
       " '__subclasshook__',\n",
       " '__truediv__',\n",
       " '__unicode__',\n",
       " '__weakref__',\n",
       " '__xor__',\n",
       " '_baseclass',\n",
       " '_basedict',\n",
       " '_comparison',\n",
       " '_data',\n",
       " '_decodedType',\n",
       " '_defaulthardmask',\n",
       " '_defaultmask',\n",
       " '_delegate_binop',\n",
       " '_fill_value',\n",
       " '_getShape',\n",
       " '_get_data',\n",
       " '_get_flat',\n",
       " '_get_mask',\n",
       " '_get_recordmask',\n",
       " '_getinternals',\n",
       " '_getmissing',\n",
       " '_grid_',\n",
       " '_hardmask',\n",
       " '_insert_masked_print',\n",
       " '_isfield',\n",
       " '_listatts',\n",
       " '_mask',\n",
       " '_missing',\n",
       " '_node_',\n",
       " '_optinfo',\n",
       " '_print_width',\n",
       " '_print_width_1d',\n",
       " '_process_specs',\n",
       " '_returnArray',\n",
       " '_set_flat',\n",
       " '_set_mask',\n",
       " '_set_recordmask',\n",
       " '_setatts',\n",
       " '_setinternals',\n",
       " '_setmissing',\n",
       " '_sharedmask',\n",
       " '_single_specs',\n",
       " '_update_from',\n",
       " 'all',\n",
       " 'anom',\n",
       " 'any',\n",
       " 'argmax',\n",
       " 'argmin',\n",
       " 'argpartition',\n",
       " 'argsort',\n",
       " 'ascontiguous',\n",
       " 'ascontiguousarray',\n",
       " 'asma',\n",
       " 'assignValue',\n",
       " 'astype',\n",
       " 'attributes',\n",
       " 'base',\n",
       " 'baseclass',\n",
       " 'byteswap',\n",
       " 'choose',\n",
       " 'clip',\n",
       " 'clone',\n",
       " 'compress',\n",
       " 'compressed',\n",
       " 'conj',\n",
       " 'conjugate',\n",
       " 'copy',\n",
       " 'copyAxis',\n",
       " 'copyDomain',\n",
       " 'copydimension',\n",
       " 'count',\n",
       " 'createattribute',\n",
       " 'crossSectionRegrid',\n",
       " 'ctypes',\n",
       " 'cumprod',\n",
       " 'cumsum',\n",
       " 'data',\n",
       " 'date',\n",
       " 'decode',\n",
       " 'deleteattribute',\n",
       " 'diagonal',\n",
       " 'dot',\n",
       " 'dtype',\n",
       " 'dump',\n",
       " 'dumps',\n",
       " 'expertSlice',\n",
       " 'exposeHalo',\n",
       " 'fetchHaloData',\n",
       " 'fill',\n",
       " 'fill_value',\n",
       " 'filled',\n",
       " 'flags',\n",
       " 'flat',\n",
       " 'flatten',\n",
       " 'freeHalo',\n",
       " 'generateGridkey',\n",
       " 'generateRectGridkey',\n",
       " 'getAxis',\n",
       " 'getAxisIds',\n",
       " 'getAxisIndex',\n",
       " 'getAxisList',\n",
       " 'getAxisListIndex',\n",
       " 'getConvention',\n",
       " 'getDomain',\n",
       " 'getForecast',\n",
       " 'getForecastTime',\n",
       " 'getGrid',\n",
       " 'getGridIndices',\n",
       " 'getHaloEllipsis',\n",
       " 'getLatitude',\n",
       " 'getLevel',\n",
       " 'getLongitude',\n",
       " 'getMPIRank',\n",
       " 'getMPISize',\n",
       " 'getMissing',\n",
       " 'getOrder',\n",
       " 'getRegion',\n",
       " 'getSlice',\n",
       " 'getTileIndex',\n",
       " 'getTime',\n",
       " 'getValue',\n",
       " 'get_fill_value',\n",
       " 'get_imag',\n",
       " 'get_real',\n",
       " 'getattribute',\n",
       " 'getdimattribute',\n",
       " 'getfield',\n",
       " 'harden_mask',\n",
       " 'hardmask',\n",
       " 'hasCellData',\n",
       " 'id',\n",
       " 'ids',\n",
       " 'imag',\n",
       " 'info',\n",
       " 'initDomain',\n",
       " 'isAbstractCoordinate',\n",
       " 'isEncoded',\n",
       " 'iscontiguous',\n",
       " 'item',\n",
       " 'itemset',\n",
       " 'itemsize',\n",
       " 'listall',\n",
       " 'listattributes',\n",
       " 'listdimattributes',\n",
       " 'listdimnames',\n",
       " 'mask',\n",
       " 'matchPattern',\n",
       " 'matchone',\n",
       " 'max',\n",
       " 'mean',\n",
       " 'min',\n",
       " 'mini',\n",
       " 'missing',\n",
       " 'missing_value',\n",
       " 'name',\n",
       " 'nbytes',\n",
       " 'ndim',\n",
       " 'newbyteorder',\n",
       " 'nonzero',\n",
       " 'parent',\n",
       " 'partition',\n",
       " 'pressureRegrid',\n",
       " 'prod',\n",
       " 'product',\n",
       " 'ptp',\n",
       " 'put',\n",
       " 'rank',\n",
       " 'ravel',\n",
       " 'real',\n",
       " 'recordmask',\n",
       " 'reg_specs2slices',\n",
       " 'regrid',\n",
       " 'reorder',\n",
       " 'repeat',\n",
       " 'reshape',\n",
       " 'resize',\n",
       " 'round',\n",
       " 'searchPattern',\n",
       " 'searchPredicate',\n",
       " 'searchone',\n",
       " 'searchsorted',\n",
       " 'select',\n",
       " 'setAxis',\n",
       " 'setAxisList',\n",
       " 'setGrid',\n",
       " 'setMPIComm',\n",
       " 'setMaskFromGridMask',\n",
       " 'setMissing',\n",
       " 'setTileIndex',\n",
       " 'set_fill_value',\n",
       " 'setattribute',\n",
       " 'setdimattribute',\n",
       " 'setfield',\n",
       " 'setflags',\n",
       " 'shape',\n",
       " 'sharedmask',\n",
       " 'showdim',\n",
       " 'shrink_mask',\n",
       " 'size',\n",
       " 'soften_mask',\n",
       " 'sort',\n",
       " 'source',\n",
       " 'specs2slices',\n",
       " 'squeeze',\n",
       " 'std',\n",
       " 'std_slab_atts',\n",
       " 'strides',\n",
       " 'subRegion',\n",
       " 'subSlice',\n",
       " 'sum',\n",
       " 'swapaxes',\n",
       " 'take',\n",
       " 'tileIndex',\n",
       " 'time',\n",
       " 'title',\n",
       " 'toVisit',\n",
       " 'tobytes',\n",
       " 'tofile',\n",
       " 'toflex',\n",
       " 'tolist',\n",
       " 'torecords',\n",
       " 'tostring',\n",
       " 'trace',\n",
       " 'transpose',\n",
       " 'type',\n",
       " 'typecode',\n",
       " 'units',\n",
       " 'unshare_mask',\n",
       " 'var',\n",
       " 'variable_count',\n",
       " 'view']"
      ]
     },
     "execution_count": 54,
     "metadata": {},
     "output_type": "execute_result"
    }
   ],
   "source": [
    "dir(u)"
   ]
  },
  {
   "cell_type": "markdown",
   "metadata": {},
   "source": [
    "In general internal attributes should not be modified directly. One\n",
    "exception is the id attribute, the name of the variable. It is used in\n",
    "plotting and I/O, and can be set directly."
   ]
  },
  {
   "cell_type": "markdown",
   "metadata": {},
   "source": []
  },
  {
   "cell_type": "markdown",
   "metadata": {},
   "source": [
    "## Masked values\n",
    "\n",
    "Optionally, variables have a mask that represents where data are\n",
    "missing. If present, the mask is an array of ones and zeros having the\n",
    "shape of the data array. A mask value of one indicates that the\n",
    "corresponding data array element is missing or invalid.\n",
    "\n",
    "Arithmetic operations in CDMS take missing data into account. The same\n",
    "is true of the functions defined in the MV2 module. For example:\n",
    "\n"
   ]
  },
  {
   "cell_type": "code",
   "execution_count": 1,
   "metadata": {},
   "outputs": [
    {
     "data": {
      "text/plain": [
       "variable_6\n",
       "masked_array(data=[5, --, 9],\n",
       "             mask=[False,  True, False],\n",
       "       fill_value=999999)"
      ]
     },
     "execution_count": 1,
     "metadata": {},
     "output_type": "execute_result"
    }
   ],
   "source": [
    "import MV2\n",
    "a = MV2.array([1,2,3]) # Create array a, with no mask\n",
    "b = MV2.array([4,5,6]) # Same for b\n",
    "a+b # variable_... array([5,7,9,]) \n",
    "\n",
    "a[1]=MV2.masked # Mask the second value of a a.mask()\n",
    "a.mask\n",
    "\n",
    "a+b # The sum is masked also "
   ]
  },
  {
   "cell_type": "markdown",
   "metadata": {},
   "source": [
    "When data is read from a file, the result variable is masked if the file\n",
    "variable has a ``fill_value`` attribute. The mask is set to one for\n",
    "those elements equal to the missing value, zero elsewhere. If no such\n",
    "attribute is present in the file, the result variable is not masked.\n",
    "\n",
    "When a variable with masked values is written to a file, data values\n",
    "with a corresponding mask value of one are set to the value of the\n",
    "variables ``missing_value`` attribute. The data and ``missing_value``\n",
    "attribute are then written to the file.\n",
    "\n",
    "[https://www.numpy.org/](https://www.numpy.org/)."
   ]
  },
  {
   "cell_type": "markdown",
   "metadata": {},
   "source": [
    "---"
   ]
  },
  {
   "cell_type": "markdown",
   "metadata": {},
   "source": [
    "## File Variables\n",
    "\n",
    "A variable can be obtained either from a file, a collection of files, or\n",
    "as the result of computation. Correspondingly there are three types of\n",
    "variables in CDMS:\n",
    "\n",
    "-  *file variable* is a variable associated with a single data file.\n",
    "   Setting or referencing a file variable generates I/O operations.\n",
    "-  A *dataset variable* is a variable associated with a collection of\n",
    "   files. Reference to a dataset variable reads data, possibly from\n",
    "   multiple files. Dataset variables are read-only.\n",
    "-  *transient variable* is an in-memory object not associated with a\n",
    "   file or dataset. Transient variables result from a computation or I/O\n",
    "   operation.\n",
    "\n",
    "Typical use of a file variables is to inquire information about the\n",
    "variable in a file without actually reading the data for the variables.\n",
    "A file variable is obtained by applying the slice operator [] to a file,\n",
    "passing the name of the variable, or by calling the getVariable\n",
    "function. Note that obtaining a file variable does not actually read the\n",
    "data array:"
   ]
  },
  {
   "cell_type": "code",
   "execution_count": 55,
   "metadata": {},
   "outputs": [
    {
     "data": {
      "text/plain": [
       "(1, 2, 80, 97)"
      ]
     },
     "execution_count": 55,
     "metadata": {},
     "output_type": "execute_result"
    }
   ],
   "source": [
    "u = f.getVariable('u') # or u=f['u']\n",
    "u.shape \n"
   ]
  },
  {
   "cell_type": "markdown",
   "metadata": {},
   "source": [
    "File variables are also useful for fine-grained I/O. They behave like\n",
    "transient variables, but operations on them also affect the associated\n",
    "file. Specifically:\n",
    "\n",
    "-  slicing a file variable reads data,\n",
    "-  setting a slice writes data,\n",
    "-  referencing an attribute reads the attribute,\n",
    "-  setting an attribute writes the attribute,\n",
    "-  and calling a file variable like a function reads data associated\n",
    "   with the variable:"
   ]
  },
  {
   "cell_type": "code",
   "execution_count": 2,
   "metadata": {},
   "outputs": [
    {
     "name": "stdout",
     "output_type": "stream",
     "text": [
      "--2019-02-07 14:16:04--  http://cdat.llnl.gov/cdat/sample_data/clt.nc\n",
      "Resolving cdat.llnl.gov... 198.128.245.146\n",
      "Connecting to cdat.llnl.gov|198.128.245.146|:80... connected.\n",
      "HTTP request sent, awaiting response... 302 Found\n",
      "Location: https://cdat.llnl.gov/cdat/sample_data/clt.nc [following]\n",
      "--2019-02-07 14:16:04--  https://cdat.llnl.gov/cdat/sample_data/clt.nc\n",
      "Connecting to cdat.llnl.gov|198.128.245.146|:443... connected.\n",
      "HTTP request sent, awaiting response... 200 OK\n",
      "Length: 1718908 (1.6M) [application/x-netcdf]\n",
      "Saving to: “clt.nc.1”\n",
      "\n",
      "100%[======================================>] 1,718,908   --.-K/s   in 0.03s   \n",
      "\n",
      "2019-02-07 14:16:04 (64.9 MB/s) - “clt.nc.1” saved [1718908/1718908]\n",
      "\n"
     ]
    },
    {
     "ename": "NameError",
     "evalue": "name 'cdms2' is not defined",
     "output_type": "error",
     "traceback": [
      "\u001b[0;31m---------------------------------------------------------------------------\u001b[0m",
      "\u001b[0;31mNameError\u001b[0m                                 Traceback (most recent call last)",
      "\u001b[0;32m<ipython-input-2-14d4d6336e31>\u001b[0m in \u001b[0;36m<module>\u001b[0;34m()\u001b[0m\n\u001b[1;32m      3\u001b[0m \u001b[0mos\u001b[0m\u001b[0;34m.\u001b[0m\u001b[0msystem\u001b[0m\u001b[0;34m(\u001b[0m\u001b[0;34m\"cp clt.nc /tmp\"\u001b[0m\u001b[0;34m)\u001b[0m\u001b[0;34m\u001b[0m\u001b[0m\n\u001b[1;32m      4\u001b[0m \u001b[0;34m\u001b[0m\u001b[0m\n\u001b[0;32m----> 5\u001b[0;31m \u001b[0mf\u001b[0m \u001b[0;34m=\u001b[0m \u001b[0mcdms2\u001b[0m\u001b[0;34m.\u001b[0m\u001b[0mopen\u001b[0m\u001b[0;34m(\u001b[0m\u001b[0;34m'/tmp/clt.nc'\u001b[0m\u001b[0;34m,\u001b[0m\u001b[0;34m'a'\u001b[0m\u001b[0;34m)\u001b[0m \u001b[0;31m# Open read/write\u001b[0m\u001b[0;34m\u001b[0m\u001b[0m\n\u001b[0m\u001b[1;32m      6\u001b[0m \u001b[0muvar\u001b[0m \u001b[0;34m=\u001b[0m \u001b[0mf\u001b[0m\u001b[0;34m[\u001b[0m\u001b[0;34m'u'\u001b[0m\u001b[0;34m]\u001b[0m \u001b[0;31m# Note square brackets\u001b[0m\u001b[0;34m\u001b[0m\u001b[0m\n\u001b[1;32m      7\u001b[0m \u001b[0muvar\u001b[0m\u001b[0;34m.\u001b[0m\u001b[0mshape\u001b[0m\u001b[0;34m\u001b[0m\u001b[0m\n",
      "\u001b[0;31mNameError\u001b[0m: name 'cdms2' is not defined"
     ]
    }
   ],
   "source": [
    "!wget  http://cdat.llnl.gov/cdat/sample_data/clt.nc\n",
    "import os\n",
    "os.system(\"cp clt.nc /tmp\")\n",
    "\n",
    "f = cdms2.open('/tmp/clt.nc','a') # Open read/write\n",
    "uvar = f['u'] # Note square brackets\n",
    "uvar.shape\n",
    "\n",
    "u0 = uvar[0] # Reads data from sample.nc\n",
    "u0.shape\n",
    "\n"
   ]
  },
  {
   "cell_type": "markdown",
   "metadata": {},
   "source": [
    "### Writes data to file sample.nc"
   ]
  },
  {
   "cell_type": "code",
   "execution_count": 56,
   "metadata": {},
   "outputs": [
    {
     "ename": "NameError",
     "evalue": "name 'uvar' is not defined",
     "output_type": "error",
     "traceback": [
      "\u001b[0;31m---------------------------------------------------------------------------\u001b[0m",
      "\u001b[0;31mNameError\u001b[0m                                 Traceback (most recent call last)",
      "\u001b[0;32m<ipython-input-56-28ae6365abfc>\u001b[0m in \u001b[0;36m<module>\u001b[0;34m()\u001b[0m\n\u001b[0;32m----> 1\u001b[0;31m \u001b[0muvar\u001b[0m\u001b[0;34m[\u001b[0m\u001b[0;36m1\u001b[0m\u001b[0;34m]\u001b[0m\u001b[0;34m=\u001b[0m\u001b[0mu0\u001b[0m \u001b[0;31m# Writes data to sample.nc\u001b[0m\u001b[0;34m\u001b[0m\u001b[0m\n\u001b[0m\u001b[1;32m      2\u001b[0m \u001b[0muvar\u001b[0m\u001b[0;34m.\u001b[0m\u001b[0munits\u001b[0m \u001b[0;31m# Reads the attribute 'm/s'\u001b[0m\u001b[0;34m\u001b[0m\u001b[0m\n",
      "\u001b[0;31mNameError\u001b[0m: name 'uvar' is not defined"
     ]
    }
   ],
   "source": [
    "uvar[1]=u0 # Writes data to sample.nc\n",
    "uvar.units # Reads the attribute 'm/s'"
   ]
  },
  {
   "cell_type": "markdown",
   "metadata": {},
   "source": [
    "### Calling  a variable like a function reads data"
   ]
  },
  {
   "cell_type": "code",
   "execution_count": 57,
   "metadata": {},
   "outputs": [
    {
     "ename": "NameError",
     "evalue": "name 'uvar' is not defined",
     "output_type": "error",
     "traceback": [
      "\u001b[0;31m---------------------------------------------------------------------------\u001b[0m",
      "\u001b[0;31mNameError\u001b[0m                                 Traceback (most recent call last)",
      "\u001b[0;32m<ipython-input-57-f4b96b1649a8>\u001b[0m in \u001b[0;36m<module>\u001b[0;34m()\u001b[0m\n\u001b[0;32m----> 1\u001b[0;31m \u001b[0mu24\u001b[0m \u001b[0;34m=\u001b[0m \u001b[0muvar\u001b[0m\u001b[0;34m(\u001b[0m\u001b[0mtime\u001b[0m\u001b[0;34m=\u001b[0m\u001b[0;36m1.0\u001b[0m\u001b[0;34m)\u001b[0m \u001b[0;31m# Calling  a variable like a function reads data\u001b[0m\u001b[0;34m\u001b[0m\u001b[0m\n\u001b[0m\u001b[1;32m      2\u001b[0m \u001b[0mf\u001b[0m\u001b[0;34m.\u001b[0m\u001b[0mclose\u001b[0m\u001b[0;34m(\u001b[0m\u001b[0;34m)\u001b[0m \u001b[0;31m# Save changes to clt.nc (I/O may be buffered)\u001b[0m\u001b[0;34m\u001b[0m\u001b[0m\n",
      "\u001b[0;31mNameError\u001b[0m: name 'uvar' is not defined"
     ]
    }
   ],
   "source": [
    "u24 = uvar(time=1.0) # Calling  a variable like a function reads data\n",
    "f.close() # Save changes to clt.nc (I/O may be buffered)"
   ]
  },
  {
   "cell_type": "markdown",
   "metadata": {},
   "source": [
    "For transient variables, the data is printed only if the size of the array is less\n",
    "than the print limit . This value can be set with the function\n",
    "MV2.set_print_limit to force the data to be printed:"
   ]
  },
  {
   "cell_type": "code",
   "execution_count": 58,
   "metadata": {},
   "outputs": [
    {
     "name": "stdout",
     "output_type": "stream",
     "text": [
      "1000\n",
      "100\n"
     ]
    }
   ],
   "source": [
    "print(MV2.get_print_limit()) # Current limit 1000\n",
    "MV2.set_print_limit(100)\n",
    "print(MV2.get_print_limit())"
   ]
  },
  {
   "cell_type": "markdown",
   "metadata": {},
   "source": [
    "The datatype of the variable is determined with the typecode function:"
   ]
  },
  {
   "cell_type": "code",
   "execution_count": 59,
   "metadata": {},
   "outputs": [
    {
     "data": {
      "text/plain": [
       "'f'"
      ]
     },
     "execution_count": 59,
     "metadata": {},
     "output_type": "execute_result"
    }
   ],
   "source": [
    "u.typecode()"
   ]
  },
  {
   "cell_type": "markdown",
   "metadata": {},
   "source": [
    "## Dataset Variables\n",
    "\n",
    "The third type of variable, a *dataset variable*, is associated with a\n",
    "*dataset*, a collection of files that is treated as a single file. A\n",
    "dataset is created with the ``cdscan`` utility. This generates an XML\n",
    "metafile that describes how the files are organized and what metadata\n",
    "are contained in the files. In a climate simulation application, a\n",
    "dataset typically represents the data generated by one run of a general\n",
    "circulation or coupled ocean-atmosphere model.\n",
    "\n",
    "For example, suppose data for variables u and v are stored in six files:\n",
    "\n",
    "1. u_2000.nc,\n",
    "2. u_2001.nc,\n",
    "3. u_2002.nc,\n",
    "4. v_2000.nc,\n",
    "5. v_2001.nc,\n",
    "6. v_2002.nc.\n",
    "\n",
    "A metafile can be generated with the command:\n",
    "\n",
    "``$ cdscan -x cdsample.xml [uv]*.nc``\n",
    "\n",
    "The metafile **cdsample.xml** is then used like an ordinary data file:"
   ]
  },
  {
   "cell_type": "code",
   "execution_count": 60,
   "metadata": {},
   "outputs": [
    {
     "name": "stdout",
     "output_type": "stream",
     "text": [
      "Finding common directory ...\n",
      "Common directory: \n",
      "Scanning files ...\n",
      "u_2000.nc\n",
      "Setting reference time units to days since 2000-1-1\n",
      "u_2001.nc\n",
      "Setting reference time units to days since 2000-1-1\n",
      "u_2002.nc\n",
      "Setting reference time units to days since 2000-1-1\n",
      "v_2000.nc\n",
      "Setting reference time units to days since 2000-1-1\n",
      "v_2001.nc\n",
      "Setting reference time units to days since 2000-1-1\n",
      "v_2002.nc\n",
      "Setting reference time units to days since 2000-1-1\n",
      "cdsample.xml written\n"
     ]
    }
   ],
   "source": [
    "!wget  http://cdat.llnl.gov/cdat/sample_data/u_2000.nc >/dev/null  2>/dev/null\n",
    "!wget  http://cdat.llnl.gov/cdat/sample_data/u_2001.nc >/dev/null  2>/dev/null\n",
    "!wget  http://cdat.llnl.gov/cdat/sample_data/u_2002.nc >/dev/null  2>/dev/null\n",
    "!wget  http://cdat.llnl.gov/cdat/sample_data/v_2000.nc >/dev/null  2>/dev/null\n",
    "!wget  http://cdat.llnl.gov/cdat/sample_data/v_2001.nc >/dev/null  2>/dev/null\n",
    "!wget  http://cdat.llnl.gov/cdat/sample_data/v_2002.nc >/dev/null  2>/dev/null\n",
    "!cdscan -x cdsample.xml [uv]*.nc"
   ]
  },
  {
   "cell_type": "code",
   "execution_count": 61,
   "metadata": {},
   "outputs": [
    {
     "name": "stdout",
     "output_type": "stream",
     "text": [
      "-rw-r----- 1 reshel3 reshel3 1789 Feb  7 15:00 cdsample.xml\r\n"
     ]
    }
   ],
   "source": [
    "!ls -l cdsample.xml"
   ]
  },
  {
   "cell_type": "code",
   "execution_count": 62,
   "metadata": {},
   "outputs": [
    {
     "name": "stdout",
     "output_type": "stream",
     "text": [
      "('aggregated u:', (3, 16, 32))\n",
      "('aggregated v:', (3, 16, 32))\n"
     ]
    }
   ],
   "source": [
    "import cdms2\n",
    "fsample=cdms2.open(\"cdsample.xml\")\n",
    "udata=fsample['u']\n",
    "print(\"aggregated u:\",udata.shape)\n",
    "vdata=fsample['u']\n",
    "print(\"aggregated v:\", vdata.shape)"
   ]
  },
  {
   "cell_type": "markdown",
   "metadata": {},
   "source": [
    "## Grids\n",
    "\n",
    "A latitude-longitude grid represents the coordinate information\n",
    "associated with a variable. A grid encapsulates:\n",
    "\n",
    "-  latitude, longitude coordinates\n",
    "-  grid cell boundaries\n",
    "-  area weights\n",
    "\n",
    "CDMS defines a rich set of grid types to represent the variety of\n",
    "coordinate systems used in climate model applications. Grids can be\n",
    "categorized as rectangular or nonrectangular.\n",
    "\n",
    "A rectangular grid has latitude and longitude axes that are\n",
    "one-dimensional, with strictly monotonic values. The grid is essentially\n",
    "the Cartesian product of the axes. If either criterion is not met, the\n",
    "grid is nonrectangular .\n",
    "\n",
    "CDMS supports two types of nonrectangular grid:\n",
    "\n",
    "  -  A curvilinear grid consists of a latitude and longitude axis, each of\n",
    "     which is a two-dimensional coordinate axis. Curvilinear grids are\n",
    "     often used in ocean model applications.\n",
    "  -  A generic grid consists of a latitude and longitude axis, each of\n",
    "     which is an auxiliary one-dimensional coordinate axis. An auxiliary\n",
    "     axis has values that are not necessarily monotonic. As the name\n",
    "     suggests, generic grids can represent virtually any type of grid.\n",
    "     However, it is more difficult to determine adjacency relationships\n",
    "     between grid points."
   ]
  },
  {
   "cell_type": "markdown",
   "metadata": {},
   "source": [
    "### Example: A Curvilinear Grid\n",
    "\n",
    "In this example, variable sample is defined on a 128x192 curvilinear\n",
    "grid. Note that:\n",
    "\n",
    "-  The domain of variable sample is ( y , x ) where y and x are index\n",
    "   coordinate axes.\n",
    "-  The curvilinear grid associated with sample consists of axes ( lat ,\n",
    "   lon ), each a two-dimensional coordinate axis.\n",
    "-  lat and lon each have domain ( y , x )"
   ]
  },
  {
   "cell_type": "code",
   "execution_count": 63,
   "metadata": {},
   "outputs": [],
   "source": [
    "# uncomment the line below to donwload \"clt.nc\"\n",
    "# wget \"https://cdat.llnl.gov/cdat/sample_data/sampleCurveGrid4.nc\"\n",
    "f = cdms2.open('https://aims3.llnl.gov/thredds/dodsC/user_pub_work/CDAT-sample/v1/sampleCurveGrid4.nc')"
   ]
  },
  {
   "cell_type": "markdown",
   "metadata": {},
   "source": [
    "``lat`` and ``lon`` are coordinate axes, but are grouped with data variables"
   ]
  },
  {
   "cell_type": "code",
   "execution_count": 64,
   "metadata": {},
   "outputs": [
    {
     "name": "stdout",
     "output_type": "stream",
     "text": [
      "['lat', 'sample', 'bounds_lon', 'lon', 'bounds_lat']\n"
     ]
    }
   ],
   "source": [
    "import MV2\n",
    "print(f.variables.keys())"
   ]
  },
  {
   "cell_type": "markdown",
   "metadata": {},
   "source": [
    "y and x are index coordinate axes"
   ]
  },
  {
   "cell_type": "code",
   "execution_count": 65,
   "metadata": {},
   "outputs": [
    {
     "name": "stdout",
     "output_type": "stream",
     "text": [
      "['nvert', 'x', 'y']\n"
     ]
    }
   ],
   "source": [
    "print(f.axes.keys())"
   ]
  },
  {
   "cell_type": "markdown",
   "metadata": {},
   "source": [
    "Read data for variable sample"
   ]
  },
  {
   "cell_type": "code",
   "execution_count": 66,
   "metadata": {},
   "outputs": [],
   "source": [
    "sample = f('sample')"
   ]
  },
  {
   "cell_type": "markdown",
   "metadata": {},
   "source": [
    "The associated grid g is curvilinear"
   ]
  },
  {
   "cell_type": "code",
   "execution_count": 67,
   "metadata": {},
   "outputs": [],
   "source": [
    "g = sample.getGrid()"
   ]
  },
  {
   "cell_type": "markdown",
   "metadata": {},
   "source": [
    "The domain of the variable consfigists of index axes"
   ]
  },
  {
   "cell_type": "code",
   "execution_count": 68,
   "metadata": {},
   "outputs": [
    {
     "data": {
      "text/plain": [
       "['y', 'x']"
      ]
     },
     "execution_count": 68,
     "metadata": {},
     "output_type": "execute_result"
    }
   ],
   "source": [
    "sample.getAxisIds()"
   ]
  },
  {
   "cell_type": "markdown",
   "metadata": {},
   "source": [
    "Get the coordinate axes associated with the grid"
   ]
  },
  {
   "cell_type": "code",
   "execution_count": 69,
   "metadata": {},
   "outputs": [],
   "source": [
    "lat = g.getLatitude() # or sample.getLatitude()\n",
    "lon = g.getLongitude() # or sample.getLongitude()"
   ]
  },
  {
   "cell_type": "markdown",
   "metadata": {},
   "source": [
    "lat and lon have the same domain, a subset of the domain of 'sample'"
   ]
  },
  {
   "cell_type": "code",
   "execution_count": 70,
   "metadata": {},
   "outputs": [
    {
     "data": {
      "text/plain": [
       "['y', 'x']"
      ]
     },
     "execution_count": 70,
     "metadata": {},
     "output_type": "execute_result"
    }
   ],
   "source": [
    "lat.getAxisIds()"
   ]
  },
  {
   "cell_type": "markdown",
   "metadata": {},
   "source": [
    "lat and lon are variables ..."
   ]
  },
  {
   "cell_type": "code",
   "execution_count": 71,
   "metadata": {},
   "outputs": [
    {
     "name": "stdout",
     "output_type": "stream",
     "text": [
      "(32, 48)\n"
     ]
    }
   ],
   "source": [
    "print(lat.shape)"
   ]
  },
  {
   "cell_type": "code",
   "execution_count": 11,
   "metadata": {},
   "outputs": [
    {
     "ename": "NameError",
     "evalue": "name 'lat' is not defined",
     "output_type": "error",
     "traceback": [
      "\u001b[0;31m---------------------------------------------------------------------------\u001b[0m",
      "\u001b[0;31mNameError\u001b[0m                                 Traceback (most recent call last)",
      "\u001b[0;32m<ipython-input-11-ea77944e0995>\u001b[0m in \u001b[0;36m<module>\u001b[0;34m()\u001b[0m\n\u001b[0;32m----> 1\u001b[0;31m \u001b[0;32mprint\u001b[0m\u001b[0;34m(\u001b[0m\u001b[0mlat\u001b[0m\u001b[0;34m)\u001b[0m\u001b[0;34m\u001b[0m\u001b[0m\n\u001b[0m",
      "\u001b[0;31mNameError\u001b[0m: name 'lat' is not defined"
     ]
    }
   ],
   "source": [
    "print(lat)"
   ]
  },
  {
   "cell_type": "markdown",
   "metadata": {},
   "source": [
    "lat_in_radians = lat*MV2.pi/180.0"
   ]
  },
  {
   "cell_type": "code",
   "execution_count": 72,
   "metadata": {},
   "outputs": [
    {
     "ename": "NameError",
     "evalue": "name 'lat_in_radians' is not defined",
     "output_type": "error",
     "traceback": [
      "\u001b[0;31m---------------------------------------------------------------------------\u001b[0m",
      "\u001b[0;31mNameError\u001b[0m                                 Traceback (most recent call last)",
      "\u001b[0;32m<ipython-input-72-66401db33907>\u001b[0m in \u001b[0;36m<module>\u001b[0;34m()\u001b[0m\n\u001b[0;32m----> 1\u001b[0;31m \u001b[0;32mprint\u001b[0m\u001b[0;34m(\u001b[0m\u001b[0mlat_in_radians\u001b[0m\u001b[0;34m)\u001b[0m\u001b[0;34m\u001b[0m\u001b[0m\n\u001b[0m",
      "\u001b[0;31mNameError\u001b[0m: name 'lat_in_radians' is not defined"
     ]
    }
   ],
   "source": [
    "print(lat_in_radians)"
   ]
  },
  {
   "cell_type": "markdown",
   "metadata": {},
   "source": [
    "# Example: A Generic Grid\n",
    "\n",
    "In this example variable zs is defined on a generic grid. "
   ]
  },
  {
   "cell_type": "code",
   "execution_count": 73,
   "metadata": {},
   "outputs": [
    {
     "name": "stdout",
     "output_type": "stream",
     "text": [
      "['lat', 'sample', 'bounds_lon', 'lon', 'bounds_lat']\n"
     ]
    }
   ],
   "source": [
    "print(f.variables.keys())"
   ]
  },
  {
   "cell_type": "markdown",
   "metadata": {},
   "source": [
    "['lat', 'sample', 'bounds_lon', 'lon', 'bounds_lat']"
   ]
  },
  {
   "cell_type": "code",
   "execution_count": 74,
   "metadata": {},
   "outputs": [
    {
     "name": "stdout",
     "output_type": "stream",
     "text": [
      "['nvert', 'x', 'y']\n"
     ]
    }
   ],
   "source": [
    "print(f.axes.keys())"
   ]
  },
  {
   "cell_type": "markdown",
   "metadata": {},
   "source": [
    "['nvert', 'x', 'y']"
   ]
  },
  {
   "cell_type": "code",
   "execution_count": 75,
   "metadata": {},
   "outputs": [
    {
     "data": {
      "text/plain": [
       "<TransientCurveGrid, id: grid_2, shape: (32, 48)>"
      ]
     },
     "execution_count": 75,
     "metadata": {},
     "output_type": "execute_result"
    }
   ],
   "source": [
    "zs = f(\"sample\")\n",
    "g = zs.getGrid()\n",
    "g"
   ]
  },
  {
   "cell_type": "markdown",
   "metadata": {},
   "source": [
    "variable zs is defined in terms of a single index coordinate"
   ]
  },
  {
   "cell_type": "code",
   "execution_count": 76,
   "metadata": {},
   "outputs": [
    {
     "name": "stdout",
     "output_type": "stream",
     "text": [
      "(32, 48)\n",
      "(32, 48)\n"
     ]
    }
   ],
   "source": [
    "lat = g.getLatitude()\n",
    "lon = g.getLongitude()\n",
    "print(lat.shape)\n",
    "print(lon.shape) "
   ]
  },
  {
   "cell_type": "markdown",
   "metadata": {},
   "source": [
    "cell axis"
   ]
  },
  {
   "cell_type": "code",
   "execution_count": 77,
   "metadata": {},
   "outputs": [
    {
     "data": {
      "text/plain": [
       "(32, 48)"
      ]
     },
     "execution_count": 77,
     "metadata": {},
     "output_type": "execute_result"
    }
   ],
   "source": [
    "zs.shape"
   ]
  },
  {
   "cell_type": "code",
   "execution_count": 78,
   "metadata": {},
   "outputs": [
    {
     "data": {
      "text/plain": [
       "['y', 'x']"
      ]
     },
     "execution_count": 78,
     "metadata": {},
     "output_type": "execute_result"
    }
   ],
   "source": [
    "zs.getAxisIds()"
   ]
  },
  {
   "cell_type": "markdown",
   "metadata": {},
   "source": [
    "lat and lon are also defined in terms of the cell axis"
   ]
  },
  {
   "cell_type": "code",
   "execution_count": 79,
   "metadata": {},
   "outputs": [
    {
     "data": {
      "text/plain": [
       "['y', 'x']"
      ]
     },
     "execution_count": 79,
     "metadata": {},
     "output_type": "execute_result"
    }
   ],
   "source": [
    "lat.getAxisIds()"
   ]
  },
  {
   "cell_type": "markdown",
   "metadata": {},
   "source": [
    "lat and lon are one-dimensional, 'auxiliary' coordinate\n",
    "axes: values are not monotonic"
   ]
  },
  {
   "cell_type": "code",
   "execution_count": 80,
   "metadata": {},
   "outputs": [
    {
     "data": {
      "text/plain": [
       "cdms2.coord.TransientAxis2D"
      ]
     },
     "execution_count": 80,
     "metadata": {},
     "output_type": "execute_result"
    }
   ],
   "source": [
    "lat.__class__"
   ]
  },
  {
   "cell_type": "markdown",
   "metadata": {},
   "source": [
    "\n",
    "Generic grids can be used to represent any of the grid types. The method\n",
    "toGenericGrid can be applied to any grid to convert it to a generic\n",
    "representation. Similarly, a rectangular grid can be represented as\n",
    "curvilinear. The method toCurveGrid is used to convert a non-generic\n",
    "grid to curvilinear representation:\n"
   ]
  },
  {
   "cell_type": "code",
   "execution_count": 81,
   "metadata": {},
   "outputs": [
    {
     "name": "stdout",
     "output_type": "stream",
     "text": [
      "('rectgrid:', (46, 72))\n",
      "('curvegrid:', <TransientCurveGrid, id: grid_3, shape: (46, 72)>)\n",
      "('genericgrid: ', <TransientGenericGrid, id: grid_1, shape: (3312,)>)\n"
     ]
    }
   ],
   "source": [
    "f = cdms2.open('https://aims3.llnl.gov/thredds/dodsC/user_pub_work/CDAT-sample/v1/clt.nc')\n",
    "clt = f('clt')\n",
    "rectgrid = clt.getGrid()\n",
    "print(\"rectgrid:\", rectgrid.shape)\n",
    "\n",
    "curvegrid = rectgrid.toCurveGrid()\n",
    "print(\"curvegrid:\", curvegrid)\n",
    "\n",
    "genericgrid = curvegrid.toGenericGrid()\n",
    "print(\"genericgrid: \", genericgrid)"
   ]
  },
  {
   "cell_type": "markdown",
   "metadata": {},
   "source": [
    "# Regridding\n",
    "\n",
    "Regridding is the process of mapping variables from one grid to another.\n",
    "CDMS supports two forms of regridding. Which one you use depends on the\n",
    "class of grids being transformed:\n",
    "\n",
    "-  To interpolate from one rectangular grid to another, use the built-in\n",
    "   CDMS regridder. CDMS also has built-in regridders to interpolate from\n",
    "   one set of pressure levels to another, or from one vertical\n",
    "   cross-section to another.\n",
    "-  To interpolate from any lat-lon grid, rectangular or non-rectangular,\n",
    "   use the ``SCRIP`` regridder."
   ]
  },
  {
   "cell_type": "markdown",
   "metadata": {},
   "source": [
    "## CDMS Regridder\n",
    "\n",
    "The built-in CDMS regridder is used to transform data from one\n",
    "rectangular grid to another. For example, to regrid variable ``u`` (from\n",
    "a rectangular grid) to a 96x192 rectangular Gaussian grid:\n"
   ]
  },
  {
   "cell_type": "code",
   "execution_count": 82,
   "metadata": {},
   "outputs": [
    {
     "name": "stdout",
     "output_type": "stream",
     "text": [
      "('u.shape:', (1, 2, 80, 97))\n"
     ]
    },
    {
     "name": "stderr",
     "output_type": "stream",
     "text": [
      "/export/reshel3/anaconda52/envs/cdms2/lib/python2.7/site-packages/cdms2/avariable.py:1347: Warning: \n",
      "avariable.regrid: We chose regridTool = esmf for you among the following choices:\n",
      "   Tools ->    'regrid2' (old behavior)\n",
      "               'esmf' (conserve, patch, linear) or\n",
      "               'libcf' (linear)\n",
      "  warnings.warn(message, Warning)\n",
      "/export/reshel3/anaconda52/envs/cdms2/lib/python2.7/site-packages/cdms2/avariable.py:1354: Warning: \n",
      "avariable.regrid: We chose regridMethod = linear for you among the following choices:\n",
      "    'conserve' or 'linear' or 'patch'\n",
      "  warnings.warn(message, Warning)\n"
     ]
    },
    {
     "name": "stdout",
     "output_type": "stream",
     "text": [
      "('U63.shape', (1, 2, 96, 192))\n"
     ]
    }
   ],
   "source": [
    "f = cdms2.open('https://aims3.llnl.gov/thredds/dodsC/user_pub_work/CDAT-sample/v1/clt.nc')\n",
    "u = f('u')\n",
    "print(\"u.shape:\", u.shape)\n",
    "\n",
    "t63_grid = cdms2.createGaussianGrid(96)\n",
    "u63 = u.regrid(t63_grid)\n",
    "print(\"U63.shape\",u63.shape)"
   ]
  },
  {
   "cell_type": "markdown",
   "metadata": {},
   "source": [
    "To regrid a variable ``uold`` to the same grid as variable ``vnew``:\n"
   ]
  },
  {
   "cell_type": "code",
   "execution_count": 83,
   "metadata": {},
   "outputs": [
    {
     "name": "stdout",
     "output_type": "stream",
     "text": [
      "('uold.shape', (1, 2, 80, 97))\n",
      "('unew.shape', (1, 14, 181, 360))\n"
     ]
    },
    {
     "data": {
      "text/plain": [
       "(1, 2, 181, 360)"
      ]
     },
     "execution_count": 83,
     "metadata": {},
     "output_type": "execute_result"
    }
   ],
   "source": [
    "f = cdms2.open('https://aims3.llnl.gov/thredds/dodsC/user_pub_work/CDAT-sample/v1/clt.nc')\n",
    "f2 = cdms2.open('https://aims3.llnl.gov/thredds/dodsC/user_pub_work/CDAT-sample/v1/geos5-sample.nc')\n",
    "uold = f('u')\n",
    "unew = f2('uwnd')\n",
    "print(\"uold.shape\", uold.shape)\n",
    "unew.shape\n",
    "print(\"unew.shape\", unew.shape)\n",
    "t63_grid = unew.getGrid() # Obtain the grid for vnew\n",
    "u63 = uold.regrid(t63_grid)\n",
    "u63.shape"
   ]
  },
  {
   "cell_type": "markdown",
   "metadata": {},
   "source": [
    "## SCRIP Regridder\n",
    "\n",
    "To interpolate between any lat-lon grid types, the SCRIP regridder may\n",
    "be used. The SCRIP package was developed at [Los Alamos National\n",
    "Laboratory] (https://github.com/SCRIP-Project/SCRIP).\n",
    "SCRIP is written in Fortran 90, and must be built and installed\n",
    "separately from the CDAT/CDMS installation.\n",
    "\n",
    "The steps to regrid a variable are:\n",
    "\n",
    "```(external to CDMS)```\n",
    "\n",
    "1. Obtain or generate the grids, in SCRIP netCDF format.\n",
    "2. Run SCRIP to generate a *remapping* file.\n",
    "\n",
    "```(in CDMS)```\n",
    "\n",
    "1. Read the regridder from the SCRIP remapping file.\n",
    "2. Call the regridder with the source data, returning data on the target\n",
    "   grid.\n",
    "\n",
    "Steps 1 and 2 need only be done once. The regridder can be used as often\n",
    "as necessary.\n",
    "\n",
    "For example, suppose the source data on a T42 grid is to be mapped to a POP curvilinear grid. Assume that SCRIP generated a remapping file named rmp_T42_to_POP43_conserv.nc:\n"
   ]
  },
  {
   "cell_type": "markdown",
   "metadata": {},
   "source": [
    "Import regrid package for regridder functions"
   ]
  },
  {
   "cell_type": "code",
   "execution_count": 84,
   "metadata": {},
   "outputs": [],
   "source": [
    "import regrid2, cdms2"
   ]
  },
  {
   "cell_type": "markdown",
   "metadata": {},
   "source": [
    "Get the source variable"
   ]
  },
  {
   "cell_type": "code",
   "execution_count": 85,
   "metadata": {},
   "outputs": [],
   "source": [
    "f = cdms2.open('https://aims3.llnl.gov/thredds/dodsC/user_pub_work/CDAT-sample/v1/xieArkin-T42.nc')\n",
    "dat = f('prc')\n",
    "f.close()"
   ]
  },
  {
   "cell_type": "markdown",
   "metadata": {},
   "source": [
    "Read the regridder from the remapper file"
   ]
  },
  {
   "cell_type": "code",
   "execution_count": 86,
   "metadata": {},
   "outputs": [],
   "source": [
    "remapf = cdms2.open('https://aims3.llnl.gov/thredds/dodsC/user_pub_work/CDAT-sample/v1/rmp_T42_to_POP43_conserv.nc')\n",
    "regridf = regrid2.readRegridder(remapf)\n",
    "remapf.close()"
   ]
  },
  {
   "cell_type": "markdown",
   "metadata": {},
   "source": [
    "Regrid the source variable"
   ]
  },
  {
   "cell_type": "code",
   "execution_count": 87,
   "metadata": {},
   "outputs": [],
   "source": [
    "popdat = regridf(dat)"
   ]
  },
  {
   "cell_type": "markdown",
   "metadata": {},
   "source": [
    "Regridding is discussed in [Chapter 4](https://cdms.readthedocs.io/en/latest/manual/cdms_4.html#regridding-data)."
   ]
  },
  {
   "cell_type": "markdown",
   "metadata": {},
   "source": [
    "### Time types\n",
    "\n",
    "CDMS provides extensive support for time values in the cdtime module.\n",
    "cdtime also defines a set of calendars , specifying the number of days\n",
    "in a given month.\n",
    "\n",
    "Two time types are available: relative time and component time .\n",
    "Relative time is time relative to a fixed base time. It consists of:\n",
    "\n",
    "-  a ``units`` string, of the form ``\"units since basetime\"`` , and\n",
    "-  a floating-point ``value``\n",
    "\n",
    "For example, the time \"28.0 days since 1996-1-1\" has value= 28.0 , and\n",
    "units=\" days since 1996-1-1\". To create a relative time type:\n"
   ]
  },
  {
   "cell_type": "code",
   "execution_count": 88,
   "metadata": {},
   "outputs": [
    {
     "name": "stdout",
     "output_type": "stream",
     "text": [
      "28.000000 days since 1996-1-1\n",
      "28.0\n",
      "days since 1996-1-1\n"
     ]
    }
   ],
   "source": [
    "import cdtime\n",
    "rt = cdtime.reltime(28.0, \"days since 1996-1-1\")\n",
    "print(rt)\n",
    "print(rt.value)\n",
    "print(rt.units)"
   ]
  },
  {
   "cell_type": "markdown",
   "metadata": {},
   "source": [
    "A component time consists of the integer fields year, month, day, hour,\n",
    "minute , and the floating-point field second . For example:\n"
   ]
  },
  {
   "cell_type": "code",
   "execution_count": 89,
   "metadata": {},
   "outputs": [
    {
     "name": "stdout",
     "output_type": "stream",
     "text": [
      "1996-2-28 12:10:30.0\n",
      "1996\n",
      "2\n"
     ]
    }
   ],
   "source": [
    "ct = cdtime.comptime(1996,2,28,12,10,30)\n",
    "print(ct)\n",
    "print(ct.year)\n",
    "print(ct.month)"
   ]
  },
  {
   "cell_type": "markdown",
   "metadata": {},
   "source": [
    "The conversion functions tocomp and torel convert between the two\n",
    "representations. For instance, suppose that the time axis of a variable\n",
    "is represented in units \" days since 1979\" . To find the coordinate\n",
    "value corresponding to January 1, 1990:"
   ]
  },
  {
   "cell_type": "code",
   "execution_count": 90,
   "metadata": {},
   "outputs": [
    {
     "name": "stdout",
     "output_type": "stream",
     "text": [
      "4018.0\n"
     ]
    }
   ],
   "source": [
    "ct = cdtime.comptime(1990,1)\n",
    "rt = ct.torel(\"days since 1979\")\n",
    "print(rt.value)"
   ]
  },
  {
   "cell_type": "markdown",
   "metadata": {},
   "source": [
    "Time values can be used to specify intervals of time to read. The syntax\n",
    "time=(c1,c2) specifies that data should be read for times t such that\n",
    "c1<=t<=c2:"
   ]
  },
  {
   "cell_type": "code",
   "execution_count": 91,
   "metadata": {},
   "outputs": [
    {
     "name": "stdout",
     "output_type": "stream",
     "text": [
      "(484, 45, 72)\n",
      "(125, 45, 72)\n"
     ]
    }
   ],
   "source": [
    "import cdat_info\n",
    "fh = cdms2.open(\"https://aims3.llnl.gov/thredds/dodsC/user_pub_work/CDAT-sample/v1/tas_6h.nc\")\n",
    "c1 = cdtime.comptime(1980,1)\n",
    "c2 = cdtime.comptime(1980,2)\n",
    "tas = fh['tas']\n",
    "print(tas.shape)\n",
    "x = tas.subRegion(time=(c1,c2))\n",
    "print(x.shape)"
   ]
  },
  {
   "cell_type": "markdown",
   "metadata": {},
   "source": [
    "or string representations can be used:"
   ]
  },
  {
   "cell_type": "code",
   "execution_count": 92,
   "metadata": {},
   "outputs": [
    {
     "name": "stdout",
     "output_type": "stream",
     "text": [
      "(125, 45, 72)\n"
     ]
    }
   ],
   "source": [
    "tas = fh['tas']\n",
    "x = tas.subRegion(time=('1980-1','1980-2'))\n",
    "print(x.shape)"
   ]
  },
  {
   "cell_type": "markdown",
   "metadata": {},
   "source": [
    "Time types are described in [Chapter 3](https://cdms.readthedocs.io/en/latest/manual/cdms_3.html#module-cdtime)."
   ]
  },
  {
   "cell_type": "markdown",
   "metadata": {},
   "source": [
    "## Plotting Data"
   ]
  },
  {
   "cell_type": "markdown",
   "metadata": {},
   "source": [
    "Data read via the CDMS Python interface can be plotted using the vcs module. This module, part of the Climate Data Analysis Tool (CDAT) is documented in the VCS reference manual. The vcs module provides access to the functionality of the VCS visualization program.\n",
    "\n",
    "To generate a plot:\n",
    "\n",
    "    Initialize a canvas with the vcs init routine.\n",
    "    Plot the data using the canvas plot routine.\n",
    "\n",
    "For example:"
   ]
  },
  {
   "cell_type": "code",
   "execution_count": 93,
   "metadata": {
    "scrolled": true
   },
   "outputs": [],
   "source": [
    "import cdms2, vcs, cdat_info\n"
   ]
  },
  {
   "cell_type": "code",
   "execution_count": 94,
   "metadata": {},
   "outputs": [
    {
     "ename": "CDMSError",
     "evalue": "Cannot open file /export/reshel3/anaconda52/envs/cdms2/share/uvcdat/sample_data/tas_cru_1979.nc (Variable not found)",
     "output_type": "error",
     "traceback": [
      "\u001b[0;31m---------------------------------------------------------------------------\u001b[0m",
      "\u001b[0;31mCDMSError\u001b[0m                                 Traceback (most recent call last)",
      "\u001b[0;32m<ipython-input-94-388f08a60551>\u001b[0m in \u001b[0;36m<module>\u001b[0;34m()\u001b[0m\n\u001b[0;32m----> 1\u001b[0;31m \u001b[0mfh\u001b[0m\u001b[0;34m=\u001b[0m\u001b[0mcdms2\u001b[0m\u001b[0;34m.\u001b[0m\u001b[0mopen\u001b[0m\u001b[0;34m(\u001b[0m\u001b[0mcdat_info\u001b[0m\u001b[0;34m.\u001b[0m\u001b[0mget_sampledata_path\u001b[0m\u001b[0;34m(\u001b[0m\u001b[0;34m)\u001b[0m \u001b[0;34m+\u001b[0m \u001b[0;34m\"/tas_cru_1979.nc\"\u001b[0m\u001b[0;34m)\u001b[0m\u001b[0;34m\u001b[0m\u001b[0m\n\u001b[0m\u001b[1;32m      2\u001b[0m \u001b[0mfh\u001b[0m\u001b[0;34m[\u001b[0m\u001b[0;34m'time'\u001b[0m\u001b[0;34m]\u001b[0m\u001b[0;34m[\u001b[0m\u001b[0;34m:\u001b[0m\u001b[0;34m]\u001b[0m\u001b[0;34m\u001b[0m\u001b[0m\n",
      "\u001b[0;32m/export/reshel3/anaconda52/envs/cdms2/lib/python2.7/site-packages/cdms2/dataset.pyc\u001b[0m in \u001b[0;36mopenDataset\u001b[0;34m(uri, mode, template, dods, dpath, hostObj)\u001b[0m\n\u001b[1;32m    497\u001b[0m             \u001b[0;31m# rank\u001b[0m\u001b[0;34m\u001b[0m\u001b[0;34m\u001b[0m\u001b[0m\n\u001b[1;32m    498\u001b[0m             \u001b[0;32mif\u001b[0m \u001b[0;32mnot\u001b[0m \u001b[0mos\u001b[0m\u001b[0;34m.\u001b[0m\u001b[0mpath\u001b[0m\u001b[0;34m.\u001b[0m\u001b[0mexists\u001b[0m\u001b[0;34m(\u001b[0m\u001b[0mpath\u001b[0m\u001b[0;34m)\u001b[0m\u001b[0;34m:\u001b[0m\u001b[0;34m\u001b[0m\u001b[0m\n\u001b[0;32m--> 499\u001b[0;31m                 \u001b[0;32mreturn\u001b[0m \u001b[0mCdmsFile\u001b[0m\u001b[0;34m(\u001b[0m\u001b[0mpath\u001b[0m\u001b[0;34m,\u001b[0m \u001b[0mmode\u001b[0m\u001b[0;34m,\u001b[0m \u001b[0mmpiBarrier\u001b[0m\u001b[0;34m=\u001b[0m\u001b[0mCdMpi\u001b[0m\u001b[0;34m)\u001b[0m\u001b[0;34m\u001b[0m\u001b[0m\n\u001b[0m\u001b[1;32m    500\u001b[0m             \u001b[0;32melif\u001b[0m \u001b[0mmode\u001b[0m \u001b[0;34m==\u001b[0m \u001b[0;34m\"w\"\u001b[0m\u001b[0;34m:\u001b[0m\u001b[0;34m\u001b[0m\u001b[0m\n\u001b[1;32m    501\u001b[0m                 \u001b[0;32mtry\u001b[0m\u001b[0;34m:\u001b[0m\u001b[0;34m\u001b[0m\u001b[0m\n",
      "\u001b[0;32m/export/reshel3/anaconda52/envs/cdms2/lib/python2.7/site-packages/cdms2/dataset.pyc\u001b[0m in \u001b[0;36m__init__\u001b[0;34m(self, path, mode, hostObj, mpiBarrier)\u001b[0m\n\u001b[1;32m   1281\u001b[0m             \u001b[0m_fileobj_\u001b[0m \u001b[0;34m=\u001b[0m \u001b[0mCdunif\u001b[0m\u001b[0;34m.\u001b[0m\u001b[0mCdunifFile\u001b[0m\u001b[0;34m(\u001b[0m\u001b[0mpath\u001b[0m\u001b[0;34m,\u001b[0m \u001b[0mmode\u001b[0m\u001b[0;34m)\u001b[0m\u001b[0;34m\u001b[0m\u001b[0m\n\u001b[1;32m   1282\u001b[0m         \u001b[0;32mexcept\u001b[0m \u001b[0mException\u001b[0m \u001b[0;32mas\u001b[0m \u001b[0merr\u001b[0m\u001b[0;34m:\u001b[0m\u001b[0;34m\u001b[0m\u001b[0m\n\u001b[0;32m-> 1283\u001b[0;31m             \u001b[0;32mraise\u001b[0m \u001b[0mCDMSError\u001b[0m\u001b[0;34m(\u001b[0m\u001b[0;34m'Cannot open file %s (%s)'\u001b[0m \u001b[0;34m%\u001b[0m \u001b[0;34m(\u001b[0m\u001b[0mpath\u001b[0m\u001b[0;34m,\u001b[0m \u001b[0merr\u001b[0m\u001b[0;34m)\u001b[0m\u001b[0;34m)\u001b[0m\u001b[0;34m\u001b[0m\u001b[0m\n\u001b[0m\u001b[1;32m   1284\u001b[0m         \u001b[0mself\u001b[0m\u001b[0;34m.\u001b[0m\u001b[0m_file_\u001b[0m \u001b[0;34m=\u001b[0m \u001b[0m_fileobj_\u001b[0m   \u001b[0;31m# Cdunif file object\u001b[0m\u001b[0;34m\u001b[0m\u001b[0m\n\u001b[1;32m   1285\u001b[0m         \u001b[0mself\u001b[0m\u001b[0;34m.\u001b[0m\u001b[0mvariables\u001b[0m \u001b[0;34m=\u001b[0m \u001b[0;34m{\u001b[0m\u001b[0;34m}\u001b[0m\u001b[0;34m\u001b[0m\u001b[0m\n",
      "\u001b[0;31mCDMSError\u001b[0m: Cannot open file /export/reshel3/anaconda52/envs/cdms2/share/uvcdat/sample_data/tas_cru_1979.nc (Variable not found)"
     ]
    }
   ],
   "source": [
    "fh=cdms2.open(cdat_info.get_sampledata_path() + \"/tas_cru_1979.nc\")\n",
    "fh['time'][:] "
   ]
  },
  {
   "cell_type": "markdown",
   "metadata": {},
   "source": [
    "Print the time coordinates"
   ]
  },
  {
   "cell_type": "code",
   "execution_count": 95,
   "metadata": {},
   "outputs": [
    {
     "ename": "CDMSError",
     "evalue": "Coordinate interval is out of range or intersection has no data: 1479",
     "output_type": "error",
     "traceback": [
      "\u001b[0;31m---------------------------------------------------------------------------\u001b[0m",
      "\u001b[0;31mCDMSError\u001b[0m                                 Traceback (most recent call last)",
      "\u001b[0;32m<ipython-input-95-3aab363ac1fe>\u001b[0m in \u001b[0;36m<module>\u001b[0;34m()\u001b[0m\n\u001b[0;32m----> 1\u001b[0;31m \u001b[0mtas\u001b[0m \u001b[0;34m=\u001b[0m \u001b[0mfh\u001b[0m\u001b[0;34m(\u001b[0m\u001b[0;34m'tas'\u001b[0m\u001b[0;34m,\u001b[0m \u001b[0mtime\u001b[0m\u001b[0;34m=\u001b[0m\u001b[0;36m1479\u001b[0m\u001b[0;34m)\u001b[0m\u001b[0;34m\u001b[0m\u001b[0m\n\u001b[0m\u001b[1;32m      2\u001b[0m \u001b[0mtas\u001b[0m\u001b[0;34m.\u001b[0m\u001b[0mshape\u001b[0m\u001b[0;34m\u001b[0m\u001b[0m\n",
      "\u001b[0;32m/export/reshel3/anaconda52/envs/cdms2/lib/python2.7/site-packages/cdms2/cudsinterface.pyc\u001b[0m in \u001b[0;36m__call__\u001b[0;34m(self, id, *args, **kwargs)\u001b[0m\n\u001b[1;32m     32\u001b[0m             \u001b[0;32mexcept\u001b[0m \u001b[0;34m(\u001b[0m\u001b[0mAttributeError\u001b[0m\u001b[0;34m,\u001b[0m \u001b[0mTypeError\u001b[0m\u001b[0;34m)\u001b[0m\u001b[0;34m:\u001b[0m\u001b[0;34m\u001b[0m\u001b[0m\n\u001b[1;32m     33\u001b[0m                 \u001b[0;32mraise\u001b[0m \u001b[0mCDMSError\u001b[0m\u001b[0;34m(\u001b[0m\u001b[0;34m\"No such variable, \"\u001b[0m \u001b[0;34m+\u001b[0m \u001b[0mid\u001b[0m\u001b[0;34m)\u001b[0m\u001b[0;34m\u001b[0m\u001b[0m\n\u001b[0;32m---> 34\u001b[0;31m         \u001b[0;32mreturn\u001b[0m \u001b[0mv\u001b[0m\u001b[0;34m(\u001b[0m\u001b[0;34m*\u001b[0m\u001b[0margs\u001b[0m\u001b[0;34m,\u001b[0m \u001b[0;34m**\u001b[0m\u001b[0mkwargs\u001b[0m\u001b[0;34m)\u001b[0m\u001b[0;34m\u001b[0m\u001b[0m\n\u001b[0m\u001b[1;32m     35\u001b[0m \u001b[0;34m\u001b[0m\u001b[0m\n\u001b[1;32m     36\u001b[0m     \u001b[0;32mdef\u001b[0m \u001b[0m__getitem__\u001b[0m\u001b[0;34m(\u001b[0m\u001b[0mself\u001b[0m\u001b[0;34m,\u001b[0m \u001b[0mkey\u001b[0m\u001b[0;34m)\u001b[0m\u001b[0;34m:\u001b[0m\u001b[0;34m\u001b[0m\u001b[0m\n",
      "\u001b[0;32m/export/reshel3/anaconda52/envs/cdms2/lib/python2.7/site-packages/cdms2/avariable.pyc\u001b[0m in \u001b[0;36m__call__\u001b[0;34m(self, *args, **kwargs)\u001b[0m\n\u001b[1;32m    206\u001b[0m                                    \u001b[0msqueeze\u001b[0m\u001b[0;34m=\u001b[0m\u001b[0msqueeze\u001b[0m\u001b[0;34m,\u001b[0m\u001b[0;34m\u001b[0m\u001b[0m\n\u001b[1;32m    207\u001b[0m                                    \u001b[0morder\u001b[0m\u001b[0;34m=\u001b[0m\u001b[0morder\u001b[0m\u001b[0;34m,\u001b[0m\u001b[0;34m\u001b[0m\u001b[0m\n\u001b[0;32m--> 208\u001b[0;31m                                    grid=grid)\n\u001b[0m\u001b[1;32m    209\u001b[0m \u001b[0;34m\u001b[0m\u001b[0m\n\u001b[1;32m    210\u001b[0m     \u001b[0mselect\u001b[0m \u001b[0;34m=\u001b[0m \u001b[0m__call__\u001b[0m\u001b[0;34m\u001b[0m\u001b[0m\n",
      "\u001b[0;32m/export/reshel3/anaconda52/envs/cdms2/lib/python2.7/site-packages/cdms2/selectors.pyc\u001b[0m in \u001b[0;36munmodified_select\u001b[0;34m(self, variable, raw, squeeze, order, grid)\u001b[0m\n\u001b[1;32m    189\u001b[0m             \u001b[0;32mif\u001b[0m \u001b[0m_debug\u001b[0m\u001b[0;34m:\u001b[0m\u001b[0;34m\u001b[0m\u001b[0m\n\u001b[1;32m    190\u001b[0m                 \u001b[0;32mprint\u001b[0m\u001b[0;34m(\u001b[0m\u001b[0;34m'About to call subRegion:'\u001b[0m\u001b[0;34m,\u001b[0m \u001b[0mspecifications\u001b[0m\u001b[0;34m)\u001b[0m\u001b[0;34m\u001b[0m\u001b[0m\n\u001b[0;32m--> 191\u001b[0;31m             \u001b[0mfetched\u001b[0m \u001b[0;34m=\u001b[0m \u001b[0mresult\u001b[0m\u001b[0;34m.\u001b[0m\u001b[0msubRegion\u001b[0m\u001b[0;34m(\u001b[0m\u001b[0;34m*\u001b[0m\u001b[0mspecifications\u001b[0m\u001b[0;34m)\u001b[0m\u001b[0;34m\u001b[0m\u001b[0m\n\u001b[0m\u001b[1;32m    192\u001b[0m             \u001b[0maxismap\u001b[0m \u001b[0;34m=\u001b[0m \u001b[0mlist\u001b[0m\u001b[0;34m(\u001b[0m\u001b[0mrange\u001b[0m\u001b[0;34m(\u001b[0m\u001b[0mlen\u001b[0m\u001b[0;34m(\u001b[0m\u001b[0maxes\u001b[0m\u001b[0;34m)\u001b[0m\u001b[0;34m)\u001b[0m\u001b[0;34m)\u001b[0m\u001b[0;34m\u001b[0m\u001b[0m\n\u001b[1;32m    193\u001b[0m             \u001b[0;32mfor\u001b[0m \u001b[0mc\u001b[0m \u001b[0;32min\u001b[0m \u001b[0mcomponents\u001b[0m\u001b[0;34m:\u001b[0m\u001b[0;34m\u001b[0m\u001b[0m\n",
      "\u001b[0;32m/export/reshel3/anaconda52/envs/cdms2/lib/python2.7/site-packages/cdms2/avariable.pyc\u001b[0m in \u001b[0;36msubRegion\u001b[0;34m(self, *specs, **keys)\u001b[0m\n\u001b[1;32m    942\u001b[0m \u001b[0;34m\u001b[0m\u001b[0m\n\u001b[1;32m    943\u001b[0m         \u001b[0mspeclist\u001b[0m \u001b[0;34m=\u001b[0m \u001b[0mself\u001b[0m\u001b[0;34m.\u001b[0m\u001b[0m_process_specs\u001b[0m\u001b[0;34m(\u001b[0m\u001b[0mspecs\u001b[0m\u001b[0;34m,\u001b[0m \u001b[0mkeys\u001b[0m\u001b[0;34m)\u001b[0m\u001b[0;34m\u001b[0m\u001b[0m\n\u001b[0;32m--> 944\u001b[0;31m         \u001b[0mslicelist\u001b[0m \u001b[0;34m=\u001b[0m \u001b[0mself\u001b[0m\u001b[0;34m.\u001b[0m\u001b[0mreg_specs2slices\u001b[0m\u001b[0;34m(\u001b[0m\u001b[0mspeclist\u001b[0m\u001b[0;34m)\u001b[0m\u001b[0;34m\u001b[0m\u001b[0m\n\u001b[0m\u001b[1;32m    945\u001b[0m \u001b[0;34m\u001b[0m\u001b[0m\n\u001b[1;32m    946\u001b[0m         \u001b[0msqueeze\u001b[0m \u001b[0;34m=\u001b[0m \u001b[0mkeys\u001b[0m\u001b[0;34m.\u001b[0m\u001b[0mget\u001b[0m\u001b[0;34m(\u001b[0m\u001b[0;34m'squeeze'\u001b[0m\u001b[0;34m,\u001b[0m \u001b[0;36m0\u001b[0m\u001b[0;34m)\u001b[0m\u001b[0;34m\u001b[0m\u001b[0m\n",
      "\u001b[0;32m/export/reshel3/anaconda52/envs/cdms2/lib/python2.7/site-packages/cdms2/avariable.pyc\u001b[0m in \u001b[0;36mreg_specs2slices\u001b[0;34m(self, initspeclist, force)\u001b[0m\n\u001b[1;32m   1642\u001b[0m                 \u001b[0mindexInterval\u001b[0m \u001b[0;34m=\u001b[0m \u001b[0maxis\u001b[0m\u001b[0;34m.\u001b[0m\u001b[0mmapIntervalExt\u001b[0m\u001b[0;34m(\u001b[0m\u001b[0;34m(\u001b[0m\u001b[0mitem\u001b[0m\u001b[0;34m,\u001b[0m \u001b[0mitem\u001b[0m\u001b[0;34m)\u001b[0m\u001b[0;34m)\u001b[0m\u001b[0;34m\u001b[0m\u001b[0m\n\u001b[1;32m   1643\u001b[0m                 \u001b[0;32mif\u001b[0m \u001b[0mindexInterval\u001b[0m \u001b[0;32mis\u001b[0m \u001b[0mNone\u001b[0m\u001b[0;34m:\u001b[0m\u001b[0;34m\u001b[0m\u001b[0m\n\u001b[0;32m-> 1644\u001b[0;31m                     \u001b[0;32mraise\u001b[0m \u001b[0mCDMSError\u001b[0m\u001b[0;34m(\u001b[0m\u001b[0mOutOfRange\u001b[0m \u001b[0;34m+\u001b[0m \u001b[0mstr\u001b[0m\u001b[0;34m(\u001b[0m\u001b[0mitem\u001b[0m\u001b[0;34m)\u001b[0m\u001b[0;34m)\u001b[0m\u001b[0;34m\u001b[0m\u001b[0m\n\u001b[0m\u001b[1;32m   1645\u001b[0m                 newitem = slice(\n\u001b[1;32m   1646\u001b[0m                     \u001b[0mindexInterval\u001b[0m\u001b[0;34m[\u001b[0m\u001b[0;36m0\u001b[0m\u001b[0;34m]\u001b[0m\u001b[0;34m,\u001b[0m\u001b[0;34m\u001b[0m\u001b[0m\n",
      "\u001b[0;31mCDMSError\u001b[0m: Coordinate interval is out of range or intersection has no data: 1479"
     ]
    }
   ],
   "source": [
    "tas = fh('tas', time=1479)\n",
    "tas.shape"
   ]
  },
  {
   "cell_type": "markdown",
   "metadata": {},
   "source": [
    "Initialize a canvas"
   ]
  },
  {
   "cell_type": "code",
   "execution_count": 96,
   "metadata": {},
   "outputs": [],
   "source": [
    "w = vcs.init() "
   ]
  },
  {
   "cell_type": "markdown",
   "metadata": {},
   "source": [
    "Generate a plot"
   ]
  },
  {
   "cell_type": "code",
   "execution_count": 97,
   "metadata": {},
   "outputs": [
    {
     "data": {
      "image/png": "[encoded data removed]",
      "text/plain": [
       "<vcs.displayplot.Dp at 0x7f96462355c8>"
      ]
     },
     "execution_count": 97,
     "metadata": {},
     "output_type": "execute_result"
    }
   ],
   "source": [
    "w.plot(tas)"
   ]
  },
  {
   "cell_type": "markdown",
   "metadata": {},
   "source": [
    "## Databases"
   ]
  },
  {
   "cell_type": "markdown",
   "metadata": {},
   "source": [
    "Datasets can be aggregated together into hierarchical collections, called databases . In typical usage, a program:\n",
    "\n",
    "    - connects to a database\n",
    "    - searches for data opens a dataset\n",
    "    - accesses data\n",
    "\n",
    "Databases add the ability to search for data and metadata in a distributed computing environment. At present CDMS supports one particular type of database, based on the Lightweight Directory Access Protocol (LDAP).\n",
    "\n",
    "Here is an example of accessing data via a database:"
   ]
  },
  {
   "cell_type": "markdown",
   "metadata": {},
   "source": [
    "Connect to a default database."
   ]
  },
  {
   "cell_type": "code",
   "execution_count": 98,
   "metadata": {},
   "outputs": [
    {
     "ename": "NameError",
     "evalue": "name 'cdms' is not defined",
     "output_type": "error",
     "traceback": [
      "\u001b[0;31m---------------------------------------------------------------------------\u001b[0m",
      "\u001b[0;31mNameError\u001b[0m                                 Traceback (most recent call last)",
      "\u001b[0;32m<ipython-input-98-c3c065afa683>\u001b[0m in \u001b[0;36m<module>\u001b[0;34m()\u001b[0m\n\u001b[0;32m----> 1\u001b[0;31m \u001b[0mdb\u001b[0m \u001b[0;34m=\u001b[0m \u001b[0mcdms\u001b[0m\u001b[0;34m.\u001b[0m\u001b[0mconnect\u001b[0m\u001b[0;34m(\u001b[0m\u001b[0;34m)\u001b[0m\u001b[0;34m\u001b[0m\u001b[0m\n\u001b[0m",
      "\u001b[0;31mNameError\u001b[0m: name 'cdms' is not defined"
     ]
    }
   ],
   "source": [
    "db = cdms.connect()"
   ]
  },
  {
   "cell_type": "markdown",
   "metadata": {},
   "source": [
    "Open a dataset"
   ]
  },
  {
   "cell_type": "code",
   "execution_count": 99,
   "metadata": {},
   "outputs": [
    {
     "ename": "NameError",
     "evalue": "name 'db' is not defined",
     "output_type": "error",
     "traceback": [
      "\u001b[0;31m---------------------------------------------------------------------------\u001b[0m",
      "\u001b[0;31mNameError\u001b[0m                                 Traceback (most recent call last)",
      "\u001b[0;32m<ipython-input-99-828afacdec92>\u001b[0m in \u001b[0;36m<module>\u001b[0;34m()\u001b[0m\n\u001b[0;32m----> 1\u001b[0;31m \u001b[0mf\u001b[0m \u001b[0;34m=\u001b[0m \u001b[0mdb\u001b[0m\u001b[0;34m.\u001b[0m\u001b[0mopen\u001b[0m\u001b[0;34m(\u001b[0m\u001b[0;34m'ncep_reanalysis_mo'\u001b[0m\u001b[0;34m)\u001b[0m\u001b[0;34m\u001b[0m\u001b[0m\n\u001b[0m",
      "\u001b[0;31mNameError\u001b[0m: name 'db' is not defined"
     ]
    }
   ],
   "source": [
    "f = db.open('ncep_reanalysis_mo')"
   ]
  },
  {
   "cell_type": "markdown",
   "metadata": {},
   "source": [
    "List the variables in the dataset."
   ]
  },
  {
   "cell_type": "code",
   "execution_count": 100,
   "metadata": {},
   "outputs": [
    {
     "data": {
      "text/plain": [
       "[]"
      ]
     },
     "execution_count": 100,
     "metadata": {},
     "output_type": "execute_result"
    }
   ],
   "source": [
    "f.variables.keys()"
   ]
  },
  {
   "cell_type": "markdown",
   "metadata": {},
   "source": [
    "Databases are discussed further in Section 2.7."
   ]
  }
 ],
 "metadata": {
  "kernelspec": {
   "display_name": "Python 2",
   "language": "python",
   "name": "python2"
  },
  "language_info": {
   "codemirror_mode": {
    "name": "ipython",
    "version": 2
   },
   "file_extension": ".py",
   "mimetype": "text/x-python",
   "name": "python",
   "nbconvert_exporter": "python",
   "pygments_lexer": "ipython2",
   "version": "2.7.15"
  }
 },
 "nbformat": 4,
 "nbformat_minor": 2
}
