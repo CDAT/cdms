{
 "cells": [
  {
   "cell_type": "markdown",
   "metadata": {},
   "source": [
    "# Module: CdTime"
   ]
  },
  {
   "cell_type": "markdown",
   "metadata": {},
   "source": [
    "Time Types\n",
    "\n",
    "The ``cdtime`` module implements the CDMS time types, methods, and\n",
    "calendars. These are made available with the command:"
   ]
  },
  {
   "cell_type": "code",
   "execution_count": 7,
   "metadata": {},
   "outputs": [],
   "source": [
    "import cdtime"
   ]
  },
  {
   "cell_type": "markdown",
   "metadata": {},
   "source": [
    "Two time types are available: relative time and component time. Relative\n",
    "time is time relative to a fixed base time. It consists of:\n",
    "\n",
    "-  a units string, of the form ‘units since basetime’, and\n",
    "-  a floating-point value\n",
    "\n",
    "For example, the time “28.0 days since 1996-1-1” has value=28.0, and\n",
    "units=’days since 1996-1-1’\n",
    "\n",
    "Component time consists of the integer fields year, month, day, hour,\n",
    "minute, and the floating-point field second. A sample component time is\n",
    "``1996-2-28 12:10:30.0``\n",
    "\n",
    "The ``cdtime`` module contains functions for converting between these\n",
    "forms, based on the common calendars used in climate simulation. Basic\n",
    "arithmetic and comparison operators are also available.\n"
   ]
  },
  {
   "cell_type": "markdown",
   "metadata": {},
   "source": [
    "Calendars\n",
    "\n",
    "A calendar specifies the number of days in each month, for a given year.\n",
    "cdtime supports these calendars:\n",
    "\n",
    "-  ``cdtime.GregorianCalendar``: years evenly divisible by four are leap\n",
    "   years, except century years not evenly divisible by 400. This is\n",
    "   sometimes called the proleptic Gregorian calendar, meaning that the\n",
    "   algorithm for leap years applies for all years.\n",
    "-  ``cdtime.MixedCalendar``: mixed Julian/Gregorian calendar. Dates\n",
    "   before 158210-15 are encoded with the Julian calendar, otherwise are\n",
    "   encoded with the Gregorian calendar. The day immediately following\n",
    "   1582-10-4 is 1582-10-15. This is the default calendar.\n",
    "-  ``cdtime.JulianCalendar``: years evenly divisible by four are leap\n",
    "   years,\n",
    "-  ``cdtime.NoLeapCalendar``: all years have 365 days,\n",
    "-  ``cdtime.Calendar360``: all months have 30 days.\n",
    "\n",
    "Several ``cdtime`` functions have an optional calendar argument. The\n",
    "default calendar is the ``MixedCalendar``. The default calendar may be\n",
    "changed with the command:\n",
    "\n",
    "\n",
    "``cdtime.DefaultCalendar = newCalendar``\n"
   ]
  },
  {
   "cell_type": "markdown",
   "metadata": {},
   "source": [
    "Time Constructors\n",
    "\n",
    "The following table describes the methods for creating time types."
   ]
  },
  {
   "cell_type": "markdown",
   "metadata": {},
   "source": [
    "Table Time Constructors\n",
    "\n",
    "A relative time type has two members, value and units. Both can be set."
   ]
  },
  {
   "cell_type": "markdown",
   "metadata": {},
   "source": [
    "Relative Time\n",
    "\n",
    "3.4.1. Table Relative Time Members"
   ]
  },
  {
   "cell_type": "markdown",
   "metadata": {},
   "source": [
    "Component Time\n",
    "\n",
    "A component time type has six members, all of which are settable.\n",
    "3.5.1. Table Component Time\n",
    "Type \tName \tSummary\n",
    "Integer \tyear \tYear value\n",
    "Integer \tmonth \tMonth, in the range 1..12\n",
    "Integer \tday \tDay of month, in the range 1 .. 31\n",
    "Integer \thour \tHour, in the range 0 .. 23\n",
    "Integer \tminute \tMinute, in the range 0 .. 59\n",
    "Float \tsecond \tSeconds, in the range 0.0 .. 60.0"
   ]
  },
  {
   "cell_type": "markdown",
   "metadata": {},
   "source": [
    "Time Methods\n",
    "\n",
    "The following methods apply both to relative and component times."
   ]
  },
  {
   "cell_type": "markdown",
   "metadata": {},
   "source": [
    "Time Methods \n",
    "\n",
    " \"Comptime or Reltime\", \"``t.add(value,intervalUnits, calendar=cdtime.Default-Calendar)``\", \"Add an interval of time to a time type t.  Returns the same type of time.\n",
    "       * ``value`` is the   Float number of interval units.\n",
    "       * ``intervalUnits`` is ``cdtime.[Second (s) | Minute(s) Hour(s) | Day(s) |  Week(s) | Month(s) | Season(s) | Year(s) ]``\n",
    "       * ``calendar`` is the calendar type.\"\n",
    "   \"Integer\", \"``t.cmp(t2, calendar=cdtime.DefaultCalendar)``\", \"Compare time values t and t2. Returns -1, 0, 1 as t is less than, equal to, or greater than t2 respectively.\n",
    "       * ``t2`` is the time to compare.\n",
    "       * ``calendar`` is the calendar type.\"\n",
    "   \"Comptime or Reltime\", \"``t.sub(value,intervalUnits, calendar=cdtime.DefaultCalendar)``\", \"Subtract an interval of time from a time type t.  Returns the same type of time.\n",
    "       * ``value`` is the Float number of interval units.\n",
    "       * ``intervalUnits`` is cdtime.[Second (s) | Minute(s) | Hour(s) | Day(s) | Week(s) | Month(s) | Season(s) | Year(s)]\n",
    "       * ``calendar`` is the calendar type. \"\n",
    "   \"Comptime\", \"``t.tocomp(calendar = cdtime.DefaultCalendar)``\", \"Convert to component time.  Returns the equivalent component time.\n",
    "       * ``calendar`` is the calendar type.\"\n",
    "   \"Reltime\", \"``t.torel(units, calendar=cdtime.DefaultCalendar)``\", \"Convert to relative time.  Returns the equivalent relative time.\""
   ]
  },
  {
   "cell_type": "markdown",
   "metadata": {},
   "source": [
    "Examples"
   ]
  },
  {
   "cell_type": "code",
   "execution_count": 1,
   "metadata": {},
   "outputs": [
    {
     "name": "stdout",
     "output_type": "stream",
     "text": [
      "29.000000 days since 1996-1-1\n",
      "1996-2-29 12:0:0.0\n"
     ]
    }
   ],
   "source": [
    "from cdtime import *\n",
    "c = comptime(1996,2,28)\n",
    "r = reltime(28,\"days since 1996-1-1\")\n",
    "print r.add(1,Day)\n",
    "\n",
    "print c.add(36,Hours)"
   ]
  },
  {
   "cell_type": "markdown",
   "metadata": {},
   "source": [
    "**Note:** When adding or subtracting intervals of months or years, only the month and year of the result are significant.   The reason is that intervals in months/years are not commensurate with intervals in days or fractional days. This leads to results that may be surprising."
   ]
  },
  {
   "cell_type": "code",
   "execution_count": 2,
   "metadata": {},
   "outputs": [
    {
     "data": {
      "text/plain": [
       "1979-9-1 0:0:0.0"
      ]
     },
     "execution_count": 2,
     "metadata": {},
     "output_type": "execute_result"
    }
   ],
   "source": [
    "c = comptime(1979,8,31)\n",
    "c.add(1,Month)  "
   ]
  },
  {
   "cell_type": "code",
   "execution_count": null,
   "metadata": {},
   "outputs": [],
   "source": [
    "In other words, the day component of c was ignored in the addition, and the day/hour/minute components of the results are just the defaults. If the interval is in years, the interval is converted internally to months:"
   ]
  },
  {
   "cell_type": "code",
   "execution_count": 3,
   "metadata": {},
   "outputs": [
    {
     "data": {
      "text/plain": [
       "1981-8-1 0:0:0.0"
      ]
     },
     "execution_count": 3,
     "metadata": {},
     "output_type": "execute_result"
    }
   ],
   "source": [
    "c = comptime(1979,8,31)\n",
    "c.add(2,Years)"
   ]
  },
  {
   "cell_type": "markdown",
   "metadata": {},
   "source": [
    "Compare time values."
   ]
  },
  {
   "cell_type": "code",
   "execution_count": 4,
   "metadata": {},
   "outputs": [
    {
     "ename": "NameError",
     "evalue": "name 'cdtime' is not defined",
     "output_type": "error",
     "traceback": [
      "\u001b[0;31m---------------------------------------------------------------------------\u001b[0m",
      "\u001b[0;31mNameError\u001b[0m                                 Traceback (most recent call last)",
      "\u001b[0;32m<ipython-input-4-6d12fa628275>\u001b[0m in \u001b[0;36m<module>\u001b[0;34m()\u001b[0m\n\u001b[1;32m      1\u001b[0m \u001b[0;32mfrom\u001b[0m \u001b[0mcdtime\u001b[0m \u001b[0;32mimport\u001b[0m \u001b[0;34m*\u001b[0m\u001b[0;34m\u001b[0m\u001b[0m\n\u001b[0;32m----> 2\u001b[0;31m \u001b[0mr\u001b[0m \u001b[0;34m=\u001b[0m \u001b[0mcdtime\u001b[0m\u001b[0;34m.\u001b[0m\u001b[0mreltime\u001b[0m\u001b[0;34m(\u001b[0m\u001b[0;36m28\u001b[0m\u001b[0;34m,\u001b[0m\u001b[0;34m\"days since 1996-1-1\"\u001b[0m\u001b[0;34m)\u001b[0m\u001b[0;34m\u001b[0m\u001b[0m\n\u001b[0m\u001b[1;32m      3\u001b[0m \u001b[0mc\u001b[0m \u001b[0;34m=\u001b[0m \u001b[0mcomptime\u001b[0m\u001b[0;34m(\u001b[0m\u001b[0;36m1996\u001b[0m\u001b[0;34m,\u001b[0m\u001b[0;36m2\u001b[0m\u001b[0;34m,\u001b[0m\u001b[0;36m28\u001b[0m\u001b[0;34m)\u001b[0m\u001b[0;34m\u001b[0m\u001b[0m\n\u001b[1;32m      4\u001b[0m \u001b[0;32mprint\u001b[0m \u001b[0mc\u001b[0m\u001b[0;34m.\u001b[0m\u001b[0mcmp\u001b[0m\u001b[0;34m(\u001b[0m\u001b[0mr\u001b[0m\u001b[0;34m)\u001b[0m\u001b[0;34m\u001b[0m\u001b[0m\n",
      "\u001b[0;31mNameError\u001b[0m: name 'cdtime' is not defined"
     ]
    }
   ],
   "source": [
    "from cdtime import *\n",
    "r = cdtime.reltime(28,\"days since 1996-1-1\")\n",
    "c = comptime(1996,2,28)\n",
    "print c.cmp(r)"
   ]
  },
  {
   "cell_type": "code",
   "execution_count": null,
   "metadata": {},
   "outputs": [],
   "source": [
    "Subtract an interval of time."
   ]
  },
  {
   "cell_type": "code",
   "execution_count": 5,
   "metadata": {
    "scrolled": true
   },
   "outputs": [
    {
     "ename": "NameError",
     "evalue": "name 'cdtime' is not defined",
     "output_type": "error",
     "traceback": [
      "\u001b[0;31m---------------------------------------------------------------------------\u001b[0m",
      "\u001b[0;31mNameError\u001b[0m                                 Traceback (most recent call last)",
      "\u001b[0;32m<ipython-input-5-66d214523862>\u001b[0m in \u001b[0;36m<module>\u001b[0;34m()\u001b[0m\n\u001b[1;32m      1\u001b[0m \u001b[0;32mfrom\u001b[0m \u001b[0mcdtime\u001b[0m \u001b[0;32mimport\u001b[0m \u001b[0;34m*\u001b[0m\u001b[0;34m\u001b[0m\u001b[0m\n\u001b[0;32m----> 2\u001b[0;31m \u001b[0mr\u001b[0m \u001b[0;34m=\u001b[0m \u001b[0mcdtime\u001b[0m\u001b[0;34m.\u001b[0m\u001b[0mreltime\u001b[0m\u001b[0;34m(\u001b[0m\u001b[0;36m28\u001b[0m\u001b[0;34m,\u001b[0m\u001b[0;34m\"days since 1996-1-1\"\u001b[0m\u001b[0;34m)\u001b[0m\u001b[0;34m\u001b[0m\u001b[0m\n\u001b[0m\u001b[1;32m      3\u001b[0m \u001b[0mc\u001b[0m \u001b[0;34m=\u001b[0m \u001b[0mcomptime\u001b[0m\u001b[0;34m(\u001b[0m\u001b[0;36m1996\u001b[0m\u001b[0;34m,\u001b[0m\u001b[0;36m2\u001b[0m\u001b[0;34m,\u001b[0m\u001b[0;36m28\u001b[0m\u001b[0;34m)\u001b[0m\u001b[0;34m\u001b[0m\u001b[0m\n\u001b[1;32m      4\u001b[0m \u001b[0;32mprint\u001b[0m \u001b[0mr\u001b[0m\u001b[0;34m.\u001b[0m\u001b[0msub\u001b[0m\u001b[0;34m(\u001b[0m\u001b[0;36m10\u001b[0m\u001b[0;34m,\u001b[0m\u001b[0mDays\u001b[0m\u001b[0;34m)\u001b[0m\u001b[0;34m\u001b[0m\u001b[0m\n\u001b[1;32m      5\u001b[0m \u001b[0;34m\u001b[0m\u001b[0m\n",
      "\u001b[0;31mNameError\u001b[0m: name 'cdtime' is not defined"
     ]
    }
   ],
   "source": [
    "from cdtime import *\n",
    "r = cdtime.reltime(28,\"days since 1996-1-1\")\n",
    "c = comptime(1996,2,28)\n",
    "print r.sub(10,Days)\n",
    "\n",
    "print c.sub(30,Days)"
   ]
  },
  {
   "cell_type": "markdown",
   "metadata": {},
   "source": [
    "Subtract an interval of time."
   ]
  },
  {
   "cell_type": "code",
   "execution_count": 5,
   "metadata": {},
   "outputs": [
    {
     "ename": "SyntaxError",
     "evalue": "invalid syntax (<ipython-input-5-3df864fc431f>, line 5)",
     "output_type": "error",
     "traceback": [
      "\u001b[0;36m  File \u001b[0;32m\"<ipython-input-5-3df864fc431f>\"\u001b[0;36m, line \u001b[0;32m5\u001b[0m\n\u001b[0;31m    18.000000 days since 1996-1-1\u001b[0m\n\u001b[0m                 ^\u001b[0m\n\u001b[0;31mSyntaxError\u001b[0m\u001b[0;31m:\u001b[0m invalid syntax\n"
     ]
    }
   ],
   "source": [
    "from cdtime import *         \n",
    "r = cdtime.reltime(28,\"days since 1996-1-1\")   \n",
    "c = comptime(1996,2,28)      \n",
    "print r.sub(10,Days)         \n",
    "18.000000 days since 1996-1-1        \n",
    "print c.sub(30,Days)         \n",
    "1996-1-29 0:0:0.0      "
   ]
  },
  {
   "cell_type": "markdown",
   "metadata": {},
   "source": [
    "For intervals of years or months, see the **note** under add() in the example above.\n",
    "\n",
    "Convert to component time."
   ]
  },
  {
   "cell_type": "code",
   "execution_count": 6,
   "metadata": {
    "scrolled": false
   },
   "outputs": [
    {
     "ename": "SyntaxError",
     "evalue": "invalid syntax (<ipython-input-6-e24fc727ae87>, line 3)",
     "output_type": "error",
     "traceback": [
      "\u001b[0;36m  File \u001b[0;32m\"<ipython-input-6-e24fc727ae87>\"\u001b[0;36m, line \u001b[0;32m3\u001b[0m\n\u001b[0;31m    1996-1-29 0:0:0.0\u001b[0m\n\u001b[0m              ^\u001b[0m\n\u001b[0;31mSyntaxError\u001b[0m\u001b[0;31m:\u001b[0m invalid syntax\n"
     ]
    }
   ],
   "source": [
    "r = cdtime.reltime(28,\"days since 1996-1-1\")   \n",
    "r.tocomp()\n",
    "1996-1-29 0:0:0.0"
   ]
  },
  {
   "cell_type": "markdown",
   "metadata": {},
   "source": [
    "Convert to relative time."
   ]
  },
  {
   "cell_type": "code",
   "execution_count": 6,
   "metadata": {},
   "outputs": [
    {
     "name": "stdout",
     "output_type": "stream",
     "text": [
      "58.000000 days since 1996-1-1\n",
      "393.000000 days since 1995\n",
      "393.0\n"
     ]
    }
   ],
   "source": [
    "c = comptime(1996,2,28)\n",
    "print c.torel(\"days since 1996-1-1\")\n",
    "\n",
    "r = reltime(28,\"days since 1996-1-1\")\n",
    "print r.torel(\"days since 1995\")\n",
    "\n",
    "print r.torel(\"days since 1995\").value"
   ]
  }
 ],
 "metadata": {
  "kernelspec": {
   "display_name": "Python 2",
   "language": "python",
   "name": "python2"
  },
  "language_info": {
   "codemirror_mode": {
    "name": "ipython",
    "version": 2
   },
   "file_extension": ".py",
   "mimetype": "text/x-python",
   "name": "python",
   "nbconvert_exporter": "python",
   "pygments_lexer": "ipython2",
   "version": "2.7.15"
  }
 },
 "nbformat": 4,
 "nbformat_minor": 2
}
