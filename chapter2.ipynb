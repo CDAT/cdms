{
 "cells": [
  {
   "cell_type": "markdown",
   "metadata": {},
   "source": [
    "#  CDMS Python Application Programming Interface"
   ]
  },
  {
   "cell_type": "markdown",
   "metadata": {},
   "source": [
    "## OVERVIEW\n",
    "\n",
    "This chapter describes the CDMS Python application programming interface\n",
    "(API). Python is a popular public-domain, object-oriented language. Its\n",
    "features include support for object-oriented development, a rich set of\n",
    "programming constructs, and an extensible architecture. CDMS itself is\n",
    "implemented in a mixture of C and Python. In this chapter the assumption\n",
    "is made that the reader is familiar with the basic features of the\n",
    "Python language.\n",
    "\n",
    "Python supports the notion of a module, which groups together associated\n",
    "classes and methods. The import command makes the module accessible to\n",
    "an application. This chapter documents the cdms, cdtime, and regrid\n",
    "modules.\n",
    "\n",
    "The chapter sections correspond to the CDMS classes. Each section\n",
    "contains table\n",
    "s base. If no parent, the datapath is absolute.describing\n",
    "the class internal (non-persistent) attributes, constructors (functions\n",
    "for creating an object), and class methods (functions). A method can\n",
    "return an instance of a CDMS class, or one of the Python types:"
   ]
  },
  {
   "cell_type": "markdown",
   "metadata": {},
   "source": [
    "  \"Array\",  \"Numpy or masked multidimensional data array. All elements of the array are of the same type. Defined in the Numpy and MV2 modules.\"\n",
    "   \"Comptime\", \"Absolute time value, a time with representation (year, month, day, hour, minute, second). Defined in the cdtime module. cf. reltime\" \n",
    "   \"Dictionary\",\"An unordered 2,3 collection of objects, indexed by key. All dictionaries in CDMS are indexed by strings, e.g.: ``axes['time']``\"\n",
    "   \"Float\", \"Floating-point value.\"\n",
    "   \"Integer\", \"Integer value.\"\n",
    "   \"List\", \"An ordered sequence of objects, which need not be of the same type. New members can be inserted or appended. Lists are denoted with square brackets, e.g., ``[1, 2.0, 'x', 'y']``\"\n",
    "   \"None\", \"No value returned.\"\n",
    "   \"Reltime\", \"Relative time value, a time with representation (value, units since basetime). Defined in the cdtime module. cf. comptime\"\n",
    "   \"Tuple\", \"An ordered sequence of objects, which need not be of the same type. Unlike lists, tuples elements cannot be inserted or appended. Tuples are denoted with parentheses, e.g., ``(1, 2.0, 'x', 'y')``\""
   ]
  },
  {
   "cell_type": "markdown",
   "metadata": {},
   "source": [
    "## A First Example\n",
    "\n",
    "\n",
    "The following Python script reads January and July monthly temperature\n",
    "data from an input dataset, averages over time, and writes the results\n",
    "to an output file. The input temperature data is ordered (time,\n",
    "latitude, longitude)."
   ]
  },
  {
   "cell_type": "code",
   "execution_count": 88,
   "metadata": {},
   "outputs": [],
   "source": [
    "import os.path\n",
    "if(not os.path.exists(\"tas_mo.nc\")):\n",
    "    !wget  http://cdat.llnl.gov/cdat/sample_data/tas_mo.nc\n",
    "    !wget  http://cdat.llnl.gov/cdat/sample_data/sample.nc"
   ]
  },
  {
   "cell_type": "markdown",
   "metadata": {},
   "source": [
    "### Makes the CDMS and MV modules available.\n",
    "\n",
    "* MV defines arithmetic functions."
   ]
  },
  {
   "cell_type": "code",
   "execution_count": 89,
   "metadata": {},
   "outputs": [],
   "source": [
    "import cdms2, cdat_info\n",
    "from cdms2 import MV"
   ]
  },
  {
   "cell_type": "markdown",
   "metadata": {},
   "source": [
    "### Opens a netCDF file read-only. \n",
    "* The result jones is a dataset object."
   ]
  },
  {
   "cell_type": "code",
   "execution_count": 90,
   "metadata": {},
   "outputs": [],
   "source": [
    "jones = cdms2.open('tas_mo.nc')"
   ]
  },
  {
   "cell_type": "markdown",
   "metadata": {},
   "source": [
    "### Gets the surface air temperature variable. ‘tas’ is the name of the variable in the input dataset. \n",
    "* This does not actually read the data.\""
   ]
  },
  {
   "cell_type": "code",
   "execution_count": 91,
   "metadata": {},
   "outputs": [],
   "source": [
    "tasvar = jones['tas']"
   ]
  },
  {
   "cell_type": "markdown",
   "metadata": {},
   "source": [
    "### Read all January monthly mean data into a variable jans.\n",
    "* Variables can be sliced like arrays.\n",
    "* The slice operator [0::12] means take every 12th slice from dimension 0, starting at index 0 and ending at the last index. \n",
    "* If the stride 12 were omitted, it would default to 1. \n",
    "\n",
    "**Note:** that the variable is actually 3-dimensional. Since no slice is specified for the second or third dimensions, all values of those 2,3 dimensions are retrieved. The slice operation could also have been written [0::12, : , :]. \n",
    "\n",
    "\n",
    "**Also note:** that the same script works for multi-file datasets. CDMS opens the needed data files, extracts the appropriate slices, and concatenates them into the result array.\"\n",
    "       "
   ]
  },
  {
   "cell_type": "code",
   "execution_count": 92,
   "metadata": {},
   "outputs": [],
   "source": [
    "jans = tasvar[0::12]"
   ]
  },
  {
   "cell_type": "markdown",
   "metadata": {},
   "source": [
    "### Reads all July data into a masked array julys."
   ]
  },
  {
   "cell_type": "code",
   "execution_count": 93,
   "metadata": {},
   "outputs": [],
   "source": [
    "julys = tasvar[6::12]"
   ]
  },
  {
   "cell_type": "markdown",
   "metadata": {},
   "source": [
    "### Calculate the average January value for each grid zone.\n",
    "* Any missing data is handled automatically."
   ]
  },
  {
   "cell_type": "code",
   "execution_count": 94,
   "metadata": {},
   "outputs": [],
   "source": [
    "janavg = MV.average(jans)"
   ]
  },
  {
   "cell_type": "markdown",
   "metadata": {},
   "source": [
    "### Set the variable id and long\\_name attributes. \n",
    "* The id is used as the name of the variable when plotted or written to a file.\""
   ]
  },
  {
   "cell_type": "code",
   "execution_count": 95,
   "metadata": {},
   "outputs": [],
   "source": [
    "janavg.id = \"tas_jan\"\n",
    "janavg.long_name = \"mean January surface temperature\"\n"
   ]
  },
  {
   "cell_type": "markdown",
   "metadata": {},
   "source": [
    "### Calculate the average July value for each grid zone."
   ]
  },
  {
   "cell_type": "code",
   "execution_count": 96,
   "metadata": {},
   "outputs": [],
   "source": [
    "julyavg = MV.average(julys)\n",
    "julyavg.id = \"tas_jul\"\n",
    "julyavg.long_name = \"mean July surface temperature\""
   ]
  },
  {
   "cell_type": "markdown",
   "metadata": {},
   "source": [
    "### Create a new netCDF output file named \"***janjuly.nc***\" to hold the results.\n",
    "\n",
    "Write the January average values to the output file. \n",
    "* The variable will have id “tas\\_jan” in the file.\n",
    "* \"**write**\" is a utility function which creates the variable in the file, then writes data to the variable.\n",
    "* A more general method of data output is first to create a variable, then set a slice of the variable.\n",
    "\n",
    "**Note:** that janavg and julavg have the same latitude and longitude information as tasvar. It is carried along with the computations.\""
   ]
  },
  {
   "cell_type": "code",
   "execution_count": 97,
   "metadata": {},
   "outputs": [
    {
     "name": "stderr",
     "output_type": "stream",
     "text": [
      "/software/anaconda53/envs/cdms2/lib/python3.6/site-packages/cdms2/dataset.py:2187: Warning: Files are written with compression and no shuffling\n",
      "You can query different values of compression using the functions:\n",
      "cdms2.getNetcdfShuffleFlag() returning 1 if shuffling is enabled, 0 otherwise\n",
      "cdms2.getNetcdfDeflateFlag() returning 1 if deflate is used, 0 otherwise\n",
      "cdms2.getNetcdfDeflateLevelFlag() returning the level of compression for the deflate method\n",
      "\n",
      "If you want to turn that off or set different values of compression use the functions:\n",
      "value = 0\n",
      "cdms2.setNetcdfShuffleFlag(value) ## where value is either 0 or 1\n",
      "cdms2.setNetcdfDeflateFlag(value) ## where value is either 0 or 1\n",
      "cdms2.setNetcdfDeflateLevelFlag(value) ## where value is a integer between 0 and 9 included\n",
      "\n",
      "To produce NetCDF3 Classic files use:\n",
      "cdms2.useNetCDF3()\n",
      "To Force NetCDF4 output with classic format and no compressing use:\n",
      "cdms2.setNetcdf4Flag(1)\n",
      "NetCDF4 file with no shuffling or deflate and noclassic will be open for parallel i/o\n",
      "  \"for parallel i/o\", Warning)\n"
     ]
    }
   ],
   "source": [
    "out = cdms2.open('janjuly.nc','w')\n",
    "out.write(janavg)\n",
    "out.write(julyavg)\n",
    "out.comment = \"Average January/July from Jones dataset\"\n"
   ]
  },
  {
   "cell_type": "markdown",
   "metadata": {},
   "source": [
    "### Set the global attribute \"**comment*&\".\n",
    "* Close the output file."
   ]
  },
  {
   "cell_type": "code",
   "execution_count": 98,
   "metadata": {},
   "outputs": [],
   "source": [
    "jones.close()\n",
    "out.close()"
   ]
  },
  {
   "cell_type": "markdown",
   "metadata": {},
   "source": [
    "---\n",
    "\n",
    "## Cdms Module\n",
    "\n",
    "\n",
    "The cdms module is the Python interface to CDMS. The objects and methods\n",
    "in this chapter are made accessible with the command:"
   ]
  },
  {
   "cell_type": "code",
   "execution_count": 99,
   "metadata": {},
   "outputs": [],
   "source": [
    "import cdms2"
   ]
  },
  {
   "cell_type": "markdown",
   "metadata": {},
   "source": [
    "The functions described in this section are not associated with a class.\n",
    "Rather, they are called as module functions, e.g.,"
   ]
  },
  {
   "cell_type": "code",
   "execution_count": 100,
   "metadata": {},
   "outputs": [],
   "source": [
    "file = cdms2.open('clt.nc')"
   ]
  },
  {
   "cell_type": "markdown",
   "metadata": {},
   "source": [
    "**See Also**: [Cdms Module Functions](https://cdms.readthedocs.io/en/latest/manual/cdms_2.html#cdms-module-functions)"
   ]
  },
  {
   "cell_type": "markdown",
   "metadata": {},
   "source": [
    "### CdmsObj\n",
    "\n",
    "Get a list of all external attributes of obj."
   ]
  },
  {
   "cell_type": "code",
   "execution_count": 101,
   "metadata": {},
   "outputs": [
    {
     "name": "stdout",
     "output_type": "stream",
     "text": [
      "dict_keys(['Conventions', 'comments', 'model', 'center'])\n"
     ]
    }
   ],
   "source": [
    "extatts = file.attributes.keys()\n",
    "print(extatts)\n"
   ]
  },
  {
   "cell_type": "markdown",
   "metadata": {},
   "source": [
    "### Attributes Common to All CDMS Objects\n",
    "\n",
    " \"Dictionary\", \"attributes\", \"External attribute dictionary for this object.\""
   ]
  },
  {
   "cell_type": "markdown",
   "metadata": {},
   "source": [
    "### Getting and Setting Attributes\n",
    "\n",
    "\"**value = obj.attname**\"\n",
    "* Get an internal or external attribute value. \n",
    "  * If the attribute is external, it is read from the database.\n",
    "  * If the attribute is not already in the database, it is created as an external attribute. \n",
    "  * Internal attributes cannot be created, only referenced.\n",
    "\n",
    "\"**obj.attname = value**\"\n",
    "* Set an internal or external attribute value.\n",
    "  * If the attribute is external, it is written to the database."
   ]
  },
  {
   "cell_type": "markdown",
   "metadata": {},
   "source": [
    "### CoordinateAxis\n",
    "\n",
    "A CoordinateAxis is a variable that represents coordinate information.\n",
    "It may be contained in a file or dataset, or may be transient\n",
    "(memoryresident). Setting a slice of a file CoordinateAxis writes to the file, and referencing a file CoordinateAxis slice reads data from the file. Axis objects are also used to define the domain of a Variable.\n",
    "\n",
    "CDMS defines several different types of CoordinateAxis objects. See [MV module](https://cdms.readthedocs.io/en/latest/manual/cdms_2.html#id4) documents methods that are common to all CoordinateAxis types. See [HorizontalGrid]( https://cdms.readthedocs.io/en/latest/manual/cdms_2.html#id6) specifies methods that are unique to 1D Axis objects."
   ]
  },
  {
   "cell_type": "code",
   "execution_count": 102,
   "metadata": {},
   "outputs": [
    {
     "name": "stdout",
     "output_type": "stream",
     "text": [
      "   id: longitude\n",
      "   Designated a longitude axis.\n",
      "   units:  degrees_east\n",
      "   Length: 72\n",
      "   First:  -180.0\n",
      "   Last:   175.0\n",
      "   Other axis attributes:\n",
      "      long_name: Longitude\n",
      "   Python id:  0x7ff3199ea198\n",
      "\n"
     ]
    }
   ],
   "source": [
    "clt=file['clt']\n",
    "axis=clt.getAxis(2)\n",
    "print(axis)"
   ]
  },
  {
   "cell_type": "markdown",
   "metadata": {},
   "source": [
    "### isCircular()\n",
    "\n",
    "Returns True if the axis has circular topology.\n",
    "\n",
    "An axis is defined as circular if:\n",
    "* axis.topology == 'circular', or\n",
    "* axis.topology is undefined, and the axis is a longitude.\n",
    "\n",
    "The default cycle for circular axes is 360.0"
   ]
  },
  {
   "cell_type": "code",
   "execution_count": 103,
   "metadata": {},
   "outputs": [
    {
     "name": "stdout",
     "output_type": "stream",
     "text": [
      "1\n"
     ]
    }
   ],
   "source": [
    "print(axis.isCircular())"
   ]
  },
  {
   "cell_type": "markdown",
   "metadata": {},
   "source": [
    "### mapIntervalExt(interval)\n",
    "\n",
    "Map a coordinate interval to an index\n",
    "interval. interval is a tuple having one of the forms:\n",
    "* (x,y)\n",
    "* (x,y,indicator)\n",
    "* (x,y,indicator,cycle)\n",
    "\n",
    "None or ':'\n",
    "\n",
    "* where x and y are coordinates indicating the interval [x,y], and:\n",
    "  * indicator is a two or three-character string, where the first character is 'c' if the interval is closed on the left, 'o' if open, and the second character has the same meaning for the right-hand point. If present, the third character specifies how the interval should be intersected with the axis\n",
    "  * 'n' - select node values which are contained in the interval\n",
    "  * 'b' -select axis elements for which the corresponding cell boundary intersects the interval\n",
    "  * 'e' - same as n, but include an extra node on either side\n",
    "  * 's' - select axis elements for which the cell boundary is a subset of the interval\n",
    "  \n",
    "The default indicator is ‘ccn’, that is, the interval is closed, and nodes in the interval are selected.\n",
    "\n",
    "If cycle is specified, the axis is treated as circular with the given cycle value.\n",
    "\n",
    "By default, if axis.isCircular() is true, the axis is treated as circular with a default modulus of 360.0.\n",
    "\n",
    "An interval of None or ':' returns the full index interval of the axis.\n",
    "\n",
    "The method returns the corresponding index interval as a 3tuple (i,j,k), where k is the integer stride, and  (i.j) is the half-open index interval (i <= k < j),  (i >= k > j if k < 0), or none if the intersection is empty.\n",
    "\n",
    "For an axis which is circular (axis.topology == 'circular'), (i,j) is interpreted as follows, where n = len(axis)\n",
    "\n",
    "if **0 <= i < n and 0 <= j <= n**, the interval does not wrap around the axis endpoint.\n",
    "\n",
    "otherwise the interval wraps around the axis endpoint.\n",
    "\n",
    "**see also**: mapinterval, variable.subregion()"
   ]
  },
  {
   "cell_type": "code",
   "execution_count": 104,
   "metadata": {},
   "outputs": [
    {
     "name": "stdout",
     "output_type": "stream",
     "text": [
      "(35, 37, 1)\n"
     ]
    }
   ],
   "source": [
    "print(axis.mapIntervalExt((-5.0,5.0,'co')))"
   ]
  },
  {
   "cell_type": "markdown",
   "metadata": {},
   "source": [
    "### CdmsFile\n",
    "\n",
    "A ``CdmsFile`` is a physical file, accessible via the ``cdunif``\n",
    "interface. netCDF files are accessible in read-write mode. All other\n",
    "formats (DRS, HDF, GrADS/GRIB, POP, QL) are accessible read-only.\n",
    "\n",
    "As of CDMS V3, the legacy cuDataset interface is also supported by\n",
    "Cdms-Files. See “cu Module”."
   ]
  },
  {
   "cell_type": "markdown",
   "metadata": {},
   "source": [
    "### The following reads data for variable ‘clt’, year 1980."
   ]
  },
  {
   "cell_type": "code",
   "execution_count": 105,
   "metadata": {},
   "outputs": [],
   "source": [
    "f = cdms2.open('clt.nc')\n",
    "x = f('clt', time=('1980-1','1981-1'))"
   ]
  },
  {
   "cell_type": "markdown",
   "metadata": {},
   "source": [
    "### The following gets the axis named time"
   ]
  },
  {
   "cell_type": "code",
   "execution_count": 106,
   "metadata": {},
   "outputs": [],
   "source": [
    "t = f.axes['time']\n",
    "t = f['time']"
   ]
  },
  {
   "cell_type": "markdown",
   "metadata": {},
   "source": [
    "\n",
    "2.7.6. Table SearchResult Methods\n",
    "Type \tMethod \tDefinition\n",
    "ResultEntry \t[i] \tReturn the i-th search result. Results can also be returned in a for loop: for entry in db.searchResult(tag='dataset'):\n",
    "Integer \tlen() \tNumber of entries in the result.\n",
    "SearchResult \tsearchPredicate(predicate, tag=None) \t\n",
    "\n",
    "Refine a search result, with a predicate search.\n",
    "\n",
    "        predicate is a function which takes a single CDMS object and returns true (1) if the object satisfies the predicate, 0 if not.\n",
    "        tag restricts the search to objects of the class denoted by the tag.\n",
    "\n",
    "    Note:: In the current implementation, searchPredicate is much less efficient than searchFilter. For best performance, use searchFilter to narrow the scope of the search, then use searchPredicate for more general searches.\n",
    "\n",
    "A search result is a sequence of result entries. Each entry has a string name, the name of the object in the database hierarchy, and an attribute dictionary. An entry corresponds to an object found by the search, but differs from the object, in that only the attributes requested are associated with the entry. In general, there will be much more information defined for the associated CDMS object, which is retrieved with the getObject method.\n"
   ]
  },
  {
   "cell_type": "markdown",
   "metadata": {},
   "source": [
    "2.7.7. Table ResultEntry Attributes\n",
    "Type \tMethod \tDefinition\n",
    "String \tname \tThe name of this entry in the database.\n",
    "Dictionary \tattributes \tThe attributes returned from the search. attributes[key] is a list of all string values associated with the key"
   ]
  },
  {
   "cell_type": "markdown",
   "metadata": {},
   "source": [
    "2.7.8. Table ResultEntry Methods\n",
    "Type \tMethod \tDefinition\n",
    "CdmsObj \tgetObject() \t\n",
    "\n",
    "Return the CDMS object associated with this entry.\n",
    "    Note: For many search applications it is unnecessary to access the associated CDMS object. For best performance this function should be used only when necessary, for example, to retrieve data associated with a variable.\n",
    "\n",
    "CdmsObj \tgetObject() \t\n",
    "\n",
    "Return the CDMS object associated with this entry.\n",
    "    Note: For many search applications it is unnecessary to access the associated CDMS object. For best performance this function should be used only when necessary, for example, to retrieve data associated with a variable. "
   ]
  },
  {
   "cell_type": "markdown",
   "metadata": {},
   "source": [
    "## 2.9. MV2 Module\n",
    "\n",
    "The fundamental CDMS data object is the variable. A variable is comprised of:\n",
    "\n",
    "    a masked data array, as defined in the NumPy \"ma\" module.\n",
    "    a domain is an ordered list of axes and/or grids.\n",
    "    an attribute dictionary.\n",
    "\n",
    "MV2 can be imported with the command:"
   ]
  },
  {
   "cell_type": "code",
   "execution_count": 107,
   "metadata": {},
   "outputs": [],
   "source": [
    "import MV2"
   ]
  },
  {
   "cell_type": "markdown",
   "metadata": {},
   "source": [
    "The command"
   ]
  },
  {
   "cell_type": "code",
   "execution_count": 108,
   "metadata": {},
   "outputs": [],
   "source": [
    "from MV2 import *"
   ]
  },
  {
   "cell_type": "markdown",
   "metadata": {},
   "source": [
    "allows use of MV2 commands without any prefix.\n",
    "\n",
    "All functions return a transient variable. In most cases the keywords axes, attributes, and id are available. axes is a list of axis objects which specifies the domain of the variable. attributes is a dictionary. id is a special attribute string that serves as the identifier of the variable, and should not contain blanks or non-printing characters. It is used when the variable is plotted or written to a file. Since the id is just an attribute, it can also be set like any attribute:"
   ]
  },
  {
   "cell_type": "markdown",
   "metadata": {},
   "source": [
    "```python\n",
    "var.id = 'temperature'\n",
    "```"
   ]
  },
  {
   "cell_type": "markdown",
   "metadata": {},
   "source": [
    "For completeness MV2 provides access to all the \"numpy.ma\" functions. The functions not listed in the following tables are identical to the corresponding numpy.ma function: allclose, allequal, common_fill_value, compress, create_mask, dot, e, fill_value, filled, get_print_limit, getmask, getmaskarray, identity, indices, innerproduct, isMV2, isMaskedArray, is_mask, isarray, make_mask, make_mask_none, mask_or, masked, pi, put, putmask, rank, ravel, set_fill_value, set_print_limit, shape, size. See the documentation at https://github.com/numpy/numpy for a description of these functions."
   ]
  },
  {
   "cell_type": "code",
   "execution_count": 109,
   "metadata": {},
   "outputs": [
    {
     "ename": "NameError",
     "evalue": "name 'ta' is not defined",
     "output_type": "error",
     "traceback": [
      "\u001b[0;31m---------------------------------------------------------------------------\u001b[0m",
      "\u001b[0;31mNameError\u001b[0m                                 Traceback (most recent call last)",
      "\u001b[0;32m<ipython-input-109-bb51c463f735>\u001b[0m in \u001b[0;36m<module>\u001b[0;34m\u001b[0m\n\u001b[0;32m----> 1\u001b[0;31m \u001b[0mdata\u001b[0m \u001b[0;34m=\u001b[0m \u001b[0mta\u001b[0m\u001b[0;34m.\u001b[0m\u001b[0msubRegion\u001b[0m\u001b[0;34m(\u001b[0m\u001b[0;34m':'\u001b[0m\u001b[0;34m,\u001b[0m \u001b[0;34m(\u001b[0m\u001b[0;34m-\u001b[0m\u001b[0;36m45.0\u001b[0m\u001b[0;34m,\u001b[0m\u001b[0;36m45.0\u001b[0m\u001b[0;34m,\u001b[0m\u001b[0;34m'co'\u001b[0m\u001b[0;34m)\u001b[0m\u001b[0;34m,\u001b[0m \u001b[0;34m(\u001b[0m\u001b[0;36m0.0\u001b[0m\u001b[0;34m,\u001b[0m \u001b[0;36m180.0\u001b[0m\u001b[0;34m)\u001b[0m\u001b[0;34m)\u001b[0m\u001b[0;34m\u001b[0m\u001b[0;34m\u001b[0m\u001b[0m\n\u001b[0m",
      "\u001b[0;31mNameError\u001b[0m: name 'ta' is not defined"
     ]
    }
   ],
   "source": [
    "data = ta.subRegion(':', (-45.0,45.0,'co'), (0.0, 180.0))"
   ]
  },
  {
   "cell_type": "markdown",
   "metadata": {},
   "source": [
    "or equivalently:"
   ]
  },
  {
   "cell_type": "code",
   "execution_count": 110,
   "metadata": {},
   "outputs": [
    {
     "ename": "SyntaxError",
     "evalue": "unexpected EOF while parsing (<ipython-input-110-e2d128c9def1>, line 1)",
     "output_type": "error",
     "traceback": [
      "\u001b[0;36m  File \u001b[0;32m\"<ipython-input-110-e2d128c9def1>\"\u001b[0;36m, line \u001b[0;32m1\u001b[0m\n\u001b[0;31m    data = ta.subRegion(latitude=(-45.0,45.0,'co'), longitude=(0.0,\u001b[0m\n\u001b[0m                                                                   ^\u001b[0m\n\u001b[0;31mSyntaxError\u001b[0m\u001b[0;31m:\u001b[0m unexpected EOF while parsing\n"
     ]
    }
   ],
   "source": [
    "data = ta.subRegion(latitude=(-45.0,45.0,'co'), longitude=(0.0,\n"
   ]
  },
  {
   "cell_type": "markdown",
   "metadata": {},
   "source": [
    "Read all data for March, 1980:"
   ]
  },
  {
   "cell_type": "code",
   "execution_count": 111,
   "metadata": {},
   "outputs": [
    {
     "ename": "NameError",
     "evalue": "name 'ta' is not defined",
     "output_type": "error",
     "traceback": [
      "\u001b[0;31m---------------------------------------------------------------------------\u001b[0m",
      "\u001b[0;31mNameError\u001b[0m                                 Traceback (most recent call last)",
      "\u001b[0;32m<ipython-input-111-1a8d83d0dc16>\u001b[0m in \u001b[0;36m<module>\u001b[0;34m\u001b[0m\n\u001b[0;32m----> 1\u001b[0;31m \u001b[0mdata\u001b[0m \u001b[0;34m=\u001b[0m \u001b[0mta\u001b[0m\u001b[0;34m.\u001b[0m\u001b[0msubRegion\u001b[0m\u001b[0;34m(\u001b[0m\u001b[0mtime\u001b[0m\u001b[0;34m=\u001b[0m\u001b[0;34m(\u001b[0m\u001b[0;34m'1980-3'\u001b[0m\u001b[0;34m,\u001b[0m\u001b[0;34m'1980-4'\u001b[0m\u001b[0;34m,\u001b[0m\u001b[0;34m'co'\u001b[0m\u001b[0;34m)\u001b[0m\u001b[0;34m)\u001b[0m\u001b[0;34m\u001b[0m\u001b[0;34m\u001b[0m\u001b[0m\n\u001b[0m",
      "\u001b[0;31mNameError\u001b[0m: name 'ta' is not defined"
     ]
    }
   ],
   "source": [
    "data = ta.subRegion(time=('1980-3','1980-4','co'))"
   ]
  },
  {
   "cell_type": "markdown",
   "metadata": {},
   "source": [
    "2.11.6. Table Index and Coordinate Intervals\n",
    "Interval Definition \tExample Interval Definition \tExample\n",
    "x \tsingle point, such that axis[i]==x In general x is a scalar. If the axis is a time axis, x may also be a cdtime relative time type, component time type, or string of the form ‘yyyy-mm-dd hh:mi:ss’ (where trailing fields of the string may be omitted. \t\n",
    "\n",
    "180.0\n",
    "    cdtime.reltime(48,'hour s since 1980-1') '1980-1-3'\n",
    "\n",
    "(x,y) \tindices i such that x ≤ axis[i] ≤ y \t(-180,180)\n",
    "(x,y,'co') \tx ≤ axis[i] < y. The third item is defined as in mapInterval. \t(-90,90,'cc')\n",
    "(x,y,'co',cycle) \tx ≤ axis[i]< y, with wraparound \t\n",
    "\n",
    "( 180, 180, 'co', 360.0)\n",
    "    Note: It is not necesary to specify the cycle of a circular longitude axis, that is, for which axis.isCircular() is true.\n",
    "\n",
    "slice(i,j,k) \t\n",
    "\n",
    "    slice object, equivalent to i:j:k in a slice operator. Refers to the indices i, i+k, i+2k, … up to but not including index j. If i is not specified or is None it defaults to 0. If j is not specified or is None it defaults to the length of the axis. The stride k defaults to 1. k may be negative.\n",
    "\n",
    "\t\n",
    "\n",
    "slice(1,10)\n",
    "    slice(,,-1) reverses the direction of the axis.\n",
    "\n",
    "':' \tall axis values of one dimension \t \n",
    "Ellipsis \tall values of all intermediate axes \t "
   ]
  },
  {
   "cell_type": "markdown",
   "metadata": {},
   "source": [
    "2.12. Selectors\n",
    "\n",
    "A selector is a specification of a region of data to be selected from a variable. For example, the statement:"
   ]
  },
  {
   "cell_type": "code",
   "execution_count": null,
   "metadata": {},
   "outputs": [],
   "source": [
    "x = v(time='1979-1-1', level=(1000.0,100.0))"
   ]
  },
  {
   "cell_type": "markdown",
   "metadata": {},
   "source": [
    "means ‘select the values of variable v for time ‘1979-1-1’ and levels 1000.0 to 100.0 inclusive, setting x to the result.’ Selectors are generally used to represent regions of space and time.\n",
    "\n",
    "The form for using a selector is:"
   ]
  },
  {
   "cell_type": "code",
   "execution_count": null,
   "metadata": {},
   "outputs": [],
   "source": [
    "result = v(s)"
   ]
  },
  {
   "cell_type": "markdown",
   "metadata": {},
   "source": [
    "where v is a variable and s is the selector. An equivalent form is:"
   ]
  },
  {
   "cell_type": "code",
   "execution_count": null,
   "metadata": {},
   "outputs": [],
   "source": [
    "result = f('varid', s)"
   ]
  },
  {
   "cell_type": "markdown",
   "metadata": {},
   "source": [
    "where f is a file or dataset, and ‘varid’ is the string ID of a variable.\n",
    "\n",
    "A selector consists of a list of selector components. For example, the selector:"
   ]
  },
  {
   "cell_type": "code",
   "execution_count": null,
   "metadata": {},
   "outputs": [],
   "source": [
    "time='1979-1-1', level=(1000.0,100.0)"
   ]
  },
  {
   "cell_type": "markdown",
   "metadata": {},
   "source": [
    "has two components: time=’1979-1-1’, and level=(1000.0,100.0). This illustrates that selector components can be defined with keywords, using the form:"
   ]
  },
  {
   "cell_type": "code",
   "execution_count": null,
   "metadata": {},
   "outputs": [],
   "source": [
    "keyword=value"
   ]
  },
  {
   "cell_type": "markdown",
   "metadata": {},
   "source": [
    "Note that for the keywords time, level, latitude, and longitude, the selector can be used with any variable. If the corresponding axis is not found, the selector component is ignored. This is very useful for writing general purpose scripts. The required keyword overrides this behavior. These keywords take values that are coordinate ranges or index ranges as defined in See Index and Coordinate Intervals.\n",
    "\n",
    "The following keywords are available: Another form of selector components is the positional form, where the component order corresponds to the axis order of a variable. For example:"
   ]
  },
  {
   "cell_type": "markdown",
   "metadata": {},
   "source": [
    "2.12.1. Table Selector Keywords\n",
    "Keyword \tDescription \tValue\n",
    "axisid \tRestrict the axis with ID axisid to a value or range of values. \tSee Index and Coordinate Intervals\n",
    "grid \tRegrid the result to the grid. \tGrid object\n",
    "latitude \tRestrict latitude values to a value or range. Short form: lat \tSee Index and Coordinate Intervals\n",
    "level \tRestrict vertical levels to a value or range. Short form: lev \tSee Index and Coordinate Intervals\n",
    "longitude \tRestrict longitude values to a value or range. Short form: lon \tSee Index and Coordinate Intervals\n",
    "order \tReorder the result. \tOrder string, e.g., ‘tzyx’\n",
    "raw \tReturn a masked array (MV2.array) rather than a transient variable. \t0: return a transient variable (default); =1: return a masked array.\n",
    "required \tRequire that the axis IDs be present. \tList of axis identifiers.\n",
    "squeeze \tRemove singleton dimensions from the result. \t0: leave singleton dimensions (default); 1: remove singleton dimensions.\n",
    "time \tRestrict time values to a value or range. \tSee Index and Coordinate Intervals\n",
    "\n",
    "Another form of selector components is the positional form, where the component order corresponds to the axis order of a variable. For example:"
   ]
  },
  {
   "cell_type": "code",
   "execution_count": null,
   "metadata": {},
   "outputs": [],
   "source": [
    "x9 = hus(('1979-1-1','1979-2-1'),1000.0)"
   ]
  },
  {
   "cell_type": "markdown",
   "metadata": {},
   "source": [
    "reads data for the range (‘1979-1-1’,’1979-2-1’) of the first axis, and coordinate value 1000.0 of the second axis. Non-keyword arguments of the form(s) listed in Index and Coordinate Intervals are treated as positional. Such selectors are more concise, but not as general or flexible as the other types described in this section.\n",
    "\n",
    "Selectors are objects in their own right. This means that a selector can be defined and reused, independent of a particular variable. Selectors are constructed using the cdms.selectors.Selector class. The constructor takes an argument list of selector components. For example:"
   ]
  },
  {
   "cell_type": "code",
   "execution_count": null,
   "metadata": {},
   "outputs": [],
   "source": [
    "from cdms.selectors import Selector\n",
    "sel = Selector(time=('1979-1-1','1979-2-1'), level=1000.)\n",
    "x1 = v1(sel)\n",
    "x2 = v2(sel)\n",
    "\n",
    "from cdms.selectors import Selector\n",
    "sel = Selector(time=('1979-1-1','1979-2-1'), level=1000.)\n",
    "x1 = v1(sel)\n",
    "x2 = v2(sel)"
   ]
  },
  {
   "cell_type": "markdown",
   "metadata": {},
   "source": [
    "For convenience CDMS provides several predefined selectors, which can be used directly or can be combined into more complex selectors. The selectors time, level, latitude, longitude, and required are equivalent to their keyword counterparts. For example:"
   ]
  },
  {
   "cell_type": "code",
   "execution_count": null,
   "metadata": {},
   "outputs": [],
   "source": [
    "from cdms import time, level\n",
    "x = hus(time('1979-1-1','1979-2-1'), level(1000.))"
   ]
  },
  {
   "cell_type": "markdown",
   "metadata": {},
   "source": [
    "and\n",
    "\n",
    "are equivalent. Additionally, the predefined selectors latitudeslice, longitudeslice, levelslice, and timeslice take arguments (startindex, stopindex[, stride]):"
   ]
  },
  {
   "cell_type": "code",
   "execution_count": null,
   "metadata": {},
   "outputs": [],
   "source": [
    "from cdms import timeslice, levelslice\n",
    "x = v(timeslice(0,2), levelslice(16,17))"
   ]
  },
  {
   "cell_type": "markdown",
   "metadata": {},
   "source": [
    "Finally, a collection of selectors is defined in module cdutil.region:"
   ]
  },
  {
   "cell_type": "code",
   "execution_count": null,
   "metadata": {},
   "outputs": [],
   "source": [
    "from cdutil.region import *\n",
    "NH=NorthernHemisphere=domain(latitude=(0.,90.)\n",
    "SH=SouthernHemisphere=domain(latitude=(-90.,0.))\n",
    "Tropics=domain(latitude=(-23.4,23.4))\n",
    "NPZ=AZ=ArcticZone=domain(latitude=(66.6,90.))\n",
    "SPZ=AAZ=AntarcticZone=domain(latitude=(-90.,-66.6))"
   ]
  },
  {
   "cell_type": "markdown",
   "metadata": {},
   "source": [
    "Selectors can be combined using the & operator, or by refining them in the call:"
   ]
  },
  {
   "cell_type": "code",
   "execution_count": null,
   "metadata": {},
   "outputs": [],
   "source": [
    "from cdms.selectors import Selector\n",
    "from cdms import level\n",
    "sel2 = Selector(time=('1979-1-1','1979-2-1'))\n",
    "sel3 = sel2 & level(1000.0)\n",
    "x1 = hus(sel3)\n",
    "x2 = hus(sel2, level=1000.0)"
   ]
  },
  {
   "cell_type": "markdown",
   "metadata": {},
   "source": [
    "2.12.2. Selector Examples\n",
    "\n",
    "CDMS provides a variety of ways to select or slice data. In the following examples, variable hus is contained in file sample.nc, and is a function of (time, level, latitude, longitude). Time values are monthly starting at 1979-1-1. There are 17 levels, the last level being 1000.0. The name of the vertical level axis is ‘plev’. All the examples select the first two times and the last level. The last two examples remove the singleton level dimension from the result array."
   ]
  },
  {
   "cell_type": "code",
   "execution_count": 87,
   "metadata": {},
   "outputs": [
    {
     "ename": "CDMSError",
     "evalue": "Cannot open file /software/cdms22/sample.nc (Variable not found)",
     "output_type": "error",
     "traceback": [
      "\u001b[0;31m---------------------------------------------------------------------------\u001b[0m",
      "\u001b[0;31mOSError\u001b[0m                                   Traceback (most recent call last)",
      "\u001b[0;32m/software/anaconda53/envs/cdms2/lib/python3.6/site-packages/cdms2/dataset.py\u001b[0m in \u001b[0;36m__init__\u001b[0;34m(self, path, mode, hostObj, mpiBarrier)\u001b[0m\n\u001b[1;32m   1280\u001b[0m                     \u001b[0;32mpass\u001b[0m\u001b[0;34m\u001b[0m\u001b[0;34m\u001b[0m\u001b[0m\n\u001b[0;32m-> 1281\u001b[0;31m             \u001b[0m_fileobj_\u001b[0m \u001b[0;34m=\u001b[0m \u001b[0mCdunif\u001b[0m\u001b[0;34m.\u001b[0m\u001b[0mCdunifFile\u001b[0m\u001b[0;34m(\u001b[0m\u001b[0mpath\u001b[0m\u001b[0;34m,\u001b[0m \u001b[0mmode\u001b[0m\u001b[0;34m)\u001b[0m\u001b[0;34m\u001b[0m\u001b[0;34m\u001b[0m\u001b[0m\n\u001b[0m\u001b[1;32m   1282\u001b[0m         \u001b[0;32mexcept\u001b[0m \u001b[0mException\u001b[0m \u001b[0;32mas\u001b[0m \u001b[0merr\u001b[0m\u001b[0;34m:\u001b[0m\u001b[0;34m\u001b[0m\u001b[0;34m\u001b[0m\u001b[0m\n",
      "\u001b[0;31mOSError\u001b[0m: Variable not found",
      "\nDuring handling of the above exception, another exception occurred:\n",
      "\u001b[0;31mCDMSError\u001b[0m                                 Traceback (most recent call last)",
      "\u001b[0;32m<ipython-input-87-0e808b2b248c>\u001b[0m in \u001b[0;36m<module>\u001b[0;34m\u001b[0m\n\u001b[1;32m      1\u001b[0m \u001b[0;32mimport\u001b[0m \u001b[0mcdms2\u001b[0m\u001b[0;34m\u001b[0m\u001b[0;34m\u001b[0m\u001b[0m\n\u001b[0;32m----> 2\u001b[0;31m \u001b[0mf\u001b[0m \u001b[0;34m=\u001b[0m \u001b[0mcdms2\u001b[0m\u001b[0;34m.\u001b[0m\u001b[0mopen\u001b[0m\u001b[0;34m(\u001b[0m\u001b[0;34m'sample.nc'\u001b[0m\u001b[0;34m)\u001b[0m\u001b[0;34m\u001b[0m\u001b[0;34m\u001b[0m\u001b[0m\n\u001b[0m\u001b[1;32m      3\u001b[0m \u001b[0mhus\u001b[0m \u001b[0;34m=\u001b[0m \u001b[0mf\u001b[0m\u001b[0;34m.\u001b[0m\u001b[0mvariables\u001b[0m\u001b[0;34m[\u001b[0m\u001b[0;34m'hus'\u001b[0m\u001b[0;34m]\u001b[0m\u001b[0;34m\u001b[0m\u001b[0;34m\u001b[0m\u001b[0m\n\u001b[1;32m      4\u001b[0m \u001b[0;34m\u001b[0m\u001b[0m\n\u001b[1;32m      5\u001b[0m \u001b[0;31m# Keyword selection\u001b[0m\u001b[0;34m\u001b[0m\u001b[0;34m\u001b[0m\u001b[0;34m\u001b[0m\u001b[0m\n",
      "\u001b[0;32m/software/anaconda53/envs/cdms2/lib/python3.6/site-packages/cdms2/dataset.py\u001b[0m in \u001b[0;36mopenDataset\u001b[0;34m(uri, mode, template, dods, dpath, hostObj)\u001b[0m\n\u001b[1;32m    497\u001b[0m             \u001b[0;31m# rank\u001b[0m\u001b[0;34m\u001b[0m\u001b[0;34m\u001b[0m\u001b[0;34m\u001b[0m\u001b[0m\n\u001b[1;32m    498\u001b[0m             \u001b[0;32mif\u001b[0m \u001b[0;32mnot\u001b[0m \u001b[0mos\u001b[0m\u001b[0;34m.\u001b[0m\u001b[0mpath\u001b[0m\u001b[0;34m.\u001b[0m\u001b[0mexists\u001b[0m\u001b[0;34m(\u001b[0m\u001b[0mpath\u001b[0m\u001b[0;34m)\u001b[0m\u001b[0;34m:\u001b[0m\u001b[0;34m\u001b[0m\u001b[0;34m\u001b[0m\u001b[0m\n\u001b[0;32m--> 499\u001b[0;31m                 \u001b[0;32mreturn\u001b[0m \u001b[0mCdmsFile\u001b[0m\u001b[0;34m(\u001b[0m\u001b[0mpath\u001b[0m\u001b[0;34m,\u001b[0m \u001b[0mmode\u001b[0m\u001b[0;34m,\u001b[0m \u001b[0mmpiBarrier\u001b[0m\u001b[0;34m=\u001b[0m\u001b[0mCdMpi\u001b[0m\u001b[0;34m)\u001b[0m\u001b[0;34m\u001b[0m\u001b[0;34m\u001b[0m\u001b[0m\n\u001b[0m\u001b[1;32m    500\u001b[0m             \u001b[0;32melif\u001b[0m \u001b[0mmode\u001b[0m \u001b[0;34m==\u001b[0m \u001b[0;34m\"w\"\u001b[0m\u001b[0;34m:\u001b[0m\u001b[0;34m\u001b[0m\u001b[0;34m\u001b[0m\u001b[0m\n\u001b[1;32m    501\u001b[0m                 \u001b[0;32mtry\u001b[0m\u001b[0;34m:\u001b[0m\u001b[0;34m\u001b[0m\u001b[0;34m\u001b[0m\u001b[0m\n",
      "\u001b[0;32m/software/anaconda53/envs/cdms2/lib/python3.6/site-packages/cdms2/dataset.py\u001b[0m in \u001b[0;36m__init__\u001b[0;34m(self, path, mode, hostObj, mpiBarrier)\u001b[0m\n\u001b[1;32m   1281\u001b[0m             \u001b[0m_fileobj_\u001b[0m \u001b[0;34m=\u001b[0m \u001b[0mCdunif\u001b[0m\u001b[0;34m.\u001b[0m\u001b[0mCdunifFile\u001b[0m\u001b[0;34m(\u001b[0m\u001b[0mpath\u001b[0m\u001b[0;34m,\u001b[0m \u001b[0mmode\u001b[0m\u001b[0;34m)\u001b[0m\u001b[0;34m\u001b[0m\u001b[0;34m\u001b[0m\u001b[0m\n\u001b[1;32m   1282\u001b[0m         \u001b[0;32mexcept\u001b[0m \u001b[0mException\u001b[0m \u001b[0;32mas\u001b[0m \u001b[0merr\u001b[0m\u001b[0;34m:\u001b[0m\u001b[0;34m\u001b[0m\u001b[0;34m\u001b[0m\u001b[0m\n\u001b[0;32m-> 1283\u001b[0;31m             \u001b[0;32mraise\u001b[0m \u001b[0mCDMSError\u001b[0m\u001b[0;34m(\u001b[0m\u001b[0;34m'Cannot open file %s (%s)'\u001b[0m \u001b[0;34m%\u001b[0m \u001b[0;34m(\u001b[0m\u001b[0mpath\u001b[0m\u001b[0;34m,\u001b[0m \u001b[0merr\u001b[0m\u001b[0;34m)\u001b[0m\u001b[0;34m)\u001b[0m\u001b[0;34m\u001b[0m\u001b[0;34m\u001b[0m\u001b[0m\n\u001b[0m\u001b[1;32m   1284\u001b[0m         \u001b[0mself\u001b[0m\u001b[0;34m.\u001b[0m\u001b[0m_file_\u001b[0m \u001b[0;34m=\u001b[0m \u001b[0m_fileobj_\u001b[0m   \u001b[0;31m# Cdunif file object\u001b[0m\u001b[0;34m\u001b[0m\u001b[0;34m\u001b[0m\u001b[0m\n\u001b[1;32m   1285\u001b[0m         \u001b[0mself\u001b[0m\u001b[0;34m.\u001b[0m\u001b[0mvariables\u001b[0m \u001b[0;34m=\u001b[0m \u001b[0;34m{\u001b[0m\u001b[0;34m}\u001b[0m\u001b[0;34m\u001b[0m\u001b[0;34m\u001b[0m\u001b[0m\n",
      "\u001b[0;31mCDMSError\u001b[0m: Cannot open file /software/cdms22/sample.nc (Variable not found)"
     ]
    }
   ],
   "source": [
    "import cdms2\n",
    "f = cdms2.open('sample.nc')\n",
    "hus = f.variables['hus']\n",
    "\n",
    "# Keyword selection\n",
    "x = hus(time=('1979-1-1','1979-2-1'), level=1000.)\n",
    "\n",
    "# Interval indicator (see mapIntervalExt)\n",
    "x = hus(time=('1979-1-1','1979-3-1','co'), level=1000.)\n",
    "\n",
    "# Axis ID (plev) as a keyword\n",
    "x = hus(time=('1979-1-1','1979-2-1'), plev=1000.)\n",
    "\n",
    "# Positional\n",
    "x9 = hus(('1979-1-1','1979-2-1'),1000.0)\n",
    "\n",
    "# Predefined selectors\n",
    "from cdms import time, level\n",
    "x = hus(time('1979-1-1','1979-2-1'), level(1000.))\n",
    "\n",
    "from cdms import timeslice, levelslice\n",
    "x = hus(timeslice(0,2), levelslice(16,17))\n",
    "\n",
    "# Call file as a function\n",
    "x = f('hus', time=('1979-1-1','1979-2-1'), level=1000.)\n",
    "\n",
    "# Python slices\n",
    "x = hus(time=slice(0,2), level=slice(16,17))\n",
    "\n",
    "# Selector objects\n",
    "from cdms.selectors import Selector\n",
    "sel = Selector(time=('1979-1-1','1979-2-1'), level=1000.)\n",
    "x = hus(sel)\n",
    "\n",
    "sel2 = Selector(time=('1979-1-1','1979-2-1'))\n",
    "sel3 = sel2 & level(1000.0)\n",
    "x = hus(sel3)\n",
    "x = hus(sel2, level=1000.0)\n",
    "\n",
    "# Squeeze singleton dimension (level)\n",
    "x = hus[0:2,16]\n",
    "x = hus(time=('1979-1-1','1979-2-1'), level=1000., squeeze=1)\n",
    "\n",
    "f.close()"
   ]
  },
  {
   "cell_type": "markdown",
   "metadata": {},
   "source": [
    "2.13. Examples\n",
    "2.13.1. Example 1\n",
    "\n",
    "In this example, two datasets are opened, containing surface air temperature (‘tas’) and upper-air temperature (‘ta’) respectively. Surface air temperature is a function of (time, latitude, longitude). Upper-air temperature is a function of (time, level, latitude, longitude). Time is assumed to have a relative representation in the datasets (e.g., with units ‘months since basetime’).\n",
    "\n",
    "Data is extracted from both datasets for January of the first input year through December of the second input year. For each time and level, three quantities are calculated: slope, variance, and correlation. The results are written to a netCDF file. For brevity, the functions corrCoefSlope and removeSeasonalCycle are omitted."
   ]
  },
  {
   "cell_type": "code",
   "execution_count": null,
   "metadata": {},
   "outputs": [],
   "source": [
    "1.  import cdms\n",
    "   import MV\n",
    "\n",
    "   # Calculate variance, slope, and correlation of\n",
    "   # surface air temperature with upper air temperature\n",
    "   # by level, and save to a netCDF file. 'pathTa' is the location of\n",
    "   # the file containing 'ta', 'pathTas' is the file with contains 'tas'.\n",
    "   # Data is extracted from January of year1 through December of year2.\n",
    "   def ccSlopeVarianceBySeasonFiltNet(pathTa,pathTas,month1,month2):\n",
    "\n",
    "       # Open the files for ta and tas\n",
    "       fta = cdms.open(pathTa)\n",
    "       ftas = cdms.open(pathTas)\n",
    "\n",
    "2.      #Get upper air temperature\n",
    "       taObj = fta['ta']\n",
    "       levs = taObj.getLevel()\n",
    "\n",
    "       #Get the surface temperature for the closed interval [time1,time2]\n",
    "       tas = ftas('tas', time=(month1,month2,'cc'))\n",
    "\n",
    "       # Allocate result arrays\n",
    "       newaxes = taObj.getAxisList(omit='time')\n",
    "       newshape = tuple([len(a) for a in newaxes])\n",
    "       cc = MV.zeros(newshape, typecode=MV.Float, axes=newaxes, id='correlation')\n",
    "       b = MV.zeros(newshape, typecode=MV.Float, axes=newaxes, id='slope')\n",
    "       v = MV.zeros(newshape, typecode=MV.Float, axes=newaxes, id='variance')\n",
    "\n",
    "       # Remove seasonal cycle from surface air temperature\n",
    "       tas = removeSeasonalCycle(tas)\n",
    "\n",
    "       # For each level of air temperature, remove seasonal cycle\n",
    "       # from upper air temperature, and calculate statistics\n",
    "5.      for ilev in range(len(levs)):\n",
    "\n",
    "           ta = taObj(time=(month1,month2,'cc'), \\\n",
    "                      level=slice(ilev, ilev+1), squeeze=1)\n",
    "           ta = removeSeasonalCycle(ta)\n",
    "           cc[ilev], b[ilev] = corrCoefSlope(tas ,ta)\n",
    "           v[ilev] = MV.sum( ta**2 )/(1.0*ta.shape[0])\n",
    "\n",
    "       # Write slope, correlation, and variance variables\n",
    "6.      f = cdms.open('CC_B_V_ALL.nc','w')\n",
    "       f.title = filtered\n",
    "       f.write(b)\n",
    "       f.write(cc)\n",
    "       f.write(v)\n",
    "       f.close()\n",
    "\n",
    "7.  if __name__=='__main__':\n",
    "       pathTa = '/pcmdi/cdms/sample/ccmSample_ta.xml'\n",
    "       pathTas = '/pcmdi/cdms/sample/ccmSample_tas.xml'\n",
    "       # Process Jan80 through Dec81\n",
    "       ccSlopeVarianceBySeasonFiltNet(pathTa,pathTas,'80-1','81-12')"
   ]
  },
  {
   "cell_type": "markdown",
   "metadata": {},
   "source": [
    "Notes:"
   ]
  },
  {
   "cell_type": "markdown",
   "metadata": {},
   "source": [
    "1.   Two modules are imported, \"cdms\", and \"MV\". \"MV\" implements\n",
    "     arithmetic functions.\n",
    "15.  \"taObj\" is a file (persistent) variable. At this point, no data has\n",
    "     actually been read. This happens when the file variable is sliced, or\n",
    "     when the subRegion function is called. levs is an axis.\n",
    "20.  Calling the file like a function reads data for the given variable\n",
    "     and time range. Note that month1 and month2 are time strings.\n",
    "25.  In contrast to \"taObj\", the variables \"cc:\" b\" and \"v\" are\n",
    "     transient variables, not associated with a file. The assigned names\n",
    "     are used when the variables are written.\n",
    "34.  Another way to read data is to call the variable as a function. The\n",
    "     squeeze option removes singleton axes, in this case the level axis.\n",
    "43.  Write the data. Axis information is written automatically.\n",
    "50.  This is the main routine of the script. \"pathTa\" and \"pathTas\"\n",
    "     pathnames. Data is processed from January 1980 through December 1981.\n"
   ]
  },
  {
   "cell_type": "markdown",
   "metadata": {},
   "source": [
    "2.13.2. Example 2\n",
    "\n",
    "In the next example, the pointwise variance of a variable over time is calculated, for all times in a dataset. The name of the dataset and variable are entered, then the variance is calculated and plotted via the vcs module."
   ]
  },
  {
   "cell_type": "code",
   "execution_count": null,
   "metadata": {},
   "outputs": [],
   "source": [
    "#!/usr/bin/env python\n",
    "#\n",
    "# Calculates gridpoint total variance\n",
    "# from an array of interest\n",
    "#\n",
    "\n",
    "import cdms\n",
    "from MV import *\n",
    "\n",
    "# Wait for return in an interactive window\n",
    "\n",
    "def pause():\n",
    "    print Hit return to continue: ,\n",
    "    line = sys.stdin.readline()\n",
    "\n",
    "1.      # Calculate pointwise variance of variable over time\n",
    "# Returns the variance and the number of points\n",
    "# for which the data is defined, for each grid point\n",
    "def calcVar(x):\n",
    "    # Check that the first axis is a time axis\n",
    "    firstaxis = x.getAxis(0)\n",
    "    if not firstaxis.isTime():\n",
    "        raise 'First axis is not time, variable:', x.id\n",
    "\n",
    "    n = count(x,0)\n",
    "    sumxx = sum(x*x)\n",
    "    sumx = sum(x)\n",
    "    variance = (n*sumxx -(sumx * sumx))/(n * (n-1.))\n",
    "\n",
    "    return variance, n\n",
    "\n",
    "  if __name__=='__main__':\n",
    "    import vcs, sys\n",
    "\n",
    "    print 'Enter dataset path [/pcmdi/cdms/obs/erbs_mo.xml]: ',\n",
    "    path = string.strip(sys.stdin.readline())\n",
    "    if path=='': path='/pcmdi/cdms/obs/erbs_mo.xml'\n",
    "\n",
    "2.  # Open the dataset\n",
    "    dataset = cdms.open(path)\n",
    "\n",
    "    # Select a variable from the dataset\n",
    "    print 'Variables in file:',path\n",
    "    varnames = dataset.variables.keys()\n",
    "    varnames.sort()\n",
    "    for varname in varnames:\n",
    "\n",
    "        var = dataset.variables[varname]\n",
    "        if hasattr(var,'long_name'):\n",
    "            long_name = var.long_name\n",
    "        elif hasattr(var,'title'):\n",
    "            long_name = var.title\n",
    "        else:\n",
    "            long_name = '?'\n",
    "\n",
    "    print '%-10s: %s'%(varname,long_name)\n",
    "    print 'Select a variable: ',\n",
    "3.  varname = string.strip(sys.stdin.readline())\n",
    "    var = dataset(varname)\n",
    "    dataset.close()\n",
    "\n",
    "    # Calculate variance, count, and set attributes\n",
    "    variance,n = calcVar(var)\n",
    "    variance.id = 'variance_%s'%var.id\n",
    "    n.id = 'count_%s'%var.id\n",
    "    if hasattr(var,'units'):\n",
    "        variance.units = '(%s)^2'%var.units\n",
    "\n",
    "    # Plot variance\n",
    "    w=vcs.init()\n",
    "4.  w.plot(variance)\n",
    "    pause()\n",
    "    w.clear()\n",
    "    w.plot(n)\n",
    "    pause()\n",
    "    w.clear()"
   ]
  },
  {
   "cell_type": "markdown",
   "metadata": {},
   "source": [
    "The result of running this script is as follows:"
   ]
  },
  {
   "cell_type": "code",
   "execution_count": null,
   "metadata": {},
   "outputs": [],
   "source": [
    "% calcVar.py\n",
    "Enter dataset path [/pcmdi/cdms/sample/obs/erbs_mo.xml]:\n",
    "\n",
    "Variables in file: /pcmdi/cdms/sample/obs/erbs_mo.xml\n",
    "albt    : Albedo TOA [%]\n",
    "albtcs : Albedo TOA clear sky [%]\n",
    "rlcrft  : LW Cloud Radiation Forcing TOA [W/m^2]\n",
    "rlut    : LW radiation TOA (OLR) [W/m^2]\n",
    "rlutcs : LW radiation upward TOA clear sky [W/m^2]\n",
    "rscrft : SW Cloud Radiation Forcing TOA [W/m^2]\n",
    "rsdt    : SW radiation downward TOA [W/m^2]\n",
    "rsut    : SW radiation upward TOA [W/m^2]\n",
    "rsutcs : SW radiation upward TOA clear sky [W/m^2]\n",
    "Select a variable: albt\n",
    "\n",
    "<The variance is plotted>\n",
    "\n",
    "Hit return to continue:\n",
    "\n",
    "<The number of points is plotted>"
   ]
  },
  {
   "cell_type": "markdown",
   "metadata": {},
   "source": [
    "Notes:\n",
    "\n",
    "    n = count(x, 0) returns the pointwise number of valid values, summing across axis 0, the first axis. count is an MV function.\n",
    "    dataset is a Dataset or CdmsFile object, depending on whether a .xml or .nc pathname is entered. dataset.variables is a dictionary mapping variable name to file variable.\n",
    "    var is a transient variable.\n",
    "    Plot the variance and count variables. Spatial longitude and latitude information are carried with the computations, so the continents are plotted correctly.\n"
   ]
  }
 ],
 "metadata": {
  "kernelspec": {
   "display_name": "Python 3",
   "language": "python",
   "name": "python3"
  },
  "language_info": {
   "codemirror_mode": {
    "name": "ipython",
    "version": 3
   },
   "file_extension": ".py",
   "mimetype": "text/x-python",
   "name": "python",
   "nbconvert_exporter": "python",
   "pygments_lexer": "ipython3",
   "version": "3.6.7"
  }
 },
 "nbformat": 4,
 "nbformat_minor": 2
}
