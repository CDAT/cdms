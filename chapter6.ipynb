{
 "cells": [
  {
   "cell_type": "markdown",
   "metadata": {},
   "source": [
    "# Climate Data Markup Language (CDML)"
   ]
  },
  {
   "cell_type": "markdown",
   "metadata": {},
   "source": [
    "## Introduction\n",
    "\n",
    "The Climate Data Markup Language (CDML) is the markup language used to represent metadata in CDMS. CDML is based on the W3C XML standard (https://www.w3.org). This chapter defines the syntax of CDML. Read this section if you will be building or maintaining a CDMS database.\n",
    "\n",
    "XML, the eXtensible Markup Language, makes it possible to define interoperable dialects of markup languages. The most recent version of HTML, the Web hypertext markup language, is an XML dialect. CDML is also an XML dialect, geared toward the representation of gridded climate datasets. XML provides rigor to the metadata representation, ensuring that applications can access it correctly. XML also deals with internationalization issues, and holds forth the promise that utilities for browsing, editing, and other common tasks will be available in the future.\n",
    "\n",
    "CDML files have the file extension .xml or .cdml."
   ]
  },
  {
   "cell_type": "markdown",
   "metadata": {},
   "source": [
    "## Elements\n",
    "\n",
    "A CDML document consists of a nested collection of elements. An element is a description of the metadata associated with a CDMS object. The form of an element is:\n",
    "\n",
    "\n",
    "&lt;tag> attribute-list  element-content &lt;/tag>\n",
    "or\n",
    "&lt;tag attribute-list />\n",
    "\n",
    "**where**\n",
    "\n",
    "* tag is a string which defines the type of element\n",
    "* attribute-list is a blank-separated list of attribute-value pairs, of the form:\n",
    "* attribute = \"value\"\n",
    "* element-content depends on the type of element. It is either a list of elements, or text which defines the element values. For example, the content of an axis element either is a list of axis values, or is a linear element.\n",
    "* For datasets, the content is the blank-separated list of elements corresponding to the axes, grids, and variables contained in the dataset.\n",
    "\n"
   ]
  },
  {
   "cell_type": "markdown",
   "metadata": {},
   "source": [
    "The CDML elements are:\n",
    "    \n",
    "CDML Tags\n",
    "\n",
    "Tag \tDescription\n",
    "attr \tExtra attribute\n",
    "axis \tCoordinate axis\n",
    "domain \tAxes on which a variable is defined\n",
    "domElem \tElement of a variable domain\n",
    "linear \tLinearly-spaced axis values\n",
    "rectGrid \tRectilinear Grid\n",
    "variable \tVariable\n",
    "\n",
    "### Special Characters\n",
    "\n",
    "XML reserves certain characters for markup. If they appear as content, they must be encoded to avoid confusion with markup:\n",
    "\n",
    "#### Special Character Encodings\n",
    "\n",
    "Character \tEncoding\n",
    "\n",
    "* <  : &lt\\;\n",
    "* &gt; :  &gt\\;\n",
    "* & : &amp\\;\n",
    "* “ : &quot\\;\n",
    "* ‘ : &apos\\;\n",
    "\n",
    "For example, the **comment**\n",
    "\n",
    "* Certain “special characters”, such as <, >, and ‘, must be encoded.\n",
    "\n",
    "would appear in an attribute string as:\n",
    "\n",
    "* comment = “Certain **&quot\\;**special characters**&quot\\;**, such as **&lt\\;**, **&gt\\;**, and **&apos\\;**, must be encoded.”\n",
    "\n",
    "### Identifiers\n",
    "\n",
    "In CDMS, all objects in a dataset have a unique string identifier. The id attribute holds the value of this identifier. If the variable, axis, or grid has a string name within a data file, then the id attribute ordinarily has this value. Alternatively, the name of the object in a data file can be stored in the name_in_file attribute, which can differ from the id. Datasets also have IDs, which can be used within a larger context (databases).\n",
    "\n",
    "An identifer must start with an alphabetic character (upper or lower case), an underscore (\\_), or a colon (:). Characters after the first must be alphanumeric, an underscore, or colon. There is no restriction on the length of an identifier.\n",
    "\n",
    "### CF Metadata Standard\n",
    "\n",
    "The CF metadata standard defines a set of conventions for usage of netCDF. This standard is supported by CDML. The document defines names and usage for metadata attributes. CF supersedes the GDT 1.3 standard.\n"
   ]
  },
  {
   "cell_type": "markdown",
   "metadata": {},
   "source": [
    "## CDML Syntax\n",
    "\n",
    "The following notation is used in this section:\n",
    "\n",
    "    A monospaced block is used for a syntax specification.\n",
    "    Bold text indicates literals.\n",
    "    (R|S) denotes either R or S.\n",
    "    R* denotes zero or more R.\n",
    "    R+ denotes one or more R.\n",
    "\n",
    "A CDML document consists of a prolog followed by a single dataset element.\n",
    "\n",
    "CDML-document ::= prolog dataset-element\n",
    "\n",
    "The prolog defines the XML version, and the Document Type Definition (DTD), a formal specification of the document syntax. See https://www.w3.org/XML/ for a formal definition of XML\n",
    "\n",
    "Version 1.0."
   ]
  },
  {
   "cell_type": "markdown",
   "metadata": {},
   "source": [
    "prolog ::= &lt;?xml version=\"1.0\"?> &lt;!DOCTYPE dataset SYSTEM \"https://www-pcmdi.llnl.gov/cdms/cdml.dtd\">"
   ]
  },
  {
   "cell_type": "markdown",
   "metadata": {},
   "source": [
    "#### Dataset Element\n",
    "\n",
    "A dataset element describes a single dataset. The content is a list of elements corresponding to the axes, grids, and variables contained in the dataset. Axis, variable, and grid elements can be listed in any order, and an element ID can be used before the element is actually defined."
   ]
  },
  {
   "cell_type": "markdown",
   "metadata": {},
   "source": [
    "dataset-element ::= <dataset dataset-attributes> dataset-content </dataset>"
   ]
  },
  {
   "cell_type": "markdown",
   "metadata": {},
   "source": [
    "dataset-content ::= (axis-element | grid-element | variable-element)* extra-attribute-element+"
   ]
  },
  {
   "cell_type": "markdown",
   "metadata": {},
   "source": [
    "grid-element ::= <rectGrid grid-attributes> extra-attribute-element* </rectGrid>"
   ]
  },
  {
   "cell_type": "markdown",
   "metadata": {},
   "source": [
    "### RectGrid Attributes"
   ]
  },
  {
   "cell_type": "raw",
   "metadata": {},
   "source": [
    "<th>Attribute</th> <th>Required?</th> <th>GDT?</th> <th>Notes</th>\n",
    "\n",
    "<tr><td><code>id</code></td><td>Y</td><td>N</td><td>Grid identifier</td></tr>\n",
    "<tr><td><code>type</code></td><td>Y</td><td>N</td><td><p>Grid classification</p><p>\"gaussian\" | \"uniform\"\n",
    "| \"equalarea\" |\"generic\"</p><p>Default: \"generic\"</p></td></tr>\n",
    "<tr><td><code>latitude</code></td><td>Y</td><td>N</td><td>Latitude axis name</td></tr>\n",
    "<tr><td><code>longitude</code></td><td>Y</td><td>N</td><td>Longitude axis name</td></tr>\n",
    "<tr><td><code>mask</code></td><td>N</td><td>N</td><td>Name of associated mask variable</td></tr>\n",
    "<tr><td><code>order</code></td><td>Y</td><td>N</td><td><p>Grid ordering \"yx\"\n",
    " | \"xy\"</p><p>Default: “yx”, axis order is latitude, longitude</p></td></tr>\n",
    "\n"
   ]
  },
  {
   "cell_type": "markdown",
   "metadata": {},
   "source": [
    "### Variable Element\n",
    "\n",
    "A variable element describes a data variable. The domain of the variable is an ordered list of domain elements naming the axes on which the variable is defined. A domain element is a reference to an axis or grid in the dataset.\n",
    "\n",
    "The length of a domain element is the number of axis points for which data can be retrieved. The partition_length is the number of points for which data is actually defined. If data is missing, this is less than the length."
   ]
  },
  {
   "cell_type": "raw",
   "metadata": {},
   "source": [
    "variable-element ::= <variable variable-attributes> variable-content </variable>\n",
    "\n",
    "variable-content ::= variable-domain extra-attributeelement*`\n",
    "\n",
    "variable-domain ::= <domain> domain-element* </domain>\n",
    "\n",
    "domain-element ::= <domElem name=”axis-name”** start=”``Integer``” **length=**”``Integer``” **partition_length=**”``Integer``”/>**"
   ]
  },
  {
   "cell_type": "markdown",
   "metadata": {},
   "source": [
    "Variable Attributes\n",
    "Attribute \tRequired? \tCF \tGDT \tNotes\n",
    "id \tY \tN \tN \tVariable identifier. Also, the name of the variable in the underlying file(s), if name_in_file is undefined.\n",
    "ad_offset \tN \tY \tY \tAdditive offset for packing data. See scale_factor.\n",
    "associate \tN \tN \tY \tIDs of variables containing alternative sets of coordinates Spatio-temporal dimensions.\n",
    "axis \tN \tN \tY \tExample: TYX for a variable with domain (time, latitude, longitude) Note: for CF, applies to axes only.\n",
    "cell_methods \tN \tY \tN \tThe method used to derive data that represents cell values, e.g., maximum,mean,variance, etc.\n",
    "comments \tN \tN \tN \tComment string\n",
    "coordinates \tN \tY \tN \tIDs of variables containing coordinate data.\n",
    "datatype \tY \tN \tN \tChar, Short, Long, Float, Double, or String\n",
    "grid_name \tN \tN \tN \tId of the grid.\n",
    "grid_type \tN \tN \tN \tgaussian, uniform, equalarea, generic\n",
    "long_name \tN \tY \tY \tLong description of a physical quantity.\n",
    "missing_value \tN \tY \tY \tValue used for data that are unknown or missing.\n",
    "name_in_file \tN \tN \tN \tName of the variable in the underlying file(s). See id.\n",
    "scale_factor \tN \tY \tY \tMultiplicative factor for packing data. See add_offset.\n",
    "standard_name \tN \tY \tN \tReference to an entry in the standard name table.\n",
    "subgrid \tN \tN \tY \tRecords how data values represent subgrid variation.\n",
    "template \tN \tN \tN \tName of the file template to use for this variable. Overrides the dataset value.\n",
    "units \tN \tY \tY \tUnits of a physical quantity.\n",
    "valid_max \tN \tY \tY \tLargest valid value of a variable.\n",
    "valid_min \tN \tY \tY \tSmallest valid value of a variable.\n",
    "valid_range \tN \tY \tY \tLargest and smallest valid values of a variable."
   ]
  },
  {
   "cell_type": "markdown",
   "metadata": {},
   "source": [
    "### Attribute Element\n",
    "\n",
    "Attributes which are not explicitly defined by the GDT convention are represented as extra attribute elements. Any dataset, axis, grid, or variable element can have an extra attribute as part of its content. This representation is also useful if the attribute value has non-blank whitespace characters (carriage returns, tabs, linefeeds) which are significant.\n",
    "\n",
    "The datatype is one of: Char, Short, Long, Float, Double, or String."
   ]
  },
  {
   "cell_type": "raw",
   "metadata": {},
   "source": [
    "extra-attribute-element ::= <attr name=”attribute-name” datatype=”attribute-datatype”> attribute-value </attr>"
   ]
  },
  {
   "cell_type": "markdown",
   "metadata": {},
   "source": [
    "A Sample CDML Document\n",
    "\n",
    "Dataset ``sample`` has two variables, and six axes.\n",
    "\n",
    "Note:\n",
    "\n",
    "* The file is indented for readability. This is not required; the added whitespace is ignored.\n",
    "* The dataset contains three axes and two variables. Variables u and v are functions of time, latitude, and longitude.\n",
    "* The global attribute cdms_filemap describes the mapping between variables and files. The entry [[u],[[0,1,-,-,u_2000.nc],[1,2,-,-,u_2001.nc],[2,3,,-,u_2002.nc] ] indicates that variable u is contained in file u_2000.nc for time index 0, u_2001.nc for time index 1, etc.\n",
    "\n"
   ]
  },
  {
   "cell_type": "raw",
   "metadata": {},
   "source": [
    "<!DOCTYPE dataset SYSTEM \"http://www-pcmdi.llnl.gov/software/cdms/cdml.dtd\">"
   ]
  },
  {
   "cell_type": "raw",
   "metadata": {},
   "source": [
    "<axis\n",
    "    id =\"longitude\"\n",
    "    length=\"32\"\n",
    "    units=\"degrees_east\"\n",
    "    datatype=\"Double\">\n",
    "\n",
    "    [ 0. 11.25 22.5 33.75 45. 56.25 67.5 78.75 90. \n",
    "    101.25 112.5 123.75 135. 146.25 157.5 168.75 180. 191.25\n",
    "    202.5 213.75 225. 236.25 247.5 258.75 270. 281.25 292.5\n",
    "    303.75 315. 326.25 337.5 348.75]\n",
    "</axis>\n",
    "\n",
    "<axis\n",
    "    id =\"time\"\n",
    "    partition=\"[0 1 1 2 2 3]\" \n",
    "    calendar=\"gregorian\"\n",
    "    units=\"days since 2000-1-1\"\n",
    "    datatype=\"Double\"\n",
    "    length=\"3\"\n",
    "    name_in_file=\"time\">\n",
    "   [ 0. 366. 731.]\n",
    "</axis>\n",
    "\n",
    "<variable\n",
    "   id =\"u\"\n",
    "   missing_value=\"-99.9\"\n",
    "   units=\"m/s\"\n",
    "   datatype=\"Double\">\n",
    "   <domain>\n",
    "       <domElem name=\"time\" length=\"3\" start=\"0\"/>\n",
    "       <domElem name=\"latitude\" length=\"16\" start=\"0\"/>\n",
    "       <domElem name=\"longitude\" length=\"32\" start=\"0\"/>\n",
    "   </domain>\n",
    "</variable>\n",
    "\n",
    "<variable\n",
    "   id =\"v\"\n",
    "   missing_value=\"-99.9\"\n",
    "   units=\"m/s\"\n",
    "   datatype=\"Double\">\n",
    "  <domain>\n",
    "       <domElem name=\"time\" length=\"3\" start=\"0\"/>\n",
    "       <domElem name=\"latitude\" length=\"16\" start=\"0\"/>\n",
    "       <domElem name=\"longitude\" length=\"32\" start=\"0\"/>\n",
    "   </domain>\n",
    "</variable>\n"
   ]
  }
 ],
 "metadata": {
  "kernelspec": {
   "display_name": "Python 3",
   "language": "python",
   "name": "python3"
  },
  "language_info": {
   "codemirror_mode": {
    "name": "ipython",
    "version": 3
   },
   "file_extension": ".py",
   "mimetype": "text/x-python",
   "name": "python",
   "nbconvert_exporter": "python",
   "pygments_lexer": "ipython3",
   "version": "3.6.8"
  }
 },
 "nbformat": 4,
 "nbformat_minor": 2
}
