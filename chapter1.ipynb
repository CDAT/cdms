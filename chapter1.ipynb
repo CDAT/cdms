{
 "cells": [
  {
   "cell_type": "markdown",
   "metadata": {},
   "source": [
    "# Introduction "
   ]
  },
  {
   "cell_type": "markdown",
   "metadata": {},
   "source": [
    "## Overview\n",
    "\n",
    "The Community Data Management System is an object-oriented data management\n",
    "system, specialized for organizing multidimensional, gridded data used\n",
    "in climate analysis and simulation. \n",
    "\n",
    "CDMS is implemented as part of the Climate Data\n",
    "Analysis Tool (CDAT), which uses the Python language. The examples in\n",
    "this chapter assume some familiarity with the language and the Python\n",
    "Numpy module (https://www.numpy.org). A number of excellent tutorials\n",
    "on Python are available in books or on the Internet. For example, see\n",
    "the [Python Foundation's homepage](https://python.org).\n"
   ]
  },
  {
   "cell_type": "markdown",
   "metadata": {},
   "source": [
    "## Variables\n",
    "\n",
    "The basic unit of computation in CDMS is the variable. A variable is essentially a multidimensional data array, augmented with a domain, a set of attributes, and optionally a spatial and/or temporal coordinate system [(see Coordinate Axes)](https://cdms.readthedocs.io/en/readthedocstest/manual/cdms_1.html#coordinate-axes).  As a data array, a variable can\n",
    "be sliced to obtain a portion of the data, and can be used in arithmetic\n",
    "computations. For example, if ``u`` and ``v`` are variables representing\n",
    "the eastward and northward components of wind speed, respectively, and\n",
    "both variables are functions of time, latitude, and longitude, then the\n",
    "velocity for time 0 (first index) can be calculated as:"
   ]
  },
  {
   "cell_type": "code",
   "execution_count": 1,
   "metadata": {},
   "outputs": [],
   "source": [
    "import cdms2\n",
    "from cdms2 import MV"
   ]
  },
  {
   "cell_type": "code",
   "execution_count": 2,
   "metadata": {},
   "outputs": [
    {
     "name": "stdout",
     "output_type": "stream",
     "text": [
      "(1, 2, 80, 97)\n"
     ]
    },
    {
     "name": "stderr",
     "output_type": "stream",
     "text": [
      "/software/anaconda53/envs/sphynx/lib/python2.7/site-packages/cdms2/axis.py:826: UserWarning: genutil module not present, was not able to determine if axis is level based on units\n",
      "  \"genutil module not present, was not able to determine if axis is level based on units\")\n"
     ]
    }
   ],
   "source": [
    "# uncomment the line below to donwload \"clt.nc\"\n",
    "# !wget \"https://cdat.llnl.gov/cdat/sample_data/clt.nc\"\n",
    "f1=cdms2.open(\"clt.nc\")\n",
    "u = f1('u')\n",
    "v = f1('v')\n",
    "from cdms2 import MV\n",
    "print u.shape"
   ]
  },
  {
   "cell_type": "markdown",
   "metadata": {},
   "source": [
    "MV is a module that wraps numpy masked arrays.  It keeps the axes, grid and other attributes."
   ]
  },
  {
   "cell_type": "code",
   "execution_count": 3,
   "metadata": {},
   "outputs": [
    {
     "name": "stdout",
     "output_type": "stream",
     "text": [
      "['units', 'name', 'title', 'tileIndex', 'source', 'time', 'date', 'type']\n",
      "('units: ', 'm/s')\n",
      "   id: plev\n",
      "   Designated a level axis.\n",
      "   units:  hPa\n",
      "   Length: 2\n",
      "   First:  200.0\n",
      "   Last:   850.0\n",
      "   Other axis attributes:\n",
      "      axis: Z\n",
      "      realtopology: linear\n",
      "   Python id:  0x7f71524578d0\n",
      "\n"
     ]
    },
    {
     "name": "stderr",
     "output_type": "stream",
     "text": [
      "/software/anaconda53/envs/sphynx/lib/python2.7/site-packages/numpy/ma/core.py:6649: RuntimeWarning: overflow encountered in power\n",
      "  result = np.where(m, fa, umath.power(fa, fb)).view(basetype)\n"
     ]
    }
   ],
   "source": [
    "vel = MV.sqrt(u[0]**2 + v[0]**2)\n",
    "print(vel.listattributes())\n",
    "print(\"units: \", vel.units)\n",
    "print(vel.getLevel())"
   ]
  },
  {
   "cell_type": "markdown",
   "metadata": {},
   "source": [
    "## Several points:\n",
    "\n",
    "-  Square brackets represent the slice operator. Indexing starts at 0,\n",
    "   so ``u[0]`` selects from variable ``u`` for the first timepoint. The\n",
    "   result of this slice operation is another variable. The slice\n",
    "   operator can be multidimensional, and follows the syntax of Numpy\n",
    "   Python arrays. In this example, ``u[0,0,0:10,1]`` would retrieve data\n",
    "   for the first ten timepoints, at all latitudes, for the second\n",
    "   longitude.\n",
    "-  Variables can be used in computation. ``**`` is the Python\n",
    "   exponentiation operator.\n",
    "-  Arithmetic functions are defined in the ``cdms2.MV2`` module.\n",
    "-  Operations on variables carry along the corresponding metadata where\n",
    "   applicable. In the above example, ``vel`` has the same latitude and\n",
    "   longitude coordinates as ``u`` and ``v``, and the time coordinate is\n",
    "   the first time of ``u`` and ``v``."
   ]
  },
  {
   "cell_type": "code",
   "execution_count": 4,
   "metadata": {},
   "outputs": [
    {
     "name": "stdout",
     "output_type": "stream",
     "text": [
      "[-3.0127158164978027 -4.229100227355957 -4.467456340789795\n",
      " -3.366543769836426 -0.9665766358375549 2.2838134765625 4.745534420013428\n",
      " 4.761820316314697 2.8783907890319824 1.4265387058258057]\n"
     ]
    }
   ],
   "source": [
    "print(u[0,0,0:10,1])"
   ]
  },
  {
   "cell_type": "markdown",
   "metadata": {},
   "source": [
    "# File I/O\n",
    "\n",
    "\n",
    "A variable can be obtained from a file or collection of files, or can be\n",
    "generated as the result of a computation. Files can be in any of the\n",
    "self- describing formats `netCDF`, `HDF`, `GrADS/GRIB` *(GRIB with a GrADS\n",
    "control file)*, or `PCMDI DRS`. (HDF and DRS support is optional, and is\n",
    "configured at the time CDMS is installed.) For instance, to read data\n",
    "from file clt.nc into variable u..."
   ]
  },
  {
   "cell_type": "code",
   "execution_count": 5,
   "metadata": {},
   "outputs": [],
   "source": [
    "# !wget \"https://cdat.llnl.gov/cdat/sample_data/clt.nc\"\n",
    "f = cdms2.open('clt.nc')\n",
    "u = f('u')"
   ]
  },
  {
   "cell_type": "markdown",
   "metadata": {},
   "source": [
    "Data can be read by index or by world coordinate values. The following reads the `n-th` timepoint of `u` *(the syntax slice(i,j)* refers to indices `k` such that `i <= k < j`):"
   ]
  },
  {
   "cell_type": "code",
   "execution_count": 6,
   "metadata": {},
   "outputs": [],
   "source": [
    "n = 0\n",
    "u0 = f('u',time=slice(n,n+1))"
   ]
  },
  {
   "cell_type": "markdown",
   "metadata": {},
   "source": [
    "To read u at time 1:"
   ]
  },
  {
   "cell_type": "code",
   "execution_count": 7,
   "metadata": {},
   "outputs": [],
   "source": [
    "l = f('u',time=1.)"
   ]
  },
  {
   "cell_type": "markdown",
   "metadata": {},
   "source": [
    "A variable can be written to a file with the write function:"
   ]
  },
  {
   "cell_type": "code",
   "execution_count": 8,
   "metadata": {},
   "outputs": [
    {
     "name": "stderr",
     "output_type": "stream",
     "text": [
      "/software/anaconda53/envs/sphynx/lib/python2.7/site-packages/cdms2/dataset.py:2176: Warning: Files are written with compression and no shuffling\n",
      "You can query different values of compression using the functions:\n",
      "cdms2.getNetcdfShuffleFlag() returning 1 if shuffling is enabled, 0 otherwise\n",
      "cdms2.getNetcdfDeflateFlag() returning 1 if deflate is used, 0 otherwise\n",
      "cdms2.getNetcdfDeflateLevelFlag() returning the level of compression for the deflate method\n",
      "\n",
      "If you want to turn that off or set different values of compression use the functions:\n",
      "value = 0\n",
      "cdms2.setNetcdfShuffleFlag(value) ## where value is either 0 or 1\n",
      "cdms2.setNetcdfDeflateFlag(value) ## where value is either 0 or 1\n",
      "cdms2.setNetcdfDeflateLevelFlag(value) ## where value is a integer between 0 and 9 included\n",
      "\n",
      "To produce NetCDF3 Classic files use:\n",
      "cdms2.useNetCDF3()\n",
      "To Force NetCDF4 output with classic format and no compressing use:\n",
      "cdms2.setNetcdf4Flag(1)\n",
      "NetCDF4 file with no shuffling or deflate and noclassic will be open for parallel i/o\n",
      "  \"for parallel i/o\", Warning)\n"
     ]
    }
   ],
   "source": [
    "g = cdms2.open('sample2.nc','w')\n",
    "g.write(u) \n",
    "g.close()"
   ]
  },
  {
   "cell_type": "markdown",
   "metadata": {},
   "source": [
    "# Coordinate Axes\n",
    "\n",
    "\n",
    "A coordinate axis is a variable that represents coordinate information.\n",
    "Typically an axis is associated with one or more variables in a file or\n",
    "dataset, to represent the indexing and/or spatiotemporal coordinate\n",
    "system(s) of the variable(s).\n",
    "\n",
    "Often in climate applications an axis is a one-dimensional variable\n",
    "whose values are floating-point and strictly monotonic. In some cases an\n",
    "axis can be multidimensional (see `Grids`). If an axis is\n",
    "associated with one of the canonical types latitude, longitude, level,\n",
    "or time, then the axis is called temporal .\n",
    "\n",
    "The shape and physical ordering of a variable is represented by the\n",
    "variables domain , an ordered tuple of one-dimensional axes. In the\n",
    "previous example, the domain of the variable u is the tuple (time,\n",
    "latitude, longitude). This indicates the order of the dimensions, with\n",
    "the slowest-varying dimension listed first (time). The domain may be\n",
    "accessed with the ``getAxisList()`` method:\n"
   ]
  },
  {
   "cell_type": "code",
   "execution_count": 9,
   "metadata": {},
   "outputs": [
    {
     "data": {
      "text/plain": [
       "[   id: time1\n",
       "    Designated a time axis.\n",
       "    units:  months since 1978-12\n",
       "    Length: 1\n",
       "    First:  1.0\n",
       "    Last:   1.0\n",
       "    Other axis attributes:\n",
       "       calendar: gregorian\n",
       "       axis: T\n",
       "    Python id:  0x7f718865f150,    id: plev\n",
       "    Designated a level axis.\n",
       "    units:  hPa\n",
       "    Length: 2\n",
       "    First:  200.0\n",
       "    Last:   850.0\n",
       "    Other axis attributes:\n",
       "       axis: Z\n",
       "       realtopology: linear\n",
       "    Python id:  0x7f718865f390,    id: latitude1\n",
       "    Designated a latitude axis.\n",
       "    units:  degrees_north\n",
       "    Length: 80\n",
       "    First:  -88.2884\n",
       "    Last:   88.2884\n",
       "    Other axis attributes:\n",
       "       axis: Y\n",
       "       realtopology: linear\n",
       "    Python id:  0x7f718865f3d0,    id: longitude1\n",
       "    Designated a longitude axis.\n",
       "    units:  degrees_east\n",
       "    Length: 97\n",
       "    First:  -180.0\n",
       "    Last:   180.0\n",
       "    Other axis attributes:\n",
       "       axis: X\n",
       "       topology: circular\n",
       "       modulo: 360.0\n",
       "       realtopology: linear\n",
       "    Python id:  0x7f715255c650]"
      ]
     },
     "execution_count": 9,
     "metadata": {},
     "output_type": "execute_result"
    }
   ],
   "source": [
    "u.getAxisList() "
   ]
  },
  {
   "cell_type": "markdown",
   "metadata": {},
   "source": [
    "In the above example, the domain elements are axes that are also\n",
    "spatiotemporal. In general it is not always the case that an element of\n",
    "a domain is spatiotemporal:\n",
    "\n",
    "-  An axis in the domain of a variable need not be spatiotemporal. For\n",
    "   example, it may represent a range of indices, an index coordinate\n",
    "   system.\n",
    "-  The latitude and/or longitude coordinate axes associated with a\n",
    "   variable need not be elements of the domain. In particular this will\n",
    "   be true if the variable is defined on a non-rectangular grid (see `Grids <#grids>`__).\n",
    "\n",
    "As previously noted, a spatial and/or temporal coordinate system may be\n",
    "associated with a variable. The methods getLatitude, getLongitude,\n",
    "getLevel, and getTime return the associated coordinate axes. For\n",
    "example:"
   ]
  },
  {
   "cell_type": "code",
   "execution_count": 10,
   "metadata": {},
   "outputs": [
    {
     "name": "stdout",
     "output_type": "stream",
     "text": [
      "[1.]\n",
      "months since 1978-12\n"
     ]
    }
   ],
   "source": [
    "t = u.getTime()\n",
    "print t[:]\n",
    "\n",
    "print t.units"
   ]
  },
  {
   "cell_type": "markdown",
   "metadata": {},
   "source": [
    "Attributes\n",
    "\n",
    "As mentioned above, variables can have associated attributes ,\n",
    "name-value pairs. In fact, nearly all CDMS objects can have associated\n",
    "attributes, which are accessed using the Python dot notation:"
   ]
  },
  {
   "cell_type": "code",
   "execution_count": 11,
   "metadata": {},
   "outputs": [
    {
     "name": "stdout",
     "output_type": "stream",
     "text": [
      "m/s\n"
     ]
    }
   ],
   "source": [
    "u.units='m/s'\n",
    "print u.units"
   ]
  },
  {
   "cell_type": "markdown",
   "metadata": {},
   "source": [
    "Attribute values can be strings, scalars, or 1-D Numpy arrays.\n",
    "\n",
    "When a variable is written to a file, not all the attributes are\n",
    "written. Some attributes, called internal attributes, are used for\n",
    "bookkeeping, and are not intended to be part of the external file\n",
    "representation of the variable. In contrast, external attributes are\n",
    "written to an output file along with the variable. By default, when an\n",
    "attribute is set, it is treated as external. Every variable has a field\n",
    "attributes, a Python dictionary that defines the external attributes:"
   ]
  },
  {
   "cell_type": "code",
   "execution_count": 12,
   "metadata": {},
   "outputs": [
    {
     "name": "stdout",
     "output_type": "stream",
     "text": [
      "['name', 'title', 'tileIndex', 'date', 'source', 'time', 'units', 'type']\n"
     ]
    }
   ],
   "source": [
    "print u.attributes.keys()\n"
   ]
  },
  {
   "cell_type": "markdown",
   "metadata": {},
   "source": [
    "The Python dir command lists the internal attribute names:"
   ]
  },
  {
   "cell_type": "code",
   "execution_count": 13,
   "metadata": {},
   "outputs": [
    {
     "data": {
      "text/plain": [
       "['T',\n",
       " '_FillValue',\n",
       " '_TransientVariable__domain',\n",
       " '_TransientVariable__getMPIType',\n",
       " '_TransientVariable__getSlab',\n",
       " '_TransientVariable__mpiComm',\n",
       " '_TransientVariable__mpiType',\n",
       " '_TransientVariable__mpiWindows',\n",
       " '___cdms_internals__',\n",
       " '__abs__',\n",
       " '__add__',\n",
       " '__and__',\n",
       " '__array__',\n",
       " '__array_finalize__',\n",
       " '__array_interface__',\n",
       " '__array_prepare__',\n",
       " '__array_priority__',\n",
       " '__array_struct__',\n",
       " '__array_ufunc__',\n",
       " '__array_wrap__',\n",
       " '__call__',\n",
       " '__cdms_internals__',\n",
       " '__class__',\n",
       " '__complex__',\n",
       " '__contains__',\n",
       " '__copy__',\n",
       " '__deepcopy__',\n",
       " '__delattr__',\n",
       " '__delitem__',\n",
       " '__dict__',\n",
       " '__div__',\n",
       " '__divmod__',\n",
       " '__doc__',\n",
       " '__eq__',\n",
       " '__float__',\n",
       " '__floordiv__',\n",
       " '__format__',\n",
       " '__ge__',\n",
       " '__getattribute__',\n",
       " '__getitem__',\n",
       " '__getslice__',\n",
       " '__getstate__',\n",
       " '__gt__',\n",
       " '__hash__',\n",
       " '__hex__',\n",
       " '__iadd__',\n",
       " '__iand__',\n",
       " '__idiv__',\n",
       " '__ifloordiv__',\n",
       " '__ilshift__',\n",
       " '__imod__',\n",
       " '__imul__',\n",
       " '__index__',\n",
       " '__init__',\n",
       " '__int__',\n",
       " '__invert__',\n",
       " '__ior__',\n",
       " '__ipow__',\n",
       " '__irshift__',\n",
       " '__isub__',\n",
       " '__iter__',\n",
       " '__itruediv__',\n",
       " '__ixor__',\n",
       " '__le__',\n",
       " '__len__',\n",
       " '__long__',\n",
       " '__lshift__',\n",
       " '__lt__',\n",
       " '__mod__',\n",
       " '__module__',\n",
       " '__mul__',\n",
       " '__ne__',\n",
       " '__neg__',\n",
       " '__new__',\n",
       " '__nonzero__',\n",
       " '__oct__',\n",
       " '__or__',\n",
       " '__pos__',\n",
       " '__pow__',\n",
       " '__radd__',\n",
       " '__rand__',\n",
       " '__rdiv__',\n",
       " '__rdivmod__',\n",
       " '__reduce__',\n",
       " '__reduce_ex__',\n",
       " '__repr__',\n",
       " '__rfloordiv__',\n",
       " '__rlshift__',\n",
       " '__rmod__',\n",
       " '__rmul__',\n",
       " '__ror__',\n",
       " '__rpow__',\n",
       " '__rrshift__',\n",
       " '__rshift__',\n",
       " '__rsub__',\n",
       " '__rtruediv__',\n",
       " '__rxor__',\n",
       " '__setattr__',\n",
       " '__setitem__',\n",
       " '__setmask__',\n",
       " '__setslice__',\n",
       " '__setstate__',\n",
       " '__sizeof__',\n",
       " '__sqrt__',\n",
       " '__str__',\n",
       " '__sub__',\n",
       " '__subclasshook__',\n",
       " '__truediv__',\n",
       " '__unicode__',\n",
       " '__weakref__',\n",
       " '__xor__',\n",
       " '_baseclass',\n",
       " '_basedict',\n",
       " '_comparison',\n",
       " '_data',\n",
       " '_decodedType',\n",
       " '_defaulthardmask',\n",
       " '_defaultmask',\n",
       " '_delegate_binop',\n",
       " '_fill_value',\n",
       " '_getShape',\n",
       " '_get_data',\n",
       " '_get_flat',\n",
       " '_get_mask',\n",
       " '_get_recordmask',\n",
       " '_getinternals',\n",
       " '_getmissing',\n",
       " '_grid_',\n",
       " '_hardmask',\n",
       " '_insert_masked_print',\n",
       " '_isfield',\n",
       " '_listatts',\n",
       " '_mask',\n",
       " '_missing',\n",
       " '_node_',\n",
       " '_optinfo',\n",
       " '_print_width',\n",
       " '_print_width_1d',\n",
       " '_process_specs',\n",
       " '_returnArray',\n",
       " '_set_flat',\n",
       " '_set_mask',\n",
       " '_set_recordmask',\n",
       " '_setatts',\n",
       " '_setinternals',\n",
       " '_setmissing',\n",
       " '_sharedmask',\n",
       " '_single_specs',\n",
       " '_update_from',\n",
       " 'all',\n",
       " 'anom',\n",
       " 'any',\n",
       " 'argmax',\n",
       " 'argmin',\n",
       " 'argpartition',\n",
       " 'argsort',\n",
       " 'ascontiguous',\n",
       " 'ascontiguousarray',\n",
       " 'asma',\n",
       " 'assignValue',\n",
       " 'astype',\n",
       " 'attributes',\n",
       " 'base',\n",
       " 'baseclass',\n",
       " 'byteswap',\n",
       " 'choose',\n",
       " 'clip',\n",
       " 'clone',\n",
       " 'compress',\n",
       " 'compressed',\n",
       " 'conj',\n",
       " 'conjugate',\n",
       " 'copy',\n",
       " 'copyAxis',\n",
       " 'copyDomain',\n",
       " 'copydimension',\n",
       " 'count',\n",
       " 'createattribute',\n",
       " 'crossSectionRegrid',\n",
       " 'ctypes',\n",
       " 'cumprod',\n",
       " 'cumsum',\n",
       " 'data',\n",
       " 'date',\n",
       " 'decode',\n",
       " 'deleteattribute',\n",
       " 'diagonal',\n",
       " 'dot',\n",
       " 'dtype',\n",
       " 'dump',\n",
       " 'dumps',\n",
       " 'expertSlice',\n",
       " 'exposeHalo',\n",
       " 'fetchHaloData',\n",
       " 'fill',\n",
       " 'fill_value',\n",
       " 'filled',\n",
       " 'flags',\n",
       " 'flat',\n",
       " 'flatten',\n",
       " 'freeHalo',\n",
       " 'generateGridkey',\n",
       " 'generateRectGridkey',\n",
       " 'getAxis',\n",
       " 'getAxisIds',\n",
       " 'getAxisIndex',\n",
       " 'getAxisList',\n",
       " 'getAxisListIndex',\n",
       " 'getConvention',\n",
       " 'getDomain',\n",
       " 'getForecast',\n",
       " 'getForecastTime',\n",
       " 'getGrid',\n",
       " 'getGridIndices',\n",
       " 'getHaloEllipsis',\n",
       " 'getLatitude',\n",
       " 'getLevel',\n",
       " 'getLongitude',\n",
       " 'getMPIRank',\n",
       " 'getMPISize',\n",
       " 'getMissing',\n",
       " 'getOrder',\n",
       " 'getRegion',\n",
       " 'getSlice',\n",
       " 'getTileIndex',\n",
       " 'getTime',\n",
       " 'getValue',\n",
       " 'get_fill_value',\n",
       " 'get_imag',\n",
       " 'get_real',\n",
       " 'getattribute',\n",
       " 'getdimattribute',\n",
       " 'getfield',\n",
       " 'harden_mask',\n",
       " 'hardmask',\n",
       " 'hasCellData',\n",
       " 'id',\n",
       " 'ids',\n",
       " 'imag',\n",
       " 'info',\n",
       " 'initDomain',\n",
       " 'isAbstractCoordinate',\n",
       " 'isEncoded',\n",
       " 'iscontiguous',\n",
       " 'item',\n",
       " 'itemset',\n",
       " 'itemsize',\n",
       " 'listall',\n",
       " 'listattributes',\n",
       " 'listdimattributes',\n",
       " 'listdimnames',\n",
       " 'mask',\n",
       " 'matchPattern',\n",
       " 'matchone',\n",
       " 'max',\n",
       " 'mean',\n",
       " 'min',\n",
       " 'mini',\n",
       " 'missing',\n",
       " 'missing_value',\n",
       " 'name',\n",
       " 'nbytes',\n",
       " 'ndim',\n",
       " 'newbyteorder',\n",
       " 'nonzero',\n",
       " 'parent',\n",
       " 'partition',\n",
       " 'pressureRegrid',\n",
       " 'prod',\n",
       " 'product',\n",
       " 'ptp',\n",
       " 'put',\n",
       " 'rank',\n",
       " 'ravel',\n",
       " 'real',\n",
       " 'recordmask',\n",
       " 'reg_specs2slices',\n",
       " 'regrid',\n",
       " 'reorder',\n",
       " 'repeat',\n",
       " 'reshape',\n",
       " 'resize',\n",
       " 'round',\n",
       " 'searchPattern',\n",
       " 'searchPredicate',\n",
       " 'searchone',\n",
       " 'searchsorted',\n",
       " 'select',\n",
       " 'setAxis',\n",
       " 'setAxisList',\n",
       " 'setGrid',\n",
       " 'setMPIComm',\n",
       " 'setMaskFromGridMask',\n",
       " 'setMissing',\n",
       " 'setTileIndex',\n",
       " 'set_fill_value',\n",
       " 'setattribute',\n",
       " 'setdimattribute',\n",
       " 'setfield',\n",
       " 'setflags',\n",
       " 'shape',\n",
       " 'sharedmask',\n",
       " 'showdim',\n",
       " 'shrink_mask',\n",
       " 'size',\n",
       " 'soften_mask',\n",
       " 'sort',\n",
       " 'source',\n",
       " 'specs2slices',\n",
       " 'squeeze',\n",
       " 'std',\n",
       " 'std_slab_atts',\n",
       " 'strides',\n",
       " 'subRegion',\n",
       " 'subSlice',\n",
       " 'sum',\n",
       " 'swapaxes',\n",
       " 'take',\n",
       " 'tileIndex',\n",
       " 'time',\n",
       " 'title',\n",
       " 'toVisit',\n",
       " 'tobytes',\n",
       " 'tofile',\n",
       " 'toflex',\n",
       " 'tolist',\n",
       " 'torecords',\n",
       " 'tostring',\n",
       " 'trace',\n",
       " 'transpose',\n",
       " 'type',\n",
       " 'typecode',\n",
       " 'units',\n",
       " 'unshare_mask',\n",
       " 'var',\n",
       " 'variable_count',\n",
       " 'view']"
      ]
     },
     "execution_count": 13,
     "metadata": {},
     "output_type": "execute_result"
    }
   ],
   "source": [
    "dir(u)"
   ]
  },
  {
   "cell_type": "markdown",
   "metadata": {},
   "source": [
    "In general internal attributes should not be modified directly. One\n",
    "exception is the id attribute, the name of the variable. It is used in\n",
    "plotting and I/O, and can be set directly."
   ]
  },
  {
   "cell_type": "markdown",
   "metadata": {},
   "source": [
    "Masked values\n",
    "\n",
    "Optionally, variables have a mask that represents where data are\n",
    "missing. If present, the mask is an array of ones and zeros having the\n",
    "shape of the data array. A mask value of one indicates that the\n",
    "corresponding data array element is missing or invalid.\n",
    "\n",
    "Arithmetic operations in CDMS take missing data into account. The same\n",
    "is true of the functions defined in the cdms2.MV2 module. For example:\n"
   ]
  },
  {
   "cell_type": "code",
   "execution_count": 15,
   "metadata": {},
   "outputs": [
    {
     "data": {
      "text/plain": [
       "variable_31\n",
       "masked_array(data=[5, --, 9],\n",
       "             mask=[False,  True, False],\n",
       "       fill_value=999999)"
      ]
     },
     "execution_count": 15,
     "metadata": {},
     "output_type": "execute_result"
    }
   ],
   "source": [
    "import MV2\n",
    "a = MV2.array([1,2,3]) # Create array a, with no mask\n",
    "b = MV2.array([4,5,6]) # Same for b\n",
    "a+b # variable_... array([5,7,9,]) \n",
    "\n",
    "\n",
    "\n",
    "a[1]=MV2.masked # Mask the second value of a a.mask()\n",
    "a.mask\n",
    "\n",
    "a+b # The sum is masked also "
   ]
  },
  {
   "cell_type": "markdown",
   "metadata": {},
   "source": [
    "When data is read from a file, the result variable is masked if the file\n",
    "variable has a missing_value attribute. The mask is set to one for\n",
    "those elements equal to the missing value, zero elsewhere. If no such\n",
    "attribute is present in the file, the result variable is not masked.\n",
    "\n",
    "When a variable with masked values is written to a file, data values\n",
    "with a corresponding mask value of one are set to the value of the\n",
    "variables ``missing_value`` attribute. The data and ``missing_value``\n",
    "attribute are then written to the file.\n",
    "\n",
    "[https://www.numpy.org/](https://www.numpy.org/)."
   ]
  },
  {
   "cell_type": "markdown",
   "metadata": {},
   "source": [
    "## File Variables\n",
    "\n",
    "A variable can be obtained either from a file, a collection of files, or\n",
    "as the result of computation. Correspondingly there are three types of\n",
    "variables in CDMS:\n",
    "\n",
    "-  *file variable* is a variable associated with a single data file.\n",
    "   Setting or referencing a file variable generates I/O operations.\n",
    "-  A *dataset variable* is a variable associated with a collection of\n",
    "   files. Reference to a dataset variable reads data, possibly from\n",
    "   multiple files. Dataset variables are read-only.\n",
    "-  *transient variable* is an in-memory object not associated with a\n",
    "   file or dataset. Transient variables result from a computation or I/O\n",
    "   operation.\n",
    "\n",
    "Typical use of a file variables is to inquire information about the\n",
    "variable in a file without actually reading the data for the variables.\n",
    "A file variable is obtained by applying the slice operator [] to a file,\n",
    "passing the name of the variable, or by calling the getVariable\n",
    "function. Note that obtaining a file variable does not actually read the\n",
    "data array:"
   ]
  },
  {
   "cell_type": "code",
   "execution_count": 16,
   "metadata": {},
   "outputs": [
    {
     "data": {
      "text/plain": [
       "(1, 2, 80, 97)"
      ]
     },
     "execution_count": 16,
     "metadata": {},
     "output_type": "execute_result"
    }
   ],
   "source": [
    "u = f.getVariable('u') # or u=f['u']\n",
    "u.shape \n"
   ]
  },
  {
   "cell_type": "markdown",
   "metadata": {},
   "source": [
    "File variables are also useful for fine-grained I/O. They behave like\n",
    "transient variables, but operations on them also affect the associated\n",
    "file. Specifically:\n",
    "\n",
    "-  slicing a file variable reads data,\n",
    "-  setting a slice writes data,\n",
    "-  referencing an attribute reads the attribute,\n",
    "-  setting an attribute writes the attribute,\n",
    "-  and calling a file variable like a function reads data associated\n",
    "   with the variable:"
   ]
  },
  {
   "cell_type": "code",
   "execution_count": 17,
   "metadata": {},
   "outputs": [],
   "source": [
    "import os\n",
    "os.system(\"cp clt.nc /tmp\")\n",
    "\n",
    "f = cdms2.open('/tmp/clt.nc','a') # Open read/write\n",
    "uvar = f['u'] # Note square brackets\n",
    "uvar.shape\n",
    "\n",
    "u0 = uvar[0] # Reads data from sample.nc\n",
    "u0.shape\n",
    "\n",
    "uvar[1]=u0 # Writes data to sample.nc\n",
    "uvar.units # Reads the attribute 'm/s'\n",
    "\n",
    "u24 = uvar(time=1.0) # Calling  a variable like a function reads data\n",
    "f.close() # Save changes to clt.nc (I/O may be buffered)"
   ]
  },
  {
   "cell_type": "markdown",
   "metadata": {},
   "source": [
    "For transient variables, the data is printed only if the size of the array is less\n",
    "than the print limit . This value can be set with the function\n",
    "MV.set_print_limit to force the data to be printed:"
   ]
  },
  {
   "cell_type": "code",
   "execution_count": 19,
   "metadata": {},
   "outputs": [],
   "source": [
    "MV2.get_print_limit() # Current limit 1000\n",
    "\n",
    "MV2.set_print_limit(100)\n"
   ]
  },
  {
   "cell_type": "markdown",
   "metadata": {},
   "source": [
    "The datatype of the variable is determined with the typecode function:"
   ]
  },
  {
   "cell_type": "code",
   "execution_count": 20,
   "metadata": {},
   "outputs": [
    {
     "data": {
      "text/plain": [
       "'f'"
      ]
     },
     "execution_count": 20,
     "metadata": {},
     "output_type": "execute_result"
    }
   ],
   "source": [
    "u.typecode()"
   ]
  },
  {
   "cell_type": "markdown",
   "metadata": {},
   "source": [
    "## Dataset Variables\n",
    "\n",
    "The third type of variable, a *dataset variable*, is associated with a\n",
    "*dataset*, a collection of files that is treated as a single file. A\n",
    "dataset is created with the ``cdscan`` utility. This generates an XML\n",
    "metafile that describes how the files are organized and what metadata\n",
    "are contained in the files. In a climate simulation application, a\n",
    "dataset typically represents the data generated by one run of a general\n",
    "circulation or coupled ocean-atmosphere model.\n",
    "\n",
    "For example, suppose data for variables u and v are stored in six files:\n",
    "\n",
    "1. u_2000.nc,\n",
    "2. u_2001.nc,\n",
    "3. u_2002.nc,\n",
    "4. v_2000.nc,\n",
    "5. v_2001.nc,\n",
    "6. v_2002.nc.\n",
    "\n",
    "A metafile can be generated with the command:\n",
    "\n",
    "**$ cdscan -x cdsample.xml [uv]*.nc**\n",
    "\n",
    "The metafile **cdsample.xml** is then used like an ordinary data file:"
   ]
  },
  {
   "cell_type": "markdown",
   "metadata": {},
   "source": [
    "## Grids\n",
    "\n",
    "A latitude-longitude grid represents the coordinate information\n",
    "associated with a variable. A grid encapsulates:\n",
    "\n",
    "-  latitude, longitude coordinates\n",
    "-  grid cell boundaries\n",
    "-  area weights\n",
    "\n",
    "CDMS defines a rich set of grid types to represent the variety of\n",
    "coordinate systems used in climate model applications. Grids can be\n",
    "categorized as rectangular or nonrectangular.\n",
    "\n",
    "A rectangular grid has latitude and longitude axes that are\n",
    "one-dimensional, with strictly monotonic values. The grid is essentially\n",
    "the Cartesian product of the axes. If either criterion is not met, the\n",
    "grid is nonrectangular .\n",
    "\n",
    "CDMS supports two types of nonrectangular grid:\n",
    "\n",
    "-  A curvilinear grid consists of a latitude and longitude axis, each of\n",
    "   which is a two-dimensional coordinate axis. Curvilinear grids are\n",
    "   often used in ocean model applications.\n",
    "-  A generic grid consists of a latitude and longitude axis, each of\n",
    "   which is an auxiliary one-dimensional coordinate axis. An auxiliary\n",
    "   axis has values that are not necessarily monotonic. As the name\n",
    "   suggests, generic grids can represent virtually any type of grid.\n",
    "   However, it is more difficult to determine adjacency relationships\n",
    "   between grid points."
   ]
  },
  {
   "cell_type": "markdown",
   "metadata": {},
   "source": [
    "Example: A Curvilinear Grid\n",
    "\n",
    "In this example, variable sample is defined on a 128x192 curvilinear\n",
    "grid. Note that:\n",
    "\n",
    "-  The domain of variable sample is ( y , x ) where y and x are index\n",
    "   coordinate axes.\n",
    "-  The curvilinear grid associated with sample consists of axes ( lat ,\n",
    "   lon ), each a two-dimensional coordinate axis.\n",
    "-  lat and lon each have domain ( y , x )"
   ]
  },
  {
   "cell_type": "code",
   "execution_count": 25,
   "metadata": {},
   "outputs": [
    {
     "name": "stdout",
     "output_type": "stream",
     "text": [
      "(32, 48)\n",
      "[[-76.08465554167911 -76.08465554167911 -76.08465554167911 ...\n",
      "  -76.08465554167911 -76.08465554167911 -76.08465554167911]\n",
      " [-73.9264184725605 -73.9264184725605 -73.9264184725605 ...\n",
      "  -73.9264184725605 -73.9264184725605 -73.9264184725605]\n",
      " [-71.44420823116856 -71.44420823116856 -71.44420823116856 ...\n",
      "  -71.44420823116856 -71.44420823116856 -71.44420823116856]\n",
      " ...\n",
      " [42.32854942878924 42.65822090474772 43.3199021098036 ...\n",
      "  43.31990190153133 42.658220876191656 42.32854942851401]\n",
      " [42.70106428805028 43.057314984924034 43.76927818341599 ...\n",
      "  43.769277959957755 43.057314954110254 42.70106428775246]\n",
      " [43.03073409838211 43.41264382746999 44.172341649201826 ...\n",
      "  44.17234141149318 43.412643794488375 43.03073409806216]]\n",
      "[[-1.3279277494480501 -1.3279277494480501 -1.3279277494480501 ...\n",
      "  -1.3279277494480501 -1.3279277494480501 -1.3279277494480501]\n",
      " [-1.290259406553338 -1.290259406553338 -1.290259406553338 ...\n",
      "  -1.290259406553338 -1.290259406553338 -1.290259406553338]\n",
      " [-1.2469366651143254 -1.2469366651143254 -1.2469366651143254 ...\n",
      "  -1.2469366651143254 -1.2469366651143254 -1.2469366651143254]\n",
      " ...\n",
      " [0.7387725551255372 0.744526407830922 0.756074923457711 ...\n",
      "  0.7560749198226742 0.7445264073325248 0.7387725551207336]\n",
      " [0.7452741659322457 0.751491913555217 0.7639180155219315 ...\n",
      "  0.7639180116218496 0.7514919130174151 0.7452741659270478]\n",
      " [0.7510279895669614 0.7576935717849446 0.7709528000943938 ...\n",
      "  0.7709527959455953 0.7576935712093067 0.7510279895613773]]\n"
     ]
    }
   ],
   "source": [
    "# uncomment the line below to donwload \"clt.nc\"\n",
    "# wget \"https://cdat.llnl.gov/cdat/sample_data/sampleCurveGrid4.nc\"\n",
    "\n",
    "f = cdms2.open('sampleCurveGrid4.nc')\n",
    "# lat and lon are coordinate axes, but are grouped with data variables\n",
    "f.variables.keys()\n",
    "# y and x are index coordinate axes\n",
    "f.axes.keys()\n",
    "# Read data for variable sample\n",
    "sample = f('sample')\n",
    "# The associated grid g is curvilinear\n",
    "g = sample.getGrid()\n",
    "# The domain of the variable consfigists of index axes\n",
    "sample.getAxisIds()\n",
    "# Get the coordinate axes associated with the grid\n",
    "lat = g.getLatitude() # or sample.getLatitude()\n",
    "lon = g.getLongitude() # or sample.getLongitude()\n",
    "# lat and lon have the same domain, a subset of the domain of 'sample'\n",
    "lat.getAxisIds()\n",
    "# lat and lon are variables ...\n",
    "print(lat.shape)\n",
    "print(lat)\n",
    "lat_in_radians = lat*MV2.pi/180.0\n",
    "print(lat_in_radians)"
   ]
  },
  {
   "cell_type": "markdown",
   "metadata": {},
   "source": [
    "# Example: A Generic Grid\n",
    "\n",
    "In this example variable zs is defined on a generic grid. Figure 2\n",
    "illustrates the grid, in this case a geodesic grid:"
   ]
  },
  {
   "cell_type": "code",
   "execution_count": 26,
   "metadata": {},
   "outputs": [
    {
     "data": {
      "text/plain": [
       "cdms2.coord.TransientAxis2D"
      ]
     },
     "execution_count": 26,
     "metadata": {},
     "output_type": "execute_result"
    }
   ],
   "source": [
    "f.variables.keys()\n",
    "\n",
    "f.axes.keys()\n",
    "\n",
    "zs = f('sample')\n",
    "g = zs.getGrid()\n",
    "g\n",
    "\n",
    "lat = g.getLatitude()\n",
    "lon = g.getLongitude()\n",
    "lat.shape\n",
    "\n",
    "lon.shape # variable zs is defined in terms of a single index coordinate\n",
    "\n",
    "# axis, 'cell'\n",
    "zs.shape\n",
    "\n",
    "zs.getAxisIds()\n",
    "\n",
    "\n",
    "# lat and lon are also defined in terms of the cell axis\n",
    "lat.getAxisIds()\n",
    "\n",
    "\n",
    "# lat and lon are one-dimensional, 'auxiliary' coordinate\n",
    "# axes: values are not monotonic\n",
    "lat.__class__"
   ]
  },
  {
   "cell_type": "markdown",
   "metadata": {},
   "source": [
    "\n",
    "Generic grids can be used to represent any of the grid types. The method\n",
    "toGenericGrid can be applied to any grid to convert it to a generic\n",
    "representation. Similarly, a rectangular grid can be represented as\n",
    "curvilinear. The method toCurveGrid is used to convert a non-generic\n",
    "grid to curvilinear representation:\n"
   ]
  },
  {
   "cell_type": "code",
   "execution_count": 29,
   "metadata": {},
   "outputs": [
    {
     "name": "stdout",
     "output_type": "stream",
     "text": [
      "('rectgrid:', (46, 72))\n",
      "('curvegrid:', <TransientCurveGrid, id: grid_6, shape: (46, 72)>)\n",
      "('genericgrid: ', <TransientGenericGrid, id: grid_2, shape: (3312,)>)\n"
     ]
    }
   ],
   "source": [
    "f = cdms2.open('clt.nc')\n",
    "clt = f('clt')\n",
    "rectgrid = clt.getGrid()\n",
    "print(\"rectgrid:\", rectgrid.shape)\n",
    "\n",
    "curvegrid = rectgrid.toCurveGrid()\n",
    "print(\"curvegrid:\", curvegrid)\n",
    "\n",
    "genericgrid = curvegrid.toGenericGrid()\n",
    "print(\"genericgrid: \", genericgrid)"
   ]
  },
  {
   "cell_type": "markdown",
   "metadata": {},
   "source": [
    "## Regridding\n",
    "\n",
    "Regridding is the process of mapping variables from one grid to another.\n",
    "CDMS supports two forms of regridding. Which one you use depends on the\n",
    "class of grids being transformed:\n",
    "\n",
    "-  To interpolate from one rectangular grid to another, use the built-in\n",
    "   CDMS regridder. CDMS also has built-in regridders to interpolate from\n",
    "   one set of pressure levels to another, or from one vertical\n",
    "   cross-section to another.\n",
    "-  To interpolate from any lat-lon grid, rectangular or non-rectangular,\n",
    "   use the SCRIP regridder."
   ]
  },
  {
   "cell_type": "markdown",
   "metadata": {},
   "source": [
    "### CDMS Regridder\n",
    "\n",
    "The built-in CDMS regridder is used to transform data from one\n",
    "rectangular grid to another. For example, to regrid variable ``u`` (from\n",
    "a rectangular grid) to a 96x192 rectangular Gaussian grid:\n"
   ]
  },
  {
   "cell_type": "code",
   "execution_count": 31,
   "metadata": {},
   "outputs": [
    {
     "name": "stdout",
     "output_type": "stream",
     "text": [
      "('u.shape:', (1, 2, 80, 97))\n",
      "('U63.shape', (1, 2, 96, 192))\n"
     ]
    }
   ],
   "source": [
    "f = cdms2.open('clt.nc')\n",
    "u = f('u')\n",
    "print(\"u.shape:\", u.shape)\n",
    "\n",
    "t63_grid = cdms2.createGaussianGrid(96)\n",
    "u63 = u.regrid(t63_grid)\n",
    "print(\"U63.shape\",u63.shape)"
   ]
  },
  {
   "cell_type": "markdown",
   "metadata": {},
   "source": [
    "To regrid a variable ``uold`` to the same grid as variable ``vnew``:\n"
   ]
  },
  {
   "cell_type": "code",
   "execution_count": 32,
   "metadata": {},
   "outputs": [
    {
     "ename": "NameError",
     "evalue": "name 'f2' is not defined",
     "output_type": "error",
     "traceback": [
      "\u001b[0;31m---------------------------------------------------------------------------\u001b[0m",
      "\u001b[0;31mNameError\u001b[0m                                 Traceback (most recent call last)",
      "\u001b[0;32m<ipython-input-32-dadfbb344112>\u001b[0m in \u001b[0;36m<module>\u001b[0;34m()\u001b[0m\n\u001b[1;32m      1\u001b[0m \u001b[0mf\u001b[0m \u001b[0;34m=\u001b[0m \u001b[0mcdms2\u001b[0m\u001b[0;34m.\u001b[0m\u001b[0mopen\u001b[0m\u001b[0;34m(\u001b[0m\u001b[0;34m'clt.nc'\u001b[0m\u001b[0;34m)\u001b[0m\u001b[0;34m\u001b[0m\u001b[0m\n\u001b[1;32m      2\u001b[0m \u001b[0muold\u001b[0m \u001b[0;34m=\u001b[0m \u001b[0mf\u001b[0m\u001b[0;34m(\u001b[0m\u001b[0;34m'u'\u001b[0m\u001b[0;34m)\u001b[0m\u001b[0;34m\u001b[0m\u001b[0m\n\u001b[0;32m----> 3\u001b[0;31m \u001b[0munew\u001b[0m \u001b[0;34m=\u001b[0m \u001b[0mf2\u001b[0m\u001b[0;34m(\u001b[0m\u001b[0;34m'uwnd'\u001b[0m\u001b[0;34m)\u001b[0m\u001b[0;34m\u001b[0m\u001b[0m\n\u001b[0m\u001b[1;32m      4\u001b[0m \u001b[0;32mprint\u001b[0m\u001b[0;34m(\u001b[0m\u001b[0;34m\"uold.shape\"\u001b[0m\u001b[0;34m,\u001b[0m \u001b[0muold\u001b[0m\u001b[0;34m.\u001b[0m\u001b[0mshape\u001b[0m\u001b[0;34m)\u001b[0m\u001b[0;34m\u001b[0m\u001b[0m\n\u001b[1;32m      5\u001b[0m \u001b[0;34m\u001b[0m\u001b[0m\n",
      "\u001b[0;31mNameError\u001b[0m: name 'f2' is not defined"
     ]
    }
   ],
   "source": [
    "f = cdms2.open('clt.nc')\n",
    "uold = f('u')\n",
    "unew = f2('uwnd')\n",
    "print(\"uold.shape\", uold.shape)\n",
    "unew.shape\n",
    "print(\"unew.shape\", unew.shape)\n",
    "t63_grid = unew.getGrid() # Obtain the grid for vnew\n",
    "u63 = uold.regrid(t63_grid)\n",
    "u63.shape"
   ]
  },
  {
   "cell_type": "markdown",
   "metadata": {},
   "source": [
    "### SCRIP Regridder\n",
    "\n",
    "To interpolate between any lat-lon grid types, the SCRIP regridder may\n",
    "be used. The SCRIP package was developed at [Los Alamos National\n",
    "Laboratory] (https://oceans11.lanl.gov/drupal/Models/OtherSoftware).\n",
    "SCRIP is written in Fortran 90, and must be built and installed\n",
    "separately from the CDAT/CDMS installation.\n",
    "\n",
    "The steps to regrid a variable are:\n",
    "\n",
    "(external to CDMS)\n",
    "\n",
    "1. Obtain or generate the grids, in SCRIP netCDF format.\n",
    "2. Run SCRIP to generate a *remapping* file.\n",
    "\n",
    "(in CDMS)\n",
    "\n",
    "1. Read the regridder from the SCRIP remapping file.\n",
    "2. Call the regridder with the source data, returning data on the target\n",
    "   grid.\n",
    "\n",
    "Steps 1 and 2 need only be done once. The regridder can be used as often\n",
    "as necessary.\n",
    "\n"
   ]
  },
  {
   "cell_type": "code",
   "execution_count": 33,
   "metadata": {},
   "outputs": [
    {
     "ename": "CDMSError",
     "evalue": "Cannot open file /software/cdms22/sampleT42Grid.nc (Variable not found)",
     "output_type": "error",
     "traceback": [
      "\u001b[0;31m---------------------------------------------------------------------------\u001b[0m",
      "\u001b[0;31mCDMSError\u001b[0m                                 Traceback (most recent call last)",
      "\u001b[0;32m<ipython-input-33-76d20b22c852>\u001b[0m in \u001b[0;36m<module>\u001b[0;34m()\u001b[0m\n\u001b[1;32m      3\u001b[0m \u001b[0;34m\u001b[0m\u001b[0m\n\u001b[1;32m      4\u001b[0m \u001b[0;31m# Get the source variable\u001b[0m\u001b[0;34m\u001b[0m\u001b[0;34m\u001b[0m\u001b[0m\n\u001b[0;32m----> 5\u001b[0;31m \u001b[0mf\u001b[0m \u001b[0;34m=\u001b[0m \u001b[0mcdms2\u001b[0m\u001b[0;34m.\u001b[0m\u001b[0mopen\u001b[0m\u001b[0;34m(\u001b[0m\u001b[0;34m'sampleT42Grid.nc'\u001b[0m\u001b[0;34m)\u001b[0m\u001b[0;34m\u001b[0m\u001b[0m\n\u001b[0m\u001b[1;32m      6\u001b[0m \u001b[0mdat\u001b[0m \u001b[0;34m=\u001b[0m \u001b[0mf\u001b[0m\u001b[0;34m(\u001b[0m\u001b[0;34m'src_array'\u001b[0m\u001b[0;34m)\u001b[0m\u001b[0;34m\u001b[0m\u001b[0m\n\u001b[1;32m      7\u001b[0m \u001b[0mf\u001b[0m\u001b[0;34m.\u001b[0m\u001b[0mclose\u001b[0m\u001b[0;34m(\u001b[0m\u001b[0;34m)\u001b[0m\u001b[0;34m\u001b[0m\u001b[0m\n",
      "\u001b[0;32m/software/anaconda53/envs/sphynx/lib/python2.7/site-packages/cdms2/dataset.pyc\u001b[0m in \u001b[0;36mopenDataset\u001b[0;34m(uri, mode, template, dods, dpath, hostObj)\u001b[0m\n\u001b[1;32m    491\u001b[0m             \u001b[0;31m# rank\u001b[0m\u001b[0;34m\u001b[0m\u001b[0;34m\u001b[0m\u001b[0m\n\u001b[1;32m    492\u001b[0m             \u001b[0;32mif\u001b[0m \u001b[0;32mnot\u001b[0m \u001b[0mos\u001b[0m\u001b[0;34m.\u001b[0m\u001b[0mpath\u001b[0m\u001b[0;34m.\u001b[0m\u001b[0mexists\u001b[0m\u001b[0;34m(\u001b[0m\u001b[0mpath\u001b[0m\u001b[0;34m)\u001b[0m\u001b[0;34m:\u001b[0m\u001b[0;34m\u001b[0m\u001b[0m\n\u001b[0;32m--> 493\u001b[0;31m                 \u001b[0;32mreturn\u001b[0m \u001b[0mCdmsFile\u001b[0m\u001b[0;34m(\u001b[0m\u001b[0mpath\u001b[0m\u001b[0;34m,\u001b[0m \u001b[0mmode\u001b[0m\u001b[0;34m,\u001b[0m \u001b[0mmpiBarrier\u001b[0m\u001b[0;34m=\u001b[0m\u001b[0mCdMpi\u001b[0m\u001b[0;34m)\u001b[0m\u001b[0;34m\u001b[0m\u001b[0m\n\u001b[0m\u001b[1;32m    494\u001b[0m             \u001b[0;32melif\u001b[0m \u001b[0mmode\u001b[0m \u001b[0;34m==\u001b[0m \u001b[0;34m\"w\"\u001b[0m\u001b[0;34m:\u001b[0m\u001b[0;34m\u001b[0m\u001b[0m\n\u001b[1;32m    495\u001b[0m                 \u001b[0;32mtry\u001b[0m\u001b[0;34m:\u001b[0m\u001b[0;34m\u001b[0m\u001b[0m\n",
      "\u001b[0;32m/software/anaconda53/envs/sphynx/lib/python2.7/site-packages/cdms2/dataset.pyc\u001b[0m in \u001b[0;36m__init__\u001b[0;34m(self, path, mode, hostObj, mpiBarrier)\u001b[0m\n\u001b[1;32m   1273\u001b[0m             \u001b[0m_fileobj_\u001b[0m \u001b[0;34m=\u001b[0m \u001b[0mCdunif\u001b[0m\u001b[0;34m.\u001b[0m\u001b[0mCdunifFile\u001b[0m\u001b[0;34m(\u001b[0m\u001b[0mpath\u001b[0m\u001b[0;34m,\u001b[0m \u001b[0mmode\u001b[0m\u001b[0;34m)\u001b[0m\u001b[0;34m\u001b[0m\u001b[0m\n\u001b[1;32m   1274\u001b[0m         \u001b[0;32mexcept\u001b[0m \u001b[0mException\u001b[0m \u001b[0;32mas\u001b[0m \u001b[0merr\u001b[0m\u001b[0;34m:\u001b[0m\u001b[0;34m\u001b[0m\u001b[0m\n\u001b[0;32m-> 1275\u001b[0;31m             \u001b[0;32mraise\u001b[0m \u001b[0mCDMSError\u001b[0m\u001b[0;34m(\u001b[0m\u001b[0;34m'Cannot open file %s (%s)'\u001b[0m \u001b[0;34m%\u001b[0m \u001b[0;34m(\u001b[0m\u001b[0mpath\u001b[0m\u001b[0;34m,\u001b[0m \u001b[0merr\u001b[0m\u001b[0;34m)\u001b[0m\u001b[0;34m)\u001b[0m\u001b[0;34m\u001b[0m\u001b[0m\n\u001b[0m\u001b[1;32m   1276\u001b[0m         \u001b[0mself\u001b[0m\u001b[0;34m.\u001b[0m\u001b[0m_file_\u001b[0m \u001b[0;34m=\u001b[0m \u001b[0m_fileobj_\u001b[0m   \u001b[0;31m# Cdunif file object\u001b[0m\u001b[0;34m\u001b[0m\u001b[0m\n\u001b[1;32m   1277\u001b[0m         \u001b[0mself\u001b[0m\u001b[0;34m.\u001b[0m\u001b[0mvariables\u001b[0m \u001b[0;34m=\u001b[0m \u001b[0;34m{\u001b[0m\u001b[0;34m}\u001b[0m\u001b[0;34m\u001b[0m\u001b[0m\n",
      "\u001b[0;31mCDMSError\u001b[0m: Cannot open file /software/cdms22/sampleT42Grid.nc (Variable not found)"
     ]
    }
   ],
   "source": [
    "# Import regrid package for regridder functions\n",
    "import regrid2, cdms2\n",
    "\n",
    "# Get the source variable\n",
    "f = cdms2.open('sampleT42Grid.nc')\n",
    "dat = f('src_array')\n",
    "f.close()\n",
    "\n",
    "# Read the regridder from the remapper file\n",
    "remapf = cdms2.open('rmp_T42_to_POP43_conserv.nc')\n",
    "regridf = regrid2.readRegridder(remapf)\n",
    "remapf.close()\n",
    "\n",
    "# Regrid the source variable\n",
    "popdat = regridf(dat)"
   ]
  },
  {
   "cell_type": "markdown",
   "metadata": {},
   "source": [
    "Regridding is discussed in `Chapter 4 <cdms_4.html>`__."
   ]
  },
  {
   "cell_type": "markdown",
   "metadata": {},
   "source": [
    "Time types\n",
    "\n",
    "CDMS provides extensive support for time values in the cdtime module.\n",
    "cdtime also defines a set of calendars , specifying the number of days\n",
    "in a given month.\n",
    "\n",
    "Two time types are available: relative time and component time .\n",
    "Relative time is time relative to a fixed base time. It consists of:\n",
    "\n",
    "-  a ``units`` string, of the form ``\"units since basetime\"`` , and\n",
    "-  a floating-point ``value``\n",
    "\n",
    "For example, the time \"28.0 days since 1996-1-1\" has value= 28.0 , and\n",
    "units=\" days since 1996-1-1\". To create a relative time type:\n"
   ]
  },
  {
   "cell_type": "code",
   "execution_count": null,
   "metadata": {},
   "outputs": [],
   "source": [
    "import cdtime\n",
    "rt = cdtime.reltime(28.0, \"days since 1996-1-1\")\n",
    "rt\n",
    "\n",
    "rt.value\n",
    "\n",
    "rt.units"
   ]
  },
  {
   "cell_type": "markdown",
   "metadata": {},
   "source": [
    "A component time consists of the integer fields year, month, day, hour,\n",
    "minute , and the floating-point field second . For example:\n"
   ]
  },
  {
   "cell_type": "code",
   "execution_count": null,
   "metadata": {},
   "outputs": [],
   "source": [
    "ct = cdtime.comptime(1996,2,28,12,10,30)\n",
    "ct\n",
    "\n",
    "ct.year\n",
    "\n",
    "ct.month"
   ]
  },
  {
   "cell_type": "markdown",
   "metadata": {},
   "source": [
    "The conversion functions tocomp and torel convert between the two\n",
    "representations. For instance, suppose that the time axis of a variable\n",
    "is represented in units \" days since 1979\" . To find the coordinate\n",
    "value corresponding to January 1, 1990:"
   ]
  },
  {
   "cell_type": "code",
   "execution_count": null,
   "metadata": {},
   "outputs": [],
   "source": [
    "ct = cdtime.comptime(1990,1)\n",
    "rt = ct.torel(\"days since 1979\")\n",
    "rt.value"
   ]
  },
  {
   "cell_type": "markdown",
   "metadata": {},
   "source": [
    "Time values can be used to specify intervals of time to read. The syntax\n",
    "time=(c1,c2) specifies that data should be read for times t such that\n",
    "c1<=t<=c2:"
   ]
  },
  {
   "cell_type": "code",
   "execution_count": null,
   "metadata": {},
   "outputs": [],
   "source": [
    "fh = cdms2.open(cdat_info.get_sampledata_path() + \"/tas_6h.nc\")\n",
    "c1 = cdtime.comptime(1980,1)\n",
    "c2 = cdtime.comptime(1980,2)\n",
    "tas = fh['tas']\n",
    "tas.shape\n",
    "\n",
    "x = tas.subRegion(time=(c1,c2))\n",
    "x.shape"
   ]
  },
  {
   "cell_type": "markdown",
   "metadata": {},
   "source": [
    "or string representations can be used:"
   ]
  },
  {
   "cell_type": "code",
   "execution_count": null,
   "metadata": {},
   "outputs": [],
   "source": [
    "fh = cdms2.open(cdat_info.get_sampledata_path() + \"/tas_6h.nc\")\n",
    "tas = fh['tas']\n",
    "x = tas.subRegion(time=('1980-1','1980-2'))\n"
   ]
  },
  {
   "cell_type": "markdown",
   "metadata": {},
   "source": [
    "Time types are described in Chapter 3."
   ]
  },
  {
   "cell_type": "markdown",
   "metadata": {},
   "source": [
    "Plotting data\n",
    "\n",
    "Data read via the CDMS Python interface can be plotted using the vcs\n",
    "module. This module, part of the Climate Data Analysis Tool (CDAT) is documented in the VCS reference manual. The\n",
    "vcs module provides access to the functionality of the VCS visualization\n",
    "program.\n",
    "\n",
    "To generate a plot:\n",
    "\n",
    "-  Initialize a canvas with the ``vcs init`` routine.\n",
    "-  Plot the data using the canvas ``plot`` routine.\n",
    "\n",
    "For example:"
   ]
  },
  {
   "cell_type": "code",
   "execution_count": null,
   "metadata": {},
   "outputs": [],
   "source": [
    "import cdms2, vcs, cdat_info\n",
    "fh=cdms2.open(cdat_info.get_sampledata_path() + \"/tas_cru_1979.nc\")\n",
    "fh['time'][:] # Print the time coordinates\n",
    "\n",
    "\n",
    "\n",
    "tas = fh('tas', time=1479)\n",
    "tas.shape\n",
    "\n",
    "w = vcs.init() # Initialize a canvas\n",
    "w.plot(tas) # Generate a plot"
   ]
  },
  {
   "cell_type": "markdown",
   "metadata": {},
   "source": [
    "By default for rectangular grids, a boxfill plot of the lat-lon slice is\n",
    "produced. Since variable precip includes information on time, latitude,\n",
    "and longitude, the continental outlines and time information are also\n",
    "plotted. If the variable were on a non-rectangular grid, the plot would\n",
    "be a meshfill plot.\n",
    "\n",
    "The plot routine has a number of options for producing different types\n",
    "of plots, such as isofill and x-y plots. See `Chapter 5 <cdms_5.html>`__\n",
    "for details."
   ]
  },
  {
   "cell_type": "markdown",
   "metadata": {},
   "source": [
    "Databases\n",
    "\n",
    "Datasets can be aggregated together into hierarchical collections,\n",
    "called databases . In typical usage, a program:\n",
    "\n",
    "-  connects to a database\n",
    "-  searches for data opens a dataset\n",
    "-  accesses data\n",
    "\n",
    "Databases add the ability to search for data and metadata in a\n",
    "distributed computing environment. At present CDMS supports one\n",
    "particular type of database, based on the Lightweight Directory Access\n",
    "Protocol (LDAP).\n"
   ]
  },
  {
   "cell_type": "markdown",
   "metadata": {},
   "source": [
    "Here is an example of accessing data via a database:"
   ]
  },
  {
   "cell_type": "code",
   "execution_count": null,
   "metadata": {},
   "outputs": [],
   "source": [
    "db = cdms.connect() # Connect to the default database.\n",
    "f = db.open('ncep_reanalysis_mo') # Open a dataset.\n",
    "f.variables.keys() # List the variables in the dataset."
   ]
  },
  {
   "cell_type": "markdown",
   "metadata": {},
   "source": [
    "Databases are discussed further in Section 2.7 <cdms_2.html#database>__.\n"
   ]
  }
 ],
 "metadata": {
  "kernelspec": {
   "display_name": "Python 2",
   "language": "python",
   "name": "python2"
  },
  "language_info": {
   "codemirror_mode": {
    "name": "ipython",
    "version": 2
   },
   "file_extension": ".py",
   "mimetype": "text/x-python",
   "name": "python",
   "nbconvert_exporter": "python",
   "pygments_lexer": "ipython2",
   "version": "2.7.15"
  }
 },
 "nbformat": 4,
 "nbformat_minor": 2
}
