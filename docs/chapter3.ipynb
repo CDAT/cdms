{
 "cells": [
  {
   "cell_type": "markdown",
   "metadata": {},
   "source": [
    "# CDMS Chapter 3 <a id='top' class=\"tocSkip\"> </a>\n",
    "\n",
    "\n",
    "The CDAT software was developed by LLNL. This tutorial was written by Denis Nadeau. This work was performed under the auspices of the U.S. Department of Energy by Lawrence Livermore National Laboratory under Contract DE-AC52-07NA27344.\n",
    "\n",
    "[Download the Jupyter Notebook](chapter3.ipynb)"
   ]
  },
  {
   "cell_type": "markdown",
   "metadata": {
    "toc": true
   },
   "source": [
    "<h1>Table of Contents<span class=\"tocSkip\"></span></h1>\n",
    "<div class=\"toc\"><ul class=\"toc-item\"><li><span><a href=\"#CdTime\" data-toc-modified-id=\"CdTime-1\">CdTime</a></span><ul class=\"toc-item\"><li><span><a href=\"#Relative-Time\" data-toc-modified-id=\"Relative-Time-1.1\">Relative Time</a></span></li><li><span><a href=\"#Component-Time\" data-toc-modified-id=\"Component-Time-1.2\">Component Time</a></span></li><li><span><a href=\"#Calendars\" data-toc-modified-id=\"Calendars-1.3\">Calendars</a></span></li><li><span><a href=\"#Time-Methods\" data-toc-modified-id=\"Time-Methods-1.4\">Time Methods</a></span><ul class=\"toc-item\"><li><span><a href=\"#Examples\" data-toc-modified-id=\"Examples-1.4.1\">Examples</a></span></li><li><span><a href=\"#Compare-time-values\" data-toc-modified-id=\"Compare-time-values-1.4.2\">Compare time values</a></span></li><li><span><a href=\"#Subtract-an-interval-of-time.\" data-toc-modified-id=\"Subtract-an-interval-of-time.-1.4.3\">Subtract an interval of time.</a></span></li><li><span><a href=\"#Convert-to-component-time.\" data-toc-modified-id=\"Convert-to-component-time.-1.4.4\">Convert to component time.</a></span></li><li><span><a href=\"#Convert-to-relative-time.\" data-toc-modified-id=\"Convert-to-relative-time.-1.4.5\">Convert to relative time.</a></span></li><li><span><a href=\"#Subtract-an-interval-of-time.\" data-toc-modified-id=\"Subtract-an-interval-of-time.-1.4.6\">Subtract an interval of time.</a></span></li></ul></li></ul></li></ul></div>"
   ]
  },
  {
   "cell_type": "markdown",
   "metadata": {},
   "source": [
    "# CdTime\n",
    "\n",
    "[Back to Top](#top)"
   ]
  },
  {
   "cell_type": "markdown",
   "metadata": {},
   "source": [
    "\n",
    "\n",
    "The ``cdtime`` module implements the CDMS time types, methods, and\n",
    "calendars. These are made available with the command:"
   ]
  },
  {
   "cell_type": "code",
   "execution_count": null,
   "metadata": {},
   "outputs": [],
   "source": [
    "import cdtime"
   ]
  },
  {
   "cell_type": "markdown",
   "metadata": {},
   "source": [
    "Two time types are available: **relative time** and **component time**. "
   ]
  },
  {
   "cell_type": "markdown",
   "metadata": {},
   "source": [
    "## Relative Time\n",
    "\n",
    "[Back to Top](#top)"
   ]
  },
  {
   "cell_type": "markdown",
   "metadata": {},
   "source": [
    "\n",
    " ***Relative time*** is time relative to a fixed base time. \n",
    "\n",
    "It consists of:\n",
    "\n",
    "  -  a units string, of the form ‘units since basetime’, and\n",
    "  -  a floating-point value\n",
    "\n",
    "\n",
    "   For example, the time **28.0 days since 1996-1-1** has value=28.0, and\n",
    "**units=’days since 1996-1-1’**\n",
    "\n",
    "\n"
   ]
  },
  {
   "cell_type": "markdown",
   "metadata": {},
   "source": [
    "## Component Time\n",
    "\n",
    "[Back to Top](#top)"
   ]
  },
  {
   "cell_type": "markdown",
   "metadata": {},
   "source": [
    "Consists of:\n",
    "  -  the integer fields year, month, day, hour,minute, and \n",
    "  -  the floating-point field second. \n",
    "\n",
    "A sample component time is``1996-2-28 12:10:30.0``\n",
    "\n",
    "The ``cdtime`` module contains functions for converting between these\n",
    "forms, based on the common calendars used in climate simulation. Basic\n",
    "arithmetic and comparison operators are also available."
   ]
  },
  {
   "cell_type": "markdown",
   "metadata": {},
   "source": [
    "## Calendars\n",
    "\n",
    "[Back to Top](#top)\n",
    "\n",
    "A calendar specifies the number of days in each month, for a given year.\n",
    "cdtime supports these calendars:\n",
    "\n",
    "-  **cdtime.GregorianCalendar**: years evenly divisible by four are leap\n",
    "   years, except century years not evenly divisible by 400. This is\n",
    "   sometimes called the proleptic Gregorian calendar, meaning that the\n",
    "   algorithm for leap years applies for all years.\n",
    "-  **dtime.MixedCalendar**: mixed Julian/Gregorian calendar. Dates\n",
    "   before 158210-15 are encoded with the Julian calendar, otherwise are\n",
    "   encoded with the Gregorian calendar. The day immediately following\n",
    "   1582-10-4 is 1582-10-15. This is the default calendar.\n",
    "-  **cdtime.JulianCalendar**: years evenly divisible by four are leap\n",
    "   years,\n",
    "-  **cdtime.NoLeapCalendar**: all years have 365 days,\n",
    "-  **cdtime.Calendar360**: all months have 30 days.\n",
    "\n",
    "Several ``cdtime`` functions have an optional calendar argument. The\n",
    "default calendar is the ``MixedCalendar``. The default calendar may be\n",
    "changed with the command:\n",
    "\n",
    "\n",
    "`\n"
   ]
  },
  {
   "cell_type": "code",
   "execution_count": null,
   "metadata": {},
   "outputs": [],
   "source": [
    "cdtime.DefaultCalendar = newCalendar"
   ]
  },
  {
   "cell_type": "markdown",
   "metadata": {},
   "source": [
    "## Time Methods\n",
    "\n",
    "[Back to Top](#top)\n",
    "\n",
    "The following methods apply both to relative and component times."
   ]
  },
  {
   "cell_type": "markdown",
   "metadata": {},
   "source": [
    "https://cdms.readthedocs.io/en/latest/manual/cdms_3.html#component-time"
   ]
  },
  {
   "cell_type": "markdown",
   "metadata": {},
   "source": [
    "### Examples\n",
    "\n",
    "[Back to Top](#top)"
   ]
  },
  {
   "cell_type": "code",
   "execution_count": null,
   "metadata": {},
   "outputs": [],
   "source": [
    "import cdtime\n",
    "c = cdtime.comptime(1996,2,28)\n",
    "r = cdtime.reltime(28,\"days since 1996-1-1\")\n",
    "print(r.add(1,cdtime.Day))\n",
    "print(c.add(36,cdtime.Hours))"
   ]
  },
  {
   "cell_type": "markdown",
   "metadata": {},
   "source": [
    "**Note:** When adding or subtracting intervals of months or years, only the month and year of the result are significant.   The reason is that intervals in months/years are not commensurate with intervals in days or fractional days. This leads to results that may be surprising."
   ]
  },
  {
   "cell_type": "code",
   "execution_count": null,
   "metadata": {},
   "outputs": [],
   "source": [
    "c = cdtime.comptime(1979,8,31)\n",
    "c.add(1,cdtime.Month)  "
   ]
  },
  {
   "cell_type": "markdown",
   "metadata": {},
   "source": [
    "In other words, the day component of c was ignored in the addition, \n",
    "and the day/hour/minute components of the results are just the defaults. \n",
    "If the interval is in years, the interval is converted internally to \n",
    "months:"
   ]
  },
  {
   "cell_type": "code",
   "execution_count": null,
   "metadata": {},
   "outputs": [],
   "source": [
    "c = cdtime.comptime(1979,8,31)\n",
    "c.add(2,cdtime.Years)"
   ]
  },
  {
   "cell_type": "markdown",
   "metadata": {},
   "source": [
    "### Compare time values\n",
    "\n",
    "[Back to Top](#top)"
   ]
  },
  {
   "cell_type": "code",
   "execution_count": null,
   "metadata": {},
   "outputs": [],
   "source": [
    "from cdtime import *\n",
    "r = cdtime.reltime(28,\"days since 1996-1-1\")\n",
    "c = cdtime.comptime(1996,2,28)\n",
    "print(c.cmp(r))\n",
    "print(c > r)"
   ]
  },
  {
   "cell_type": "markdown",
   "metadata": {},
   "source": [
    "### Subtract an interval of time.\n",
    "\n",
    "[Back to Top](#top)"
   ]
  },
  {
   "cell_type": "code",
   "execution_count": null,
   "metadata": {
    "scrolled": true
   },
   "outputs": [],
   "source": [
    "import cdtime \n",
    "r = cdtime.reltime(28,\"days since 1996-1-1\")\n",
    "c = cdtime.comptime(1996,2,28)\n",
    "print(r.sub(10, cdtime.Days))\n",
    "print(c.sub(30, cdtime.Days))"
   ]
  },
  {
   "cell_type": "markdown",
   "metadata": {},
   "source": [
    "For intervals of years or months, see the **note** under add() in the example above.\n"
   ]
  },
  {
   "cell_type": "markdown",
   "metadata": {},
   "source": [
    "### Convert to component time.\n",
    "\n",
    "[Back to Top](#top)"
   ]
  },
  {
   "cell_type": "code",
   "execution_count": null,
   "metadata": {
    "scrolled": false
   },
   "outputs": [],
   "source": [
    "import cdtime\n",
    "r = cdtime.reltime(28,\"days since 1996-1-1\")   \n",
    "r.tocomp()"
   ]
  },
  {
   "cell_type": "markdown",
   "metadata": {},
   "source": [
    "### Convert to relative time.\n",
    "\n",
    "[Back to Top](#top)"
   ]
  },
  {
   "cell_type": "markdown",
   "metadata": {},
   "source": [
    "### Subtract an interval of time.\n",
    "\n",
    "[Back to Top](#top)"
   ]
  },
  {
   "cell_type": "code",
   "execution_count": null,
   "metadata": {},
   "outputs": [],
   "source": [
    "c = cdtime.comptime(1996,2,28)\n",
    "print(c.torel(\"days since 1996-1-1\"))\n",
    "\n",
    "r = reltime(28,\"days since 1996-1-1\")\n",
    "print(r.torel(\"days since 1995\"))\n",
    "print(r.torel(\"days since 1995\").value)"
   ]
  }
 ],
 "metadata": {
  "kernelspec": {
   "display_name": "Python 2",
   "language": "python",
   "name": "python2"
  },
  "language_info": {
   "codemirror_mode": {
    "name": "ipython",
    "version": 2
   },
   "file_extension": ".py",
   "mimetype": "text/x-python",
   "name": "python",
   "nbconvert_exporter": "python",
   "pygments_lexer": "ipython2",
   "version": "2.7.15"
  },
  "toc": {
   "base_numbering": 1,
   "nav_menu": {},
   "number_sections": false,
   "sideBar": true,
   "skip_h1_title": false,
   "title_cell": "Table of Contents",
   "title_sidebar": "Contents",
   "toc_cell": true,
   "toc_position": {
    "height": "calc(100% - 180px)",
    "left": "10px",
    "top": "150px",
    "width": "212px"
   },
   "toc_section_display": true,
   "toc_window_display": false
  }
 },
 "nbformat": 4,
 "nbformat_minor": 2
}
