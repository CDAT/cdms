{
 "cells": [
  {
   "cell_type": "markdown",
   "metadata": {},
   "source": [
    "#  CDMS Python Application Programming Interface"
   ]
  },
  {
   "cell_type": "markdown",
   "metadata": {},
   "source": [
    "OVERVIEW\n",
    "=============\n",
    "\n",
    "\n",
    "\n",
    "This chapter describes the CDMS Python application programming interface\n",
    "(API). Python is a popular public-domain, object-oriented language. Its\n",
    "features include support for object-oriented development, a rich set of\n",
    "programming constructs, and an extensible architecture. CDMS itself is\n",
    "implemented in a mixture of C and Python. In this chapter the assumption\n",
    "is made that the reader is familiar with the basic features of the\n",
    "Python language.\n",
    "\n",
    "Python supports the notion of a module, which groups together associated\n",
    "classes and methods. The import command makes the module accessible to\n",
    "an application. This chapter documents the cdms, cdtime, and regrid\n",
    "modules.\n",
    "\n",
    "The chapter sections correspond to the CDMS classes. Each section\n",
    "contains table\n",
    "s base. If no parent, the datapath is absolute.describing\n",
    "the class internal (non-persistent) attributes, constructors (functions\n",
    "for creating an object), and class methods (functions). A method can\n",
    "return an instance of a CDMS class, or one of the Python types:"
   ]
  },
  {
   "cell_type": "markdown",
   "metadata": {},
   "source": [
    "  \"Array\",  \"Numpy or masked multidimensional data array. All elements of the array are of the same type. Defined in the Numpy and MV2 modules.\"\n",
    "   \"Comptime\", \"Absolute time value, a time with representation (year, month, day, hour, minute, second). Defined in the cdtime module. cf. reltime\" \n",
    "   \"Dictionary\",\"An unordered 2,3 collection of objects, indexed by key. All dictionaries in CDMS are indexed by strings, e.g.: ``axes['time']``\"\n",
    "   \"Float\", \"Floating-point value.\"\n",
    "   \"Integer\", \"Integer value.\"\n",
    "   \"List\", \"An ordered sequence of objects, which need not be of the same type. New members can be inserted or appended. Lists are denoted with square brackets, e.g., ``[1, 2.0, 'x', 'y']``\"\n",
    "   \"None\", \"No value returned.\"\n",
    "   \"Reltime\", \"Relative time value, a time with representation (value, units since basetime). Defined in the cdtime module. cf. comptime\"\n",
    "   \"Tuple\", \"An ordered sequence of objects, which need not be of the same type. Unlike lists, tuples elements cannot be inserted or appended. Tuples are denoted with parentheses, e.g., ``(1, 2.0, 'x', 'y')``\""
   ]
  },
  {
   "cell_type": "markdown",
   "metadata": {},
   "source": [
    "A First Example\n",
    "\n",
    "\n",
    "The following Python script reads January and July monthly temperature\n",
    "data from an input dataset, averages over time, and writes the results\n",
    "to an output file. The input temperature data is ordered (time,\n",
    "latitude, longitude)."
   ]
  },
  {
   "cell_type": "code",
   "execution_count": 1,
   "metadata": {},
   "outputs": [
    {
     "ename": "CDMSError",
     "evalue": "Cannot open file /export/reshel3/anaconda52/envs/cdms2/share/uvcdat/sample_data/tas_mo.nc (No error)",
     "output_type": "error",
     "traceback": [
      "\u001b[0;31m---------------------------------------------------------------------------\u001b[0m",
      "\u001b[0;31mCDMSError\u001b[0m                                 Traceback (most recent call last)",
      "\u001b[0;32m<ipython-input-1-746f11fa9f14>\u001b[0m in \u001b[0;36m<module>\u001b[0;34m()\u001b[0m\n\u001b[1;32m      1\u001b[0m \u001b[0;32mimport\u001b[0m \u001b[0mcdms2\u001b[0m\u001b[0;34m,\u001b[0m \u001b[0mcdat_info\u001b[0m\u001b[0;34m\u001b[0m\u001b[0m\n\u001b[1;32m      2\u001b[0m \u001b[0;32mfrom\u001b[0m \u001b[0mcdms2\u001b[0m \u001b[0;32mimport\u001b[0m \u001b[0mMV\u001b[0m\u001b[0;34m\u001b[0m\u001b[0m\n\u001b[0;32m----> 3\u001b[0;31m \u001b[0mjones\u001b[0m \u001b[0;34m=\u001b[0m \u001b[0mcdms2\u001b[0m\u001b[0;34m.\u001b[0m\u001b[0mopen\u001b[0m\u001b[0;34m(\u001b[0m\u001b[0mcdat_info\u001b[0m\u001b[0;34m.\u001b[0m\u001b[0mget_sampledata_path\u001b[0m\u001b[0;34m(\u001b[0m\u001b[0;34m)\u001b[0m\u001b[0;34m+\u001b[0m\u001b[0;34m'/tas_mo.nc'\u001b[0m\u001b[0;34m)\u001b[0m\u001b[0;34m\u001b[0m\u001b[0m\n\u001b[0m\u001b[1;32m      4\u001b[0m \u001b[0mtasvar\u001b[0m \u001b[0;34m=\u001b[0m \u001b[0mjones\u001b[0m\u001b[0;34m[\u001b[0m\u001b[0;34m'tas'\u001b[0m\u001b[0;34m]\u001b[0m\u001b[0;34m\u001b[0m\u001b[0m\n\u001b[1;32m      5\u001b[0m \u001b[0mjans\u001b[0m \u001b[0;34m=\u001b[0m \u001b[0mtasvar\u001b[0m\u001b[0;34m[\u001b[0m\u001b[0;36m0\u001b[0m\u001b[0;34m:\u001b[0m\u001b[0;34m:\u001b[0m\u001b[0;36m12\u001b[0m\u001b[0;34m]\u001b[0m\u001b[0;34m\u001b[0m\u001b[0m\n",
      "\u001b[0;32m/export/reshel3/anaconda52/envs/cdms2/lib/python2.7/site-packages/cdms2/dataset.pyc\u001b[0m in \u001b[0;36mopenDataset\u001b[0;34m(uri, mode, template, dods, dpath, hostObj)\u001b[0m\n\u001b[1;32m    494\u001b[0m             \u001b[0;31m# rank\u001b[0m\u001b[0;34m\u001b[0m\u001b[0;34m\u001b[0m\u001b[0m\n\u001b[1;32m    495\u001b[0m             \u001b[0;32mif\u001b[0m \u001b[0;32mnot\u001b[0m \u001b[0mos\u001b[0m\u001b[0;34m.\u001b[0m\u001b[0mpath\u001b[0m\u001b[0;34m.\u001b[0m\u001b[0mexists\u001b[0m\u001b[0;34m(\u001b[0m\u001b[0mpath\u001b[0m\u001b[0;34m)\u001b[0m\u001b[0;34m:\u001b[0m\u001b[0;34m\u001b[0m\u001b[0m\n\u001b[0;32m--> 496\u001b[0;31m                 \u001b[0;32mreturn\u001b[0m \u001b[0mCdmsFile\u001b[0m\u001b[0;34m(\u001b[0m\u001b[0mpath\u001b[0m\u001b[0;34m,\u001b[0m \u001b[0mmode\u001b[0m\u001b[0;34m,\u001b[0m \u001b[0mmpiBarrier\u001b[0m\u001b[0;34m=\u001b[0m\u001b[0mCdMpi\u001b[0m\u001b[0;34m)\u001b[0m\u001b[0;34m\u001b[0m\u001b[0m\n\u001b[0m\u001b[1;32m    497\u001b[0m             \u001b[0;32melif\u001b[0m \u001b[0mmode\u001b[0m \u001b[0;34m==\u001b[0m \u001b[0;34m\"w\"\u001b[0m\u001b[0;34m:\u001b[0m\u001b[0;34m\u001b[0m\u001b[0m\n\u001b[1;32m    498\u001b[0m                 \u001b[0;32mtry\u001b[0m\u001b[0;34m:\u001b[0m\u001b[0;34m\u001b[0m\u001b[0m\n",
      "\u001b[0;32m/export/reshel3/anaconda52/envs/cdms2/lib/python2.7/site-packages/cdms2/dataset.pyc\u001b[0m in \u001b[0;36m__init__\u001b[0;34m(self, path, mode, hostObj, mpiBarrier)\u001b[0m\n\u001b[1;32m   1276\u001b[0m             \u001b[0m_fileobj_\u001b[0m \u001b[0;34m=\u001b[0m \u001b[0mCdunif\u001b[0m\u001b[0;34m.\u001b[0m\u001b[0mCdunifFile\u001b[0m\u001b[0;34m(\u001b[0m\u001b[0mpath\u001b[0m\u001b[0;34m,\u001b[0m \u001b[0mmode\u001b[0m\u001b[0;34m)\u001b[0m\u001b[0;34m\u001b[0m\u001b[0m\n\u001b[1;32m   1277\u001b[0m         \u001b[0;32mexcept\u001b[0m \u001b[0mException\u001b[0m \u001b[0;32mas\u001b[0m \u001b[0merr\u001b[0m\u001b[0;34m:\u001b[0m\u001b[0;34m\u001b[0m\u001b[0m\n\u001b[0;32m-> 1278\u001b[0;31m             \u001b[0;32mraise\u001b[0m \u001b[0mCDMSError\u001b[0m\u001b[0;34m(\u001b[0m\u001b[0;34m'Cannot open file %s (%s)'\u001b[0m \u001b[0;34m%\u001b[0m \u001b[0;34m(\u001b[0m\u001b[0mpath\u001b[0m\u001b[0;34m,\u001b[0m \u001b[0merr\u001b[0m\u001b[0;34m)\u001b[0m\u001b[0;34m)\u001b[0m\u001b[0;34m\u001b[0m\u001b[0m\n\u001b[0m\u001b[1;32m   1279\u001b[0m         \u001b[0mself\u001b[0m\u001b[0;34m.\u001b[0m\u001b[0m_file_\u001b[0m \u001b[0;34m=\u001b[0m \u001b[0m_fileobj_\u001b[0m   \u001b[0;31m# Cdunif file object\u001b[0m\u001b[0;34m\u001b[0m\u001b[0m\n\u001b[1;32m   1280\u001b[0m         \u001b[0mself\u001b[0m\u001b[0;34m.\u001b[0m\u001b[0mvariables\u001b[0m \u001b[0;34m=\u001b[0m \u001b[0;34m{\u001b[0m\u001b[0;34m}\u001b[0m\u001b[0;34m\u001b[0m\u001b[0m\n",
      "\u001b[0;31mCDMSError\u001b[0m: Cannot open file /export/reshel3/anaconda52/envs/cdms2/share/uvcdat/sample_data/tas_mo.nc (No error)"
     ]
    }
   ],
   "source": [
    "import cdms2, cdat_info\n",
    "from cdms2 import MV\n",
    "jones = cdms2.open(cdat_info.get_sampledata_path()+'/tas_mo.nc')\n",
    "tasvar = jones['tas']\n",
    "jans = tasvar[0::12]\n",
    "julys = tasvar[6::12]\n",
    "janavg = MV.average(jans)\n",
    "janavg.id = \"tas_jan\"\n",
    "janavg.long_name = \"mean January surface temperature\"\n",
    "julyavg = MV.average(julys)\n",
    "julyavg.id = \"tas_jul\"\n",
    "julyavg.long_name = \"mean July surface temperature\"\n",
    "out = cdms2.open('janjuly.nc','w')\n",
    "out.write(janavg)\n",
    "\n",
    "out.write(julyavg)\n",
    "\n",
    "out.comment = \"Average January/July from Jones dataset\"\n",
    "jones.close()\n",
    "out.close()"
   ]
  },
  {
   "cell_type": "markdown",
   "metadata": {},
   "source": [
    " \"2,3\", \"Makes the CDMS and MV modules available.\n",
    "       *  MV defines arithmetic functions.\"\n",
    "   \"4\", \"Opens a netCDF file read-only. \n",
    "       * The result jones is a dataset object.\"\n",
    "   \"5\", \"Gets the surface air temperature variable. ‘tas’ is the name of the variable in the input dataset. \n",
    "       * This does not actually read the data.\"\n",
    "   \"6\", \"Read all January monthly mean data into a variable jans.\n",
    "       * Variables can be sliced like arrays. \n",
    "       * The slice operator [0::12] means take every 12th slice from dimension 0, starting at index 0 and ending at the last index. \n",
    "       * If the stride 12 were omitted, it would default to 1. \n",
    "       **Note:** that the variable is actually 3-dimensional. Since no slice is specified for the second or third dimensions, all values of those 2,3 dimensions are retrieved. The slice operation could also have been written [0::12, : , :]. \n",
    "\n",
    "       **Also note:** that the same script works for multi-file datasets. CDMS opens the needed data files, extracts the appropriate slices, and concatenates them into the result array.\"\n",
    "   \"7\", \"Reads all July data into a masked array julys.\"\n",
    "   \"8\", \"Calculate the average January value for each grid zone.\n",
    "       * Any missing data is handled automatically.\"\n",
    "   \"9,10\", \"Set the variable id and long\\_name attributes. \n",
    "       * The id is used as the name of the variable when plotted or written to a file.\"\n",
    "   \"14\", \"Create a new netCDF output file named ‘janjuly.nc’ to hold the results.\"\n",
    "   \"15\", \"Write the January average values to the output file. \n",
    "       * The variable will have id “tas\\_jan” in the file.\n",
    "       * ``write`` is a utility function which creates the variable in the file, then writes data to the variable.\n",
    "       * A more general method of data output is first to create a variable, then set a slice of the variable.\n",
    "       **Note:** that janavg and julavg have the same latitude and longitude information as tasvar. It is carried along with the computations.\"\n",
    "   \"17\", \"Set the global attribute ‘comment’.\"\n",
    "   \"18\", \"Close the output file.\""
   ]
  },
  {
   "cell_type": "markdown",
   "metadata": {},
   "source": [
    "Cdms Module\n",
    "\n",
    "\n",
    "The cdms module is the Python interface to CDMS. The objects and methods\n",
    "in this chapter are made accessible with the command:"
   ]
  },
  {
   "cell_type": "code",
   "execution_count": 2,
   "metadata": {},
   "outputs": [],
   "source": [
    "import cdms2"
   ]
  },
  {
   "cell_type": "markdown",
   "metadata": {},
   "source": [
    "The functions described in this section are not associated with a class.\n",
    "Rather, they are called as module functions, e.g.,"
   ]
  },
  {
   "cell_type": "code",
   "execution_count": 3,
   "metadata": {},
   "outputs": [
    {
     "ename": "CDMSError",
     "evalue": "Cannot open file /export/reshel3/cdms/sample.nc (No error)",
     "output_type": "error",
     "traceback": [
      "\u001b[0;31m---------------------------------------------------------------------------\u001b[0m",
      "\u001b[0;31mCDMSError\u001b[0m                                 Traceback (most recent call last)",
      "\u001b[0;32m<ipython-input-3-11d1fedfe49f>\u001b[0m in \u001b[0;36m<module>\u001b[0;34m()\u001b[0m\n\u001b[0;32m----> 1\u001b[0;31m \u001b[0mfile\u001b[0m \u001b[0;34m=\u001b[0m \u001b[0mcdms2\u001b[0m\u001b[0;34m.\u001b[0m\u001b[0mopen\u001b[0m\u001b[0;34m(\u001b[0m\u001b[0;34m'sample.nc'\u001b[0m\u001b[0;34m)\u001b[0m\u001b[0;34m\u001b[0m\u001b[0m\n\u001b[0m",
      "\u001b[0;32m/export/reshel3/anaconda52/envs/cdms2/lib/python2.7/site-packages/cdms2/dataset.pyc\u001b[0m in \u001b[0;36mopenDataset\u001b[0;34m(uri, mode, template, dods, dpath, hostObj)\u001b[0m\n\u001b[1;32m    494\u001b[0m             \u001b[0;31m# rank\u001b[0m\u001b[0;34m\u001b[0m\u001b[0;34m\u001b[0m\u001b[0m\n\u001b[1;32m    495\u001b[0m             \u001b[0;32mif\u001b[0m \u001b[0;32mnot\u001b[0m \u001b[0mos\u001b[0m\u001b[0;34m.\u001b[0m\u001b[0mpath\u001b[0m\u001b[0;34m.\u001b[0m\u001b[0mexists\u001b[0m\u001b[0;34m(\u001b[0m\u001b[0mpath\u001b[0m\u001b[0;34m)\u001b[0m\u001b[0;34m:\u001b[0m\u001b[0;34m\u001b[0m\u001b[0m\n\u001b[0;32m--> 496\u001b[0;31m                 \u001b[0;32mreturn\u001b[0m \u001b[0mCdmsFile\u001b[0m\u001b[0;34m(\u001b[0m\u001b[0mpath\u001b[0m\u001b[0;34m,\u001b[0m \u001b[0mmode\u001b[0m\u001b[0;34m,\u001b[0m \u001b[0mmpiBarrier\u001b[0m\u001b[0;34m=\u001b[0m\u001b[0mCdMpi\u001b[0m\u001b[0;34m)\u001b[0m\u001b[0;34m\u001b[0m\u001b[0m\n\u001b[0m\u001b[1;32m    497\u001b[0m             \u001b[0;32melif\u001b[0m \u001b[0mmode\u001b[0m \u001b[0;34m==\u001b[0m \u001b[0;34m\"w\"\u001b[0m\u001b[0;34m:\u001b[0m\u001b[0;34m\u001b[0m\u001b[0m\n\u001b[1;32m    498\u001b[0m                 \u001b[0;32mtry\u001b[0m\u001b[0;34m:\u001b[0m\u001b[0;34m\u001b[0m\u001b[0m\n",
      "\u001b[0;32m/export/reshel3/anaconda52/envs/cdms2/lib/python2.7/site-packages/cdms2/dataset.pyc\u001b[0m in \u001b[0;36m__init__\u001b[0;34m(self, path, mode, hostObj, mpiBarrier)\u001b[0m\n\u001b[1;32m   1276\u001b[0m             \u001b[0m_fileobj_\u001b[0m \u001b[0;34m=\u001b[0m \u001b[0mCdunif\u001b[0m\u001b[0;34m.\u001b[0m\u001b[0mCdunifFile\u001b[0m\u001b[0;34m(\u001b[0m\u001b[0mpath\u001b[0m\u001b[0;34m,\u001b[0m \u001b[0mmode\u001b[0m\u001b[0;34m)\u001b[0m\u001b[0;34m\u001b[0m\u001b[0m\n\u001b[1;32m   1277\u001b[0m         \u001b[0;32mexcept\u001b[0m \u001b[0mException\u001b[0m \u001b[0;32mas\u001b[0m \u001b[0merr\u001b[0m\u001b[0;34m:\u001b[0m\u001b[0;34m\u001b[0m\u001b[0m\n\u001b[0;32m-> 1278\u001b[0;31m             \u001b[0;32mraise\u001b[0m \u001b[0mCDMSError\u001b[0m\u001b[0;34m(\u001b[0m\u001b[0;34m'Cannot open file %s (%s)'\u001b[0m \u001b[0;34m%\u001b[0m \u001b[0;34m(\u001b[0m\u001b[0mpath\u001b[0m\u001b[0;34m,\u001b[0m \u001b[0merr\u001b[0m\u001b[0;34m)\u001b[0m\u001b[0;34m)\u001b[0m\u001b[0;34m\u001b[0m\u001b[0m\n\u001b[0m\u001b[1;32m   1279\u001b[0m         \u001b[0mself\u001b[0m\u001b[0;34m.\u001b[0m\u001b[0m_file_\u001b[0m \u001b[0;34m=\u001b[0m \u001b[0m_fileobj_\u001b[0m   \u001b[0;31m# Cdunif file object\u001b[0m\u001b[0;34m\u001b[0m\u001b[0m\n\u001b[1;32m   1280\u001b[0m         \u001b[0mself\u001b[0m\u001b[0;34m.\u001b[0m\u001b[0mvariables\u001b[0m \u001b[0;34m=\u001b[0m \u001b[0;34m{\u001b[0m\u001b[0;34m}\u001b[0m\u001b[0;34m\u001b[0m\u001b[0m\n",
      "\u001b[0;31mCDMSError\u001b[0m: Cannot open file /export/reshel3/cdms/sample.nc (No error)"
     ]
    }
   ],
   "source": [
    "file = cdms2.open('sample.nc')"
   ]
  },
  {
   "cell_type": "markdown",
   "metadata": {},
   "source": [
    "Cdms Module Functions\n",
    "\n",
    "  \"``Variable``\", \"``asVariable(s)``: \n",
    "            Transform ``s`` into a transient variable.\n",
    "             *  ``s`` is a masked array, Numpy array, or Variable. \n",
    "             * If ``s`` is already a transient variable, ``s`` is returned. \n",
    "             * See also: ``isVariable``.\"\n",
    "   \"``Axis``\", \"``createAxis(data, bounds=None)``:\n",
    "             Create a one-dimensional coordinate Axis, which is not associated with a file or dataset. This is useful for creating a grid which is not contained in a file or dataset.\n",
    "              * ``data`` is a one-dimensional, monotonic Numpy array.\n",
    "              * ``bounds`` is an array of shape ``(len(data),2)``, such that for all ``i``, \n",
    "              * ``data[i]`` is in the range ``[bounds[i,0],bounds[i,1] ]``.\n",
    "              *  If ``bounds`` is not specified, the default boundaries are generated at the midpoints between the consecutive data values, provided that the autobounds mode is 'on' (the default).           \n",
    "              * See ``setAutoBounds``. \n",
    "              * Also see: ``CdmsFile.createAxis``\"\n",
    "   \"``Axis``\", \"``createEqualAreaAxis(nlat)``: \n",
    "             Create an equal-area latitude axis.  \n",
    "              * The latitude values range from north to south, and for all axis values ``x[i]``, ``sin(x[i])sin(x[i+1])`` is constant. \n",
    "              * ``nlat`` is the axis length. \n",
    "              **Note:** The axis is not associated with a file or dataset.\"\n",
    "   \"``Axis``\", \"``createGaussianAxis(nlat)``: \n",
    "             Create a Gaussian latitude axis.\\\n",
    "              * Axis values range from north to south.  \n",
    "              * ``nlat`` is the axis length. \n",
    "              **Note:** The axis is not associated with a file or dataset.\"\n",
    "   \"``RectGrid``\", \"``createGaussianGrid(nlats, xorigin=0.0, order='yx')``:\n",
    "             Create a Gaussian grid, with shape ``(nlats, 2*nlats)``. \n",
    "              * ``nlats`` is the number of latitudes. \n",
    "              * ``xorigin`` is the origin of the longitude axis. \n",
    "              *  ``order`` is either 'yx' (lat-lon, default) or 'xy' (lon-lat)\"\n",
    "   \"``RectGrid``\", \"``createGenericGrid(latArray, lonArray, latBounds=None, lonBounds=None, order='yx', mask=None)``:\n",
    "             Create a generic grid, that is, a grid which is not typed as Gaussian, uniform, or equal-area. The grid is not associated with a file or dataset. \n",
    "                  * ``latArray`` is a NumPy array of latitude values.\n",
    "                  * ``lonArray`` is a NumPy array of longitude values. \n",
    "                  * ``latBounds`` is a NumPy array having shape ``(len(latArray),2)``, of latitude boundaries. \n",
    "                  * ``lonBounds`` is a NumPy array having shape ``(len(lonArray),2)``, of longitude boundaries. \n",
    "                  * ``order`` is a ``string`` specifying the order of the axes, either 'yx' for (latitude, longitude), or 'xy' for the reverse.\n",
    "                  * ``mask`` (optional) is an ``integer``-valued NumPy mask array, having the same shape and ordering as the grid.\"               \n",
    "   \"``RectGrid``\", \"``createGlobalMeanGrid(grid)``:\n",
    "             Generate a grid for calculating the global mean via a regridding operation. The return grid is a single zone covering the range of the input grid.\n",
    "                  *  ``grid`` is a RectGrid.\"\n",
    "   \"``RectGrid``\", \"``createRectGrid(lat, lon, order, type='generic', mask=None)``:\n",
    "             Create a rectilinear grid, not associated with a file or dataset.  This might be used as the target grid for a regridding operation. \n",
    "                  * ``lat`` is a latitude axis, created by ``cdms.createAxis``. \n",
    "                  * ``lon`` is a longitude axis, created by ``cdms.createAxis``. \n",
    "                  * ``order`` is a string with value 'yx' (the first grid dimension is latitude) or 'xy' (the first grid dimension is longitude). \n",
    "                  * ``type`` is one of 'gaussian','uniform','equalarea',or 'generic'. \n",
    "                  * If specified, ``mask`` is a two-dimensional, logical Numpy array (all values are zero or one) with the same shape as the grid.\"\n",
    "   \"``RectGrid``\", \"``createUniformGrid(startLat, nlat, deltaLat, start-Lon, nlon, deltaLon, order='yx', mask=None)``:\n",
    "             Create a uniform rectilinear grid.  \n",
    "                  * The grid is not associated with a file or dataset. \n",
    "                  * The grid boundaries are at the midpoints of the axis values. \n",
    "                  * ``startLat`` is the starting latitude value. \n",
    "                  * ``nlat`` is the number of latitudes. If ``nlat`` is 1, the grid latitude boundaries will be ``startLat`` +/- ``deltaLat/2``.\n",
    "                  * ``deltaLat`` is the increment between latitudes.\n",
    "                  *  ``startLon`` is the starting longitude value.\n",
    "                  * ``nlon`` is the number of longitudes. If ``nlon`` is 1, the grid longitude boundaries will be ``startLon`` +/- ``deltaLon/2``.\n",
    "                  * ``deltaLon`` is the increment between longitudes.\n",
    "                  * ``order`` is a string with value 'yx. (the first grid dimension is latitude) or .xy. (the first grid dimension is longitude).\n",
    "                  * If specified, ``mask`` is a two-dimensional, logical Numpy array (all values are zero or one) with the same shape as the grid.\"\n",
    "   \"``Axis``\", \"``createUniformLatitudeAxis(startLat , nlat, deltaLat)``:\n",
    "           Create a uniform latitude axis.\n",
    "              *  The axis boundaries are at the midpoints of the axis values.\n",
    "              * The axis is designated as a circular latitude axis. \n",
    "              * ``startLat`` is the starting latitude value.\n",
    "              * ``nlat`` is the number of latitudes.\n",
    "              * ``deltaLat`` is the increment between latitudes.\"\n",
    "   \"``RectGrid``\",\"``createZonalGrid(grid)``:\n",
    "           Create a zonal grid.\n",
    "              * The output grid has the same latitude as the input grid, and a single longitude. \n",
    "              * This may be used to calculate zonal averages via a regridding operation. \n",
    "              * ``grid`` is a RectGrid.\"\n",
    "   \"``Axis``\", \"``createUniformLongitudeAxis(startLon, nlon, delta-Lon)``:  \n",
    "          Create a uniform longitude axis.\n",
    "              * The axis boundaries are at the midpoints of the axis values.\n",
    "              * The axis is designated as a circular longitude axis. \n",
    "              * ``startLon`` is the starting longitude value.\n",
    "              * ``nlon`` is the number of longitudes\n",
    "              * ``deltaLon`` is the increment between longitudes.\"\n",
    "   \"``Variable``\", \"``createVariable(array, typecode=None, copy=0, savespace=0, mask=None, fill_value=None, grid=None, axes=None , attributes=None, id=None)``:\"\n",
    "   \"``Integer``\", \"``getAutoBounds()``: \n",
    "         Get the current autobounds mode. Returns 0, 1, or 2.\n",
    "              * See ``setAutoBounds``.\"\n",
    "   \"``Integer``\", \"``isVariable(s)``: \n",
    "              * Return ``1`` if ``s`` is a variable, ``0`` otherwise.\n",
    "              * See also: ``asVariable``.\"\n",
    "   \"``Dataset``\", \"``open(url,mode='r')``:\n",
    "          Open or create a ``Dataset`` or ``CdmsFile``. \n",
    "                    * ``url`` is a Uniform Resource Locator, referring to a cdunif or XML file. \n",
    "                    * If the URL has the extension '.xml' or '.cdml', a ``Dataset`` is returned, otherwise a ``CdmsFile`` is returned. \n",
    "                    * If the URL protocol is 'https', the file must be a '.xml' or '.cdml' file, and the mode must be 'r'.\n",
    "                    * If the protocol is 'file' or is omitted, a local file or dataset is opened.\n",
    "                    * ``mode`` is the open mode.  See `Open Modes <#id3>`__\n",
    "\n",
    "                    **Example**: Open an existing dataset: ``f = cdms.open('sampleset.xml')``\n",
    "\n",
    "                    **Example**: Create a netCDF file: ``f = cdms.open('newfile.nc','w')``\"\n",
    "   \"``List``\", \"``order2index (axes, orderstring)``:\n",
    "           Find the index permutation of axes to match order. Return a list of indices.\n",
    "                    *  ``axes`` is a list of axis objects.\n",
    "                    *  ``orderstring`` is defined as in ``orderparse``.\"\n",
    "   \"``List``\", \"``orderparse(orderstring)``:\n",
    "          Parse an order string. Returns a list of axes specifiers. ``orderstring`` consists of:\n",
    "              * Letters t, x, y, z meaning time, longitude, latitude, level\n",
    "              * Numbers 0-9 representing position in axes\n",
    "              * Dash (-) meaning insert the next available axis here.\n",
    "              * The ellipsis ... meaning fill these positions with any remaining axes.\n",
    "              * (name) meaning an axis whose id is name\"\n",
    "   \"``None``\", \"``setAutoBounds(mode)``:  \n",
    "          Set autobounds mode. In some circumstances CDMS can generate boundaries for 1-D axes and rectilinear grids, when the bounds are not explicitly defined. The autobounds mode determines how this is done:\n",
    "              * If ``mode`` is ``'grid'`` or ``2`` (the default), the ``getBounds`` method will automatically generate boundary information for an axis or grid if the axis is designated as a latitude or longitude axis, and the boundaries are not explicitly defined.\n",
    "              * If ``mode`` is ``'on'`` or ``1``, the ``getBounds`` method will automatically generate boundary information for an axis or grid, if the boundaries are not explicitly defined. \n",
    "              * If ``mode`` is ``'off'`` or ``0``, and no boundary data is explicitly defined, the bounds will NOT be generated; the ``getBounds`` method will return ``None`` for the boundaries.\n",
    "\n",
    "              **Note:** In versions of CDMS prior to V4.0, the default ``mode`` was ``'on'``.\"\n",
    "   \"``None``\", \"``setClassifyGrids(mode)``:\n",
    "          Set the grid classification mode. This affects how grid type is determined, for the purpose of generating grid boundaries.\n",
    "              * If ``mode`` is ``'on'`` (the default), grid type is determined by a grid classification method, regardless of the value of ``grid.get-Type()``. \n",
    "              * If ``mode`` is ``'off'``, the value of ``grid.getType()`` determines the grid type.\" \n",
    "   \"``None``\", \"``writeScripGrid(path, grid, gridTitle=None)``:\n",
    "          Write a grid to a SCRIP grid file.  \n",
    "              * ``path`` is a string, the path of the SCRIP file to be created.  \n",
    "              * ``grid`` is a CDMS grid object. It may be rectangular. \n",
    "              * ``gridTitle`` is a string ID for the grid.\"\n",
    ":"
   ]
  },
  {
   "cell_type": "markdown",
   "metadata": {},
   "source": [
    "Class Tags\n",
    "\n",
    " \"‘axis’\", \"Axis\"\n",
    "   \"‘database’\", \"Database\"\n",
    "   \"‘dataset’\", \"Dataset, CdmsFile \"\n",
    "   \"‘grid’\", \"RectGrid\"\n",
    "   \"‘variable’\", \"Variable\"\n",
    "   \"‘xlink’\", \"Xlink\""
   ]
  },
  {
   "cell_type": "markdown",
   "metadata": {},
   "source": [
    "CdmsObj\n",
    "\n",
    "A CdmsObj is the base class for all CDMS database objects. At the\n",
    "application level, CdmsObj objects are never created and used directly.\n",
    "Rather the subclasses of CdmsObj (Dataset, Variable, Axis, etc.) are the\n",
    "basis of user application programming.\n",
    "\n",
    "All objects derived from CdmsObj have a special attribute .attributes.\n",
    "This is a Python dictionary, which contains all the external\n",
    "(persistent) attributes associated with the object. This is in contrast\n",
    "to the internal, non-persistent attributes of an object, which are\n",
    "built-in and predefined. When a CDMS object is written to a file, the\n",
    "external attributes are written, but not the internal attributes.\n",
    "\n",
    "**Example**: get a list of all external attributes of obj."
   ]
  },
  {
   "cell_type": "code",
   "execution_count": 47,
   "metadata": {},
   "outputs": [
    {
     "ename": "NameError",
     "evalue": "name 'obj' is not defined",
     "output_type": "error",
     "traceback": [
      "\u001b[0;31m---------------------------------------------------------------------------\u001b[0m",
      "\u001b[0;31mNameError\u001b[0m                                 Traceback (most recent call last)",
      "\u001b[0;32m<ipython-input-47-28524ad4962e>\u001b[0m in \u001b[0;36m<module>\u001b[0;34m()\u001b[0m\n\u001b[0;32m----> 1\u001b[0;31m \u001b[0mextatts\u001b[0m \u001b[0;34m=\u001b[0m \u001b[0mobj\u001b[0m\u001b[0;34m.\u001b[0m\u001b[0mattributes\u001b[0m\u001b[0;34m.\u001b[0m\u001b[0mkeys\u001b[0m\u001b[0;34m(\u001b[0m\u001b[0;34m)\u001b[0m\u001b[0;34m\u001b[0m\u001b[0m\n\u001b[0m",
      "\u001b[0;31mNameError\u001b[0m: name 'obj' is not defined"
     ]
    }
   ],
   "source": [
    "extatts = obj.attributes.keys()"
   ]
  },
  {
   "cell_type": "markdown",
   "metadata": {},
   "source": [
    "Attributes Common to All CDMS Objects\n",
    "\n",
    " \"Dictionary\", \"attributes\", \"External attribute dictionary for this object.\""
   ]
  },
  {
   "cell_type": "markdown",
   "metadata": {},
   "source": [
    "Getting and Setting Attributes\n",
    "\n",
    " \"various\", \"``value = obj.attname``\n",
    "         Get an internal or external attribute value. \n",
    "              * If the attribute is external, it is read from the database.\n",
    "              * If the attribute is not already in the database, it is created as an external attribute. \n",
    "              * Internal attributes cannot be created, only referenced.\"\n",
    "   \"various\", \"``obj.attname = value``\n",
    "         Set an internal or external attribute value.\n",
    "              * If the attribute is external, it is written to the database.\""
   ]
  },
  {
   "cell_type": "markdown",
   "metadata": {},
   "source": [
    "CoordinateAxis\n",
    "\n",
    "A CoordinateAxis is a variable that represents coordinate information.\n",
    "It may be contained in a file or dataset, or may be transient\n",
    "(memoryresident). Setting a slice of a file CoordinateAxis writes to the\n",
    "file, and referencing a file CoordinateAxis slice reads data from the\n",
    "file. Axis objects are also used to define the domain of a Variable.\n",
    "\n",
    "CDMS defines several different types of CoordinateAxis objects. See `MV module <#id5>`_\n",
    "documents methods that are common to all CoordinateAxis\n",
    "types. See `HorizontalGrid <#id7>`_ specifies methods that are unique to 1D\n",
    "Axis objects."
   ]
  },
  {
   "cell_type": "markdown",
   "metadata": {},
   "source": [
    "CoordinateAxis Types\n",
    "\n",
    " \"``CoordinateAxis``\", \"A variable that represents coordinate information.\n",
    "          * Has subtypes ``Axis2D`` and ``AuxAxis1D``.\"\n",
    "   \"``Axis``\", \"A one-dimensional coordinate axis whose values are strictly monotonic. \n",
    "          * Has subtypes ``DatasetAxis``, ``FileAxis``, and ``TransientAxis``.\n",
    "          * May be an index axis, mapping a range of integers to the equivalent floating point value.\n",
    "          * If a latitude or longitude axis, may be associated with a ``RectGrid``.\"\n",
    "   \"``Axis2D``\", \"A two-dimensional coordinate axis, typically a latitude or longitude axis related to a ``CurvilinearGrid``. \n",
    "          * Has subtypes ``DatasetAxis2D``, ``FileAxis2D``, and ``TransientAxis2D``.\"\n",
    "   \"``AuxAxis1D``\", \"A one-dimensional coordinate axis whose values need not be monotonic. Typically a latitude or longitude axis associated with a ``GenericGrid``.\n",
    "          * Has subtypes ``DatasetAuxAxis1D``, ``FileAuxAxis1D``, and ``TransientAuxAxis1D``. \n",
    "          * An axis in a ``CdmsFile`` may be designated the unlimited axis, meaning that it can be extended in length after the initial definition.\n",
    "          * There can be at most one unlimited axis associated with a ``CdmsFile``.\"\n"
   ]
  },
  {
   "cell_type": "markdown",
   "metadata": {},
   "source": [
    "CoordinateAxis Internal Attributes\n",
    "\n",
    "  \"``Dictionary``\", \"``attributes``\", \"External attribute dictionary.\"\n",
    "   \"``String``\", \"``id``\", \"CoordinateAxis identifier.\"\n",
    "   \"``Dataset``\", \"``parent``\", \"The dataset which contains the variable.\"\n",
    "   \"``Tuple``\", \"``shape``\", \"The length of each axis.\""
   ]
  },
  {
   "cell_type": "markdown",
   "metadata": {},
   "source": [
    "CoordinateAxis Constructors\n",
    "\n",
    " \"``cdms.createAxis(data, bounds=None)``\", \"Create an axis which is not associated with a dataset or file. See `A First Example <#a-first-example>`_.\"\n",
    "   \"``Dataset.createAxis(name,ar)``\", \"Create an ``Axis`` in a ``Dataset``. (This function is not yet implemented.)\"\n",
    "   \"``CdmsFile.createAxis(name,ar,unlimited=0)``\", \"Create an Axis in a ``CdmsFile``.\n",
    "             * ``name`` is the string ``name`` of the ``Axis``. \n",
    "             * ``ar`` is a 1-D data array which defines the ``Axis`` values.\n",
    "             * It may have the value ``None`` if an unlimited axis is being defined. \n",
    "             * At most one ``Axis`` in a ``CdmsFile`` may be designated as being unlimited, meaning that it may be extended in length.\n",
    "   To define an axis as unlimited, either:\n",
    " \n",
    "       * A) set ``ar`` to ``None``, and leave ``unlimited`` undefined, or\n",
    "       * B) set ``ar`` to the initial 1-D array, and set ``unlimited`` to ``cdms.Unlitmited``\n",
    "\n",
    "       * ``cdms.createEqualAreaAxis(nlat)`` See `A First Example`_.\n",
    "       * ``cdms.createGaussianAxis(nlat)``  See `A First Example`_.\n",
    "       * ``cdms.createUniformLatitudeAxis(startlat, nlat, deltalat)`` See `A First Example`_.\n",
    "       * ``cdms.createUniformLongitudeAxis(startlon, nlon, deltalon)`` See `A First Example`_ .\"\n"
   ]
  },
  {
   "cell_type": "markdown",
   "metadata": {},
   "source": [
    "CoordinateAxis Methods\n",
    "\n",
    "   \"``Array``\", \"``array = axis[i:j]``\", \"Read a slice of data from the external file or dataset.\n",
    "        *  Data is returned in the physical ordering defined in the dataset.\n",
    "        * See `Variable Slice Operators <#id15>`_ for a description of slice operators.\"\n",
    "   \"``None``\", \"``axis[i:j] = array``\", \"Write a slice of data to the external file.\n",
    "        * Dataset axes are read-only.\"\n",
    "   \"``None``\", \"``assignValue(array)``\", \"Set the entire value of the axis.\n",
    "        * ``array`` is a Numpy array, of the same dimensionality as the axis.\"\n",
    "   \"``Axis``\", \"``clone(copyData=1)``\", \"Return a copy of the axis, as a transient axis.\n",
    "        * If ``copyData`` is 1 (the default) the data itself is copied.\"\n",
    "   \"``None``\", \"``designateLatitude(persistent=0)``\", \"Designate the axis to be a latitude axis.\n",
    "        * If persistent is true, the external file or dataset (if any) is modified. \n",
    "        * By default, the designation is temporary.\"\n",
    "   \"``None``\", \"``designateLevel(persistent=0)``\", \"Designate the axis to be a vertical level axis.\n",
    "        * If persistent is true, the external file or dataset (if any) is modified. \n",
    "        * By default, the designation is temporary.\"\n",
    "   \"``None``\", \"``designateLongitude(persistent=0, modulo=360.0)``\", \"Designate the axis to be a longitude axis.\n",
    "        * ``modulo`` is the modulus value. Any given axis value\n",
    "        * ``x`` is treated as equivalent to ``x + modulus``. \n",
    "        * If ``persistent`` is true, the external file or dataset (if any) is modified. \n",
    "        * By default, the designation is temporary.\"\n",
    "   \"``None``\", \"``designateTime(persistent=0, calendar = cdtime.MixedCalendar)``\", \"Designate the axis to be a time axis.\n",
    "        * If ``persistent`` is true, the external file or dataset (if any) is modified. \n",
    "        * By default, the designation is temporary.\n",
    "        * ``calendar`` is defined as in ``getCalendar()``.\"\n",
    "   \"``Array``\", \"``getBounds()``\", \"Get the associated boundary array. The shape of the return array depends on the type of axis:\n",
    "     * ``Axis``: ``(n,2)``\n",
    "     * ``Axis2D``: ``(i,j,4)``\n",
    "     * ``AuxAxis1D``: ``(ncell, nvert)`` where nvert is the maximum number of vertices of a cell.\n",
    "     * If the boundary array of a latitude or longitude ``Axis`` is not explicitly defined, and ``autoBounds`` mode is on, a default array is generated by calling ``genGenericBounds``. Otherwise if auto-Bounds mode is off, the return value is ``None``.\n",
    "     * See ``setAutoBounds``.\"\n",
    "   \"``Integer``\", \"``getCalendar()``\", \"Returns the calendar associated with the ``(time)``\\ axis. Possible return values, as defined in the ``cdtime`` module, are:\n",
    "\n",
    "     * ``cdtime.GregorianCalendar``: the standard Gregorian calendar\n",
    "     * ``cdtime.MixedCalendar``: mixed Julian/Gregorian calendar\n",
    "     * ``cdtime.JulianCalendar``: years divisible by 4 are leap years\n",
    "     * ``cdtime.NoLeapCalendar``: a year is 365 days\n",
    "     * ``cdtime.Calendar360``: a year is 360 days\n",
    "     * ``None``: no calendar can be identified\n",
    "     **Note**  If the axis is not a time axis, the global, file-related calendar is returned.\"\n",
    "   \"``Array``\", \"``getValue()``\", \"Get the entire axis vector.\"\n",
    "   \"``Integer``\", \"``isLatitude()``\", \"Returns true if the axis is a latitude axis.\"\n",
    "   \"``Integer``\", \"``isLevel()``\", \"Returns true if the axis is a level axis.\"\n",
    "   \"``Integer``\", \"``isLongitude()``\", \"Returns true if the axis is a longitude axis.\"\n",
    "   \"``Integer``\", \"``isTime()``\", \"Returns true if the axis is a time axis.\"\n",
    "   \"``Integer``\", \"``len(axis)``\", \"The length of the axis if one-dimensional. If multidimensional, the length of the first dimension.\"\n",
    "   \"``Integer``\", \"``size()``\", \"The number of elements in the axis.\"\n",
    "   \"``String``\", \"``typecode()``\", \"The ``Numpy`` datatype identifier.\"\n"
   ]
  },
  {
   "cell_type": "code",
   "execution_count": null,
   "metadata": {},
   "outputs": [],
   "source": []
  },
  {
   "cell_type": "markdown",
   "metadata": {},
   "source": [
    "CoordinateAxis Methods, Additional to CoordinateAxis\n",
    "\n",
    "\n",
    "   \"``List`` of component times\", \"``asComponentTime(calendar=None)``\", \"``Array`` version of ``cdtime tocomp``. Returns a ``List`` of component times.\"\n",
    "   \"``List`` of relative times\", \"``asRelativeTime()``\", \"``Array`` version of ``cdtime torel``. Returns a ``List`` of relative times.\"\n",
    "   \"``None``\", \"``designateCircular(modulo, persistent=0)``\", \"Designate the axis to be circular. \n",
    "           * ``modulo`` is the modulus value.\n",
    "           * Any given axis value ``x`` is treated as equivalent to ``x + modulus``.\n",
    "           * If ``persistent`` is ``True``, the external file or dataset (if any) is modified. \n",
    "           * By default, the designation is temporary.\"\n",
    "   \"``Integer``\", \"``isCircular()``\", \"Returns ``True`` if the axis has circular topology. An axis is defined as circular if:\n",
    "\n",
    "    * ``axis.topology == 'circular'``, or\n",
    "    * ``axis.topology`` is undefined, and the axis is a longitude. \n",
    "    * The default cycle for circular axes is 360.0\"\n",
    "   \"``Integer``\", \"``isLinear()``\", \"Returns ``True`` if the axis has a linear representation.\"\n",
    "   \"``Tuple``\", \"``mapInterval(interval)``\", \"Same as ``mapIntervalExt``, but returns only the tuple ``(i,j)``, and ``wraparound`` is restricted to one cycle.\"\n",
    "   \"``(i,j,k)``\", \"``mapIntervalExt(interval)``\", \"Map a coordinate interval to an index ``interval``. ``interval`` is a tuple having one of the forms:\n",
    "\n",
    "       * ``(x,y)``\n",
    "       * ``(x,y,indicator)``\n",
    "       * ``(x,y,indicator,cycle)``\n",
    "       * ``None or ':'``\n",
    "       * where ``x`` and ``y`` are coordinates indicating the interval ``[x,y]``, and:\n",
    "       * ``indicator`` is a two or three-character string, where the first character is ``'c'`` if the interval is closed on the left, ``'o'`` if open, and the second character has the same meaning for the right-hand point. If present, the third character specifies how the interval should be intersected with the axi\n",
    "       * ``'n'`` - select node values which are contained in the interva\n",
    "       * ``'b'`` -select axis elements for which the corresponding cell boundary intersects the interval\n",
    "       * ``'e'`` - same as n, but include an extra node on either sid\n",
    "       * ``'s'`` - select axis elements for which the cell boundary is a subset of the interval\n",
    "       * The default indicator is ‘ccn’, that is, the interval is closed, and nodes in the interval are selected.\n",
    "       * If ``cycle`` is specified, the axis is treated as circular with the given cycle value. By default, if ``axis.isCircular()`` is true, the axis is treated as circular with a default modulus of ``360.0``.\n",
    "       * An interval of ``None`` or ``':'`` returns the full index interval of the axis.\n",
    "       * The method returns the corresponding index interval as a 3tuple ``(i,j,k)``, where ``k`` is the integer stride, and ``[i.j)`` is the half-open index interval ``i <= k < j`` ``(i >= k > j if k < 0)``, or ``none`` if the intersection is empty.\n",
    "       * for an axis which is circular (``axis.topology == 'circular'``), ``[i,j)`` is interpreted as follows, where ``n = len(axis)``\n",
    "       * if ``0 <= i < n`` and ``0 <= j <= n``, the interval does not wrap around the axis endpoint.\n",
    "       * otherwise the interval wraps around the axis endpoint.\n",
    "       * see also: ``mapinterval``, ``variable.subregion()``\"\n",
    "   \"``transientaxis``\", \"``subaxis(i,j,k=1)``\", \"create an axis associated with the integer range ``[i:j:k]``.\n",
    "       * the stride ``k`` can be positive or negative. \n",
    "       * wraparound is supported for longitude dimensions or those with a modulus attribute.\" \n"
   ]
  },
  {
   "cell_type": "markdown",
   "metadata": {},
   "source": [
    "CoordinateAxis Slice Operators\n",
    "\n",
    "   \"``[i]``\", \"the ``ith`` element, starting with index ``0``\"\n",
    "   \"``[i:j]``\", \"the ``ith`` element through, but not including, element ``j``\"\n",
    "   \"``[i:]``\", \"the ``ith`` element through and including the end\"\n",
    "   \"``[:j]``\", \"the beginning element through, but not including, element ``j``\"\n",
    "   \"``[:]``\", \"the entire array\"\n",
    "   \"``[i:j:k]``\", \"every ``kth`` element, starting at ``i``, through but not including ``j``\"\n",
    "   \"``[-i]``\", \"the ``ith`` element from the end. ``-1`` is the last element.\n",
    "\n",
    "     **Example:** a longitude axis has value\n",
    "\n",
    "       * ``[0.0, 2.0, ..., 358.0]``\n",
    "       *   of length ``180``\n",
    "       *    map the coordinate interval:    \n",
    "       * ``-5.0 <= x < 5.0``  to index interval(s), with wraparound. the result index interval  \n",
    "       * ``-2 <= n < 3`` wraps around, since     \n",
    "       * ``-2 < 0``,  and has a stride of ``1`` \n",
    "       * this is equivalent to the two contiguous index intervals      \n",
    "       *  ``2 <= n < 0`` and ``0 <= n < 3``\"\n",
    "       \n",
    "Example 1"
   ]
  },
  {
   "cell_type": "code",
   "execution_count": 4,
   "metadata": {},
   "outputs": [
    {
     "ename": "NameError",
     "evalue": "name 'axis' is not defined",
     "output_type": "error",
     "traceback": [
      "\u001b[0;31m---------------------------------------------------------------------------\u001b[0m",
      "\u001b[0;31mNameError\u001b[0m                                 Traceback (most recent call last)",
      "\u001b[0;32m<ipython-input-4-5bc68f37395b>\u001b[0m in \u001b[0;36m<module>\u001b[0;34m()\u001b[0m\n\u001b[0;32m----> 1\u001b[0;31m \u001b[0maxis\u001b[0m\u001b[0;34m.\u001b[0m\u001b[0misCircular\u001b[0m\u001b[0;34m(\u001b[0m\u001b[0;34m)\u001b[0m\u001b[0;34m\u001b[0m\u001b[0m\n\u001b[0m\u001b[1;32m      2\u001b[0m \u001b[0;36m1\u001b[0m\u001b[0;34m\u001b[0m\u001b[0m\n\u001b[1;32m      3\u001b[0m \u001b[0maxis\u001b[0m\u001b[0;34m.\u001b[0m\u001b[0mmapIntervalExt\u001b[0m\u001b[0;34m(\u001b[0m\u001b[0;34m(\u001b[0m\u001b[0;34m-\u001b[0m\u001b[0;36m5.0\u001b[0m\u001b[0;34m,\u001b[0m\u001b[0;36m5.0\u001b[0m\u001b[0;34m,\u001b[0m\u001b[0;34m'co'\u001b[0m\u001b[0;34m)\u001b[0m\u001b[0;34m)\u001b[0m\u001b[0;34m\u001b[0m\u001b[0m\n\u001b[1;32m      4\u001b[0m \u001b[0;34m(\u001b[0m\u001b[0;34m-\u001b[0m\u001b[0;36m2\u001b[0m\u001b[0;34m,\u001b[0m\u001b[0;36m3\u001b[0m\u001b[0;34m,\u001b[0m\u001b[0;36m1\u001b[0m\u001b[0;34m)\u001b[0m\u001b[0;34m\u001b[0m\u001b[0m\n",
      "\u001b[0;31mNameError\u001b[0m: name 'axis' is not defined"
     ]
    }
   ],
   "source": [
    "axis.isCircular()\n",
    "1\n",
    "axis.mapIntervalExt((-5.0,5.0,'co'))\n",
    "(-2,3,1)"
   ]
  },
  {
   "cell_type": "markdown",
   "metadata": {},
   "source": [
    "CdmsFile\n",
    "\n",
    "A ``CdmsFile`` is a physical file, accessible via the ``cdunif``\n",
    "interface. netCDF files are accessible in read-write mode. All other\n",
    "formats (DRS, HDF, GrADS/GRIB, POP, QL) are accessible read-only.\n",
    "\n",
    "As of CDMS V3, the legacy cuDataset interface is also supported by\n",
    "Cdms-Files. See “cu Module”."
   ]
  },
  {
   "cell_type": "markdown",
   "metadata": {},
   "source": [
    "CdmsFile Internal Attributes\n",
    "\n",
    "   \"``Dictionary``\", \"``attributes``\", \"Global, external file attributes\"\n",
    "   \"``Dictionary``\", \"``axes``\", \"Axis objects contained in the file.\"\n",
    "   \"``Dictionary``\", \"``grids``\", \"Grids contained in the file.\"\n",
    "   \"``String``\", \"``id``\", \"File pathname.\"\n",
    "   \"``Dictionary``\", \"``variables``\", \"Variables contained in the file.\"\n",
    "\n",
    "\n"
   ]
  },
  {
   "cell_type": "markdown",
   "metadata": {},
   "source": [
    "CdmsFile Constructors\n",
    "\n",
    " \"``fileobj = cdms.open(path, mode)``\", \"Open the file specified by path returning a CdmsFile object. \n",
    "        * ``path`` is the file pathname, a string. \n",
    "        * ``mode`` is the open mode indicator, as listed in `Open Modes <#id3>`_.\" \n",
    "   \"``fileobj = cdms.createDataset(path)``\", \"Create the file specified by path, a string.\"\n"
   ]
  },
  {
   "cell_type": "markdown",
   "metadata": {},
   "source": [
    "CdmsFile Methods Object Name  Transient Variable\n",
    "\n",
    "\n",
    "   \"``Transient-Variable``\", \"``fileobj(varname, selector)``\", \"Calling a ``CdmsFile`` object as a function reads the region of data specified by the Selectors. The result is a transient variable, unless ``raw = 1`` is specified. See `Selectors <#id14>`_ .\n",
    "   \n",
    "   **Example:** The following reads data for variable 'prc', year 1980:"
   ]
  },
  {
   "cell_type": "code",
   "execution_count": 5,
   "metadata": {},
   "outputs": [
    {
     "ename": "NameError",
     "evalue": "name 'cdms' is not defined",
     "output_type": "error",
     "traceback": [
      "\u001b[0;31m---------------------------------------------------------------------------\u001b[0m",
      "\u001b[0;31mNameError\u001b[0m                                 Traceback (most recent call last)",
      "\u001b[0;32m<ipython-input-5-0804c4271674>\u001b[0m in \u001b[0;36m<module>\u001b[0;34m()\u001b[0m\n\u001b[0;32m----> 1\u001b[0;31m \u001b[0mf\u001b[0m \u001b[0;34m=\u001b[0m \u001b[0mcdms\u001b[0m\u001b[0;34m.\u001b[0m\u001b[0mopen\u001b[0m\u001b[0;34m(\u001b[0m\u001b[0;34m'test.nc'\u001b[0m\u001b[0;34m)\u001b[0m\u001b[0;34m\u001b[0m\u001b[0m\n\u001b[0m\u001b[1;32m      2\u001b[0m \u001b[0mx\u001b[0m \u001b[0;34m=\u001b[0m \u001b[0mf\u001b[0m\u001b[0;34m(\u001b[0m\u001b[0;34m'prc'\u001b[0m\u001b[0;34m,\u001b[0m \u001b[0mtime\u001b[0m\u001b[0;34m=\u001b[0m\u001b[0;34m(\u001b[0m\u001b[0;34m'1980-1'\u001b[0m\u001b[0;34m,\u001b[0m\u001b[0;34m'1981-1'\u001b[0m\u001b[0;34m)\u001b[0m\u001b[0;34m)\u001b[0m\u001b[0;34m\u001b[0m\u001b[0m\n",
      "\u001b[0;31mNameError\u001b[0m: name 'cdms' is not defined"
     ]
    }
   ],
   "source": [
    "f = cdms.open('test.nc')\n",
    "x = f('prc', time=('1980-1','1981-1'))"
   ]
  },
  {
   "cell_type": "markdown",
   "metadata": {},
   "source": [
    " \"Variable, Axis, or Grid\", \"fileobj['id']\", \"Get the persistent variable, axis or grid object having the string identifier. This does not read the data for a variable.\n",
    "\n",
    "**Example:** The following gets the persistent variable"
   ]
  },
  {
   "cell_type": "code",
   "execution_count": 6,
   "metadata": {},
   "outputs": [
    {
     "ename": "SyntaxError",
     "evalue": "invalid syntax (<ipython-input-6-c36ab9cbd126>, line 1)",
     "output_type": "error",
     "traceback": [
      "\u001b[0;36m  File \u001b[0;32m\"<ipython-input-6-c36ab9cbd126>\"\u001b[0;36m, line \u001b[0;32m1\u001b[0m\n\u001b[0;31m    ``v``, equivalent to\u001b[0m\n\u001b[0m                       ^\u001b[0m\n\u001b[0;31mSyntaxError\u001b[0m\u001b[0;31m:\u001b[0m invalid syntax\n"
     ]
    }
   ],
   "source": [
    "``v``, equivalent to\n",
    "``v = f.variables['prc']``.\n",
    "f = cdms.open('sample.nc')\n",
    "v = f['prc']"
   ]
  },
  {
   "cell_type": "markdown",
   "metadata": {},
   "source": [
    "Example: The following gets the axis named time, equivalent to"
   ]
  },
  {
   "cell_type": "code",
   "execution_count": 7,
   "metadata": {},
   "outputs": [
    {
     "ename": "SyntaxError",
     "evalue": "invalid syntax (<ipython-input-7-ae0190f94e0d>, line 1)",
     "output_type": "error",
     "traceback": [
      "\u001b[0;36m  File \u001b[0;32m\"<ipython-input-7-ae0190f94e0d>\"\u001b[0;36m, line \u001b[0;32m1\u001b[0m\n\u001b[0;31m    ``t = f.axes['time']``.\u001b[0m\n\u001b[0m        ^\u001b[0m\n\u001b[0;31mSyntaxError\u001b[0m\u001b[0;31m:\u001b[0m invalid syntax\n"
     ]
    }
   ],
   "source": [
    "``t = f.axes['time']``.\n",
    "``t = f['time']``"
   ]
  },
  {
   "cell_type": "markdown",
   "metadata": {},
   "source": [
    "None \tclose() \tClose the file."
   ]
  },
  {
   "cell_type": "markdown",
   "metadata": {},
   "source": [
    "CdmsFile Methods Copy Axis, Grid\n",
    "\n",
    " \"``Axis``\", \"``copyAxis(axis, newname=None)``\", \"Copy ``axis`` values and attributes to a new axis in the file. \n",
    "         * The returned object is persistent: it can be used to write axis data to or read axis data from the file.\n",
    "         *  If an axis already exists in the file, having the same name and coordinate values, it is returned.  It is an error if an axis of the same name exists, but with different coordinate values. \n",
    "         * ``axis`` is the axis object to be copied. \n",
    "         * ``newname``, if specified, is the string identifier of the new axis object. If not specified, the identifier of the input axis is used.\"\n",
    "   \"``Grid``\", \"``copyGrid(grid, newname=None)``\", \"Copy grid values and attributes to a new grid in the file. \n",
    "         * The returned grid is persistent. \n",
    "         * If a grid already exists in the file, having the same name and axes, it is returned. An error is raised if a grid of the same name exists, having different axes. \n",
    "         * ``grid`` is the grid object to be copied.\n",
    "         *  ``newname``, if specified is the string identifier of the new grid object. If unspecified, the identifier of the input grid is used.\"\n",
    "\n",
    "\n"
   ]
  },
  {
   "cell_type": "markdown",
   "metadata": {},
   "source": [
    "CdmsFile Methods Create Axis, RectGrid and Variable\n",
    "\n",
    " \"``Axis``\", \"``createAxis(id,ar, unlimited=0)``\", \"Create a new ``Axis``. \n",
    "         * This is a persistent object which can be used to read or write axis data to the file.\n",
    "         * ``id`` is an alphanumeric string identifier, containing no blanks.  \n",
    "         * ``ar`` is the one-dimensional axis array. \n",
    "         *  Set ``unlimited`` to ``cdms.Unlimited`` to indicate that the axis is extensible.\"\n",
    "   \"``RectGrid``\", \"``createRectGrid(id,lat, lon,order,type='generic', mask=None)``\", \"Create a ``RectGrid`` in the file. \n",
    "         * This is not a persistent object: the order, type, and mask are not written to the file. However, the grid may be used for regridding operations.  \n",
    "         * ``lat`` is a latitude axis in the file. \n",
    "         * ``lon`` is a longitude axis in the file. \n",
    "         * ``order`` is a string with value ``'yx'`` (the latitude) or ``'xy'`` (the first grid dimension is longitude).  \n",
    "         * ``type`` is one of ``'gaussian'``,\\ ``'uniform'``,\\ ``'equalarea'`` , or ``'generic'``.\n",
    "         *  If specified, ``mask`` is a two-dimensional, logical Numpy array (all values are zero or one) with the same shape as the grid.\"\n",
    "   \"``Variable``\", \"``createVariable(Stringid,String datatype,Listaxes,fill_value=None)``\", \"Create a new Variable. \n",
    "         * This is a persistent object which can be used to read or write variable data to the file. \n",
    "         * ``id`` is a String name which is unique with respect to all other objects in the file.\n",
    "         * ``datatype`` is an ``MV2`` typecode, e.g., ``MV2.Float``, ``MV2.Int``.\n",
    "         * ``axes`` is a list of Axis and/or Grid objects.  \n",
    "         * ``fill_value`` is the missing value (optional).\"\n",
    "   \"``Variable``\", \"``createVariableCopy(var, newname=None)``\", \"Create a new ``Variable``, with the   same name, axes, and attributes as the input variable.\n",
    "        * An error is raised if a variable of the same name exists in the file. \n",
    "        * ``var`` is the ``Variable`` to be copied. \n",
    "        * ``newname``, if specified is the name of the new variable. If unspecified, the returned variable has the same name as ``var``.\n",
    "\n",
    "    **Note:** Unlike copyAxis, the actual data is not copied to the new variable.\""
   ]
  },
  {
   "cell_type": "markdown",
   "metadata": {},
   "source": [
    "CdmsFile Methods Read CurveGrid, Generic-Grid\n",
    "\n",
    "  \"``CurveGrid`` or ``Generic-Grid``\", \"``readScripGrid  (self,whichGrid='destination',  check-Grid=1)``\", \"Read a curvilinear or generic grid from a SCRIP netCDF file. \n",
    "        * The file can be a SCRIP grid file or remapping file. \n",
    "        * If a mapping file, ``whichGrid`` chooses the grid to read, either ``'source'`` or ``'destination'``.\n",
    "        * If ``checkGrid`` is ``1`` (default), the grid cells are checked for convexity, and 'repaired' if necessary.  Grid cells may appear to be nonconvex if they cross a ``0 / 2pi`` boundary. \n",
    "        * The repair consists of shifting the cell vertices to the same side modulo 360 degrees.\"\n",
    "    \"``None``\", \"``sync()``\", \"Writes any pending changes to the file.\"\n",
    "\n"
   ]
  },
  {
   "cell_type": "markdown",
   "metadata": {},
   "source": [
    "CdmsFile Methods Write Variable\n",
    "\n",
    "\n",
    "   \"``Variable``\", \"``write(var,attributes=None,axes=None, extbounds=None,id=None,extend=None, fill_value=None, index=None, typecode=None)``\",\"Write a variable or array to the file.\n",
    "    * The return value is the associated file variable.\n",
    "    * If the variable does not exist in the file, it is first defined and all attributes written, then the data is written. By default, the time dimension of the variable is defined as the unlimited dimension of the file.\n",
    "    * If the data is already defined, then data is extended or overwritten depending on the value of keywords ``extend`` and ``index``, and the unlimited dimension values associated with ``var``.\n",
    "\n",
    "    * ``var`` is a Variable, masked array, or Numpy array.\n",
    "    * ``attributes`` is the attribute dictionary for the variable. The default is ``var.attributes``.\n",
    "    * ``axes`` is the list of file axes comprising the domain of the variable.  The default is to copy ``var.getAxisList()``.\n",
    "    * ``extbounds`` is the unlimited dimension bounds. Defaults to ``var.getAxis(0).getBounds()``.\n",
    "    * ``id`` is the variable name in the file.  Default is ``var.id``.\n",
    "    * ``extend = 1`` causes the first dimension to be unlimited: iteratively writeable.  \n",
    "    * The default is ``None``, in which case the first dimension is extensible if it is ``time.Set`` to ``0`` to turn off this behaviour.\n",
    "    * ``fill_value`` is the missing value flag.\n",
    "    * ``index`` is the extended dimension index to write to. The default index is determined by lookup relative to the existing extended dimension.\n",
    "     **Note:** data can also be written by setting a slice of a file variable, and attributes can be written by setting an attribute of a file variable.\""
   ]
  },
  {
   "cell_type": "markdown",
   "metadata": {},
   "source": [
    "CDMS Datatypes\n",
    "\n",
    "    \"``CdChar``\", \"character\"\n",
    "    \"``CdDouble``\", \"double-precision floating-point\"\n",
    "    \"``CdFloat``\", \"floating-point\"\n",
    "    \"``CdInt``\", \"integer\"\n",
    "    \"``CdLong``\", \"long integer\"\n",
    "    \"``CdShort``\", \"short integer\""
   ]
  },
  {
   "cell_type": "markdown",
   "metadata": {},
   "source": [
    "Database\n",
    "\n",
    "A Database is a collection of datasets and other CDMS objects. It\n",
    "consists of a hierarchical collection of objects, with the database\n",
    "being at the root, or top of the hierarchy. A database is used to:\n",
    "\n",
    "-  search for metadata\n",
    "-  access data\n",
    "-  provide authentication and access control for data and metadata\n",
    "\n",
    "The figure below illustrates several important points:\n",
    "\n",
    "-  Each object in the database has a relative name of the form tag=id.\n",
    "   The id of an object is unique with respect to all objects contained\n",
    "   in the parent.\n",
    "\n",
    "-  The name of the object consists of its relative name followed by the\n",
    "   relative name(s) of its antecedent objects, up to and including the\n",
    "   database name. In the figure below, one of the variables has name\n",
    "   ``\"variable=ua,dataset=ncep_reanalysis_mo,database=CDMS\"``.\n",
    "\n",
    "-  Subordinate objects are thought of as being contained in the parent.\n",
    "   In this example, the database ‘CDMS’ contains two datasets, each of\n",
    "   which contain several variables."
   ]
  },
  {
   "cell_type": "markdown",
   "metadata": {},
   "source": [
    "Overview\n",
    "\n",
    "To access a database:\n",
    "\n",
    "#. Open a connection. The connect method opens a database connection. Connect takes a database URI and returns a database object:\n",
    "   ``db=cdms.connect(\"ldap://dbhost.llnl.gov/database=CDMS,ou=PCMDI,o=LLNL,c=US\")``\n",
    "\n",
    "#. Search the database, locating one or more datasets, variables, and/or\n",
    "   other objects.\n",
    "\n",
    "   The database searchFilter method searches the database. A single\n",
    "   database connection may be used for an arbitrary number of searches.\n",
    "\n",
    "   **Example**: Find all observed datasets\n",
    "\n",
    "   ``result = db.searchFilter(category=\"observed\",tag=\"dataset\")``\n",
    "\n",
    "   Searches can be restricted to a subhierarchy of the database.\n",
    "\n",
    "   **Example:** Search just the dataset ``'ncep_reanalysis_mo'``:\n",
    "\n",
    "   ``result = db.searchFilter(relbase=\"dataset=ncep_reanalysis\")``\n",
    "\n",
    "#. Refine the search results if necessary. The result of a search can be\n",
    "   narrowed with the searchPredicate method.\n",
    "#. Process the results. A search result consists of a sequence of\n",
    "   entries. Each entry has a name, the name of the CDMS object, and an\n",
    "   attribute dictionary, consisting of the attributes located by the\n",
    "   search:\n",
    "\n",
    "   `` for entry in result:   print entry.name, entry.attributes``\n",
    "\n",
    "#. Access the data. The CDMS object associated with an entry is obtained\n",
    "   from the getObject method:\n",
    "\n",
    "   ``obj = entry.getObject()``\n",
    "\n",
    "   If the id of a dataset is known, the dataset can be opened directly\n",
    "   with the open method:\n",
    "\n",
    "   ``dset = db.open(\"ncep_reanalysis_mo\")``\n",
    "\n",
    "#. Close the database connection:\n",
    "\n",
    "   ``db.close()``\n"
   ]
  },
  {
   "cell_type": "markdown",
   "metadata": {},
   "source": [
    "Database Internal Attributes\n",
    "\n",
    "\n",
    "    \"``Dictionary``\", \"``attributes``\", \"Database attribute dictionary\"\n",
    "    \"``LDAP``\", \"``db``\", \"(LDAP only) LDAP database object\"\n",
    "    \"``String``\", \"``netloc``\", \"Hostname, for server-based databases\"\n",
    "    \"``String``\", \"``path``\", \"path name\"\n",
    "    \"``String``\", \"``uri``\", \"Uniform Resource Identifier\""
   ]
  },
  {
   "cell_type": "markdown",
   "metadata": {},
   "source": [
    "Database Constructors\n",
    "\n",
    " \"``db = cdms.connect(uri=None, user='', password='')``\", \"Connect to the database. ``uri`` is the Universal Resource Indentifier of the database. The form of the URI depends on the implementation of the database.\n",
    "    * For a Lightweight Directory Access Protocol (LDAP) database, the form is: ``ldap://host[:port]/dbname``.\n",
    "    * For example, if the database is located on host dbhost.llnl.gov, and is named ``'database=CDMS,ou=PCMDI,o=LLNL,c=US'``, the URI is: ``ldap://dbhost.llnl.gov/database=CDMS,ou=PCMDI,o=LLNL,c=US``. \n",
    "    * If unspecified, the URI defaults to the value of environment variable CDMSROOT. ``user`` is the user ID. \n",
    "    * If unspecified, an anonymous connection is made. ``password`` is the user password. A password is not required for an anonymous connection\""
   ]
  },
  {
   "cell_type": "markdown",
   "metadata": {},
   "source": [
    "Database Methods\n",
    "\n",
    " \"None\", \"``close()``\", \"Close a database\"\n",
    "    \"List\", \"``listDatasets()``\", \"Return a list of the dataset IDs in this database. A dataset ID can be passed to the ``open`` command.\"\n",
    "    \"Dataset\", \"``open(dsetid, mode='r')``\", \"Open a dataset.\n",
    "\n",
    "     * ``dsetid``, is the string dataset identifier\n",
    "\n",
    "     * ``mode``, is the open mode, 'r' - read-only, 'r+' - read-write, 'w' - create.\n",
    "\n",
    "     * ``openDataset``, is a synonym for ``open``.\"\n",
    "    \"SearchResult\",\"``searchFilter(filter=None, tag=None, relbase=None, scope=Subtree, attnames=None, timeout=None)``\",\"Search a CDMS database.\n",
    "     * ``filter`` is the string search filter. Simple filters have the form 'tag = value'. Simple filters can be combined using logical operators '&', '\\|', '!' in prefix notation.    \n",
    "     **Example:**\n",
    "\n",
    "     * The filter ``'(&(objec)(id=cli))'`` finds all variables named 'cli'.\n",
    "     * A formal definition of search filters is provided in the following section.\n",
    "     * ``tag`` restricts the search to objects with that tag ('dataset' | 'variable' | 'database' | 'axis' | 'grid').\n",
    "     * ``relbase`` is the relative name of the base object of the search. The search is restricted to the base object and all objects below it in the hierarchy.\n",
    "\n",
    "     **Example:**\n",
    "\n",
    "     * To search only dataset 'ncep_reanalysis_mo', specify:\n",
    "     * ``relbase='dataset=ncep_reanalysis_mo'``\n",
    "     * To search only variable 'ua' in 'ncep_reanalysis_mo', use:\n",
    "     * ``relbase='variable=ua, dataset=ncep_reanalysis_mo'``\n",
    "     If no base is specified, the entire database is searched. See the ``scope`` argument also.\n",
    "\n",
    "     * ``scope`` is the search scope (**Subtree** | **Onelevel** | **Base**).\n",
    "     *  **Subtree** searches the base object and its descendants.\n",
    "     *  **Onelevel** searches the base object and its immediate descendants.\n",
    "     *  **Base**\\ searches the base object alone.\n",
    "     * The default is **Subtree**.\n",
    "     * ``attnames``: list of attribute names.  Restricts the attributes returned. If ``None``, all attributes are returned. Attributes 'id' and 'objectclass' are always included in the list.\n",
    "     * ``timeout``: integer number of seconds before timeout. The default is no timeout.\"\n"
   ]
  },
  {
   "cell_type": "markdown",
   "metadata": {},
   "source": [
    "Searching a Database\n",
    "Type \tName \tSummary\n",
    "Dictionary \tattributes \tDatabase attribute dictionary\n",
    "LDAP \tdb \t(LDAP only) LDAP database object\n",
    "String \tnetloc \tHostname, for server-based databases\n",
    "String \tpath \tpath name\n",
    "String \turi \tUniform Resource Identifier"
   ]
  },
  {
   "cell_type": "code",
   "execution_count": 8,
   "metadata": {},
   "outputs": [
    {
     "ename": "SyntaxError",
     "evalue": "invalid syntax (<ipython-input-8-c2a973f45a44>, line 1)",
     "output_type": "error",
     "traceback": [
      "\u001b[0;36m  File \u001b[0;32m\"<ipython-input-8-c2a973f45a44>\"\u001b[0;36m, line \u001b[0;32m1\u001b[0m\n\u001b[0;31m    (id = ncep*)\u001b[0m\n\u001b[0m        ^\u001b[0m\n\u001b[0;31mSyntaxError\u001b[0m\u001b[0;31m:\u001b[0m invalid syntax\n"
     ]
    }
   ],
   "source": [
    "(id = ncep*)\n",
    "(project = AMIP2)"
   ]
  },
  {
   "cell_type": "markdown",
   "metadata": {},
   "source": [
    "**Note**  Simple filters can be combined with the logical operators '&', '|', '!'. For example, \n",
    "\n",
    "        mode, is the open mode, ‘r’ - read-only, ‘r+’ - read-write, ‘w’ - create.\n",
    "\n",
    "(&(id = bmrc*)(project = AMIP2))\n",
    "\n",
    "        To search only dataset ‘ncep_reanalysis_mo’, specify:\n",
    "        relbase='dataset=ncep_reanalysis_mo'\n",
    "        To search only variable ‘ua’ in ‘ncep_reanalysis_mo’, use:\n",
    "        relbase='variable=ua, dataset=ncep_reanalysis_mo'\n",
    "\n",
    "    If no base is specified, the entire database is searched. See the scope argument also.\n",
    "\n",
    "        scope is the search scope (Subtree | Onelevel | Base).\n",
    "        Subtree searches the base object and its descendants.\n",
    "        Onelevel searches the base object and its immediate descendants.\n",
    "        Basesearches the base object alone.\n",
    "        The default is Subtree.\n",
    "        attnames: list of attribute names. Restricts the attributes returned. If None, all attributes are returned. Attributes ‘id’ and ‘objectclass’ are always included in the list.\n",
    "        timeout: integer number of seconds before timeout. The default is no timeout.”\n",
    "\n"
   ]
  },
  {
   "cell_type": "code",
   "execution_count": 9,
   "metadata": {},
   "outputs": [
    {
     "ename": "SyntaxError",
     "evalue": "invalid syntax (<ipython-input-9-aec8d86fc603>, line 1)",
     "output_type": "error",
     "traceback": [
      "\u001b[0;36m  File \u001b[0;32m\"<ipython-input-9-aec8d86fc603>\"\u001b[0;36m, line \u001b[0;32m1\u001b[0m\n\u001b[0;31m    (&(id = bmrc*)(project = AMIP2))\u001b[0m\n\u001b[0m     ^\u001b[0m\n\u001b[0;31mSyntaxError\u001b[0m\u001b[0;31m:\u001b[0m invalid syntax\n"
     ]
    }
   ],
   "source": [
    "(&(id = bmrc*)(project = AMIP2))"
   ]
  },
  {
   "cell_type": "markdown",
   "metadata": {},
   "source": [
    "Matches all objects with id starting with bmrc, and a project attribute\n",
    "with value ‘AMIP2’.\n",
    "\n",
    "Formally, search filters are strings defined as follows:\n",
    "Attribute names are defined in the chapter on “Climate Data Markup Language (CDML)”. In addition, some special attributes are defined for convenience:\n",
    "\n",
    "    category is either “experimental” or “observed”\n",
    "    parentid is the ID of the parent dataset\n",
    "    project is a project identifier, e.g., “AMIP2”\n",
    "    objectclass is the list of tags associated with the object.\n",
    "\n",
    "The set of objects searched is called the search scope. The top object in the hierarchy is the base object. By default, all objects in the database are searched, that is, the database is the base object. If the database is very large, this may result in an unnecessarily slow or inefficient search. To remedy this the search scope can be limited in several ways:\n",
    "\n",
    "    The base object can be changed.\n",
    "    The scope can be limited to the base object and one level below, or to just the base object.\n",
    "    The search can be restricted to objects of a given class (dataset, variable, etc.)\n",
    "    The search can be restricted to return only a subset of the object attributes\n",
    "    The search can be restricted to the result of a previous search.\n",
    "    A search result is accessed sequentially within a for loop:\n",
    "\n"
   ]
  },
  {
   "cell_type": "code",
   "execution_count": 11,
   "metadata": {},
   "outputs": [
    {
     "ename": "NameError",
     "evalue": "name 'db' is not defined",
     "output_type": "error",
     "traceback": [
      "\u001b[0;31m---------------------------------------------------------------------------\u001b[0m",
      "\u001b[0;31mNameError\u001b[0m                                 Traceback (most recent call last)",
      "\u001b[0;32m<ipython-input-11-d1c91072f7d9>\u001b[0m in \u001b[0;36m<module>\u001b[0;34m()\u001b[0m\n\u001b[0;32m----> 1\u001b[0;31m \u001b[0mresult\u001b[0m \u001b[0;34m=\u001b[0m \u001b[0mdb\u001b[0m\u001b[0;34m.\u001b[0m\u001b[0msearchFilter\u001b[0m\u001b[0;34m(\u001b[0m\u001b[0;34m'(&(category=obs*)(id=ncep*))'\u001b[0m\u001b[0;34m)\u001b[0m\u001b[0;34m\u001b[0m\u001b[0m\n\u001b[0m\u001b[1;32m      2\u001b[0m \u001b[0;32mfor\u001b[0m \u001b[0mentry\u001b[0m \u001b[0;32min\u001b[0m \u001b[0mresult\u001b[0m\u001b[0;34m:\u001b[0m\u001b[0;34m\u001b[0m\u001b[0m\n\u001b[1;32m      3\u001b[0m    \u001b[0;32mprint\u001b[0m \u001b[0mentry\u001b[0m\u001b[0;34m.\u001b[0m\u001b[0mname\u001b[0m\u001b[0;34m\u001b[0m\u001b[0m\n",
      "\u001b[0;31mNameError\u001b[0m: name 'db' is not defined"
     ]
    }
   ],
   "source": [
    "result = db.searchFilter('(&(category=obs*)(id=ncep*))')\n",
    "for entry in result:\n",
    "   print entry.name"
   ]
  },
  {
   "cell_type": "markdown",
   "metadata": {},
   "source": [
    "Search results can be narrowed using searchPredicate. In the following example, the result of one search is itself searched for all variables defined on a 94x192 grid:"
   ]
  },
  {
   "cell_type": "code",
   "execution_count": 12,
   "metadata": {},
   "outputs": [
    {
     "ename": "SyntaxError",
     "evalue": "invalid syntax (<ipython-input-12-f2e1f3bcd54d>, line 9)",
     "output_type": "error",
     "traceback": [
      "\u001b[0;36m  File \u001b[0;32m\"<ipython-input-12-f2e1f3bcd54d>\"\u001b[0;36m, line \u001b[0;32m9\u001b[0m\n\u001b[0;31m    for entry in result2: print entry.name\u001b[0m\n\u001b[0m                        ^\u001b[0m\n\u001b[0;31mSyntaxError\u001b[0m\u001b[0;31m:\u001b[0m invalid syntax\n"
     ]
    }
   ],
   "source": [
    "result = db.searchFilter('parentid=ncep*',tag=\"variable\")\n",
    "len(result)\n",
    "\n",
    "result2 = result.searchPredicate(lambda x:\n",
    "\n",
    "\n",
    "len(result2)\n",
    "\n",
    "for entry in result2: print entry.name"
   ]
  },
  {
   "cell_type": "markdown",
   "metadata": {},
   "source": [
    "\n",
    "2.7.6. Table SearchResult Methods\n",
    "Type \tMethod \tDefinition\n",
    "ResultEntry \t[i] \tReturn the i-th search result. Results can also be returned in a for loop: for entry in db.searchResult(tag='dataset'):\n",
    "Integer \tlen() \tNumber of entries in the result.\n",
    "SearchResult \tsearchPredicate(predicate, tag=None) \t\n",
    "\n",
    "Refine a search result, with a predicate search.\n",
    "\n",
    "        predicate is a function which takes a single CDMS object and returns true (1) if the object satisfies the predicate, 0 if not.\n",
    "        tag restricts the search to objects of the class denoted by the tag.\n",
    "\n",
    "    Note:: In the current implementation, searchPredicate is much less efficient than searchFilter. For best performance, use searchFilter to narrow the scope of the search, then use searchPredicate for more general searches.\n",
    "\n",
    "A search result is a sequence of result entries. Each entry has a string name, the name of the object in the database hierarchy, and an attribute dictionary. An entry corresponds to an object found by the search, but differs from the object, in that only the attributes requested are associated with the entry. In general, there will be much more information defined for the associated CDMS object, which is retrieved with the getObject method.\n"
   ]
  },
  {
   "cell_type": "markdown",
   "metadata": {},
   "source": [
    "2.7.7. Table ResultEntry Attributes\n",
    "Type \tMethod \tDefinition\n",
    "String \tname \tThe name of this entry in the database.\n",
    "Dictionary \tattributes \tThe attributes returned from the search. attributes[key] is a list of all string values associated with the key"
   ]
  },
  {
   "cell_type": "markdown",
   "metadata": {},
   "source": [
    "2.7.8. Table ResultEntry Methods\n",
    "Type \tMethod \tDefinition\n",
    "CdmsObj \tgetObject() \t\n",
    "\n",
    "Return the CDMS object associated with this entry.\n",
    "    Note: For many search applications it is unnecessary to access the associated CDMS object. For best performance this function should be used only when necessary, for example, to retrieve data associated with a variable.\n",
    "\n",
    "CdmsObj \tgetObject() \t\n",
    "\n",
    "Return the CDMS object associated with this entry.\n",
    "    Note: For many search applications it is unnecessary to access the associated CDMS object. For best performance this function should be used only when necessary, for example, to retrieve data associated with a variable. "
   ]
  },
  {
   "cell_type": "markdown",
   "metadata": {},
   "source": [
    "2.7.9. Accessing data\n",
    "\n",
    "To access data via CDMS:\n",
    "\n",
    "    Locate the dataset ID. This may involve searching the metadata.\n",
    "    Open the dataset, using the open method.\n",
    "    Reference the portion of the variable to be read.\n",
    "\n",
    "In the next example, a portion of variable ‘ua’ is read from dataset ‘ncep_reanalysis_mo’:"
   ]
  },
  {
   "cell_type": "code",
   "execution_count": 13,
   "metadata": {},
   "outputs": [
    {
     "ename": "NameError",
     "evalue": "name 'db' is not defined",
     "output_type": "error",
     "traceback": [
      "\u001b[0;31m---------------------------------------------------------------------------\u001b[0m",
      "\u001b[0;31mNameError\u001b[0m                                 Traceback (most recent call last)",
      "\u001b[0;32m<ipython-input-13-bd04c6eee2d2>\u001b[0m in \u001b[0;36m<module>\u001b[0;34m()\u001b[0m\n\u001b[0;32m----> 1\u001b[0;31m \u001b[0mdset\u001b[0m \u001b[0;34m=\u001b[0m \u001b[0mdb\u001b[0m\u001b[0;34m.\u001b[0m\u001b[0mopen\u001b[0m\u001b[0;34m(\u001b[0m\u001b[0;34m'ncep_reanalysis_mo'\u001b[0m\u001b[0;34m)\u001b[0m\u001b[0;34m\u001b[0m\u001b[0m\n\u001b[0m\u001b[1;32m      2\u001b[0m \u001b[0mua\u001b[0m \u001b[0;34m=\u001b[0m \u001b[0mdset\u001b[0m\u001b[0;34m.\u001b[0m\u001b[0mvariables\u001b[0m\u001b[0;34m[\u001b[0m\u001b[0;34m'ua'\u001b[0m\u001b[0;34m]\u001b[0m\u001b[0;34m\u001b[0m\u001b[0m\n\u001b[1;32m      3\u001b[0m \u001b[0mdata\u001b[0m \u001b[0;34m=\u001b[0m \u001b[0mua\u001b[0m\u001b[0;34m[\u001b[0m\u001b[0;36m0\u001b[0m\u001b[0;34m,\u001b[0m\u001b[0;36m0\u001b[0m\u001b[0;34m]\u001b[0m\u001b[0;34m\u001b[0m\u001b[0m\n",
      "\u001b[0;31mNameError\u001b[0m: name 'db' is not defined"
     ]
    }
   ],
   "source": [
    "dset = db.open('ncep_reanalysis_mo')\n",
    "ua = dset.variables['ua']\n",
    "data = ua[0,0]"
   ]
  },
  {
   "cell_type": "markdown",
   "metadata": {},
   "source": [
    "2.7.10. Examples of Database Searches\n",
    "\n",
    "In the following examples, db is the database opened with:"
   ]
  },
  {
   "cell_type": "code",
   "execution_count": 14,
   "metadata": {},
   "outputs": [
    {
     "ename": "NameError",
     "evalue": "name 'cdms' is not defined",
     "output_type": "error",
     "traceback": [
      "\u001b[0;31m---------------------------------------------------------------------------\u001b[0m",
      "\u001b[0;31mNameError\u001b[0m                                 Traceback (most recent call last)",
      "\u001b[0;32m<ipython-input-14-c3c065afa683>\u001b[0m in \u001b[0;36m<module>\u001b[0;34m()\u001b[0m\n\u001b[0;32m----> 1\u001b[0;31m \u001b[0mdb\u001b[0m \u001b[0;34m=\u001b[0m \u001b[0mcdms\u001b[0m\u001b[0;34m.\u001b[0m\u001b[0mconnect\u001b[0m\u001b[0;34m(\u001b[0m\u001b[0;34m)\u001b[0m\u001b[0;34m\u001b[0m\u001b[0m\n\u001b[0m",
      "\u001b[0;31mNameError\u001b[0m: name 'cdms' is not defined"
     ]
    }
   ],
   "source": [
    "db = cdms.connect()"
   ]
  },
  {
   "cell_type": "markdown",
   "metadata": {},
   "source": [
    "This defaults to the database defined in environment variable CDMSROOT.\n",
    "\n",
    "Example: List all variables in dataset ‘ncep_reanalysis_mo’:"
   ]
  },
  {
   "cell_type": "code",
   "execution_count": 15,
   "metadata": {},
   "outputs": [
    {
     "ename": "NameError",
     "evalue": "name 'db' is not defined",
     "output_type": "error",
     "traceback": [
      "\u001b[0;31m---------------------------------------------------------------------------\u001b[0m",
      "\u001b[0;31mNameError\u001b[0m                                 Traceback (most recent call last)",
      "\u001b[0;32m<ipython-input-15-8264ae2a5245>\u001b[0m in \u001b[0;36m<module>\u001b[0;34m()\u001b[0m\n\u001b[0;32m----> 1\u001b[0;31m \u001b[0;32mfor\u001b[0m \u001b[0mentry\u001b[0m \u001b[0;32min\u001b[0m \u001b[0mdb\u001b[0m\u001b[0;34m.\u001b[0m\u001b[0msearchFilter\u001b[0m\u001b[0;34m(\u001b[0m\u001b[0mfilter\u001b[0m \u001b[0;34m=\u001b[0m \u001b[0;34m\"parentid=ncep_reanalysis_mo\"\u001b[0m\u001b[0;34m,\u001b[0m \u001b[0mtag\u001b[0m \u001b[0;34m=\u001b[0m \u001b[0;34m\"variable\"\u001b[0m\u001b[0;34m)\u001b[0m\u001b[0;34m:\u001b[0m\u001b[0;34m\u001b[0m\u001b[0m\n\u001b[0m\u001b[1;32m      2\u001b[0m    \u001b[0;32mprint\u001b[0m \u001b[0mentry\u001b[0m\u001b[0;34m.\u001b[0m\u001b[0mname\u001b[0m\u001b[0;34m\u001b[0m\u001b[0m\n",
      "\u001b[0;31mNameError\u001b[0m: name 'db' is not defined"
     ]
    }
   ],
   "source": [
    "for entry in db.searchFilter(filter = \"parentid=ncep_reanalysis_mo\", tag = \"variable\"):\n",
    "   print entry.name"
   ]
  },
  {
   "cell_type": "markdown",
   "metadata": {},
   "source": [
    "Example: Find all axes with bounds defined:\n",
    "\n",
    "Example: Locate all GDT datasets:"
   ]
  },
  {
   "cell_type": "code",
   "execution_count": 16,
   "metadata": {},
   "outputs": [
    {
     "ename": "NameError",
     "evalue": "name 'db' is not defined",
     "output_type": "error",
     "traceback": [
      "\u001b[0;31m---------------------------------------------------------------------------\u001b[0m",
      "\u001b[0;31mNameError\u001b[0m                                 Traceback (most recent call last)",
      "\u001b[0;32m<ipython-input-16-0fda68b0df1e>\u001b[0m in \u001b[0;36m<module>\u001b[0;34m()\u001b[0m\n\u001b[0;32m----> 1\u001b[0;31m \u001b[0;32mfor\u001b[0m \u001b[0mentry\u001b[0m \u001b[0;32min\u001b[0m \u001b[0mdb\u001b[0m\u001b[0;34m.\u001b[0m\u001b[0msearchFilter\u001b[0m\u001b[0;34m(\u001b[0m\u001b[0mfilter\u001b[0m\u001b[0;34m=\u001b[0m\u001b[0;34m\"Conventions=GDT*\"\u001b[0m\u001b[0;34m,\u001b[0m\u001b[0mtag\u001b[0m\u001b[0;34m=\u001b[0m\u001b[0;34m\"dataset\"\u001b[0m\u001b[0;34m)\u001b[0m\u001b[0;34m:\u001b[0m\u001b[0;34m\u001b[0m\u001b[0m\n\u001b[0m\u001b[1;32m      2\u001b[0m    \u001b[0;32mprint\u001b[0m \u001b[0mentry\u001b[0m\u001b[0;34m.\u001b[0m\u001b[0mname\u001b[0m\u001b[0;34m\u001b[0m\u001b[0m\n",
      "\u001b[0;31mNameError\u001b[0m: name 'db' is not defined"
     ]
    }
   ],
   "source": [
    "for entry in db.searchFilter(filter=\"Conventions=GDT*\",tag=\"dataset\"):\n",
    "   print entry.name"
   ]
  },
  {
   "cell_type": "markdown",
   "metadata": {},
   "source": [
    "Example: Find all variables with missing time values, in observed datasets:"
   ]
  },
  {
   "cell_type": "code",
   "execution_count": 17,
   "metadata": {},
   "outputs": [
    {
     "ename": "NameError",
     "evalue": "name 'db' is not defined",
     "output_type": "error",
     "traceback": [
      "\u001b[0;31m---------------------------------------------------------------------------\u001b[0m",
      "\u001b[0;31mNameError\u001b[0m                                 Traceback (most recent call last)",
      "\u001b[0;32m<ipython-input-17-2a2766c7a7a4>\u001b[0m in \u001b[0;36m<module>\u001b[0;34m()\u001b[0m\n\u001b[0;32m----> 1\u001b[0;31m \u001b[0;32mfor\u001b[0m \u001b[0mentry\u001b[0m \u001b[0;32min\u001b[0m \u001b[0mdb\u001b[0m\u001b[0;34m.\u001b[0m\u001b[0msearchFilter\u001b[0m\u001b[0;34m(\u001b[0m\u001b[0mfilter\u001b[0m \u001b[0;34m=\u001b[0m \u001b[0;34m\"(&(project=CMIP2)(id=hfss))\"\u001b[0m\u001b[0;34m,\u001b[0m \u001b[0mtag\u001b[0m \u001b[0;34m=\u001b[0m \u001b[0;34m\"variable\"\u001b[0m\u001b[0;34m)\u001b[0m\u001b[0;34m:\u001b[0m\u001b[0;34m\u001b[0m\u001b[0m\n\u001b[0m\u001b[1;32m      2\u001b[0m    \u001b[0;32mprint\u001b[0m \u001b[0mentry\u001b[0m\u001b[0;34m.\u001b[0m\u001b[0mgetObject\u001b[0m\u001b[0;34m(\u001b[0m\u001b[0;34m)\u001b[0m\u001b[0;34m.\u001b[0m\u001b[0mparent\u001b[0m\u001b[0;34m.\u001b[0m\u001b[0mid\u001b[0m\u001b[0;34m\u001b[0m\u001b[0m\n",
      "\u001b[0;31mNameError\u001b[0m: name 'db' is not defined"
     ]
    }
   ],
   "source": [
    "for entry in db.searchFilter(filter = \"(&(project=CMIP2)(id=hfss))\", tag = \"variable\"):\n",
    "   print entry.getObject().parent.id"
   ]
  },
  {
   "cell_type": "markdown",
   "metadata": {},
   "source": [
    "Example: Find all observed variables on 73x144 grids:\n",
    "\n",
    "Example: Find all CMIP2 datasets having a variable with id “hfss”:"
   ]
  },
  {
   "cell_type": "code",
   "execution_count": 18,
   "metadata": {},
   "outputs": [
    {
     "ename": "NameError",
     "evalue": "name 'db' is not defined",
     "output_type": "error",
     "traceback": [
      "\u001b[0;31m---------------------------------------------------------------------------\u001b[0m",
      "\u001b[0;31mNameError\u001b[0m                                 Traceback (most recent call last)",
      "\u001b[0;32m<ipython-input-18-3aa036aee80f>\u001b[0m in \u001b[0;36m<module>\u001b[0;34m()\u001b[0m\n\u001b[0;32m----> 1\u001b[0;31m \u001b[0;32mprint\u001b[0m \u001b[0mlen\u001b[0m\u001b[0;34m(\u001b[0m\u001b[0mdb\u001b[0m\u001b[0;34m.\u001b[0m\u001b[0msearchFilter\u001b[0m\u001b[0;34m(\u001b[0m\u001b[0mtag\u001b[0m\u001b[0;34m=\u001b[0m\u001b[0;34m\"database\"\u001b[0m\u001b[0;34m)\u001b[0m\u001b[0;34m)\u001b[0m\u001b[0;34m,\u001b[0m\u001b[0;34m\"database\"\u001b[0m\u001b[0;34m\u001b[0m\u001b[0m\n\u001b[0m\u001b[1;32m      2\u001b[0m \u001b[0;32mprint\u001b[0m \u001b[0mlen\u001b[0m\u001b[0;34m(\u001b[0m\u001b[0mdb\u001b[0m\u001b[0;34m.\u001b[0m\u001b[0msearchFilter\u001b[0m\u001b[0;34m(\u001b[0m\u001b[0mtag\u001b[0m\u001b[0;34m=\u001b[0m\u001b[0;34m\"dataset\"\u001b[0m\u001b[0;34m)\u001b[0m\u001b[0;34m)\u001b[0m\u001b[0;34m,\u001b[0m\u001b[0;34m\"datasets\"\u001b[0m\u001b[0;34m\u001b[0m\u001b[0m\n\u001b[1;32m      3\u001b[0m \u001b[0;32mprint\u001b[0m \u001b[0mlen\u001b[0m\u001b[0;34m(\u001b[0m\u001b[0mdb\u001b[0m\u001b[0;34m.\u001b[0m\u001b[0msearchFilter\u001b[0m\u001b[0;34m(\u001b[0m\u001b[0mtag\u001b[0m\u001b[0;34m=\u001b[0m\u001b[0;34m\"variable\"\u001b[0m\u001b[0;34m)\u001b[0m\u001b[0;34m)\u001b[0m\u001b[0;34m,\u001b[0m\u001b[0;34m\"variables\"\u001b[0m\u001b[0;34m\u001b[0m\u001b[0m\n\u001b[1;32m      4\u001b[0m \u001b[0;32mprint\u001b[0m \u001b[0mlen\u001b[0m\u001b[0;34m(\u001b[0m\u001b[0mdb\u001b[0m\u001b[0;34m.\u001b[0m\u001b[0msearchFilter\u001b[0m\u001b[0;34m(\u001b[0m\u001b[0mtag\u001b[0m\u001b[0;34m=\u001b[0m\u001b[0;34m\"axis\"\u001b[0m\u001b[0;34m)\u001b[0m\u001b[0;34m)\u001b[0m\u001b[0;34m,\u001b[0m\u001b[0;34m\"axes\"\u001b[0m\u001b[0;34m\u001b[0m\u001b[0m\n",
      "\u001b[0;31mNameError\u001b[0m: name 'db' is not defined"
     ]
    }
   ],
   "source": [
    "print len(db.searchFilter(tag=\"database\")),\"database\"\n",
    "print len(db.searchFilter(tag=\"dataset\")),\"datasets\"\n",
    "print len(db.searchFilter(tag=\"variable\")),\"variables\"\n",
    "print len(db.searchFilter(tag=\"axis\")),\"axes\""
   ]
  },
  {
   "cell_type": "markdown",
   "metadata": {},
   "source": [
    "Example: Find all observed variables on 73x144 grids:\n",
    "\"Dictionary\", \"``attributes``\", \"Dataset external attributes.\"\n",
    "\"Dictionary\", \"``axes``\", \"Axes contained in the dataset.\"\n",
    "\"String\", \"``datapath``\", \"Path of data files, relative to the parent database. If no parent, the datapath is absolute.\"\n",
    "\"Dictionary\", \"``grids``\", \"Grids contained in the dataset.\"\n",
    "\"String\", \"``mode``\", \"Open mode.\"\n",
    "\"Database\", \"``parent``\", \"Database which contains this dataset. If the dataset is not part of a database, the value is ``None``.\"\n",
    "\"String\", \"``uri``\", \"Uniform Resource Identifier of this dataset.\"\n",
    "\"Dictionary\", \"``variables``\", \"Variables contained in the dataset.\"\n",
    "\"Dictionary\", \"``xlinks``\", \"External links contained in the dataset.\"\n",
    "\n",
    "Example: Find all observed variables with more than 1000 timepoints:\n",
    "\n",
    "\n",
    "1 \"‘r’\", \"read-only\"\n",
    "2 \"‘r+’\", \"read-write\"\n",
    "3 \"‘a’\", \"read-write. Open the file if it exists, otherwise create a new file\"\n",
    "4 \"‘w’\", \"Create a new file, read-write\"\n",
    "Example: Find the total number of each type of object in the database:\n",
    "\n",
    "            f = cdms.open(‘test. xml’)\n",
    "            x = f(‘prc’, time=(‘1980-1’,‘1981-1’))”\n",
    "\n",
    "    “Variable, Axis, or Grid”, “datasetobj['id']”, “The square bracket operator applied to a dataset gets the persistent variable, axis or grid object having the string identifier. This does not read the data for a variable. Returns None if not found.\n",
    "\n"
   ]
  },
  {
   "cell_type": "markdown",
   "metadata": {},
   "source": [
    "\n",
    "2.8. Dataset\n",
    "\n",
    "A Dataset is a virtual file. It consists of a metafile, in CDML/XML representation, and one or more data files.\n",
    "\n",
    "As of CDMS V3, the legacy cuDataset interface is supported by Datasets. See “cu Module”.\n",
    "2.8.1. Table Dataset Internal Attributes\n",
    "Type \tName \tDescription\n",
    "Dictionary \tattributes \tDataset external attributes.\n",
    "Dictionary \taxes \tAxes contained in the dataset.\n",
    "String \tdatapath \tPath of data files, relative to the parent database. If no parent, the datapath is absolute.\n",
    "Dictionary \tgrids \tGrids contained in the dataset.\n",
    "String \tmode \tOpen mode.\n",
    "Database \tparent \tDatabase which contains this dataset. If the dataset is not part of a database, the value is None.\n",
    "String \turi \tUniform Resource Identifier of this dataset.\n",
    "Dictionary \tvariables \tVariables contained in the dataset.\n",
    "Dictionary \txlinks \tExternal links contained in the dataset.\n",
    "2.8.2. Table Dataset Constructors\n",
    "Constructor \tDescription\n",
    "datasetobj = cdms.open(String uri, String mode='r') \tOpen the dataset specified by the Universal Resource Indicator, a CDML file. Returns a Dataset object. mode is one of the indicators listed in Open Modes . openDataset is a synonym for open\n",
    "2.8.3. Table Open Modes\n",
    "Mode \tDefinition\n",
    "‘r’ \tread-only\n",
    "‘r+’ \tread-write\n",
    "‘a’ \tread-write. Open the file if it exists, otherwise create a new file\n",
    "‘w’ \tCreate a new file, read-write\n",
    "2.8.4. Table Dataset Methods\n",
    "Type \tDefinition \tDescription\n",
    "Transient-Variable \tdatasetobj(varname, selector) \t\n",
    "\n",
    "Calling a Dataset object as a function reads the region of data defined by the selector. The result is a transient variable, unless raw = 1 is specified. See ‘Selectors’.\n",
    "\n",
    "    Example: The following reads data for variable ‘prc’, year 1980:\n",
    "\n",
    "            f = cdms.open(‘test. xml’)\n",
    "            x = f(‘prc’, time=(‘1980-1’,‘1981-1’))\n",
    "\n",
    "Variable, Axis, or Grid \tdatasetobj['id'] \t\n",
    "\n",
    "The square bracket operator applied to a dataset gets the persistent variable, axis or grid object having the string identifier. This does not read the data for a variable. Returns None if not found.\n",
    "\n",
    "    Example:\n",
    "\n",
    "            f = cdms.open(‘sampl e.xml’)\n",
    "            v = f[‘prc’]\n",
    "            gets the persistent variable v, equivalent to v =f.variab les['prc'].\n",
    "\n",
    "    Example:\n",
    "        t = f['time'] gets the axis named ‘time’, equivalent to t = f.axes['time']\n",
    "\n",
    "None \tclose() \tClose the dataset.\n",
    "RectGrid \tcreateRectGrid(id, lat, lon,order, type='generic', mask=None) \t\n",
    "\n",
    "Create a RectGrid in the dataset. This is not a persistent object: the order, type, and mask are not written to the dataset. However, the grid may be used for regridding operations.\n",
    "\n",
    "        lat is a latitude axis in the dataset.\n",
    "        lon is a longitude axis in the dataset.\n",
    "        order is a string with value ‘yx’ (the first grid dimension is latitude) or ‘xy’ (the first grid dimension is longitude).\n",
    "        type is one of ‘gaussian’,’uniform’,’eq ualarea’,or ‘generic’\n",
    "        If specified, mask is a two-dimensional, logical Numpy array (all values are zero or one) with the same shape as the grid.\n",
    "\n",
    "Axis \tgetAxis(id) \t\n",
    "\n",
    "Get an axis object from the file or dataset.\n",
    "\n",
    "        id is the string axis identifier.\n",
    "\n",
    "Grid \tgetGrid(id) \t\n",
    "\n",
    "Get a grid object from a file or dataset.\n",
    "\n",
    "        id is the string grid identifier.\n",
    "\n",
    "List \tgetPaths() \tGet a sorted list of pathnames of datafiles which comprise the dataset. This does not include the XML metafile path, which is stored in the .uri attribute.\n",
    "Variable \tgetVariable(id) \t\n",
    "\n",
    "Get a variable object from a file or dataset.\n",
    "\n",
    "        id is the string variable identifier.\n",
    "\n",
    "CurveGrid or GenericGrid \treadScripGrid(self, whichGrid='destination', check-orGeneric-Grid=1) \t\n",
    "\n",
    "Read a curvilinear orgeneric grid from a SCRIP dataset. The dataset can be a SCRIP grid file or remappingfile.\n",
    "\n",
    "        If a mapping file, whichGrid chooses the grid to read, either 'source' or 'destination'.\n",
    "        If checkGrid is 1 (default), the grid cells are checked for convexity, and ‘repaired’ if necessary. Grid cells may appear to be nonconvex if they cross a 0 / 2pi boundary. The repair consists of shifting the cell vertices to the same side modulo 360 degrees.\n",
    "\n",
    "None \tsync() \tWrite any pending changes to the dataset.\n"
   ]
  },
  {
   "cell_type": "markdown",
   "metadata": {},
   "source": [
    "2.9. MV Module\n",
    "\n",
    "The fundamental CDMS data object is the variable. A variable is comprised of:\n",
    "\n",
    "    a masked data array, as defined in the NumPy MV2 module.\n",
    "    a domain: an ordered list of axes and/or grids.\n",
    "    an attribute dictionary.\n",
    "\n",
    "The MV module is a work-alike replacement for the MV2 module, that carries along the domain and attribute information where appropriate. MV provides the same set of functions as MV2. However, MV functions generate transient variables as results. Often this simplifies scripts that perform computation. MV2 is part of the Python Numpy package, documented at http://www.numpy.org.\n",
    "\n",
    "MV can be imported with the command:"
   ]
  },
  {
   "cell_type": "code",
   "execution_count": 19,
   "metadata": {},
   "outputs": [
    {
     "ename": "ImportError",
     "evalue": "No module named MV",
     "output_type": "error",
     "traceback": [
      "\u001b[0;31m---------------------------------------------------------------------------\u001b[0m",
      "\u001b[0;31mImportError\u001b[0m                               Traceback (most recent call last)",
      "\u001b[0;32m<ipython-input-19-c286a6d67cda>\u001b[0m in \u001b[0;36m<module>\u001b[0;34m()\u001b[0m\n\u001b[0;32m----> 1\u001b[0;31m \u001b[0;32mimport\u001b[0m \u001b[0mMV\u001b[0m\u001b[0;34m\u001b[0m\u001b[0m\n\u001b[0m",
      "\u001b[0;31mImportError\u001b[0m: No module named MV"
     ]
    }
   ],
   "source": [
    "import MV"
   ]
  },
  {
   "cell_type": "markdown",
   "metadata": {},
   "source": [
    "The command"
   ]
  },
  {
   "cell_type": "code",
   "execution_count": 20,
   "metadata": {},
   "outputs": [
    {
     "ename": "ImportError",
     "evalue": "No module named MV",
     "output_type": "error",
     "traceback": [
      "\u001b[0;31m---------------------------------------------------------------------------\u001b[0m",
      "\u001b[0;31mImportError\u001b[0m                               Traceback (most recent call last)",
      "\u001b[0;32m<ipython-input-20-1dab166a3032>\u001b[0m in \u001b[0;36m<module>\u001b[0;34m()\u001b[0m\n\u001b[0;32m----> 1\u001b[0;31m \u001b[0;32mfrom\u001b[0m \u001b[0mMV\u001b[0m \u001b[0;32mimport\u001b[0m \u001b[0;34m*\u001b[0m\u001b[0;34m\u001b[0m\u001b[0m\n\u001b[0m",
      "\u001b[0;31mImportError\u001b[0m: No module named MV"
     ]
    }
   ],
   "source": [
    "from MV import *"
   ]
  },
  {
   "cell_type": "markdown",
   "metadata": {},
   "source": [
    "allows use of MV commands without any prefix.\n",
    "\n",
    "Table Variable Constructors in module MV, lists the constructors in MV. All functions return a transient variable. In most cases the keywords axes, attributes, and id are available. axes is a list of axis objects which specifies the domain of the variable. attributes is a dictionary. id is a special attribute string that serves as the identifier of the variable, and should not contain blanks or non-printing characters. It is used when the variable is plotted or written to a file. Since the id is just an attribute, it can also be set like any attribute:"
   ]
  },
  {
   "cell_type": "code",
   "execution_count": 21,
   "metadata": {},
   "outputs": [
    {
     "ename": "NameError",
     "evalue": "name 'var' is not defined",
     "output_type": "error",
     "traceback": [
      "\u001b[0;31m---------------------------------------------------------------------------\u001b[0m",
      "\u001b[0;31mNameError\u001b[0m                                 Traceback (most recent call last)",
      "\u001b[0;32m<ipython-input-21-f5371f88fd46>\u001b[0m in \u001b[0;36m<module>\u001b[0;34m()\u001b[0m\n\u001b[0;32m----> 1\u001b[0;31m \u001b[0mvar\u001b[0m\u001b[0;34m.\u001b[0m\u001b[0mid\u001b[0m \u001b[0;34m=\u001b[0m \u001b[0;34m'temperature'\u001b[0m\u001b[0;34m\u001b[0m\u001b[0m\n\u001b[0m",
      "\u001b[0;31mNameError\u001b[0m: name 'var' is not defined"
     ]
    }
   ],
   "source": [
    "var.id = 'temperature'"
   ]
  },
  {
   "cell_type": "markdown",
   "metadata": {},
   "source": [
    "For completeness MV provides access to all the MV2 functions. The functions not listed in the following tables are identical to the corresponding MV2 function: allclose, allequal, common_fill_value, compress, create_mask, dot, e, fill_value, filled, get_print_limit, getmask, getmaskarray, identity, indices, innerproduct, isMV2, isMaskedArray, is_mask, isarray, make_mask, make_mask_none, mask_or, masked, pi, put, putmask, rank, ravel, set_fill_value, set_print_limit, shape, size. See the documentation at http://numpy.sourceforge.net for a description of these functions."
   ]
  },
  {
   "cell_type": "markdown",
   "metadata": {},
   "source": [
    "\n",
    "2.9.1. Table Variable Constructors in Module MV\n",
    "Constructor \tDescription\n",
    "arrayrange(start, stop=None, step=1, typecode=None, axis=None, attributes=None, id=None) \tJust like MV2.arange() except it returns a variable whose type can be specfied by the keyword argument typecode. The axis, attribute dictionary, and string identifier of the result variable may be specified. Synonym: arange\n",
    "masked_array(a, mask=None, fill_value=None, axes=None, attributes=None, id=None) \tSame as MV2.masked_array but creates a variable instead. If no axes are specified, the result has default axes, otherwise axes is a list of axis objects matching a.shape.\n",
    "masked_object(data,value, copy=1,savespace=0,axes=None, attributes=None, id=None) \tCreate variable masked where exactly data equal to value. Create the variable with the given list of axis objects, attribute dictionary, and string id.\n",
    "masked_values(data,value, rtol=1e-05, atol=1e-08, copy=1, savespace=0, axes=None, attributes=None, id=None) \tConstructs a variable with the given list of axes and attribute dictionary, whose mask is set at those places where abs(data - value) > atol + rtol * abs(data). This is a careful way of saying that those elements of the data that have value = value (to within a tolerance) are to be treated as invalid. If data is not of a floating point type, calls masked_object instead.\n",
    "ones(shape, typecode='l',savespace=0,axes=none, attributes=none, id=none) \treturn an array of all ones of the given length or shape.\n",
    "reshape(a,newshape, axes=none, attributes=none, id=none) \tcopy of a with a new shape.\n",
    "resize(a,newshape, axes=none, attributes=none, id=none) \treturn a new array with the specified shape. the original arrays total size can be any size.\n",
    "zeros(shape,typecode='l',savespace=0, axes=none, attributes=none, id=none) \tan array of all zeros of the given length or shape\n",
    "\n",
    "The following table describes the MV non-constructor functions. with the exception of argsort, all functions return a transient variable.\n"
   ]
  },
  {
   "cell_type": "markdown",
   "metadata": {},
   "source": [
    "2.9.2. Table MV Functions\n",
    "Function \tDescription\n",
    "argsort(x, axis=-1, fill_value=None) \tReturn a Numpy array of indices for sorting along a given axis.\n",
    "asarray(data, typecode=None) \t\n",
    "\n",
    "Same as cdms.createVariable(data, typecode, copy=0).\n",
    "\n",
    "        This is a short way of ensuring that something is an instance of a variable of a given type before proceeding, as in data = asarray(data).\n",
    "        Also see the variable astype() function.\n",
    "\n",
    "average(a, axis=0, weights=None) \t\n",
    "\n",
    "Computes the average value of the non-masked elements of x along the selected axis.\n",
    "\n",
    "        If weights is given, it must match the size and shape of x, and the value returned is: sum(a*weights)/sum(weights)\n",
    "        In computing these sums, elements that correspond to those that are masked in x or weights are ignored.\n",
    "\n",
    "choose(condition, t) \t\n",
    "\n",
    "Has a result shaped like array condition.\n",
    "\n",
    "        t must be a tuple of two arrays t1 and t2.\n",
    "        Each element of the result is the corresponding element of t1where condition is true, and the corresponding element of t2 where condition is false.\n",
    "        The result is masked where condition is masked or where the selected element is masked.\n",
    "\n",
    "concatenate(arrays, axis=0, axisid=None, axisattributes=None) \tConcatenate the arrays along the given axis. Give the extended axis the id and attributes provided - by default, those of the first array.\n",
    "count(a, axis=None) \tCount of the non-masked elements in a, or along a certain axis.\n",
    "isMaskedVariable(x) \tReturn true if x is an instance of a variable.\n",
    "masked_equal(x, value) \tx masked where x equals the scalar value. For floating point values consider masked_values(x, value) instead.\n",
    "masked_greater(x, value) \tx masked where x > value\n",
    "masked_greater_equal(x, value) \tx masked where x >= value\n",
    "masked_less(x, value) \tx masked where x &lt; value\n",
    "masked_less_equal(x, value) \tx masked where x &le; value\n",
    "masked_not_equal(x, value) \tx masked where x != value\n",
    "masked_outside(x, v1, v2) \tx with mask of all values of x that are outside [v1,v2]\n",
    "masked_where(condition, x, copy=1) \t\n",
    "\n",
    "Return x as a variable masked where condition is true.\n",
    "\n",
    "        Also masked where x or condition masked.\n",
    "        condition is a masked array having the same shape as x.\n",
    "\n",
    "maximum(a, b=None) \tCompute the maximum valid values of x if y is None; with two arguments, return the element-wise larger of valid values, and mask the result where either x or y is masked.\n",
    "minimum(a, b=None) \tCompute the minimum valid values of x if y is None; with two arguments, return the element-wise smaller of valid values, and mask the result where either x or y is masked.\n",
    "outerproduct(a, b) \tReturn a variable such that result[i, j] = a[i] * b[j]. The result will be masked where a[i] or b[j] is masked.\n",
    "power(a, b) \ta**b\n",
    "product(a, axis=0, fill_value=1) \tProduct of elements along axis using fill_value for missing elements.\n",
    "repeat(ar, repeats, axis=0) \tReturn ar repeated repeats times along axis. repeats is a sequence of length ar.shape[axis] telling how many times to repeat each element.\n",
    "set_default_fill_value(value_type, value) \t\n",
    "\n",
    "Set the default fill value for value_type to value.\n",
    "\n",
    "        value_type is a string: ‘real’,’complex’,’character’,’integer’,or ‘object’.\n",
    "        value should be a scalar or single-element array.\n",
    "\n",
    "sort(ar, axis=-1) \tSort array ar elementwise along the specified axis. The corresponding axis in the result has dummy values.\n",
    "sum(a, axis=0, fill_value=0) \tSum of elements along a certain axis using fill_value for missing.\n",
    "take(a, indices, axis=0) \tReturn a selection of items from a. See the documentation in the Numpy manual.\n",
    "transpose(ar, axes=None) \tPerform a reordering of the axes of array ar depending on the tuple of indices axes; the default is to reverse the order of the axes.\n",
    "where(condition, x, y) \tx where condition is true, y otherwise"
   ]
  },
  {
   "cell_type": "markdown",
   "metadata": {},
   "source": [
    "2.10. HorizontalGrid\n",
    "\n",
    "A HorizontalGrid represents a latitude-longitude coordinate system. In addition, it optionally describes how lat-lon space is partitioned into cells. Specifically, a HorizontalGrid:\n",
    "\n",
    "    consists of a latitude and longitude coordinate axis.\n",
    "    may have associated boundary arrays describing the grid cell boundaries,\n",
    "    may optionally have an associated logical mask.\n",
    "\n",
    "CDMS supports several types of HorizontalGrids:\n",
    "\n",
    "2.10.1. Table Grids\n",
    "Grid Type \tDefinition\n",
    "RectGrid \tAssociated latitude an longitude are 1-D axes, with strictly monotonic values.\n",
    "GenericGrid \tLatitude and longitude are 1-D auxiliary coordinate axis (AuxAxis1D)\n",
    "2.10.2. Table HorizontalGrid Internal Attribute\n",
    "Type \tName \tDefinition\n",
    "Dictionary \tattributes \tExternal attribute dictionary.\n",
    "String \tid \tThe grid identifier.\n",
    "Dataset or CdmsFile \tparent \tThe dataset or file which contains the grid.\n",
    "Tuple \tshape \tThe shape of the grid, a 2-tuple\n",
    "2.10.3. Table RectGrid Constructors\n",
    "Constructor \tDescription\n",
    "cdms.createRectGrid(lat, lon, order, type='generic', mask=None) \tCreate a grid not associated with a file or dataset. See A First Example\n",
    "CdmsFile.createRectGrid(id, lat, lon, order, type='generic', mask=None) \tCreate a grid associated with a file. See CdmsFile Constructors\n",
    "Dataset.createRectGrid(id, lat, lon, order, type='generic', mask=None) \tCreate a grid associated with a dataset. See Dataset Constructors\n",
    "cdms.createGaussianGrid(nlats, xorigin=0.0, order='yx') \tSee A First Example\n",
    "cdms.createGenericGrid(latArray, lonArray, latBounds=None, lonBounds=None, order='yx', mask=None) \tSee A First Example\n",
    "cdms.createGlobalMeanGrid(grid) \tSee A First Example\n",
    "cdms.createRectGrid(lat, lon, order, type='generic', mask=None) \tSee A First Example\n",
    "cdms.createUniformGrid(startLat, nlat, deltaLat, startLon, nlon, deltaLon, order='yx', mask=None) \tSee A First Example\n",
    "cdms.createZonalGrid(grid) \tSee A First Example\n",
    "2.10.4. Table HorizontalGrid Methods\n",
    "Type \tMethod \tDescription\n",
    "Horizontal-Grid \tclone() \tReturn a transient copy of the grid.\n",
    "Axis \tgetAxis(Integer n) \tGet the n-th axis.n is either 0 or 1.\n",
    "Tuple \tgetBounds() \t\n",
    "\n",
    "Get the grid boundary arrays.\n",
    "\n",
    "        Returns a tuple (latitudeArray, longitudeArray), where latitudeArray is a Numpy array of latitude bounds, and similarly for longitudeArray.The shape of latitudeArray and longitudeArray depend on the type of grid:\n",
    "\n",
    "                for rectangular grids with shape (nlat, nlon), the boundary arrays have shape (nlat,2) and (nlon,2).\n",
    "                for curvilinear grids with shape (nx, ny), the boundary arrays each have shape (nx, ny, 4).\n",
    "                for generic grids with shape (ncell,), the boundary arrays each have shape (ncell, nvert) where nvert is the maximum number of vertices per cell.\n",
    "                for rectilinear grids: If no boundary arrays are explicitly defined (in the file or dataset), the result depends on the auto- Bounds mode (see cdms.setAutoBounds) and the grid classification mode (see cdms.setClassifyGrids).\n",
    "\n",
    "    By default, autoBounds mode is enabled, in which case the boundary arrays are generated based on the type of grid.\n",
    "\n",
    "            If disabled, the return value is (None,None).For rectilinear grids:\n",
    "            The grid classification mode specifies how the grid type is to be determined.\n",
    "            By default, the grid type (Gaussian, uniform, etc.) is determined by calling grid.classifyInFamily.\n",
    "            If the mode is ‘off’ grid.getType is used instead.\n",
    "\n",
    "Axis \tgetLatitude() \tGet the latitude axis of this grid.\n",
    "Axis \tgetLongitude() \tGet the latitude axis of this grid.\n",
    "Axis \tgetMask() \t\n",
    "\n",
    "Get the mask array of this grid, if any.\n",
    "\n",
    "        Returns a 2-D Numpy array, having the same shape as the grid.\n",
    "        If the mask is not explicitly defined, the return value is None.\n",
    "\n",
    "Axis \tgetMesh(self, transpose=None) \t\n",
    "\n",
    "Generate a mesh array for the meshfill graphics method.\n",
    "\n",
    "        If transpose is defined to a tuple, say (1,0), first transpose latbounds and lonbounds according to the tuple, in this case (1,0,2).\n",
    "\n",
    "None \tsetBounds(latBounds, lonBounds, persistent=0) \t\n",
    "\n",
    "Set the grid boundaries.\n",
    "\n",
    "        latBounds is a NumPy array of shape (n,2), such that the boundaries of the kth axis value are [latBounds[k,0],latBou nds[k,1] ].\n",
    "        lonBounds is defined similarly for the longitude array.\n",
    "\n",
    "    Note: By default, the boundaries are not written to the file or dataset containing the grid (if any). This allows bounds to be set on read-only files, for regridding. If the optional argument persistent is set to the boundary array is written to the file.\n",
    "\n",
    "None \tsetMask(mask, persistent=0) \t\n",
    "\n",
    "Set the grid mask.\n",
    "\n",
    "        If persistent == 1, the mask values are written to the associated file, if any.\n",
    "        Otherwise, the mask is associated with the grid, but no I/O is generated.\n",
    "        mask is a two-dimensional, Boolean-valued Numpy array, having the same shape as the grid.\n",
    "\n",
    "Horizontal-Grid \tsubGridRegion(latInterval, lonInterval) \t\n",
    "\n",
    "Create a new grid corresponding to the coordinate region defined by latInterval, lonInterv al.\n",
    "\n",
    "            latInterval and lonInterval are the coordinate intervals for latitude and longitude, respectively.\n",
    "            Each interval is a tuple having one of the forms:\n",
    "            (x,y)\n",
    "            (x,y,indicator)\n",
    "            (x,y,indicator,cycle)\n",
    "            None\n",
    "\n",
    "    Where x and y are coordinates indicating the interval [x,y), and:\n",
    "\n",
    "            indicator is a two-character string, where the first character is ‘c’ if the interval is closed on the left, ‘o’ if open, and the second character has the same meaning for the right-hand point. (Default: ‘co’).\n",
    "            If cycle is specified, the axis is treated as circular with the given cycle value.\n",
    "            By default, if grid.isCircular() is true, the axis is treated as circular with a default value of 360.0.\n",
    "            An interval of None returns the full index interval of the axis.\n",
    "            If a mask is defined, the subgrid also has a mask corresponding to the index ranges.\n",
    "\n",
    "        Note: The result grid is not associated with any file or dataset.\n",
    "\n",
    "Transient-CurveGrid \ttoCurveGrid(gridid=None) \t\n",
    "\n",
    "Convert to a curvilinear grid.\n",
    "\n",
    "        If the grid is already curvilinear, a copy of the grid object is returned.\n",
    "        gridid is the string identifier of the resulting curvilinear grid object.\n",
    "        If unspecified, the grid ID is copied.\n",
    "\n",
    "    Note: This method does not apply to generic grids.\n",
    "\n",
    "            Transient-GenericGrid toGenericGrid(gridid=None) Convert to a generic grid.\n",
    "            If the grid is already generic, a copy of the grid is returned.\n",
    "            gridid is the string identifier of the resulting curvilinear grid object.\n",
    "            If unspecified, the grid ID is copied.\n",
    "\n",
    "2.10.5. Table RectGrid Methods, Additional to HorizontalGrid Methods\n",
    "Type \tMethod \tDescription\n",
    "String \tgetOrder() \t\n",
    "\n",
    "Get the grid ordering, either ‘yx’ if latitude is the first axis, or ‘xy’ if longitude is the first axis.\n",
    "\n",
    "    String getType()\n",
    "\n",
    "            Get the grid type, either ‘gaussian’, ‘uniform’, ‘equalarea’, or ‘generic’.\n",
    "            (Array,Array) getWeights()\n",
    "            Get the normalized area weight arrays, as a tuple (latWeights, lonWeights).\n",
    "            It is assumed that the latitude and longitude axes are defined in degrees.\n",
    "\n",
    "    The latitude weights are defined as:\n",
    "\n",
    "            latWeights[i] = 0.5 * abs(sin(latBounds[i+1]) - sin(latBounds[i]))\n",
    "\n",
    "    The longitude weights are defined as:\n",
    "\n",
    "            lonWeights[i] = abs(lonBounds[i+1] - lonBounds [i])/360.0\n",
    "\n",
    "    For a global grid, the weight arrays are normalized such that the sum of the weights is 1.0\n",
    "\n",
    "        Example:\n",
    "\n",
    "                Generate the 2-D weights array, such that weights[i.j] is the fractional area of grid zone [i,j].\n",
    "                from cdms import MV\n",
    "                latwts, lonwts = gri d.getWeights()\n",
    "                weights = MV.outerproduct(latwts, lonwts)\n",
    "                Also see the function area_weights in module pcmdi.weighting.\n",
    "\n",
    "None \tsetType(gridtype) \t\n",
    "\n",
    "Set the grid type.\n",
    "\n",
    "        gridtype is one of ‘gaussian’, ‘uniform’, ‘equalarea’, or ‘generic’.\n",
    "\n",
    "RectGrid \tsubGrid((latStart,latStop),(lonStart,lonStop)) \t\n",
    "\n",
    "Create a new grid, with latitude index range `` [latStart : latStop] and longitude index range [lonStart : lonStop]. Either index range can also be specified as None, indicating that the entire range of the latitude or longitude is used.\n",
    "\n",
    "    Example:\n",
    "\n",
    "            This creates newgrid corresponding to all latitudes and index range [lonStart:lonStop] of oldgrid.\n",
    "            newgrid = oldgrid.subGrid(None, (lonStart, lon Stop))\n",
    "            If a mask is defined, the subgrid also has a mask corresponding to the index ranges.\n",
    "\n",
    "    Note: The result grid is not associated with any file or dataset.\n",
    "\n",
    "RectGrid \ttranspose() \t\n",
    "\n",
    "Create a new grid, with axis order reversed. The grid mask is also transposed.\n",
    "    Note: The result grid is not associated with any file or dataset. "
   ]
  },
  {
   "cell_type": "markdown",
   "metadata": {},
   "source": [
    "2.11. Variable\n",
    "\n",
    "A Variable is a multidimensional data object, consisting of:\n",
    "\n",
    "    a multidimensional data array, possibly masked,\n",
    "    a collection of attributes\n",
    "    a domain, an ordered tuple of CoordinateAxis objects.\n",
    "\n",
    "A Variable which is contained in a Dataset or CdmsFile is called a persistent variable. Setting a slice of a persistent Variable writes data to the Dataset or file, and referencing a Variable slice reads data from the Dataset. Variables may also be transient, not associated with a Dataset or CdmsFile.\n",
    "\n",
    "Variables support arithmetic operations, including the basic Python operators (+,,*,/,**, abs, and sqrt), as well as the operations defined in the MV module. The result of an arithmetic operation is a transient variable, that is, the axis information is transferred to the result.\n",
    "\n",
    "The methods subRegion and subSlice return transient variables. In addition, a transient variable may be created with the cdms.createVariable method. The vcs and regrid module methods take advantage of the attribute, domain, and mask information in a transient variable.\n",
    "2.11.1. Table Variable Internal Attributes\n",
    "Type \tName \tDefinition\n",
    "Dictionary \tattributes \tExternal attribute dictionary.\n",
    "String \tid \tVariable identifier.\n",
    "String \tname_in_file \tThe name of the variable in the file or files which represent the dataset. If different from id, the variable is aliased.\n",
    "Dataset or CdmsFile \tparent \tThe dataset or file which contains the variable.\n",
    "Tuple \tshape \tThe length of each axis of the variable\n",
    "2.11.2. Table Variable Constructors\n",
    "Constructor \tDescription\n",
    "Dataset.createVariable(String id, String datatype, List axes) \tCreate a Variable in a Dataset. This function is not yet implemented.\n",
    "CdmsFile.createVariable(String id, String datatype, List axes or Grids) \t\n",
    "\n",
    "Create a Variable in a CdmsFile.\n",
    "\n",
    "        id is the name of the variable.\n",
    "        datatype is the MV2 or Numpy | typecode, for example, MV2.Float.\n",
    "        axesOrGrids is a list of Axis and/or Grid objects, on which the variable is defined. Specifying a rectilinear grid is equivalent to listing the grid latitude and longitude axes, in the order defined for the grid.\n",
    "\n",
    "    Note: this argument can either be a list or a tuple. If the tuple form is used, and there is only one element, it must have a following comma, e.g.: (axisobj,).\n",
    "\n",
    "cdms.createVariable(array, typecode=None, copy=0, savespace=0,mask=None, fill_value=None, grid=None, axes=None,attributes=None, id=None) \t\n",
    "\n",
    "Create a transient variable, not associated with a file or dataset.\n",
    "\n",
    "        array is the data values: a Variable, masked array, or Numpy array.\n",
    "        typecode is the MV2 typecode of the array. Defaults to the typecode of array.\n",
    "        copy is an integer flag: if 1, the variable is created with a copy of the array, if 0 the variable data is shared with array.\n",
    "        savespace is an integer flag: if set to 1, internal Numpy operations will attempt to avoid silent upcasting.\n",
    "        mask is an array of integers with value 0 or 1, having the same shape as array. array elements with a corresponding mask value of 1 are considered invalid, and are not used for subsequent Numpy operations. The default mask is obtained from array if present, otherwise is None.\n",
    "        fill_value is the missing value flag. The default is obtained from array if possible, otherwise is set to 1.0e20 for floating point variables, 0 for integer-valued variables.\n",
    "        grid is a rectilinear grid object.\n",
    "        axes is a tuple of axis objects. By default the axes are obtained from array if present. Otherwise for a dimension of length n, the default axis has values [0., 1., …, double(n)].\n",
    "        attributes is a dictionary of attribute values. The dictionary keys must be strings. By default the dictionary is obtained from array if present, otherwise is empty.\n",
    "        id is the string identifier of the variable. By default the id is obtained from array if possible, otherwise is set to ‘variable_n’ for some integer.\n",
    "\n",
    "2.11.3. Table Variable Methods\n",
    "Type \tMethod \tDefinition\n",
    "Variable \ttvar = var[ i:j, m:n] \t\n",
    "\n",
    "Read a slice of data from the file or dataset, resulting in a transient variable.\n",
    "\n",
    "        Singleton dimensions are ‘squeezed’ out.\n",
    "        Data is returned in the physical ordering defined in the dataset.\n",
    "        The forms of the slice operator are listed in Variable Slice Operators\n",
    "\n",
    "None \tvar[ i:j, m:n] = array \t\n",
    "\n",
    "Write a slice of data to the external dataset.\n",
    "\n",
    "        The forms of the slice operator are listed in Result Entry Methods . (Variables in CdmsFiles only)\n",
    "\n",
    "Variable \ttvar = var(selector) \t\n",
    "\n",
    "Calling a variable as a function reads the region of data defined by the selector.\n",
    "\n",
    "        The result is a transient variable, unless raw=1 keyword is specified.\n",
    "        See Selectors’ .\n",
    "\n",
    "None \tassignValue(Array ar) \tWrite the entire data array. Equivalent to var[:] = ar. (Variables in CdmsFiles only).\n",
    "Variable \tastype(typecode) \t\n",
    "\n",
    "Cast the variable to a new datatype.\n",
    "\n",
    "        Typecodes are as for MV, MV2, and Numpy modules.\n",
    "\n",
    "Variable \tclone(copyData=1) \t\n",
    "\n",
    "Return a copy of a transient variable.\n",
    "\n",
    "        If copyData is 1 (the default) the variable data is copied as well.\n",
    "        If copyData is 0, the result transient variable shares the original transient variables data array.\n",
    "\n",
    "Transient Variable \tcrossSectionRegrid(newLevel, newLatitude, method='log', missing=None, order=None) \t\n",
    "\n",
    "Return a lat/level vertical cross-section regridded to a new set of latitudes newLatitude and levels newLevel.\n",
    "\n",
    "        The variable should be a function of latitude, level, and (optionally) time.\n",
    "        newLevel is an axis of the result pressure levels.\n",
    "        newLatitude is an axis of the result latitudes.\n",
    "        method is optional, either ‘log’ to interpolate in the log of pressure (default), or ‘linear’ for linear interpolation.\n",
    "        missing is a missing data value. The default is var.getMissing()\n",
    "        order is an order string such as ‘tzy’ or ‘zy’. The default is var.getOrder().\n",
    "        See also: regrid, pressureRegrid.\n",
    "\n",
    "Axis \tgetAxis(n) \t\n",
    "\n",
    "Get the n-th axis.\n",
    "\n",
    "        n is an integer.\n",
    "\n",
    "List \tgetAxisIds() \tGet a list of axis identifiers.\n",
    "Integer \tgetAxisIndex(axis_spec) \t\n",
    "\n",
    "Return the index of the axis specificed by axis_spec. Return -1 if no match.\n",
    "\n",
    "        axis_spec is a specification as defined for getAxisList\n",
    "\n",
    "List \tgetAxisList(axes=None, omit=None, order=None) \t\n",
    "\n",
    "Get an ordered list of axis objects in the domain of the variable.\n",
    "\n",
    "            If axes is not None, include only certain axes. Otherwise axes is a list of specifications as described below. Axes are returned in the order specified unless the order keyword is given.\n",
    "            If omit is not None, omit those specified by an integer dimension number. Otherwise omit is a list of specifications as described below.\n",
    "            order is an optional string determining the output order.\n",
    "\n",
    "    Specifications for the axes or omit keywords are a list, each element having one of the following forms:\n",
    "\n",
    "            an integer dimension index, starting at 0.\n",
    "            a string representing an axis id or one of the strings ‘time’, ‘latitude’, ‘lat’, ‘longitude’, ‘lon’, ‘lev’ or ‘level’.\n",
    "            a function that takes an axis as an argument and returns a value. If the value returned is true, the axis matches.\n",
    "            an axis object; will match if it is the same object as axis.\n",
    "            order can be a string containing the characters t,x,y,z, or * .\n",
    "            If a dash (‘-‘) is given, any elements of the result not chosen otherwise are filled in from left to right with remaining candidates.\n",
    "\n",
    "List \tgetAxisListIndex(axes=None, omit=None, order=None) \tReturn a list of indices of axis objects. Arguments are as for getAxisList.\n",
    "List \tgetDomain() \t\n",
    "\n",
    "Get the domain.\n",
    "\n",
    "    Each element of the list is itself a tuple of the form (axis,start,length,tru e_length)\n",
    "\n",
    "                where axis is an axis object,\n",
    "                start is the start index of the domain relative to the axis object,\n",
    "                length is the length of the axis, and true_length is the actual number of (defined) points in the domain.\n",
    "\n",
    "            See also: getAxisList.\n",
    "\n",
    "Horizontal-Grid \tgetGrid() \tReturn the associated grid, or None if the variable is not gridded.\n",
    "Axis \tgetLatitude() \tGet the latitude axis, or None if not found.\n",
    "Axis \tgetLevel() \tGet the vertical level axis, or None if not found.\n",
    "Axis \tgetLongitude() \tGet the longitude axis, or None if not found.\n",
    "Various \tgetMissing() \t\n",
    "\n",
    "Get the missing data value, or None if not found.\n",
    "\n",
    "        String getOrder() Get the order string of a spatio-temporal variable.\n",
    "\n",
    "                The order string specifies the physical ordering of the data.\n",
    "                It is a string of characters with length equal to the rank of the variable, indicating the order of the variable’s time, level, latitude, and/or longitude axes.\n",
    "\n",
    "        Each character is one of:\n",
    "\n",
    "                ‘t’: time\n",
    "                ‘z’: vertical level\n",
    "                ‘y’: latitude\n",
    "                ‘x’: longitude\n",
    "                ‘-‘: the axis is not spatio-temporal.\n",
    "\n",
    "            Example: * A variable with ordering ‘tzyx’ is 4-dimensional, where the ordering of axes is (time, level, latitude, longitude).\n",
    "\n",
    "    Note: The order string is of the form required for the order argument of a regridder function.\n",
    "\n",
    "            intervals is a list of scalars, 2-tuples representing [i,j), slices, and/or Ellipses.\n",
    "            If no argument(s) are present, all file paths associated with the variable are returned.\n",
    "            Returns a list of tuples of the form (path,slicetuple), where path is the path of a file, and slicetuple is itself a tuple of slices, of the same length as the rank of the variable, representing the portion of the variable in the file corresponding to intervals.\n",
    "\n",
    "    Note: This function is not defined for transient variables.\n",
    "\n",
    "Axis \tgetTime() \tGet the time axis, or None if not found.\n",
    "List \tgetPaths(*intervals) \tGet the file paths associated with the index region specified by intervals.\n",
    "Integer \tlen(var) \t\n",
    "\n",
    "The length of the first dimension of the variable. If the variable is zero-dimensional (scalar), a length of 0 is returned.\n",
    "    Note: size() returns the total number of elements.\n",
    "\n",
    "Transient Variable \tpressureRegrid (newLevel, method='log', missin=None, order=None) \t\n",
    "\n",
    "Return the variable regridded to a new set of pressure levels newLevel.\n",
    "\n",
    "    The variable must be a function of latitude, longitude, pressure level, and (optionally) time.\n",
    "\n",
    "            newLevel is an axis of the result pressure levels.\n",
    "            method is optional, either ‘log’ to interpolate in the log of pressure (default), or ‘linear’ for linear interpolation.\n",
    "            missing is a missing data value. The default is var.getMissing()\n",
    "            order is an order string such as ‘tzyx’ or ‘zyx’. The default is var.getOrder()\n",
    "            See also: regrid, crossSectionRegrid.\n",
    "\n",
    "Integer \trank() \tThe number of dimensions of the variable.\n",
    "Transient \tregrid (togrid, missing=None, order=None, Variable mask=None) \t\n",
    "\n",
    "Return the variable regridded to the horizontal grid togrid.\n",
    "\n",
    "            missing is a Float specifying the missing data value. The default is 1.0e20.\n",
    "            order is a string indicating the order of dimensions of the array. It has the form returned from variable.getOrder().\n",
    "            For example, the string ‘tzyx’ indicates that the dimension order of array is (time, level, latitude, longitude).\n",
    "            If unspecified, the function assumes that the last two dimensions of array match the input grid.\n",
    "            mask is a Numpy array, of datatype Integer or Float, consisting of ones and zeros. A value of 0 or 0.0 indicates that the corresponding data value is to be ignored for purposes of regridding.\n",
    "            If mask is two-dimensional of the same shape as the input grid, it overrides the mask of the input grid.\n",
    "            If the mask has more than two dimensions, it must have the same shape as array. In this case, the missing data value is also ignored.\n",
    "            Such an n-dimensional mask is useful if the pattern of missing data varies with level (e.g., ocean data) or time.\n",
    "\n",
    "        Note: If neither missing or mask is set, the default mask is obtained from the mask of the array if any.\n",
    "\n",
    "    See also: crossSectionRegrid, pressureRegrid.\n",
    "\n",
    "None \tsetAxis(n, axis) \tSet the n-th axis (0-origin index) of to a copy of axis.\n",
    "None \tsetAxisList(axislist) \tSet all axes of the variable. axislist is a list of axis objects.\n",
    "None \tsetMissing(value) \tSet the missing value. Integer size() Number of elements of the variable.\n",
    "Variable \tsubRegion(* region, time=None, level=None, latitude=None, longitude=None, squeeze=0, raw=0) \t\n",
    "\n",
    "Read a coordinate region of data, returning a transient variable.\n",
    "\n",
    "    A region is a hyperrectangle in coordinate space.\n",
    "\n",
    "            region is an argument list, each item of which specifies an interval of a coordinate axis. The intervals are listed in the order of the variable axes.\n",
    "            If trailing dimensions are omitted, all values of those dimensions are retrieved.\n",
    "            If an axis is circular (axis.isCircular() is true) or cycle is specified (see below), then data will be read with wraparound in that dimension.\n",
    "            Only one axis may be read with wraparound.\n",
    "            A coordinate interval has one of the forms listed in Index and Coordinate Intervals .\n",
    "            Also see axis.mapIntervalExt.\n",
    "            The optional keyword arguments time, level, latitude, and longitude may also be used to specify the dimension for which the interval applies. This is particularly useful if the order of dimensions is not known in advance.\n",
    "            An exception is raised if a keyword argument conflicts with a positional region argument.\n",
    "            The optional keyword argument squeeze determines whether or not the shape of the returned array contains dimensions whose length is 1; by default this argument is 0, and such dimensions are not ‘squeezed out’.\n",
    "            The optional keyword argument raw specifies whether the return object is a variable or a masked array.\n",
    "            By default, a transient variable is returned, having the axes and attributes corresponding to2,3 the region read. If raw=1, an MV2 masked array is returned, equivalent to the transient variable without the axis and attribute information.\n",
    "\n",
    "Variable \tsubSlice(* specs, time=None, level=None, latitude=None, longitude=None, squeeze=0, raw=0) \t\n",
    "\n",
    "Read a slice of data, returning a transient variable.\n",
    "\n",
    "    This is a functional form of the slice operator [] with the squeeze option turned off.\n",
    "\n",
    "            specs is an argument list, each element of which specifies a slice of the corresponding dimension.\n",
    "\n",
    "    There can be zero or more positional arguments, each of the form:\n",
    "\n",
    "            a single integer n, meaning slice(n, n+1)\n",
    "            an instance of the slice class\n",
    "            a tuple, which will be used as arguments to create a slice\n",
    "            ‘:’, which means a slice covering that entire dimension\n",
    "            Ellipsis (…), which means to fill the slice list with ‘:’ leaving only enough room at the end for the remaining positional arguments\n",
    "            a Python slice object, of the form slice(i,j,k)\n",
    "            If there are fewer slices than corresponding dimensions, all values of the trailing dimensions are read.\n",
    "            The keyword arguments are defined as in subRegion.\n",
    "            There must be no conflict between the positional arguments and the keywords.\n",
    "            In (a)-(c) and (f), negative numbers are treated as offsets from the end of that dimension, as in normal Python indexing.\n",
    "            String typecode() The Numpy datatype identifier.\n",
    "\n",
    "2.11.4. Example Get a Region of Data.\n",
    "\n",
    "Variable ta is a function of (time, latitude, longitude). Read data corresponding to all times, latitudes -45.0 up to but not including+45.0, longitudes 0.0 through and including longitude 180.0:"
   ]
  },
  {
   "cell_type": "code",
   "execution_count": 22,
   "metadata": {},
   "outputs": [
    {
     "ename": "NameError",
     "evalue": "name 'ta' is not defined",
     "output_type": "error",
     "traceback": [
      "\u001b[0;31m---------------------------------------------------------------------------\u001b[0m",
      "\u001b[0;31mNameError\u001b[0m                                 Traceback (most recent call last)",
      "\u001b[0;32m<ipython-input-22-bb51c463f735>\u001b[0m in \u001b[0;36m<module>\u001b[0;34m()\u001b[0m\n\u001b[0;32m----> 1\u001b[0;31m \u001b[0mdata\u001b[0m \u001b[0;34m=\u001b[0m \u001b[0mta\u001b[0m\u001b[0;34m.\u001b[0m\u001b[0msubRegion\u001b[0m\u001b[0;34m(\u001b[0m\u001b[0;34m':'\u001b[0m\u001b[0;34m,\u001b[0m \u001b[0;34m(\u001b[0m\u001b[0;34m-\u001b[0m\u001b[0;36m45.0\u001b[0m\u001b[0;34m,\u001b[0m\u001b[0;36m45.0\u001b[0m\u001b[0;34m,\u001b[0m\u001b[0;34m'co'\u001b[0m\u001b[0;34m)\u001b[0m\u001b[0;34m,\u001b[0m \u001b[0;34m(\u001b[0m\u001b[0;36m0.0\u001b[0m\u001b[0;34m,\u001b[0m \u001b[0;36m180.0\u001b[0m\u001b[0;34m)\u001b[0m\u001b[0;34m)\u001b[0m\u001b[0;34m\u001b[0m\u001b[0m\n\u001b[0m",
      "\u001b[0;31mNameError\u001b[0m: name 'ta' is not defined"
     ]
    }
   ],
   "source": [
    "data = ta.subRegion(':', (-45.0,45.0,'co'), (0.0, 180.0))"
   ]
  },
  {
   "cell_type": "markdown",
   "metadata": {},
   "source": [
    "or equivalently:"
   ]
  },
  {
   "cell_type": "code",
   "execution_count": 23,
   "metadata": {},
   "outputs": [
    {
     "ename": "SyntaxError",
     "evalue": "unexpected EOF while parsing (<ipython-input-23-e2d128c9def1>, line 1)",
     "output_type": "error",
     "traceback": [
      "\u001b[0;36m  File \u001b[0;32m\"<ipython-input-23-e2d128c9def1>\"\u001b[0;36m, line \u001b[0;32m1\u001b[0m\n\u001b[0;31m    data = ta.subRegion(latitude=(-45.0,45.0,'co'), longitude=(0.0,\u001b[0m\n\u001b[0m                                                                   ^\u001b[0m\n\u001b[0;31mSyntaxError\u001b[0m\u001b[0;31m:\u001b[0m unexpected EOF while parsing\n"
     ]
    }
   ],
   "source": [
    "data = ta.subRegion(latitude=(-45.0,45.0,'co'), longitude=(0.0,\n"
   ]
  },
  {
   "cell_type": "markdown",
   "metadata": {},
   "source": [
    "Read all data for March, 1980:"
   ]
  },
  {
   "cell_type": "code",
   "execution_count": 24,
   "metadata": {},
   "outputs": [
    {
     "ename": "NameError",
     "evalue": "name 'ta' is not defined",
     "output_type": "error",
     "traceback": [
      "\u001b[0;31m---------------------------------------------------------------------------\u001b[0m",
      "\u001b[0;31mNameError\u001b[0m                                 Traceback (most recent call last)",
      "\u001b[0;32m<ipython-input-24-1a8d83d0dc16>\u001b[0m in \u001b[0;36m<module>\u001b[0;34m()\u001b[0m\n\u001b[0;32m----> 1\u001b[0;31m \u001b[0mdata\u001b[0m \u001b[0;34m=\u001b[0m \u001b[0mta\u001b[0m\u001b[0;34m.\u001b[0m\u001b[0msubRegion\u001b[0m\u001b[0;34m(\u001b[0m\u001b[0mtime\u001b[0m\u001b[0;34m=\u001b[0m\u001b[0;34m(\u001b[0m\u001b[0;34m'1980-3'\u001b[0m\u001b[0;34m,\u001b[0m\u001b[0;34m'1980-4'\u001b[0m\u001b[0;34m,\u001b[0m\u001b[0;34m'co'\u001b[0m\u001b[0;34m)\u001b[0m\u001b[0;34m)\u001b[0m\u001b[0;34m\u001b[0m\u001b[0m\n\u001b[0m",
      "\u001b[0;31mNameError\u001b[0m: name 'ta' is not defined"
     ]
    }
   ],
   "source": [
    "data = ta.subRegion(time=('1980-3','1980-4','co'))"
   ]
  },
  {
   "cell_type": "markdown",
   "metadata": {},
   "source": [
    "2.11.6. Table Index and Coordinate Intervals\n",
    "Interval Definition \tExample Interval Definition \tExample\n",
    "x \tsingle point, such that axis[i]==x In general x is a scalar. If the axis is a time axis, x may also be a cdtime relative time type, component time type, or string of the form ‘yyyy-mm-dd hh:mi:ss’ (where trailing fields of the string may be omitted. \t\n",
    "\n",
    "180.0\n",
    "    cdtime.reltime(48,'hour s since 1980-1') '1980-1-3'\n",
    "\n",
    "(x,y) \tindices i such that x ≤ axis[i] ≤ y \t(-180,180)\n",
    "(x,y,'co') \tx ≤ axis[i] < y. The third item is defined as in mapInterval. \t(-90,90,'cc')\n",
    "(x,y,'co',cycle) \tx ≤ axis[i]< y, with wraparound \t\n",
    "\n",
    "( 180, 180, 'co', 360.0)\n",
    "    Note: It is not necesary to specify the cycle of a circular longitude axis, that is, for which axis.isCircular() is true.\n",
    "\n",
    "slice(i,j,k) \t\n",
    "\n",
    "    slice object, equivalent to i:j:k in a slice operator. Refers to the indices i, i+k, i+2k, … up to but not including index j. If i is not specified or is None it defaults to 0. If j is not specified or is None it defaults to the length of the axis. The stride k defaults to 1. k may be negative.\n",
    "\n",
    "\t\n",
    "\n",
    "slice(1,10)\n",
    "    slice(,,-1) reverses the direction of the axis.\n",
    "\n",
    "':' \tall axis values of one dimension \t \n",
    "Ellipsis \tall values of all intermediate axes \t "
   ]
  },
  {
   "cell_type": "markdown",
   "metadata": {},
   "source": [
    "2.12. Selectors\n",
    "\n",
    "A selector is a specification of a region of data to be selected from a variable. For example, the statement:"
   ]
  },
  {
   "cell_type": "code",
   "execution_count": 25,
   "metadata": {},
   "outputs": [
    {
     "ename": "NameError",
     "evalue": "name 'v' is not defined",
     "output_type": "error",
     "traceback": [
      "\u001b[0;31m---------------------------------------------------------------------------\u001b[0m",
      "\u001b[0;31mNameError\u001b[0m                                 Traceback (most recent call last)",
      "\u001b[0;32m<ipython-input-25-d0be8e6c8703>\u001b[0m in \u001b[0;36m<module>\u001b[0;34m()\u001b[0m\n\u001b[0;32m----> 1\u001b[0;31m \u001b[0mx\u001b[0m \u001b[0;34m=\u001b[0m \u001b[0mv\u001b[0m\u001b[0;34m(\u001b[0m\u001b[0mtime\u001b[0m\u001b[0;34m=\u001b[0m\u001b[0;34m'1979-1-1'\u001b[0m\u001b[0;34m,\u001b[0m \u001b[0mlevel\u001b[0m\u001b[0;34m=\u001b[0m\u001b[0;34m(\u001b[0m\u001b[0;36m1000.0\u001b[0m\u001b[0;34m,\u001b[0m\u001b[0;36m100.0\u001b[0m\u001b[0;34m)\u001b[0m\u001b[0;34m)\u001b[0m\u001b[0;34m\u001b[0m\u001b[0m\n\u001b[0m",
      "\u001b[0;31mNameError\u001b[0m: name 'v' is not defined"
     ]
    }
   ],
   "source": [
    "x = v(time='1979-1-1', level=(1000.0,100.0))"
   ]
  },
  {
   "cell_type": "markdown",
   "metadata": {},
   "source": [
    "means ‘select the values of variable v for time ‘1979-1-1’ and levels 1000.0 to 100.0 inclusive, setting x to the result.’ Selectors are generally used to represent regions of space and time.\n",
    "\n",
    "The form for using a selector is:"
   ]
  },
  {
   "cell_type": "code",
   "execution_count": 26,
   "metadata": {},
   "outputs": [
    {
     "ename": "NameError",
     "evalue": "name 'v' is not defined",
     "output_type": "error",
     "traceback": [
      "\u001b[0;31m---------------------------------------------------------------------------\u001b[0m",
      "\u001b[0;31mNameError\u001b[0m                                 Traceback (most recent call last)",
      "\u001b[0;32m<ipython-input-26-1f93f96a9c77>\u001b[0m in \u001b[0;36m<module>\u001b[0;34m()\u001b[0m\n\u001b[0;32m----> 1\u001b[0;31m \u001b[0mresult\u001b[0m \u001b[0;34m=\u001b[0m \u001b[0mv\u001b[0m\u001b[0;34m(\u001b[0m\u001b[0ms\u001b[0m\u001b[0;34m)\u001b[0m\u001b[0;34m\u001b[0m\u001b[0m\n\u001b[0m",
      "\u001b[0;31mNameError\u001b[0m: name 'v' is not defined"
     ]
    }
   ],
   "source": [
    "result = v(s)"
   ]
  },
  {
   "cell_type": "markdown",
   "metadata": {},
   "source": [
    "where v is a variable and s is the selector. An equivalent form is:"
   ]
  },
  {
   "cell_type": "code",
   "execution_count": 27,
   "metadata": {},
   "outputs": [
    {
     "ename": "NameError",
     "evalue": "name 'f' is not defined",
     "output_type": "error",
     "traceback": [
      "\u001b[0;31m---------------------------------------------------------------------------\u001b[0m",
      "\u001b[0;31mNameError\u001b[0m                                 Traceback (most recent call last)",
      "\u001b[0;32m<ipython-input-27-d002e6a4c60a>\u001b[0m in \u001b[0;36m<module>\u001b[0;34m()\u001b[0m\n\u001b[0;32m----> 1\u001b[0;31m \u001b[0mresult\u001b[0m \u001b[0;34m=\u001b[0m \u001b[0mf\u001b[0m\u001b[0;34m(\u001b[0m\u001b[0;34m'varid'\u001b[0m\u001b[0;34m,\u001b[0m \u001b[0ms\u001b[0m\u001b[0;34m)\u001b[0m\u001b[0;34m\u001b[0m\u001b[0m\n\u001b[0m",
      "\u001b[0;31mNameError\u001b[0m: name 'f' is not defined"
     ]
    }
   ],
   "source": [
    "result = f('varid', s)"
   ]
  },
  {
   "cell_type": "markdown",
   "metadata": {},
   "source": [
    "where f is a file or dataset, and ‘varid’ is the string ID of a variable.\n",
    "\n",
    "A selector consists of a list of selector components. For example, the selector:"
   ]
  },
  {
   "cell_type": "code",
   "execution_count": 28,
   "metadata": {},
   "outputs": [
    {
     "ename": "SyntaxError",
     "evalue": "can't assign to literal (<ipython-input-28-13eb86b25414>, line 1)",
     "output_type": "error",
     "traceback": [
      "\u001b[0;36m  File \u001b[0;32m\"<ipython-input-28-13eb86b25414>\"\u001b[0;36m, line \u001b[0;32m1\u001b[0m\n\u001b[0;31m    time='1979-1-1', level=(1000.0,100.0)\u001b[0m\n\u001b[0;31mSyntaxError\u001b[0m\u001b[0;31m:\u001b[0m can't assign to literal\n"
     ]
    }
   ],
   "source": [
    "time='1979-1-1', level=(1000.0,100.0)"
   ]
  },
  {
   "cell_type": "markdown",
   "metadata": {},
   "source": [
    "has two components: time=’1979-1-1’, and level=(1000.0,100.0). This illustrates that selector components can be defined with keywords, using the form:"
   ]
  },
  {
   "cell_type": "code",
   "execution_count": 29,
   "metadata": {},
   "outputs": [
    {
     "ename": "NameError",
     "evalue": "name 'value' is not defined",
     "output_type": "error",
     "traceback": [
      "\u001b[0;31m---------------------------------------------------------------------------\u001b[0m",
      "\u001b[0;31mNameError\u001b[0m                                 Traceback (most recent call last)",
      "\u001b[0;32m<ipython-input-29-9c834a12222a>\u001b[0m in \u001b[0;36m<module>\u001b[0;34m()\u001b[0m\n\u001b[0;32m----> 1\u001b[0;31m \u001b[0mkeyword\u001b[0m\u001b[0;34m=\u001b[0m\u001b[0mvalue\u001b[0m\u001b[0;34m\u001b[0m\u001b[0m\n\u001b[0m",
      "\u001b[0;31mNameError\u001b[0m: name 'value' is not defined"
     ]
    }
   ],
   "source": [
    "keyword=value"
   ]
  },
  {
   "cell_type": "markdown",
   "metadata": {},
   "source": [
    "Note that for the keywords time, level, latitude, and longitude, the selector can be used with any variable. If the corresponding axis is not found, the selector component is ignored. This is very useful for writing general purpose scripts. The required keyword overrides this behavior. These keywords take values that are coordinate ranges or index ranges as defined in See Index and Coordinate Intervals.\n",
    "\n",
    "The following keywords are available: Another form of selector components is the positional form, where the component order corresponds to the axis order of a variable. For example:"
   ]
  },
  {
   "cell_type": "markdown",
   "metadata": {},
   "source": [
    "2.12.1. Table Selector Keywords\n",
    "Keyword \tDescription \tValue\n",
    "axisid \tRestrict the axis with ID axisid to a value or range of values. \tSee Index and Coordinate Intervals\n",
    "grid \tRegrid the result to the grid. \tGrid object\n",
    "latitude \tRestrict latitude values to a value or range. Short form: lat \tSee Index and Coordinate Intervals\n",
    "level \tRestrict vertical levels to a value or range. Short form: lev \tSee Index and Coordinate Intervals\n",
    "longitude \tRestrict longitude values to a value or range. Short form: lon \tSee Index and Coordinate Intervals\n",
    "order \tReorder the result. \tOrder string, e.g., ‘tzyx’\n",
    "raw \tReturn a masked array (MV2.array) rather than a transient variable. \t0: return a transient variable (default); =1: return a masked array.\n",
    "required \tRequire that the axis IDs be present. \tList of axis identifiers.\n",
    "squeeze \tRemove singleton dimensions from the result. \t0: leave singleton dimensions (default); 1: remove singleton dimensions.\n",
    "time \tRestrict time values to a value or range. \tSee Index and Coordinate Intervals\n",
    "\n",
    "Another form of selector components is the positional form, where the component order corresponds to the axis order of a variable. For example:"
   ]
  },
  {
   "cell_type": "code",
   "execution_count": 30,
   "metadata": {},
   "outputs": [
    {
     "ename": "NameError",
     "evalue": "name 'hus' is not defined",
     "output_type": "error",
     "traceback": [
      "\u001b[0;31m---------------------------------------------------------------------------\u001b[0m",
      "\u001b[0;31mNameError\u001b[0m                                 Traceback (most recent call last)",
      "\u001b[0;32m<ipython-input-30-e0c4be27cae5>\u001b[0m in \u001b[0;36m<module>\u001b[0;34m()\u001b[0m\n\u001b[0;32m----> 1\u001b[0;31m \u001b[0mx9\u001b[0m \u001b[0;34m=\u001b[0m \u001b[0mhus\u001b[0m\u001b[0;34m(\u001b[0m\u001b[0;34m(\u001b[0m\u001b[0;34m'1979-1-1'\u001b[0m\u001b[0;34m,\u001b[0m\u001b[0;34m'1979-2-1'\u001b[0m\u001b[0;34m)\u001b[0m\u001b[0;34m,\u001b[0m\u001b[0;36m1000.0\u001b[0m\u001b[0;34m)\u001b[0m\u001b[0;34m\u001b[0m\u001b[0m\n\u001b[0m",
      "\u001b[0;31mNameError\u001b[0m: name 'hus' is not defined"
     ]
    }
   ],
   "source": [
    "x9 = hus(('1979-1-1','1979-2-1'),1000.0)"
   ]
  },
  {
   "cell_type": "markdown",
   "metadata": {},
   "source": [
    "reads data for the range (‘1979-1-1’,’1979-2-1’) of the first axis, and coordinate value 1000.0 of the second axis. Non-keyword arguments of the form(s) listed in Index and Coordinate Intervals are treated as positional. Such selectors are more concise, but not as general or flexible as the other types described in this section.\n",
    "\n",
    "Selectors are objects in their own right. This means that a selector can be defined and reused, independent of a particular variable. Selectors are constructed using the cdms.selectors.Selector class. The constructor takes an argument list of selector components. For example:"
   ]
  },
  {
   "cell_type": "code",
   "execution_count": 31,
   "metadata": {},
   "outputs": [
    {
     "ename": "ImportError",
     "evalue": "No module named cdms.selectors",
     "output_type": "error",
     "traceback": [
      "\u001b[0;31m---------------------------------------------------------------------------\u001b[0m",
      "\u001b[0;31mImportError\u001b[0m                               Traceback (most recent call last)",
      "\u001b[0;32m<ipython-input-31-8eca49592914>\u001b[0m in \u001b[0;36m<module>\u001b[0;34m()\u001b[0m\n\u001b[0;32m----> 1\u001b[0;31m \u001b[0;32mfrom\u001b[0m \u001b[0mcdms\u001b[0m\u001b[0;34m.\u001b[0m\u001b[0mselectors\u001b[0m \u001b[0;32mimport\u001b[0m \u001b[0mSelector\u001b[0m\u001b[0;34m\u001b[0m\u001b[0m\n\u001b[0m\u001b[1;32m      2\u001b[0m \u001b[0msel\u001b[0m \u001b[0;34m=\u001b[0m \u001b[0mSelector\u001b[0m\u001b[0;34m(\u001b[0m\u001b[0mtime\u001b[0m\u001b[0;34m=\u001b[0m\u001b[0;34m(\u001b[0m\u001b[0;34m'1979-1-1'\u001b[0m\u001b[0;34m,\u001b[0m\u001b[0;34m'1979-2-1'\u001b[0m\u001b[0;34m)\u001b[0m\u001b[0;34m,\u001b[0m \u001b[0mlevel\u001b[0m\u001b[0;34m=\u001b[0m\u001b[0;36m1000.\u001b[0m\u001b[0;34m)\u001b[0m\u001b[0;34m\u001b[0m\u001b[0m\n\u001b[1;32m      3\u001b[0m \u001b[0mx1\u001b[0m \u001b[0;34m=\u001b[0m \u001b[0mv1\u001b[0m\u001b[0;34m(\u001b[0m\u001b[0msel\u001b[0m\u001b[0;34m)\u001b[0m\u001b[0;34m\u001b[0m\u001b[0m\n\u001b[1;32m      4\u001b[0m \u001b[0mx2\u001b[0m \u001b[0;34m=\u001b[0m \u001b[0mv2\u001b[0m\u001b[0;34m(\u001b[0m\u001b[0msel\u001b[0m\u001b[0;34m)\u001b[0m\u001b[0;34m\u001b[0m\u001b[0m\n\u001b[1;32m      5\u001b[0m \u001b[0;34m\u001b[0m\u001b[0m\n",
      "\u001b[0;31mImportError\u001b[0m: No module named cdms.selectors"
     ]
    }
   ],
   "source": [
    "from cdms.selectors import Selector\n",
    "sel = Selector(time=('1979-1-1','1979-2-1'), level=1000.)\n",
    "x1 = v1(sel)\n",
    "x2 = v2(sel)\n",
    "\n",
    "from cdms.selectors import Selector\n",
    "sel = Selector(time=('1979-1-1','1979-2-1'), level=1000.)\n",
    "x1 = v1(sel)\n",
    "x2 = v2(sel)"
   ]
  },
  {
   "cell_type": "markdown",
   "metadata": {},
   "source": [
    "For convenience CDMS provides several predefined selectors, which can be used directly or can be combined into more complex selectors. The selectors time, level, latitude, longitude, and required are equivalent to their keyword counterparts. For example:"
   ]
  },
  {
   "cell_type": "code",
   "execution_count": 32,
   "metadata": {},
   "outputs": [
    {
     "ename": "ImportError",
     "evalue": "No module named cdms",
     "output_type": "error",
     "traceback": [
      "\u001b[0;31m---------------------------------------------------------------------------\u001b[0m",
      "\u001b[0;31mImportError\u001b[0m                               Traceback (most recent call last)",
      "\u001b[0;32m<ipython-input-32-5dc8929e4571>\u001b[0m in \u001b[0;36m<module>\u001b[0;34m()\u001b[0m\n\u001b[0;32m----> 1\u001b[0;31m \u001b[0;32mfrom\u001b[0m \u001b[0mcdms\u001b[0m \u001b[0;32mimport\u001b[0m \u001b[0mtime\u001b[0m\u001b[0;34m,\u001b[0m \u001b[0mlevel\u001b[0m\u001b[0;34m\u001b[0m\u001b[0m\n\u001b[0m\u001b[1;32m      2\u001b[0m \u001b[0mx\u001b[0m \u001b[0;34m=\u001b[0m \u001b[0mhus\u001b[0m\u001b[0;34m(\u001b[0m\u001b[0mtime\u001b[0m\u001b[0;34m(\u001b[0m\u001b[0;34m'1979-1-1'\u001b[0m\u001b[0;34m,\u001b[0m\u001b[0;34m'1979-2-1'\u001b[0m\u001b[0;34m)\u001b[0m\u001b[0;34m,\u001b[0m \u001b[0mlevel\u001b[0m\u001b[0;34m(\u001b[0m\u001b[0;36m1000.\u001b[0m\u001b[0;34m)\u001b[0m\u001b[0;34m)\u001b[0m\u001b[0;34m\u001b[0m\u001b[0m\n",
      "\u001b[0;31mImportError\u001b[0m: No module named cdms"
     ]
    }
   ],
   "source": [
    "from cdms import time, level\n",
    "x = hus(time('1979-1-1','1979-2-1'), level(1000.))"
   ]
  },
  {
   "cell_type": "markdown",
   "metadata": {},
   "source": [
    "and\n",
    "\n",
    "are equivalent. Additionally, the predefined selectors latitudeslice, longitudeslice, levelslice, and timeslice take arguments (startindex, stopindex[, stride]):"
   ]
  },
  {
   "cell_type": "code",
   "execution_count": 33,
   "metadata": {},
   "outputs": [
    {
     "ename": "ImportError",
     "evalue": "No module named cdms",
     "output_type": "error",
     "traceback": [
      "\u001b[0;31m---------------------------------------------------------------------------\u001b[0m",
      "\u001b[0;31mImportError\u001b[0m                               Traceback (most recent call last)",
      "\u001b[0;32m<ipython-input-33-75bdea56ee7e>\u001b[0m in \u001b[0;36m<module>\u001b[0;34m()\u001b[0m\n\u001b[0;32m----> 1\u001b[0;31m \u001b[0;32mfrom\u001b[0m \u001b[0mcdms\u001b[0m \u001b[0;32mimport\u001b[0m \u001b[0mtimeslice\u001b[0m\u001b[0;34m,\u001b[0m \u001b[0mlevelslice\u001b[0m\u001b[0;34m\u001b[0m\u001b[0m\n\u001b[0m\u001b[1;32m      2\u001b[0m \u001b[0mx\u001b[0m \u001b[0;34m=\u001b[0m \u001b[0mv\u001b[0m\u001b[0;34m(\u001b[0m\u001b[0mtimeslice\u001b[0m\u001b[0;34m(\u001b[0m\u001b[0;36m0\u001b[0m\u001b[0;34m,\u001b[0m\u001b[0;36m2\u001b[0m\u001b[0;34m)\u001b[0m\u001b[0;34m,\u001b[0m \u001b[0mlevelslice\u001b[0m\u001b[0;34m(\u001b[0m\u001b[0;36m16\u001b[0m\u001b[0;34m,\u001b[0m\u001b[0;36m17\u001b[0m\u001b[0;34m)\u001b[0m\u001b[0;34m)\u001b[0m\u001b[0;34m\u001b[0m\u001b[0m\n",
      "\u001b[0;31mImportError\u001b[0m: No module named cdms"
     ]
    }
   ],
   "source": [
    "from cdms import timeslice, levelslice\n",
    "x = v(timeslice(0,2), levelslice(16,17))"
   ]
  },
  {
   "cell_type": "markdown",
   "metadata": {},
   "source": [
    "Finally, a collection of selectors is defined in module cdutil.region:"
   ]
  },
  {
   "cell_type": "code",
   "execution_count": 34,
   "metadata": {},
   "outputs": [
    {
     "ename": "SyntaxError",
     "evalue": "invalid syntax (<ipython-input-34-0559689c99c0>, line 3)",
     "output_type": "error",
     "traceback": [
      "\u001b[0;36m  File \u001b[0;32m\"<ipython-input-34-0559689c99c0>\"\u001b[0;36m, line \u001b[0;32m3\u001b[0m\n\u001b[0;31m    SH=SouthernHemisphere=domain(latitude=(-90.,0.))\u001b[0m\n\u001b[0m     ^\u001b[0m\n\u001b[0;31mSyntaxError\u001b[0m\u001b[0;31m:\u001b[0m invalid syntax\n"
     ]
    }
   ],
   "source": [
    "from cdutil.region import *\n",
    "NH=NorthernHemisphere=domain(latitude=(0.,90.)\n",
    "SH=SouthernHemisphere=domain(latitude=(-90.,0.))\n",
    "Tropics=domain(latitude=(-23.4,23.4))\n",
    "NPZ=AZ=ArcticZone=domain(latitude=(66.6,90.))\n",
    "SPZ=AAZ=AntarcticZone=domain(latitude=(-90.,-66.6))"
   ]
  },
  {
   "cell_type": "markdown",
   "metadata": {},
   "source": [
    "Selectors can be combined using the & operator, or by refining them in the call:"
   ]
  },
  {
   "cell_type": "code",
   "execution_count": 35,
   "metadata": {},
   "outputs": [
    {
     "ename": "ImportError",
     "evalue": "No module named cdms.selectors",
     "output_type": "error",
     "traceback": [
      "\u001b[0;31m---------------------------------------------------------------------------\u001b[0m",
      "\u001b[0;31mImportError\u001b[0m                               Traceback (most recent call last)",
      "\u001b[0;32m<ipython-input-35-4144c063767c>\u001b[0m in \u001b[0;36m<module>\u001b[0;34m()\u001b[0m\n\u001b[0;32m----> 1\u001b[0;31m \u001b[0;32mfrom\u001b[0m \u001b[0mcdms\u001b[0m\u001b[0;34m.\u001b[0m\u001b[0mselectors\u001b[0m \u001b[0;32mimport\u001b[0m \u001b[0mSelector\u001b[0m\u001b[0;34m\u001b[0m\u001b[0m\n\u001b[0m\u001b[1;32m      2\u001b[0m \u001b[0;32mfrom\u001b[0m \u001b[0mcdms\u001b[0m \u001b[0;32mimport\u001b[0m \u001b[0mlevel\u001b[0m\u001b[0;34m\u001b[0m\u001b[0m\n\u001b[1;32m      3\u001b[0m \u001b[0msel2\u001b[0m \u001b[0;34m=\u001b[0m \u001b[0mSelector\u001b[0m\u001b[0;34m(\u001b[0m\u001b[0mtime\u001b[0m\u001b[0;34m=\u001b[0m\u001b[0;34m(\u001b[0m\u001b[0;34m'1979-1-1'\u001b[0m\u001b[0;34m,\u001b[0m\u001b[0;34m'1979-2-1'\u001b[0m\u001b[0;34m)\u001b[0m\u001b[0;34m)\u001b[0m\u001b[0;34m\u001b[0m\u001b[0m\n\u001b[1;32m      4\u001b[0m \u001b[0msel3\u001b[0m \u001b[0;34m=\u001b[0m \u001b[0msel2\u001b[0m \u001b[0;34m&\u001b[0m \u001b[0mlevel\u001b[0m\u001b[0;34m(\u001b[0m\u001b[0;36m1000.0\u001b[0m\u001b[0;34m)\u001b[0m\u001b[0;34m\u001b[0m\u001b[0m\n\u001b[1;32m      5\u001b[0m \u001b[0mx1\u001b[0m \u001b[0;34m=\u001b[0m \u001b[0mhus\u001b[0m\u001b[0;34m(\u001b[0m\u001b[0msel3\u001b[0m\u001b[0;34m)\u001b[0m\u001b[0;34m\u001b[0m\u001b[0m\n",
      "\u001b[0;31mImportError\u001b[0m: No module named cdms.selectors"
     ]
    }
   ],
   "source": [
    "from cdms.selectors import Selector\n",
    "from cdms import level\n",
    "sel2 = Selector(time=('1979-1-1','1979-2-1'))\n",
    "sel3 = sel2 & level(1000.0)\n",
    "x1 = hus(sel3)\n",
    "x2 = hus(sel2, level=1000.0)"
   ]
  },
  {
   "cell_type": "markdown",
   "metadata": {},
   "source": [
    "2.12.2. Selector Examples\n",
    "\n",
    "CDMS provides a variety of ways to select or slice data. In the following examples, variable hus is contained in file sample.nc, and is a function of (time, level, latitude, longitude). Time values are monthly starting at 1979-1-1. There are 17 levels, the last level being 1000.0. The name of the vertical level axis is ‘plev’. All the examples select the first two times and the last level. The last two examples remove the singleton level dimension from the result array."
   ]
  },
  {
   "cell_type": "code",
   "execution_count": 36,
   "metadata": {},
   "outputs": [
    {
     "ename": "ImportError",
     "evalue": "No module named cdms",
     "output_type": "error",
     "traceback": [
      "\u001b[0;31m---------------------------------------------------------------------------\u001b[0m",
      "\u001b[0;31mImportError\u001b[0m                               Traceback (most recent call last)",
      "\u001b[0;32m<ipython-input-36-bfaa329923b0>\u001b[0m in \u001b[0;36m<module>\u001b[0;34m()\u001b[0m\n\u001b[0;32m----> 1\u001b[0;31m \u001b[0;32mimport\u001b[0m \u001b[0mcdms\u001b[0m\u001b[0;34m\u001b[0m\u001b[0m\n\u001b[0m\u001b[1;32m      2\u001b[0m \u001b[0mf\u001b[0m \u001b[0;34m=\u001b[0m \u001b[0mcdms\u001b[0m\u001b[0;34m.\u001b[0m\u001b[0mopen\u001b[0m\u001b[0;34m(\u001b[0m\u001b[0;34m'sample.nc'\u001b[0m\u001b[0;34m)\u001b[0m\u001b[0;34m\u001b[0m\u001b[0m\n\u001b[1;32m      3\u001b[0m \u001b[0mhus\u001b[0m \u001b[0;34m=\u001b[0m \u001b[0mf\u001b[0m\u001b[0;34m.\u001b[0m\u001b[0mvariables\u001b[0m\u001b[0;34m[\u001b[0m\u001b[0;34m'hus'\u001b[0m\u001b[0;34m]\u001b[0m\u001b[0;34m\u001b[0m\u001b[0m\n\u001b[1;32m      4\u001b[0m \u001b[0;34m\u001b[0m\u001b[0m\n\u001b[1;32m      5\u001b[0m \u001b[0;31m# Keyword selection\u001b[0m\u001b[0;34m\u001b[0m\u001b[0;34m\u001b[0m\u001b[0m\n",
      "\u001b[0;31mImportError\u001b[0m: No module named cdms"
     ]
    }
   ],
   "source": [
    "import cdms\n",
    "f = cdms.open('sample.nc')\n",
    "hus = f.variables['hus']\n",
    "\n",
    "# Keyword selection\n",
    "x = hus(time=('1979-1-1','1979-2-1'), level=1000.)\n",
    "\n",
    "# Interval indicator (see mapIntervalExt)\n",
    "x = hus(time=('1979-1-1','1979-3-1','co'), level=1000.)\n",
    "\n",
    "# Axis ID (plev) as a keyword\n",
    "x = hus(time=('1979-1-1','1979-2-1'), plev=1000.)\n",
    "\n",
    "# Positional\n",
    "x9 = hus(('1979-1-1','1979-2-1'),1000.0)\n",
    "\n",
    "# Predefined selectors\n",
    "from cdms import time, level\n",
    "x = hus(time('1979-1-1','1979-2-1'), level(1000.))\n",
    "\n",
    "from cdms import timeslice, levelslice\n",
    "x = hus(timeslice(0,2), levelslice(16,17))\n",
    "\n",
    "# Call file as a function\n",
    "x = f('hus', time=('1979-1-1','1979-2-1'), level=1000.)\n",
    "\n",
    "# Python slices\n",
    "x = hus(time=slice(0,2), level=slice(16,17))\n",
    "\n",
    "# Selector objects\n",
    "from cdms.selectors import Selector\n",
    "sel = Selector(time=('1979-1-1','1979-2-1'), level=1000.)\n",
    "x = hus(sel)\n",
    "\n",
    "sel2 = Selector(time=('1979-1-1','1979-2-1'))\n",
    "sel3 = sel2 & level(1000.0)\n",
    "x = hus(sel3)\n",
    "x = hus(sel2, level=1000.0)\n",
    "\n",
    "# Squeeze singleton dimension (level)\n",
    "x = hus[0:2,16]\n",
    "x = hus(time=('1979-1-1','1979-2-1'), level=1000., squeeze=1)\n",
    "\n",
    "f.close()"
   ]
  },
  {
   "cell_type": "markdown",
   "metadata": {},
   "source": [
    "2.13. Examples\n",
    "2.13.1. Example 1\n",
    "\n",
    "In this example, two datasets are opened, containing surface air temperature (‘tas’) and upper-air temperature (‘ta’) respectively. Surface air temperature is a function of (time, latitude, longitude). Upper-air temperature is a function of (time, level, latitude, longitude). Time is assumed to have a relative representation in the datasets (e.g., with units ‘months since basetime’).\n",
    "\n",
    "Data is extracted from both datasets for January of the first input year through December of the second input year. For each time and level, three quantities are calculated: slope, variance, and correlation. The results are written to a netCDF file. For brevity, the functions corrCoefSlope and removeSeasonalCycle are omitted."
   ]
  },
  {
   "cell_type": "code",
   "execution_count": 37,
   "metadata": {},
   "outputs": [
    {
     "ename": "SyntaxError",
     "evalue": "invalid syntax (<ipython-input-37-4f8ba2746bc5>, line 1)",
     "output_type": "error",
     "traceback": [
      "\u001b[0;36m  File \u001b[0;32m\"<ipython-input-37-4f8ba2746bc5>\"\u001b[0;36m, line \u001b[0;32m1\u001b[0m\n\u001b[0;31m    1.  import cdms\u001b[0m\n\u001b[0m             ^\u001b[0m\n\u001b[0;31mSyntaxError\u001b[0m\u001b[0;31m:\u001b[0m invalid syntax\n"
     ]
    }
   ],
   "source": [
    "1.  import cdms\n",
    "   import MV\n",
    "\n",
    "   # Calculate variance, slope, and correlation of\n",
    "   # surface air temperature with upper air temperature\n",
    "   # by level, and save to a netCDF file. 'pathTa' is the location of\n",
    "   # the file containing 'ta', 'pathTas' is the file with contains 'tas'.\n",
    "   # Data is extracted from January of year1 through December of year2.\n",
    "   def ccSlopeVarianceBySeasonFiltNet(pathTa,pathTas,month1,month2):\n",
    "\n",
    "       # Open the files for ta and tas\n",
    "       fta = cdms.open(pathTa)\n",
    "       ftas = cdms.open(pathTas)\n",
    "\n",
    "2.      #Get upper air temperature\n",
    "       taObj = fta['ta']\n",
    "       levs = taObj.getLevel()\n",
    "\n",
    "       #Get the surface temperature for the closed interval [time1,time2]\n",
    "       tas = ftas('tas', time=(month1,month2,'cc'))\n",
    "\n",
    "       # Allocate result arrays\n",
    "       newaxes = taObj.getAxisList(omit='time')\n",
    "       newshape = tuple([len(a) for a in newaxes])\n",
    "       cc = MV.zeros(newshape, typecode=MV.Float, axes=newaxes, id='correlation')\n",
    "       b = MV.zeros(newshape, typecode=MV.Float, axes=newaxes, id='slope')\n",
    "       v = MV.zeros(newshape, typecode=MV.Float, axes=newaxes, id='variance')\n",
    "\n",
    "       # Remove seasonal cycle from surface air temperature\n",
    "       tas = removeSeasonalCycle(tas)\n",
    "\n",
    "       # For each level of air temperature, remove seasonal cycle\n",
    "       # from upper air temperature, and calculate statistics\n",
    "5.      for ilev in range(len(levs)):\n",
    "\n",
    "           ta = taObj(time=(month1,month2,'cc'), \\\n",
    "                      level=slice(ilev, ilev+1), squeeze=1)\n",
    "           ta = removeSeasonalCycle(ta)\n",
    "           cc[ilev], b[ilev] = corrCoefSlope(tas ,ta)\n",
    "           v[ilev] = MV.sum( ta**2 )/(1.0*ta.shape[0])\n",
    "\n",
    "       # Write slope, correlation, and variance variables\n",
    "6.      f = cdms.open('CC_B_V_ALL.nc','w')\n",
    "       f.title = filtered\n",
    "       f.write(b)\n",
    "       f.write(cc)\n",
    "       f.write(v)\n",
    "       f.close()\n",
    "\n",
    "7.  if __name__=='__main__':\n",
    "       pathTa = '/pcmdi/cdms/sample/ccmSample_ta.xml'\n",
    "       pathTas = '/pcmdi/cdms/sample/ccmSample_tas.xml'\n",
    "       # Process Jan80 through Dec81\n",
    "       ccSlopeVarianceBySeasonFiltNet(pathTa,pathTas,'80-1','81-12')"
   ]
  },
  {
   "cell_type": "markdown",
   "metadata": {},
   "source": [
    "Notes:"
   ]
  },
  {
   "cell_type": "markdown",
   "metadata": {},
   "source": [
    "1.   Two modules are imported, \"cdms\", and \"MV\". \"MV\" implements\n",
    "     arithmetic functions.\n",
    "15.  \"taObj\" is a file (persistent) variable. At this point, no data has\n",
    "     actually been read. This happens when the file variable is sliced, or\n",
    "     when the subRegion function is called. levs is an axis.\n",
    "20.  Calling the file like a function reads data for the given variable\n",
    "     and time range. Note that month1 and month2 are time strings.\n",
    "25.  In contrast to \"taObj\", the variables \"cc:\" b\" and \"v\" are\n",
    "     transient variables, not associated with a file. The assigned names\n",
    "     are used when the variables are written.\n",
    "34.  Another way to read data is to call the variable as a function. The\n",
    "     squeeze option removes singleton axes, in this case the level axis.\n",
    "43.  Write the data. Axis information is written automatically.\n",
    "50.  This is the main routine of the script. \"pathTa\" and \"pathTas\"\n",
    "     pathnames. Data is processed from January 1980 through December 1981.\n"
   ]
  },
  {
   "cell_type": "markdown",
   "metadata": {},
   "source": [
    "2.13.2. Example 2\n",
    "\n",
    "In the next example, the pointwise variance of a variable over time is calculated, for all times in a dataset. The name of the dataset and variable are entered, then the variance is calculated and plotted via the vcs module."
   ]
  },
  {
   "cell_type": "code",
   "execution_count": 38,
   "metadata": {},
   "outputs": [
    {
     "ename": "SyntaxError",
     "evalue": "invalid syntax (<ipython-input-38-146506d4a068>, line 13)",
     "output_type": "error",
     "traceback": [
      "\u001b[0;36m  File \u001b[0;32m\"<ipython-input-38-146506d4a068>\"\u001b[0;36m, line \u001b[0;32m13\u001b[0m\n\u001b[0;31m    print Hit return to continue: ,\u001b[0m\n\u001b[0m                   ^\u001b[0m\n\u001b[0;31mSyntaxError\u001b[0m\u001b[0;31m:\u001b[0m invalid syntax\n"
     ]
    }
   ],
   "source": [
    "#!/usr/bin/env python\n",
    "#\n",
    "# Calculates gridpoint total variance\n",
    "# from an array of interest\n",
    "#\n",
    "\n",
    "import cdms\n",
    "from MV import *\n",
    "\n",
    "# Wait for return in an interactive window\n",
    "\n",
    "def pause():\n",
    "    print Hit return to continue: ,\n",
    "    line = sys.stdin.readline()\n",
    "\n",
    "1.      # Calculate pointwise variance of variable over time\n",
    "# Returns the variance and the number of points\n",
    "# for which the data is defined, for each grid point\n",
    "def calcVar(x):\n",
    "    # Check that the first axis is a time axis\n",
    "    firstaxis = x.getAxis(0)\n",
    "    if not firstaxis.isTime():\n",
    "        raise 'First axis is not time, variable:', x.id\n",
    "\n",
    "    n = count(x,0)\n",
    "    sumxx = sum(x*x)\n",
    "    sumx = sum(x)\n",
    "    variance = (n*sumxx -(sumx * sumx))/(n * (n-1.))\n",
    "\n",
    "    return variance, n\n",
    "\n",
    "  if __name__=='__main__':\n",
    "    import vcs, sys\n",
    "\n",
    "    print 'Enter dataset path [/pcmdi/cdms/obs/erbs_mo.xml]: ',\n",
    "    path = string.strip(sys.stdin.readline())\n",
    "    if path=='': path='/pcmdi/cdms/obs/erbs_mo.xml'\n",
    "\n",
    "2.  # Open the dataset\n",
    "    dataset = cdms.open(path)\n",
    "\n",
    "    # Select a variable from the dataset\n",
    "    print 'Variables in file:',path\n",
    "    varnames = dataset.variables.keys()\n",
    "    varnames.sort()\n",
    "    for varname in varnames:\n",
    "\n",
    "        var = dataset.variables[varname]\n",
    "        if hasattr(var,'long_name'):\n",
    "            long_name = var.long_name\n",
    "        elif hasattr(var,'title'):\n",
    "            long_name = var.title\n",
    "        else:\n",
    "            long_name = '?'\n",
    "\n",
    "    print '%-10s: %s'%(varname,long_name)\n",
    "    print 'Select a variable: ',\n",
    "3.  varname = string.strip(sys.stdin.readline())\n",
    "    var = dataset(varname)\n",
    "    dataset.close()\n",
    "\n",
    "    # Calculate variance, count, and set attributes\n",
    "    variance,n = calcVar(var)\n",
    "    variance.id = 'variance_%s'%var.id\n",
    "    n.id = 'count_%s'%var.id\n",
    "    if hasattr(var,'units'):\n",
    "        variance.units = '(%s)^2'%var.units\n",
    "\n",
    "    # Plot variance\n",
    "    w=vcs.init()\n",
    "4.  w.plot(variance)\n",
    "    pause()\n",
    "    w.clear()\n",
    "    w.plot(n)\n",
    "    pause()\n",
    "    w.clear()"
   ]
  },
  {
   "cell_type": "markdown",
   "metadata": {},
   "source": [
    "The result of running this script is as follows:"
   ]
  },
  {
   "cell_type": "code",
   "execution_count": 39,
   "metadata": {},
   "outputs": [
    {
     "ename": "SyntaxError",
     "evalue": "invalid syntax (<ipython-input-39-c9449c99bff5>, line 2)",
     "output_type": "error",
     "traceback": [
      "\u001b[0;36m  File \u001b[0;32m\"<ipython-input-39-c9449c99bff5>\"\u001b[0;36m, line \u001b[0;32m2\u001b[0m\n\u001b[0;31m    Enter dataset path [/pcmdi/cdms/sample/obs/erbs_mo.xml]:\u001b[0m\n\u001b[0m                ^\u001b[0m\n\u001b[0;31mSyntaxError\u001b[0m\u001b[0;31m:\u001b[0m invalid syntax\n"
     ]
    }
   ],
   "source": [
    "% calcVar.py\n",
    "Enter dataset path [/pcmdi/cdms/sample/obs/erbs_mo.xml]:\n",
    "\n",
    "Variables in file: /pcmdi/cdms/sample/obs/erbs_mo.xml\n",
    "albt    : Albedo TOA [%]\n",
    "albtcs : Albedo TOA clear sky [%]\n",
    "rlcrft  : LW Cloud Radiation Forcing TOA [W/m^2]\n",
    "rlut    : LW radiation TOA (OLR) [W/m^2]\n",
    "rlutcs : LW radiation upward TOA clear sky [W/m^2]\n",
    "rscrft : SW Cloud Radiation Forcing TOA [W/m^2]\n",
    "rsdt    : SW radiation downward TOA [W/m^2]\n",
    "rsut    : SW radiation upward TOA [W/m^2]\n",
    "rsutcs : SW radiation upward TOA clear sky [W/m^2]\n",
    "Select a variable: albt\n",
    "\n",
    "<The variance is plotted>\n",
    "\n",
    "Hit return to continue:\n",
    "\n",
    "<The number of points is plotted>"
   ]
  },
  {
   "cell_type": "markdown",
   "metadata": {},
   "source": [
    "Notes:\n",
    "\n",
    "    n = count(x, 0) returns the pointwise number of valid values, summing across axis 0, the first axis. count is an MV function.\n",
    "    dataset is a Dataset or CdmsFile object, depending on whether a .xml or .nc pathname is entered. dataset.variables is a dictionary mapping variable name to file variable.\n",
    "    var is a transient variable.\n",
    "    Plot the variance and count variables. Spatial longitude and latitude information are carried with the computations, so the continents are plotted correctly.\n"
   ]
  }
 ],
 "metadata": {
  "kernelspec": {
   "display_name": "Python 2",
   "language": "python",
   "name": "python2"
  },
  "language_info": {
   "codemirror_mode": {
    "name": "ipython",
    "version": 2
   },
   "file_extension": ".py",
   "mimetype": "text/x-python",
   "name": "python",
   "nbconvert_exporter": "python",
   "pygments_lexer": "ipython2",
   "version": "2.7.15"
  }
 },
 "nbformat": 4,
 "nbformat_minor": 2
}
