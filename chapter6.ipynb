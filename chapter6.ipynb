{
 "cells": [
  {
   "cell_type": "markdown",
   "metadata": {},
   "source": [
    "# Climate Data Markup Language (CDML)"
   ]
  },
  {
   "cell_type": "markdown",
   "metadata": {},
   "source": [
    "## Introduction\n",
    "\n",
    "The Climate Data Markup Language (CDML) is the markup language used to represent metadata in CDMS. CDML is based on the W3C XML standard (https://www.w3.org). This chapter defines the syntax of CDML. Read this section if you will be building or maintaining a CDMS database.\n",
    "\n",
    "XML, the eXtensible Markup Language, makes it possible to define interoperable dialects of markup languages. The most recent version of HTML, the Web hypertext markup language, is an XML dialect. CDML is also an XML dialect, geared toward the representation of gridded climate datasets. XML provides rigor to the metadata representation, ensuring that applications can access it correctly. XML also deals with internationalization issues, and holds forth the promise that utilities for browsing, editing, and other common tasks will be available in the future.\n",
    "\n",
    "CDML files have the file extension .xml or .cdml."
   ]
  },
  {
   "cell_type": "markdown",
   "metadata": {},
   "source": [
    "### Elements\n",
    "\n",
    "A CDML document consists of a nested collection of elements. An element is a description of the metadata associated with a CDMS object. The form of an element is:\n",
    "\n",
    "<tag attribute-list> element-content </tag>\n",
    "\n",
    "or\n",
    "\n",
    "<tag attribute-list />\n",
    "\n",
    "where\n",
    "\n",
    "    tag is a string which defines the type of element\n",
    "\n",
    "    attribute-list is a blank-separated list of attribute-value pairs, of the form:\n",
    "\n",
    "    attribute = \"value\"\n",
    "\n",
    "    element-content depends on the type of element. It is either a list of elements, or text which defines the element values. For example, the content of an axis element either is a list of axis values, or is a linear element.\n",
    "\n",
    "    For datasets, the content is the blank-separated list of elements corresponding to the axes, grids, and variables contained in the dataset.\n",
    "\n",
    "The CDML elements are:"
   ]
  },
  {
   "cell_type": "code",
   "execution_count": null,
   "metadata": {},
   "outputs": [],
   "source": [
    "CDML Tags\n",
    "Tag \tDescription\n",
    "attr \tExtra attribute\n",
    "axis \tCoordinate axis\n",
    "domain \tAxes on which a variable is defined\n",
    "domElem \tElement of a variable domain\n",
    "linear \tLinearly-spaced axis values\n",
    "rectGrid \tRectilinear Grid\n",
    "variable \tVariable\n",
    "6.3. Special Characters\n",
    "\n",
    "XML reserves certain characters for markup. If they appear as content, they must be encoded to avoid confusion with markup:\n",
    "6.3.1. Special Character Encodings\n",
    "Character \tEncoding\n",
    "< \t&lt;\n",
    "> \t&gt;\n",
    "& \t&amp;\n",
    "“ \t&quot;\n",
    "‘ \t&apos;\n",
    "\n",
    "For example, the comment\n",
    "\n",
    "Certain “special characters”, such as <, >, and ‘, must be encoded.\n",
    "\n",
    "would appear in an attribute string as:\n",
    "\n",
    "comment = “Certain &quot;special characters&quot;, such as &lt;, &gt;, and &apos;, must be encoded.”\n",
    "6.4. Identifiers\n",
    "\n",
    "In CDMS, all objects in a dataset have a unique string identifier. The id attribute holds the value of this identifier. If the variable, axis, or grid has a string name within a data file, then the id attribute ordinarily has this value. Alternatively, the name of the object in a data file can be stored in the name_in_file attribute, which can differ from the id. Datasets also have IDs, which can be used within a larger context (databases).\n",
    "\n",
    "An identifer must start with an alphabetic character (upper or lower case), an underscore (_), or a colon (:). Characters after the first must be alphanumeric, an underscore, or colon. There is no restriction on the length of an identifier.\n",
    "6.5. CF Metadata Standard\n",
    "\n",
    "The CF metadata standard defines a set of conventions for usage of netCDF. This standard is supported by CDML. The document defines names and usage for metadata attributes. CF supersedes the GDT 1.3 standard.\n"
   ]
  },
  {
   "cell_type": "markdown",
   "metadata": {},
   "source": [
    "CDML Syntax\n",
    "\n",
    "The following notation is used in this section:\n",
    "\n",
    "    A monospaced block is used for a syntax specification.\n",
    "    Bold text indicates literals.\n",
    "    (R|S) denotes either R or S.\n",
    "    R* denotes zero or more R.\n",
    "    R+ denotes one or more R.\n",
    "\n",
    "A CDML document consists of a prolog followed by a single dataset element.\n",
    "\n",
    "CDML-document ::= prolog dataset-element\n",
    "\n",
    "The prolog defines the XML version, and the Document Type Definition (DTD), a formal specification of the document syntax. See https://www.w3.org/TR/1998/REC-xml-19980210 for a formal definition of XML\n",
    "\n",
    "Version 1.0."
   ]
  },
  {
   "cell_type": "code",
   "execution_count": 8,
   "metadata": {},
   "outputs": [
    {
     "ename": "SyntaxError",
     "evalue": "invalid syntax (<ipython-input-8-130c373f7254>, line 1)",
     "output_type": "error",
     "traceback": [
      "\u001b[0;36m  File \u001b[0;32m\"<ipython-input-8-130c373f7254>\"\u001b[0;36m, line \u001b[0;32m1\u001b[0m\n\u001b[0;31m    prolog ::= <?xml version=\"1.0\"?> <!DOCTYPE dataset SYSTEM \"https://www-pcmdi.llnl.gov/~drach/cdms/cdml.dtd\">\u001b[0m\n\u001b[0m           ^\u001b[0m\n\u001b[0;31mSyntaxError\u001b[0m\u001b[0;31m:\u001b[0m invalid syntax\n"
     ]
    }
   ],
   "source": [
    "prolog ::= <?xml version=\"1.0\"?> <!DOCTYPE dataset SYSTEM \"https://www-pcmdi.llnl.gov/~drach/cdms/cdml.dtd\">"
   ]
  },
  {
   "cell_type": "code",
   "execution_count": 20,
   "metadata": {},
   "outputs": [
    {
     "ename": "SyntaxError",
     "evalue": "invalid syntax (<ipython-input-20-4047fb6f67fd>, line 1)",
     "output_type": "error",
     "traceback": [
      "\u001b[0;36m  File \u001b[0;32m\"<ipython-input-20-4047fb6f67fd>\"\u001b[0;36m, line \u001b[0;32m1\u001b[0m\n\u001b[0;31m    Dataset Element\u001b[0m\n\u001b[0m                  ^\u001b[0m\n\u001b[0;31mSyntaxError\u001b[0m\u001b[0;31m:\u001b[0m invalid syntax\n"
     ]
    }
   ],
   "source": [
    "Dataset Element\n",
    "\n",
    "A dataset element describes a single dataset. The content is a list of elements corresponding to the axes, grids, and variables contained in the dataset. Axis, variable, and grid elements can be listed in any order, and an element ID can be used before the element is actually defined."
   ]
  },
  {
   "cell_type": "code",
   "execution_count": 9,
   "metadata": {},
   "outputs": [
    {
     "ename": "SyntaxError",
     "evalue": "invalid syntax (<ipython-input-9-aea7f2e4e3a8>, line 1)",
     "output_type": "error",
     "traceback": [
      "\u001b[0;36m  File \u001b[0;32m\"<ipython-input-9-aea7f2e4e3a8>\"\u001b[0;36m, line \u001b[0;32m1\u001b[0m\n\u001b[0;31m    dataset-element ::= <dataset dataset-attributes> dataset-content </dataset>\u001b[0m\n\u001b[0m                    ^\u001b[0m\n\u001b[0;31mSyntaxError\u001b[0m\u001b[0;31m:\u001b[0m invalid syntax\n"
     ]
    }
   ],
   "source": [
    "dataset-element ::= <dataset dataset-attributes> dataset-content </dataset>"
   ]
  },
  {
   "cell_type": "code",
   "execution_count": 10,
   "metadata": {},
   "outputs": [
    {
     "ename": "SyntaxError",
     "evalue": "invalid syntax (<ipython-input-10-9faa804948a9>, line 1)",
     "output_type": "error",
     "traceback": [
      "\u001b[0;36m  File \u001b[0;32m\"<ipython-input-10-9faa804948a9>\"\u001b[0;36m, line \u001b[0;32m1\u001b[0m\n\u001b[0;31m    dataset-content ::= (axis-element | grid-element | variable-element)* extra-attribute-element+\u001b[0m\n\u001b[0m                    ^\u001b[0m\n\u001b[0;31mSyntaxError\u001b[0m\u001b[0;31m:\u001b[0m invalid syntax\n"
     ]
    }
   ],
   "source": [
    "dataset-content ::= (axis-element | grid-element | variable-element)* extra-attribute-element+"
   ]
  },
  {
   "cell_type": "markdown",
   "metadata": {},
   "source": [
    "Dataset Attributes\n",
    "Attribute \tRequired \tCF \tGDT \tNotes\n",
    "appendices \tN \tN \tY \tVersion number\n",
    "calendar \tN \tN \tY \t\n",
    "\n",
    "Calendar used for encoding time axes.\n",
    "\n",
    "        gregorian | julian | noleap |360_day | proleptic_gregorian | standard\n",
    "\n",
    "    Note: for the CF convention, the calendar attribute is placed on the time axis.\n",
    "\n",
    "comment \tN \tY \tY \tAdditional dataset information\n",
    "conventions \tY \tY \tY \tThe netCDF metadata standard. Example: ‘CF-1.0’\n",
    "cdms_filemap \tY \tN \tN \tMap of partitioned axes to files. See note below.\n",
    "directory \tN \tN \tN \tRoot directory of the dataset\n",
    "frequency \tN \tN \tN \tTemporal frequency\n",
    "history \tN \tY \tY \tEvolution of the data\n",
    "id \tY \tN \tN \tDataset identifier\n",
    "institution \tN \tY \tY \tWho made or supplied the data\n",
    "production \tN \tN \tY \tHow the data was produced (see source)\n",
    "project \tN \tN \tN \tProject associated with the data Example: ‘CMIP 2’\n",
    "references \tN \tY \tN \tPublished or web-based references that describe the data or methods used to produce it\n",
    "source \tN \tY \tN \tThe method of production of the original data.\n",
    "template \tN \tN \tN \tFilename template. This is an alternate mechanism, other than cdms_filemap, for describing the file mapping. See ‘cdimport -h’ for details.\n",
    "title \tN \tY \tN \tA succinct description of the data."
   ]
  },
  {
   "cell_type": "markdown",
   "metadata": {},
   "source": [
    "Notes:\n",
    "\n",
    "The cdms_filemap attribute describes how the dataset is partitioned into files. The format is:"
   ]
  },
  {
   "cell_type": "markdown",
   "metadata": {},
   "source": [
    "filemap ::= [ varmap, varmap, ...]\n",
    "varmap ::= [ namelist, slicelist ]\n",
    "namelist ::= [ name, name, ... ]\n",
    "slicelist ::= [ indexlist, indexlist, ,,, ]\n",
    "indexlist ::= [ time0, time1, lev0, lev1, path ]\n",
    "name ::= variable name\n",
    "time0 ::= first index of time in the file, or '-' if not split on time\n",
    "time1 ::= last index of time + 1, in the file, or '-' if not split on time\n",
    "lev0 ::= first index of vertical levels in the file, or '-' if not split on level\n",
    "lev1 ::= last index +1 of vertical levels in the file, or '-' if not split on level\n",
    "path ::= pathname of the file containing data for this time/level range.\n",
    "\n",
    "The pathname is appended to the value of the directory attribute, to obtain an absolute pathname.\n"
   ]
  },
  {
   "cell_type": "markdown",
   "metadata": {},
   "source": [
    "Axis Element\n",
    "\n",
    "An axis element describes a single coordinate axis. The content can be a blank-separated list of axis values or a linear element. A linear element is a representation of a linearly-spaced axis as (start, delta, length).\n",
    "\n",
    "axis-element ::= <axis axis-attributes> axis-content </axis>\n",
    "\n",
    "axis-content ::= (axis-values | linear-element) extra-attribute-element*\n",
    "\n",
    "axis-values ::= [value*]\n",
    "\n",
    "linear-element ::= <linear delta= \"value” length= “Integer“ start= “value“ > </linear>"
   ]
  },
  {
   "cell_type": "markdown",
   "metadata": {},
   "source": [
    "Axis Elements\n",
    "Attribute \tRequired? \tCF \tGDT \tNotes\n",
    "associate \tN \tN \tY \tIDs of variables containing alternative sets of coordinates.\n",
    "axis \tN \tY \tY \t\n",
    "\n",
    "The spatial type of the axis:\n",
    "\n",
    "        ‘T’ - time\n",
    "        ‘X’ - longitude\n",
    "        ‘Y’ - latitude\n",
    "        ‘Z’ - vertical level\n",
    "        ‘-‘ - not spatiotemporal\n",
    "\n",
    "bounds \tN \tY \tY \tID of the boundary variable\n",
    "calendar \tN \tY \tN \tSee dataset.calendar\n",
    "climatology \tN \tY \tN \tRange of dates to which climatological statistics apply.\n",
    "comment \tN \tY \tN \tString comment\n",
    "compress \tN \tY \tY \tDimensions which have been compressed by gathering\n",
    "datatype \tY \tN \tN \tChar, Short, Long, Float, Double, or String\n",
    "dates \tN \tY \tN \tRange of dates to which statistics for a typical diurnal cycle apply.\n",
    "expand \tN \tN \tY \tCoordinates prior to contraction\n",
    "formula_terms \tN \tY \tN \tVariables that correspond to the terms in a formula.\n",
    "id \tY \tN \tN \tAxis identifier. Also the name of the axis in the underlying file(s), if name_in_file is undefined.\n",
    "isvar \tN \tN \tN \t\n",
    "\n",
    "‘true’ | ‘false’\n",
    "\n",
    "        ‘false’ if the axis does not have coordinate values explicitly defined in the underlying file(s).\n",
    "        Default: ‘true’\n",
    "\n",
    "leap_month \tN \tY \tN \tFor a user-defined calendar, the month which is lengthened by a day in leap years.\n",
    "leap_year \tN \tY \tN \tAn example of a leap year for a user-defined calendar. All years that differ from this year by a multiple of four are leap years.\n",
    "length \tN \tN \tN \tNumber of axis values, including values for which no data is defined. Cf. partition_length.\n",
    "long_name \tN \tY \tY \tLong description of a physical quantity\n",
    "modulo \tN \tN \tY \tArithmetic modulo of an axis with circular topology.\n",
    "month_lengths \tN \tY \tN \tLength of each month in a non-leap year for a user-defined calendar.\n",
    "name_in_file \tN \tN \tN \tName of the axis in the underlying file(s). See id.\n",
    "partition \tN \tN \tN \tHow the axis is split across files.\n",
    "partition_length \tN \tN \tN \tNumber of axis points for which data is actually defined. If data is missing for some values, this will be smaller than the length.\n",
    "positive \tN \tY \tY \tDirection of positive for a vertical axis\n",
    "standard_name \tN \tY \tN \tReference to an entry in the standard name table.\n",
    "topology \tN \tN \tY \t\n",
    "\n",
    "Axis topology.\n",
    "\n",
    "        ‘circular’ | ‘linear’\n",
    "\n",
    "units \tY \tY \tY \tUnits of a physical quantity\n",
    "weights \tN \tN \tN \tName of the weights array"
   ]
  },
  {
   "attachments": {
    "image.png": {
     "image/png": "[encoded data removed]"
    }
   },
   "cell_type": "markdown",
   "metadata": {},
   "source": [
    "Partition attribute\n",
    "\n",
    "For an axis in a dataset, the .partition attribute describes how an axis is split across files. It is a list of the start and end indices of each axis partition.\n",
    "\n",
    "FIGURE 4. Partitioned axis\n",
    "\n",
    "![image.png](attachment:image.png)\n",
    "\n",
    "For example, Figure 4 shows a time axis, representing the 36 months, January 1980 through December 1982, with December 1981 missing. The first partition interval is (0,12), the second is (12,23), and the third is (24,36), where the interval (i,j) represents all indices k such that i <= k < j. The .partition attribute for this axis would be the list:\n",
    "\n",
    "[0, 12, 12, 23, 24, 36]\n",
    "\n",
    "Note that the end index of the second interval is strictly less than the start index of the following interval. This indicates that data for that period is missing."
   ]
  },
  {
   "cell_type": "markdown",
   "metadata": {},
   "source": [
    "Grid Element\n",
    "\n",
    "A grid element describes a horizontal, latitude-longitude grid which is rectilinear in topology,"
   ]
  },
  {
   "cell_type": "code",
   "execution_count": 12,
   "metadata": {},
   "outputs": [
    {
     "ename": "SyntaxError",
     "evalue": "invalid syntax (<ipython-input-12-fb65ddd0f4b5>, line 1)",
     "output_type": "error",
     "traceback": [
      "\u001b[0;36m  File \u001b[0;32m\"<ipython-input-12-fb65ddd0f4b5>\"\u001b[0;36m, line \u001b[0;32m1\u001b[0m\n\u001b[0;31m    grid-element ::= <rectGrid grid-attributes> extra-attribute-element* </rectGrid>\u001b[0m\n\u001b[0m                 ^\u001b[0m\n\u001b[0;31mSyntaxError\u001b[0m\u001b[0;31m:\u001b[0m invalid syntax\n"
     ]
    }
   ],
   "source": [
    "grid-element ::= <rectGrid grid-attributes> extra-attribute-element* </rectGrid>"
   ]
  },
  {
   "cell_type": "markdown",
   "metadata": {},
   "source": [
    "RectGrid Attributes"
   ]
  },
  {
   "cell_type": "code",
   "execution_count": 13,
   "metadata": {},
   "outputs": [
    {
     "ename": "SyntaxError",
     "evalue": "invalid syntax (<ipython-input-13-ce3bc36b80f8>, line 1)",
     "output_type": "error",
     "traceback": [
      "\u001b[0;36m  File \u001b[0;32m\"<ipython-input-13-ce3bc36b80f8>\"\u001b[0;36m, line \u001b[0;32m1\u001b[0m\n\u001b[0;31m    <th>Attribute</th> <th>Required?</th> <th>GDT?</th> <th>Notes</th>\u001b[0m\n\u001b[0m    ^\u001b[0m\n\u001b[0;31mSyntaxError\u001b[0m\u001b[0;31m:\u001b[0m invalid syntax\n"
     ]
    }
   ],
   "source": [
    "<th>Attribute</th> <th>Required?</th> <th>GDT?</th> <th>Notes</th>\n",
    "\n",
    "<tr><td><code>id</code></td><td>Y</td><td>N</td><td>Grid identifier</td></tr>\n",
    "<tr><td><code>type</code></td><td>Y</td><td>N</td><td><p>Grid classification</p><p>\"gaussian\" | \"uniform\"\n",
    "| \"equalarea\" |\"generic\"</p><p>Default: \"generic\"</p></td></tr>\n",
    "<tr><td><code>latitude</code></td><td>Y</td><td>N</td><td>Latitude axis name</td></tr>\n",
    "<tr><td><code>longitude</code></td><td>Y</td><td>N</td><td>Longitude axis name</td></tr>\n",
    "<tr><td><code>mask</code></td><td>N</td><td>N</td><td>Name of associated mask variable</td></tr>\n",
    "<tr><td><code>order</code></td><td>Y</td><td>N</td><td><p>Grid ordering \"yx\"\n",
    " | \"xy\"</p><p>Default: “yx”, axis order is latitude, longitude</p></td></tr>\n",
    "\n"
   ]
  },
  {
   "cell_type": "markdown",
   "metadata": {},
   "source": [
    "Variable Element\n",
    "\n",
    "A variable element describes a data variable. The domain of the variable is an ordered list of domain elements naming the axes on which the variable is defined. A domain element is a reference to an axis or grid in the dataset.\n",
    "\n",
    "The length of a domain element is the number of axis points for which data can be retrieved. The partition_length is the number of points for which data is actually defined. If data is missing, this is less than the length."
   ]
  },
  {
   "cell_type": "code",
   "execution_count": 14,
   "metadata": {},
   "outputs": [
    {
     "ename": "SyntaxError",
     "evalue": "invalid syntax (<ipython-input-14-582909b45b93>, line 1)",
     "output_type": "error",
     "traceback": [
      "\u001b[0;36m  File \u001b[0;32m\"<ipython-input-14-582909b45b93>\"\u001b[0;36m, line \u001b[0;32m1\u001b[0m\n\u001b[0;31m    variable-element ::= <variable variable-attributes> variable-content </variable>\u001b[0m\n\u001b[0m                     ^\u001b[0m\n\u001b[0;31mSyntaxError\u001b[0m\u001b[0;31m:\u001b[0m invalid syntax\n"
     ]
    }
   ],
   "source": [
    "variable-element ::= <variable variable-attributes> variable-content </variable>\n",
    "\n",
    "variable-content ::= variable-domain extra-attributeelement*`\n",
    "\n",
    "variable-domain ::= <domain> domain-element* </domain>\n",
    "\n",
    "domain-element ::= <domElem name=”axis-name”** start=”``Integer``” **length=**”``Integer``” **partition_length=**”``Integer``”/>**"
   ]
  },
  {
   "cell_type": "markdown",
   "metadata": {},
   "source": [
    "Variable Attributes\n",
    "Attribute \tRequired? \tCF \tGDT \tNotes\n",
    "id \tY \tN \tN \tVariable identifier. Also, the name of the variable in the underlying file(s), if name_in_file is undefined.\n",
    "ad_offset \tN \tY \tY \tAdditive offset for packing data. See scale_factor.\n",
    "associate \tN \tN \tY \tIDs of variables containing alternative sets of coordinates Spatio-temporal dimensions.\n",
    "axis \tN \tN \tY \tExample: TYX for a variable with domain (time, latitude, longitude) Note: for CF, applies to axes only.\n",
    "cell_methods \tN \tY \tN \tThe method used to derive data that represents cell values, e.g., maximum,mean,variance, etc.\n",
    "comments \tN \tN \tN \tComment string\n",
    "coordinates \tN \tY \tN \tIDs of variables containing coordinate data.\n",
    "datatype \tY \tN \tN \tChar, Short, Long, Float, Double, or String\n",
    "grid_name \tN \tN \tN \tId of the grid.\n",
    "grid_type \tN \tN \tN \tgaussian, uniform, equalarea, generic\n",
    "long_name \tN \tY \tY \tLong description of a physical quantity.\n",
    "missing_value \tN \tY \tY \tValue used for data that are unknown or missing.\n",
    "name_in_file \tN \tN \tN \tName of the variable in the underlying file(s). See id.\n",
    "scale_factor \tN \tY \tY \tMultiplicative factor for packing data. See add_offset.\n",
    "standard_name \tN \tY \tN \tReference to an entry in the standard name table.\n",
    "subgrid \tN \tN \tY \tRecords how data values represent subgrid variation.\n",
    "template \tN \tN \tN \tName of the file template to use for this variable. Overrides the dataset value.\n",
    "units \tN \tY \tY \tUnits of a physical quantity.\n",
    "valid_max \tN \tY \tY \tLargest valid value of a variable.\n",
    "valid_min \tN \tY \tY \tSmallest valid value of a variable.\n",
    "valid_range \tN \tY \tY \tLargest and smallest valid values of a variable."
   ]
  },
  {
   "cell_type": "markdown",
   "metadata": {},
   "source": [
    "Attribute Element\n",
    "\n",
    "Attributes which are not explicitly defined by the GDT convention are represented as extra attribute elements. Any dataset, axis, grid, or variable element can have an extra attribute as part of its content. This representation is also useful if the attribute value has non-blank whitespace characters (carriage returns, tabs, linefeeds) which are significant.\n",
    "\n",
    "The datatype is one of: Char, Short, Long, Float, Double, or String."
   ]
  },
  {
   "cell_type": "code",
   "execution_count": 15,
   "metadata": {},
   "outputs": [
    {
     "ename": "SyntaxError",
     "evalue": "invalid syntax (<ipython-input-15-fa800a037236>, line 1)",
     "output_type": "error",
     "traceback": [
      "\u001b[0;36m  File \u001b[0;32m\"<ipython-input-15-fa800a037236>\"\u001b[0;36m, line \u001b[0;32m1\u001b[0m\n\u001b[0;31m    extra-attribute-element ::= <attr name=”attribute-name” datatype=”attribute-datatype”> attribute-value </attr>\u001b[0m\n\u001b[0m                            ^\u001b[0m\n\u001b[0;31mSyntaxError\u001b[0m\u001b[0;31m:\u001b[0m invalid syntax\n"
     ]
    }
   ],
   "source": [
    "extra-attribute-element ::= <attr name=”attribute-name” datatype=”attribute-datatype”> attribute-value </attr>"
   ]
  },
  {
   "cell_type": "code",
   "execution_count": 16,
   "metadata": {},
   "outputs": [
    {
     "ename": "SyntaxError",
     "evalue": "invalid syntax (<ipython-input-16-608c9ddd230f>, line 1)",
     "output_type": "error",
     "traceback": [
      "\u001b[0;36m  File \u001b[0;32m\"<ipython-input-16-608c9ddd230f>\"\u001b[0;36m, line \u001b[0;32m1\u001b[0m\n\u001b[0;31m    A Sample CDML Document\u001b[0m\n\u001b[0m           ^\u001b[0m\n\u001b[0;31mSyntaxError\u001b[0m\u001b[0;31m:\u001b[0m invalid syntax\n"
     ]
    }
   ],
   "source": [
    "A Sample CDML Document\n",
    "\n",
    "Dataset “sample” has two variables, and six axes.\n",
    "\n",
    "Note:\n",
    "\n",
    "    The file is indented for readability. This is not required; the added whitespace is ignored.\n",
    "    The dataset contains three axes and two variables. Variables u and v are functions of time, latitude, and longitude.\n",
    "    The global attribute cdms_filemap describes the mapping between variables and files. The entry [[u],[[0,1,-,-,u_2000.nc],[1,2,-,-,u_2001.nc],[2,3,,-,u_2002.nc] ] indicates that variable u is contained in file u_2000.nc for time index 0, u_2001.nc for time index 1, etc.\n",
    "\n",
    "{% highlight xml %}"
   ]
  },
  {
   "cell_type": "code",
   "execution_count": 17,
   "metadata": {},
   "outputs": [
    {
     "ename": "SyntaxError",
     "evalue": "invalid syntax (<ipython-input-17-fa49388a05c2>, line 1)",
     "output_type": "error",
     "traceback": [
      "\u001b[0;36m  File \u001b[0;32m\"<ipython-input-17-fa49388a05c2>\"\u001b[0;36m, line \u001b[0;32m1\u001b[0m\n\u001b[0;31m    <!DOCTYPE dataset SYSTEM \"http://www-pcmdi.llnl.gov/software/cdms/cdml.dtd\">\u001b[0m\n\u001b[0m    ^\u001b[0m\n\u001b[0;31mSyntaxError\u001b[0m\u001b[0;31m:\u001b[0m invalid syntax\n"
     ]
    }
   ],
   "source": [
    "<!DOCTYPE dataset SYSTEM \"http://www-pcmdi.llnl.gov/software/cdms/cdml.dtd\">"
   ]
  },
  {
   "cell_type": "code",
   "execution_count": 18,
   "metadata": {},
   "outputs": [
    {
     "ename": "SyntaxError",
     "evalue": "invalid syntax (<ipython-input-18-36a544d26cf1>, line 1)",
     "output_type": "error",
     "traceback": [
      "\u001b[0;36m  File \u001b[0;32m\"<ipython-input-18-36a544d26cf1>\"\u001b[0;36m, line \u001b[0;32m1\u001b[0m\n\u001b[0;31m    [-90. -78. -66. -54. -42. -30. -18. -6. 6. 18. 30. 42. 54. 66. 78. 90.]\u001b[0m\n\u001b[0m                                             ^\u001b[0m\n\u001b[0;31mSyntaxError\u001b[0m\u001b[0;31m:\u001b[0m invalid syntax\n"
     ]
    }
   ],
   "source": [
    "[-90. -78. -66. -54. -42. -30. -18. -6. 6. 18. 30. 42. 54. 66. 78. 90.]\n"
   ]
  },
  {
   "cell_type": "code",
   "execution_count": 19,
   "metadata": {},
   "outputs": [
    {
     "ename": "SyntaxError",
     "evalue": "invalid syntax (<ipython-input-19-09330e45a2f0>, line 1)",
     "output_type": "error",
     "traceback": [
      "\u001b[0;36m  File \u001b[0;32m\"<ipython-input-19-09330e45a2f0>\"\u001b[0;36m, line \u001b[0;32m1\u001b[0m\n\u001b[0;31m    <axis\u001b[0m\n\u001b[0m    ^\u001b[0m\n\u001b[0;31mSyntaxError\u001b[0m\u001b[0;31m:\u001b[0m invalid syntax\n"
     ]
    }
   ],
   "source": [
    ">>> <axis\n",
    ">>>     id =\"longitude\"\n",
    ">>>     length=\"32\"\n",
    ">>>     units=\"degrees_east\"\n",
    ">>>     datatype=\"Double\"\n",
    ">>> >\n",
    ">>>\n",
    ">>>     [ 0. 11.25 22.5 33.75 45. 56.25 67.5 78.75 90.\n",
    ">>>\n",
    ">>>     101.25 112.5 123.75 135. 146.25 157.5 168.75 180. 191.25\n",
    ">>>\n",
    ">>>     202.5 213.75 225. 236.25 247.5 258.75 270. 281.25 292.5\n",
    ">>>\n",
    ">>>     303.75 315. 326.25 337.5 348.75]\n",
    ">>>     </axis>\n",
    ">>>\n",
    ">>> <axis\n",
    ">>>     id =\"time\"\n",
    ">>>     partition=\"[0 1 1 2 2 3]\"\n",
    ">>>     calendar=\"gregorian\"\n",
    ">>>     units=\"days since 2000-1-1\"\n",
    ">>>     datatype=\"Double\"\n",
    ">>>     length=\"3\"\n",
    ">>>     name_in_file=\"time\"\n",
    ">>> >\n",
    ">>>\n",
    ">>>    [ 0. 366. 731.]\n",
    ">>> </axis>\n",
    ">>>\n",
    ">>> <variable\n",
    ">>>    id =\"u\"\n",
    ">>>    missing_value=\"-99.9\"\n",
    ">>>    units=\"m/s\"\n",
    ">>>    datatype=\"Double\"\n",
    ">>> >\n",
    ">>>    <domain>\n",
    ">>>        <domElem name=\"time\" length=\"3\" start=\"0\"/>\n",
    ">>>        <domElem name=\"latitude\" length=\"16\" start=\"0\"/>\n",
    ">>>        <domElem name=\"longitude\" length=\"32\" start=\"0\"/>\n",
    ">>>    </domain>\n",
    ">>> </variable>\n",
    ">>>\n",
    ">>> <variable\n",
    ">>>    id =\"v\"\n",
    ">>>    missing_value=\"-99.9\"\n",
    ">>>    units=\"m/s\"\n",
    ">>>    datatype=\"Double\"\n",
    ">>> >\n",
    ">>>    <domain>\n",
    ">>>        <domElem name=\"time\" length=\"3\" start=\"0\"/>\n",
    ">>>        <domElem name=\"latitude\" length=\"16\" start=\"0\"/>\n",
    ">>>        <domElem name=\"longitude\" length=\"32\" start=\"0\"/>\n",
    ">>>    </domain>\n",
    ">>> </variable>\n",
    ">>>\n",
    ">>> {% endhighlight %}\n"
   ]
  },
  {
   "cell_type": "code",
   "execution_count": null,
   "metadata": {},
   "outputs": [],
   "source": []
  }
 ],
 "metadata": {
  "kernelspec": {
   "display_name": "Python 2",
   "language": "python",
   "name": "python2"
  },
  "language_info": {
   "codemirror_mode": {
    "name": "ipython",
    "version": 2
   },
   "file_extension": ".py",
   "mimetype": "text/x-python",
   "name": "python",
   "nbconvert_exporter": "python",
   "pygments_lexer": "ipython2",
   "version": "2.7.15"
  }
 },
 "nbformat": 4,
 "nbformat_minor": 2
}
