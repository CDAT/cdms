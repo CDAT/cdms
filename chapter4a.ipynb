{
 "cells": [
  {
   "cell_type": "markdown",
   "metadata": {},
   "source": [
    "# Regridding Data\n",
    "\n"
   ]
  },
  {
   "cell_type": "markdown",
   "metadata": {},
   "source": [
    "## Overview\n",
    "\n",
    "CDMS provides several methods for interpolating gridded data:\n",
    "\n",
    "-  From one rectangular, lat-lon grid to another (CDMS regridder)\n",
    "-  Between any two lat-lon grids (ESMF regridder)\n",
    "-  From one set of pressure levels to another\n",
    "-  From one vertical (lat/level) cross-section to another vertical\n",
    "   cross-section.\n"
   ]
  },
  {
   "cell_type": "markdown",
   "metadata": {},
   "source": [
    "## CDMS Horizontal Regridder\n",
    "\n",
    "The simplest method to regrid a variable from one rectangular, lat/lon\n",
    "grid to another is to use the regrid function defined for variables.\n",
    "This function takes the target grid as an argument, and returns the\n",
    "variable regridded to the target grid:\n"
   ]
  },
  {
   "cell_type": "markdown",
   "metadata": {},
   "source": [
    "## First Regridding Example:"
   ]
  },
  {
   "cell_type": "markdown",
   "metadata": {},
   "source": [
    "Open input files.  \n",
    "\n",
    "Cloud Top will be regridded to fit the geos5 grid."
   ]
  },
  {
   "cell_type": "code",
   "execution_count": null,
   "metadata": {},
   "outputs": [],
   "source": [
    "import cdms2\n",
    "f1=cdms2.open(\"https://aims3.llnl.gov/thredds/dodsC/user_pub_work/CDAT-sample/v1/clt.nc\")\n",
    "f2=cdms2.open(\"https://aims3.llnl.gov/thredds/dodsC/user_pub_work/CDAT-sample/v1/geos5-sample.nc\")"
   ]
  },
  {
   "cell_type": "markdown",
   "metadata": {},
   "source": [
    "Read in the data"
   ]
  },
  {
   "cell_type": "code",
   "execution_count": null,
   "metadata": {},
   "outputs": [],
   "source": [
    "clt=f1('clt')  \n",
    "print(\"input grid:\",clt.shape)"
   ]
  },
  {
   "cell_type": "markdown",
   "metadata": {},
   "source": [
    "Read needed information from the target file.\n",
    "\n",
    "* Get the file variable (no data read with square brackets)\n",
    "* Get the target grid"
   ]
  },
  {
   "cell_type": "code",
   "execution_count": null,
   "metadata": {},
   "outputs": [],
   "source": [
    "ozone=f2['ozone']  \n",
    "outgrid = ozone.getGrid() \n",
    "print(\"desired grid:\",outgrid.shape)\n",
    "print(\"regridding input data...\")"
   ]
  },
  {
   "cell_type": "markdown",
   "metadata": {},
   "source": [
    "Regrid \"clt\" to fit \"ozone\" grid."
   ]
  },
  {
   "cell_type": "code",
   "execution_count": null,
   "metadata": {},
   "outputs": [],
   "source": [
    "cltnew = clt.regrid(outgrid, method=\"linear\")\n",
    "print(\"new regridded input data:\",cltnew.shape)"
   ]
  },
  {
   "cell_type": "markdown",
   "metadata": {},
   "source": [
    "You can select different regrid methods and regrid tools.\n",
    "\n",
    "Three regrid tools are available.\n",
    "\n",
    "* libcf (UNIDATA linear)\n",
    "* esmf\n",
    "* regrid (LLNL regridder)\n",
    "\n",
    "Depending on the regrid tool you select only some regrid methods are allowed.\n",
    "\n",
    "* linear all tools\n",
    "* bilinear all toosl\n",
    "* conservative (ESMF only)\n",
    "* patch (ESMF Only)\n"
   ]
  },
  {
   "cell_type": "code",
   "execution_count": null,
   "metadata": {},
   "outputs": [],
   "source": [
    "cltnew = clt.regrid(outgrid, regridTool=\"regrid2\", method=\"bilinear\")\n",
    "print(\"new regridded input data:\",cltnew.shape)"
   ]
  },
  {
   "cell_type": "code",
   "execution_count": null,
   "metadata": {},
   "outputs": [],
   "source": [
    "cltnew = clt.regrid(outgrid, regridTool=\"esmf\", method=\"patch\")\n",
    "print(\"new regridded input data:\",cltnew.shape)"
   ]
  },
  {
   "cell_type": "markdown",
   "metadata": {},
   "source": [
    "## Regridder function\n",
    "\n",
    "A somewhat more efficient method is to create a regridder function. This\n",
    "has the advantage that the mapping is created ``only once`` and can be used for **multiple arrays**. Also, this method can be used with data in the form of an ``MV2.MaskedArray``. \n",
    "\n",
    "The steps in this process are:\n",
    "\n",
    "* Given an input grid and output grid, generate a regridder function.\n",
    "* Call the regridder function on a Numpy array, resulting in an array\n",
    "   defined on the output grid. \n",
    "* The regridder function can be called with any array or variable defined on the input grid.\n",
    "\n",
    "### Efficient method using first example\n",
    "The following example illustrates this process. "
   ]
  },
  {
   "cell_type": "markdown",
   "metadata": {},
   "source": [
    "1. Makes the Regridder class available from the regrid module."
   ]
  },
  {
   "cell_type": "code",
   "execution_count": null,
   "metadata": {},
   "outputs": [],
   "source": [
    "import cdms2\n",
    "from regrid2 import Regridder"
   ]
  },
  {
   "cell_type": "markdown",
   "metadata": {},
   "source": [
    "2. Opens the input dataset.\n",
    "2. Gets the variable object named ‘clt’. No data is read using square brackets ``[]``."
   ]
  },
  {
   "cell_type": "code",
   "execution_count": null,
   "metadata": {},
   "outputs": [],
   "source": [
    "cltf = f1['clt']\n",
    "ingrid = cltf.getGrid() # Get the input grid"
   ]
  },
  {
   "cell_type": "markdown",
   "metadata": {},
   "source": [
    "4. Opens a dataset to retrieve the output grid.\n",
    "\n",
    "2. The output grid is the grid associated with the variable named **ozone** in dataset ``g``. \n",
    "\n",
    "**Note**: Just the grid is retrieved, not the data using square brackets []."
   ]
  },
  {
   "cell_type": "code",
   "execution_count": null,
   "metadata": {},
   "outputs": [],
   "source": [
    "outgrid = f2['ozone'].getGrid()  # Get the output grid"
   ]
  },
  {
   "cell_type": "markdown",
   "metadata": {},
   "source": [
    "6. Generates a regridder function regridfunc."
   ]
  },
  {
   "cell_type": "code",
   "execution_count": null,
   "metadata": {},
   "outputs": [],
   "source": [
    "regridfunc = Regridder(ingrid, outgrid)  # Create the \"Regridder function\""
   ]
  },
  {
   "cell_type": "markdown",
   "metadata": {},
   "source": [
    "7. Calls the regridder\n",
    "function on that data, all data for variable cltf will be read and execute the regridder function on that data, resulting in a transient variable cltnew."
   ]
  },
  {
   "cell_type": "code",
   "execution_count": null,
   "metadata": {},
   "outputs": [],
   "source": [
    "cltnew = regridfunc(cltf)\n",
    "print(cltnew.shape)"
   ]
  },
  {
   "cell_type": "markdown",
   "metadata": {},
   "source": [
    "8. Close files."
   ]
  },
  {
   "cell_type": "code",
   "execution_count": null,
   "metadata": {},
   "outputs": [],
   "source": [
    "f1.close()\n",
    "f2.close()"
   ]
  },
  {
   "cell_type": "markdown",
   "metadata": {},
   "source": [
    "# ESMF Horizontal Regridder\n",
    "\n",
    "To interpolate between grids where one or both grids is non-rectangular,\n",
    "CDMS provides an interface to the ESMF regridder package. (https://www.earthsystemcog.org/projects/esmf/). \n"
   ]
  },
  {
   "cell_type": "markdown",
   "metadata": {},
   "source": [
    "## Regridding Data\n",
    "\n"
   ]
  },
  {
   "cell_type": "markdown",
   "metadata": {},
   "source": [
    "Create the regridder using remapper file."
   ]
  },
  {
   "cell_type": "code",
   "execution_count": null,
   "metadata": {},
   "outputs": [],
   "source": [
    "import regrid2, cdms2\n",
    "# Read the regridder from the remapper file\n",
    "remapf = cdms2.open('https://aims3.llnl.gov/thredds/dodsC/user_pub_work/CDAT-sample/v1/rmp_T42_to_POP43_conserv.nc')\n",
    "regridf = regrid2.readRegridder(remapf)\n",
    "remapf.close()"
   ]
  },
  {
   "cell_type": "markdown",
   "metadata": {},
   "source": [
    "Then read the input data and regrid"
   ]
  },
  {
   "cell_type": "code",
   "execution_count": null,
   "metadata": {},
   "outputs": [],
   "source": [
    "# Get the source variable\n",
    "f = cdms2.open('https://aims3.llnl.gov/thredds/dodsC/user_pub_work/CDAT-sample/v1/xieArkin-T42.nc')\n",
    "t42prc = f('prc')\n",
    "f.close()\n",
    "# Regrid the source variable\n",
    "popdat = regridf(t42prc)\n",
    "print(\"input grid:\", t42prc.shape)\n",
    "print(\"output grid:\",popdat.shape)"
   ]
  },
  {
   "cell_type": "markdown",
   "metadata": {},
   "source": [
    "**Note:** That ``t42dat`` can have rank greater than 2. The trailing\n",
    "dimensions must match the input grid shape. \n",
    "\n",
    "For example, if ``t42dat``has shape (216, 64, 128), then the input grid must have shape (64, 128). Similarly if the variable had a generic grid with shape (128, 192) the\n",
    "last dimension of the variable would have length (128, 192)."
   ]
  },
  {
   "cell_type": "markdown",
   "metadata": {},
   "source": [
    "## Pressure-Level Regridder\n",
    "\n",
    "To regrid a variable which is a function of latitude, longitude,\n",
    "pressure level, and (optionally) time to a new set of pressure levels,\n",
    "use the ``pressureRegrid`` function defined for variables. This function\n",
    "takes an axis representing the target set of pressure levels, and\n",
    "returns a new variable ``d`` regridded to that dimension."
   ]
  },
  {
   "cell_type": "code",
   "execution_count": null,
   "metadata": {},
   "outputs": [],
   "source": [
    "f=cdms2.open(\"https://aims3.llnl.gov/thredds/dodsC/user_pub_work/CDAT-sample/v1/ta_ncep_87-6-88-4.nc\")\n",
    "ta=f('ta')\n",
    "print(ta.shape)\n",
    "print(ta.getAxisIds())\n",
    "\n",
    "result = ta.pressureRegrid(cdms2.createAxis([1000.0]))\n",
    "print(result.shape)\n"
   ]
  },
  {
   "cell_type": "markdown",
   "metadata": {},
   "source": [
    "## Cross-Section Regridder\n",
    "\n",
    "To regrid a variable which is a function of latitude, height, and\n",
    "(optionally) time to a new latitude/height cross-section, use the\n",
    "``crossSectionRegridder`` defined for variables. This function takes as\n",
    "arguments the new latitudes and heights, and returns the variable\n",
    "regridded to those axes."
   ]
  },
  {
   "cell_type": "code",
   "execution_count": null,
   "metadata": {},
   "outputs": [],
   "source": [
    "f=cdms2.open(\"https://aims3.llnl.gov/thredds/dodsC/user_pub_work/CDAT-sample/v1/ta_ncep_87-6-88-4.nc\")\n",
    "ta=f('ta')\n",
    "print(ta.shape)\n",
    "\n",
    "levOut=cdms2.createAxis([1000.0,950.])\n",
    "levOut.designateLevel()\n",
    "\n",
    "latOut=cdms2.createAxis(ta.getLatitude()[10:20])\n",
    "latOut.designateLatitude()\n",
    "\n",
    "# Read frist time only\n",
    "ta0 = ta[0,:]\n",
    "print(ta0.getAxisIds())\n",
    "\n",
    "# regrid to new latitude/height\n",
    "taout = ta0.crossSectionRegrid(levOut, latOut)\n",
    "print(taout.shape)"
   ]
  },
  {
   "cell_type": "markdown",
   "metadata": {},
   "source": [
    "## Regrid Module\n",
    "\n",
    "The ``regrid`` module implements the CDMS regridding functionality as\n",
    "well as the ESMF interface. Although this module is not strictly a part\n",
    "of CDMS, it is designed to work with CDMS objects."
   ]
  },
  {
   "cell_type": "markdown",
   "metadata": {},
   "source": [
    "### ESMF Regridder\n",
    "\n",
    "ESMF regridder functions are created with the ``regrid.readRegridder``\n",
    "function:"
   ]
  },
  {
   "cell_type": "markdown",
   "metadata": {},
   "source": [
    "### ESMF Regridder Constructor\n",
    "\n",
    " \"``regridFunction = regrid.readRegridder(fileobj, mapMethod=None, checkGrid=1)``\", \"Read a regridder from an open CDMS file object.\n",
    "**fileobj** is a CDMS file object, as returned from **cdms.open**.\n",
    "\n",
    "**mapMethod** is one of:\n",
    "\n",
    " * **'conservative'**: conservative remapper, suitable where area-integrated fields such as water or heat fluxes must be conserved.\n",
    " * **'bilinear'**: bilinear interpolation\n",
    " * **'bicubic'**: bicubic interpolation\n",
    " \n",
    "**Note:** It is only necessary to specify the map method if it is not defined in the file.\n",
    " \n",
    " \n",
    "* If **checkGrid** is 1 (default), the grid cells are checked for convexity, and 'repaired' if necessary. Grid cells may appear to be nonconvex if they cross a ``0 / 2pi`` boundary. The repair consists of shifting the cell vertices to the same side modulo 360 degrees.\"\n"
   ]
  },
  {
   "cell_type": "markdown",
   "metadata": {},
   "source": [
    "### ESMF Regridder Functions\n",
    "\n",
    "An ESMF regridder function is an instance of the Regridder class.\n",
    "\n",
    "It only work for ``SCRIP`` netcdf files at this time.\n",
    "\n",
    "Such a function is created by calling the regrid.readRegridder method.\n",
    "Typical usage is straightforward:"
   ]
  },
  {
   "cell_type": "code",
   "execution_count": null,
   "metadata": {},
   "outputs": [],
   "source": [
    "import cdms2\n",
    "import regrid2\n",
    "remapf = cdms2.open('https://aims3.llnl.gov/thredds/dodsC/user_pub_work/CDAT-sample/v1/rmp_T42_to_POP43_conserv.nc')\n",
    "regridf = regrid2.readRegridder(remapf)\n",
    "f = cdms2.open('xieArkin-T42.nc')\n",
    "t42prc = f('prc')\n",
    "f.close()\n",
    "# Regrid the source variable\n",
    "popdat = regridf(t42prc)\n",
    "print(t42prc.shape)\n",
    "print(popdat.shape)"
   ]
  },
  {
   "cell_type": "markdown",
   "metadata": {},
   "source": [
    "The bicubic regridder takes four arguments:"
   ]
  },
  {
   "cell_type": "markdown",
   "metadata": {},
   "source": [
    "### Example 1\n",
    "\n",
    "Regrid data to a uniform output grid."
   ]
  },
  {
   "cell_type": "code",
   "execution_count": null,
   "metadata": {},
   "outputs": [],
   "source": [
    "import cdms2\n",
    "from regrid2 import Regridder\n",
    "f = cdms2.open('clt.nc')\n",
    "cltf = f.variables['clt']\n",
    "ingrid = cltf.getGrid()\n",
    "\n",
    "# Create a 181 x 361 degree output grid. Note that this grid is not associated with a file or dataset.\"\n",
    "# USING: \n",
    "# CreateUniformGrid(startLat, nlat, deltaLat, startLon, nlon, deltaLon, order='yx', mask=None)\n",
    "#\n",
    "outgrid2 = cdms2.createUniformGrid(90.0, 181, -1.0, 0.0, 361 , 1.0)\n",
    "\n",
    "# Create the regridder function.\n",
    "regridFunc = Regridder(ingrid, outgrid2)\n",
    "# Read all data and regrid. The missing data value is obtained from variable rlsf\"\n",
    "newclt = regridFunc(cltf)\n",
    "print(\"old grid for Cloud Top Variable:\", cltf.shape)\n",
    "print(\"new grid for Cloud Tope Variable:\", newclt.shape)\n",
    "\n",
    "f.close()"
   ]
  },
  {
   "cell_type": "markdown",
   "metadata": {},
   "source": [
    "### Example 2\n",
    "\n",
    "Return the area fraction of the source (input) grid cell that\n",
    "participates in the regridding. The array is 1-D, with length equal to\n",
    "the number of cells in the input grid.\n",
    "\n",
    "Get a mask from a separate file, and set as the input grid mask."
   ]
  },
  {
   "cell_type": "code",
   "execution_count": null,
   "metadata": {},
   "outputs": [],
   "source": [
    "# wget http://cdat.llnl.gov/cdat/sample_data/clt.nc\n",
    "# wget http://cdat.llnl.gov/cdat/sample_data/geos5-sample.nc\n",
    "import cdms2\n",
    "from regrid2 import Regridder\n",
    "#\n",
    "f = cdms2.open('https://aims3.llnl.gov/thredds/dodsC/user_pub_work/CDAT-sample/v1/clt.nc')\n",
    "cltf = f.variables['clt']\n",
    "outgrid = cltf.getGrid()\n",
    "\n",
    "g = cdms2.open('geos5-sample.nc')\n",
    "ozoneg = g.variables['ozone']\n",
    "ingrid = ozoneg.getGrid()\n",
    "\n",
    "regridFunc = Regridder(ingrid,outgrid)\n",
    "\n",
    "uwmaskvar = g.variables['uwnd']\n",
    "uwmask = uwmaskvar[:]<0\n",
    "outArray = regridFunc(ozoneg.subSlice(time=0), mask=uwmask)\n",
    "print(uwmask.shape)\n",
    "print(outArray.mask.shape)\n",
    "f.close()\n",
    "g.close()"
   ]
  },
  {
   "cell_type": "markdown",
   "metadata": {},
   "source": [
    "### Zonal Mean Regridder"
   ]
  },
  {
   "cell_type": "code",
   "execution_count": null,
   "metadata": {},
   "outputs": [],
   "source": [
    "f = cdms2.open(\"https://aims3.llnl.gov/thredds/dodsC/user_pub_work/CDAT-sample/v1/clt.nc\")\n",
    "clt = f.variables[\"clt\"]\n",
    "ingrid = clt.getGrid()\n",
    "outgrid = cdms2.createZonalGrid(ingrid)\n",
    "regridFunc = Regridder(ingrid,outgrid)\n",
    "mean = regridFunc(clt)\n",
    "print(clt.shape)\n",
    "print(mean.shape)\n",
    "f.close()"
   ]
  },
  {
   "cell_type": "code",
   "execution_count": null,
   "metadata": {},
   "outputs": [],
   "source": [
    "import cdms2\n",
    "from cdms2.MV2 import *\n",
    "from regrid2 import Regridder\n",
    "\n",
    "f = cdms2.open(\"https://aims3.llnl.gov/thredds/dodsC/user_pub_work/CDAT-sample/v1/ta_ncep_87-6-88-4.nc\")\n",
    "var = f('ta')\n",
    "\n",
    "outgrid = cdms2.createUniformGrid(90.0, 46, -4.0, 0.0, 72, 5.0)\n",
    "\n",
    "outlatw, outlonw = outgrid.getWeights()\n",
    "outweights = outerproduct(outlatw, outlonw)\n",
    "\n",
    "grid = var.getGrid()\n",
    "\n",
    "sample = var[0,0]\n",
    "\n",
    "latw, lonw = grid.getWeights()\n",
    "weights = outerproduct(latw, lonw)\n",
    "\n",
    "inmask = where(greater(absolute(sample),1.e15),0,1)\n",
    "\n",
    "mean = add.reduce(ravel(inmask*weights*sample))/add.reduce(ravel(inmask*weights))\n",
    "\n",
    "regridFunc = Regridder(grid, outgrid)\n",
    "outsample, outmask = regridFunc(sample, mask=inmask, returnTuple=1)\n",
    "outmean = add.reduce(ravel(outmask*outweights*outsample)) / add.reduce(ravel(outmask*outweights))"
   ]
  },
  {
   "cell_type": "markdown",
   "metadata": {},
   "source": [
    "### SCRIP Regridder"
   ]
  },
  {
   "cell_type": "markdown",
   "metadata": {},
   "source": [
    "Regrid from a curvilinear to a generic grid, using a conservative\n",
    "remapping. Compute the area-weighted means on input and output for\n",
    "comparison."
   ]
  },
  {
   "cell_type": "code",
   "execution_count": null,
   "metadata": {},
   "outputs": [],
   "source": [
    "import cdms2, regrid2, MV2\n",
    "\n",
    "# Open the SCRIP remapping file and data file\n",
    "fremap = cdms2.open('https://aims3.llnl.gov/thredds/dodsC/user_pub_work/CDAT-sample/v1/rmp_T42_to_C02562_conserv.nc')\n",
    "fdat = cdms2.open('https://aims3.llnl.gov/thredds/dodsC/user_pub_work/CDAT-sample/v1/xieArkin-T42.nc')\n",
    "\n",
    "# Input data array\n",
    "dat = fdat('prc')[0,:]\n",
    "\n",
    "# Read the ESMF regridder\n",
    "regridf = regrid2.readRegridder(fremap)\n",
    "\n",
    "# Regrid the variable\n",
    "outdat = regridf(dat)\n",
    "\n",
    "# Get the cell area and fraction arrays. Areas are computed only\n",
    "# for conservative regridding.\n",
    "srcfrac = regridf.getSourceFraction()\n",
    "srcarea = regridf.getSourceArea()\n",
    "dstfrac = regridf.getDestinationFraction()\n",
    "dstarea = regridf.getDestinationArea()\n",
    "\n",
    "# calculate area-weighted means\n",
    "inmean = MV2.sum(srcfrac*srcarea*MV2.ravel(dat)) / MV2.sum(srcfrac*srcarea)\n",
    "outmean = MV2.sum(dstfrac*dstarea*MV2.ravel(outdat)) / MV2.sum(dstfrac*dstarea)\n",
    "print('Input mean:', inmean)\n",
    "print('Output mean:', outmean)\n",
    "\n",
    "fremap.close()\n",
    "fdat.close()"
   ]
  }
 ],
 "metadata": {
  "kernelspec": {
   "display_name": "Python 2",
   "language": "python",
   "name": "python2"
  },
  "language_info": {
   "codemirror_mode": {
    "name": "ipython",
    "version": 2
   },
   "file_extension": ".py",
   "mimetype": "text/x-python",
   "name": "python",
   "nbconvert_exporter": "python",
   "pygments_lexer": "ipython2",
   "version": "2.7.15"
  }
 },
 "nbformat": 4,
 "nbformat_minor": 2
}
